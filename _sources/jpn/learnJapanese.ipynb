{
 "cells": [
  {
   "cell_type": "markdown",
   "id": "8c0bfbd9",
   "metadata": {},
   "source": [
    "# Japanese phrases in Hindi and English"
   ]
  },
  {
   "cell_type": "markdown",
   "id": "d2cdc21d",
   "metadata": {},
   "source": [
    "## L1-Lesson 4\n",
    "\n",
    "|Phrases |Japanese (in Hindi)|Japanese (in English)|\n",
    "|:--|--:|--:|\n",
    "|Yes |  इए | Hai |\n",
    "|Yes (informal way)|  ए |\n",
    "|Good afternoon|  खोनिचिवा | Kon'nichiwa |\n",
    "|It's a nice weather isn't|  ई ओथेंकी दिसने | Ī tenkidesu ne |\n",
    "|It's a bad weather isn't|  ईयाना ओथेंकी दिसने | Akutenkō janaidesu ka |"
   ]
  }
 ],
 "metadata": {
  "kernelspec": {
   "display_name": "Python 3 (ipykernel)",
   "language": "python",
   "name": "python3"
  },
  "language_info": {
   "codemirror_mode": {
    "name": "ipython",
    "version": 3
   },
   "file_extension": ".py",
   "mimetype": "text/x-python",
   "name": "python",
   "nbconvert_exporter": "python",
   "pygments_lexer": "ipython3",
   "version": "3.8.8"
  },
  "toc": {
   "base_numbering": 1,
   "nav_menu": {},
   "number_sections": true,
   "sideBar": true,
   "skip_h1_title": false,
   "title_cell": "Table of Contents",
   "title_sidebar": "Contents",
   "toc_cell": false,
   "toc_position": {},
   "toc_section_display": true,
   "toc_window_display": false
  }
 },
 "nbformat": 4,
 "nbformat_minor": 5
}
