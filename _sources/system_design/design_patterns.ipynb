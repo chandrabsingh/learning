{
 "cells": [
  {
   "cell_type": "markdown",
   "id": "a533cf76",
   "metadata": {},
   "source": [
    "# System Design Summary\n",
    "\n",
    "## Asynchronous request reply\n",
    "- Client sends POST request and gets HTTP 202 accepted message\n",
    "- Client again sends GET request to status endpoint and gets pending HTTP 202 accepted message\n",
    "- Later status endpoint on job completion sends HTTP 302 redirecting response\n",
    "- Client fetches resource back from URL\n",
    "\n",
    "<img src=\"images/async-request-reply.png\" width=600 height=600>  \n",
    "$\\tiny{\\text{https://docs.microsoft.com/}}$   \n"
   ]
  },
  {
   "cell_type": "markdown",
   "id": "756e9f71",
   "metadata": {},
   "source": [
    "## Sharding database\n",
    "### Types of partitioning\n",
    "- Horizontal partitioning(sharding) \n",
    "  - separating table rows into multiple tables with same schema \n",
    "- Vertical partitioning\n",
    "  - separating columns into distinct tables\n",
    "\n",
    "### What is Sharding\n",
    "- breaking data into logical shards\n",
    "- distribute these logical shards into separate database nodes or into physical shards\n",
    "- physical shards can hold multiple logical shards\n",
    "- helps in mitigating impact of outages\n",
    "\n",
    "### Benefits of sharding\n",
    "- horizontal scaling or scaling out\n",
    "  - adding more machines to exsiting stack to spread out load and allow for more traffic\n",
    "- vertical scaling or scaling up\n",
    "  - upgrading hardware by adding more RAM or CPU\n",
    "  \n",
    "### Sharding architectures\n",
    "- Key based sharding\n",
    "  - hash based sharding based on partition key\n",
    "- Range based sharding\n",
    "  - for example, price range\n",
    "- Directory based sharding\n",
    "  - maintain lookup table\n",
    "  - Multiple tenants might share the same shard, but the data for a single tenant won't be spread across multiple shards\n",
    "\n",
    "<img src=\"images/shardTable.png\" width=600 height=600>  \n",
    "$\\tiny{\\text{Types of Partitioning - digitalocean.com}}$   \n",
    "\n",
    "\n",
    "<img src=\"images/sharding-tenant-lookup.png\" width=600 height=600>  \n",
    "$\\tiny{\\text{Lookup Partitioning - https://docs.microsoft.com/}}$   \n"
   ]
  },
  {
   "cell_type": "markdown",
   "id": "350450de",
   "metadata": {},
   "source": [
    "## Stateful vs Stateless \n",
    "\n",
    "\n",
    "<img src=\"images/stateful_stateless.png\" width=400 height=400>  \n",
    "$\\tiny{\\text{Stateful vs Stateless - https://virtasant.com/}}$   \n",
    "\n",
    "- A banking transaction - Stateful\n",
    "<img src=\"images/statefulTransaction.png\" width=800 height=800>  \n",
    "$\\tiny{\\text{Stateful Transaction - https://virtasant.com/}}$   \n",
    "\n",
    "\n",
    "- A banking transaction - Stateless\n",
    "<img src=\"images/statelessTransaction.png\" width=800 height=800>  \n",
    "$\\tiny{\\text{Stateless Transaction - https://virtasant.com/}}$   \n",
    "\n"
   ]
  },
  {
   "cell_type": "markdown",
   "id": "d45dd39f",
   "metadata": {},
   "source": [
    "## Orchestration\n",
    "\n",
    "- Run multiple container instances in each node.\n",
    "- Load balance traffic between the instances.\n",
    "- Manage communication between dependent instances in separate nodes.\n",
    "- Maintain the desired cluster state.\n",
    "\n",
    "The container orchestrator:\n",
    "- automatically scales number of microservice instances based on traffic or resource utilization\n",
    "- manages containers to reflect the configured desired state\n",
    "- wraps container for each microservice in a simple service layer, abstracting out complexities of IP address, port, and number of instances\n",
    "- load balances traffic between microservice instances\n",
    "\n",
    "Examples:\n",
    "- Kubernetes\n",
    "\n",
    "\n",
    "<img src=\"https://docs.microsoft.com/en-us/azure/architecture/microservices/design/images/orchestration/multi-container-cluster-with-orchestrator.png\">\n",
    "\n"
   ]
  },
  {
   "cell_type": "markdown",
   "id": "afa1ffad",
   "metadata": {},
   "source": [
    "## Loose coupling"
   ]
  },
  {
   "cell_type": "markdown",
   "id": "14da035d",
   "metadata": {},
   "source": [
    "## Software Design Patterns\n",
    "### Creational patterns\n",
    "### Structural patterns\n",
    "### Behavioral patterns\n",
    "### Concurrency patterns\n",
    "\n"
   ]
  },
  {
   "cell_type": "markdown",
   "id": "b510f569",
   "metadata": {},
   "source": [
    "## Other design patterns\n",
    "\n",
    "### Inversion of Control\n",
    "### Dispatcher\n",
    "### Dependency Inversion principle\n",
    "#### Callbacks\n",
    "#### Schedulers\n",
    "#### Event Loops\n",
    "#### Dependency Injection\n",
    "#### Template Method\n",
    "\n",
    "### Decorator vs Wrapper pattern\n",
    "\n",
    "### Fan-out pattern\n",
    "\n",
    "### Fan-in/Fan-out pattern\n",
    "- **Low fan-in, low fan-out**: a module with little dependencies in either direction. All good.\n",
    "- **High fan-in, low fan-out**: a module that's highly depended upon, but itself doesn't depend on much. Like a low-level utility library.\n",
    "- **Low fan-in, hight fan-out**: a module that depends on lots of other modules, but a few if any modules depend on it. You really can't avoid having one top-level module to tie your whole application together, and naturally this module will depend on each and every other module in the system.\n",
    "- **High fan-in, hight fan-out**: a very problematic module that can break / need changes whenever one of its many dependencies changes, and it'll in turn break many other parts in the system that rely on it.\n",
    "\n",
    "### Mixin pattern\n",
    "- What is the difference between mixin and multiple inheritance"
   ]
  },
  {
   "cell_type": "markdown",
   "id": "6ea0a2c2",
   "metadata": {},
   "source": [
    "## SOLID design principles \n",
    "The SOLID ideas were introduced by Robert C Martin in his paper:\n",
    "- Single-responsibility principle: \"There should never be more than one reason for a class to change.\" In other words, every class should have only one responsibility\n",
    "- Open–closed principle: \"Software entities ... should be open for extension, but closed for modification.\"\n",
    "- Liskov substitution principle: \"Functions that use pointers or references to base classes must be able to use objects of derived classes without knowing it.\"\n",
    "- Interface segregation principle: \"Many client-specific interfaces are better than one general-purpose interface.\"\n",
    "- Dependency inversion principle: \"Depend upon abstractions, not concretions.\"\n",
    "\n",
    "### Single responsibility pattern\n",
    "- Each component has one responsibility only within a system\n",
    "- With this pattern, the components are loosely coupled and it doesnot impact functionality of other components\n",
    "- for example, a database cannot contain business logic, its job must remain to persist the data only\n",
    "\n",
    "### Separation of Concerns\n"
   ]
  },
  {
   "cell_type": "markdown",
   "id": "8c0b0b03",
   "metadata": {},
   "source": [
    "## Antipatterns"
   ]
  },
  {
   "cell_type": "markdown",
   "id": "ee3c5c3c",
   "metadata": {},
   "source": [
    "## Event driven architecture\n",
    "### Publish-Subscribe pattern\n",
    "### Request-Reply\n",
    "### Sockets \n",
    "### Unix Sockets \n",
    "### Message Queue\n",
    "### Producer Consumer Queue\n",
    "### SOAP\n",
    "### REST\n",
    "### Event channels\n",
    "### HTTP endpoint"
   ]
  },
  {
   "cell_type": "markdown",
   "id": "a0ec2a23",
   "metadata": {},
   "source": [
    "## Web service\n",
    "https://en.wikipedia.org/wiki/Web_service"
   ]
  },
  {
   "cell_type": "markdown",
   "id": "dd333f43",
   "metadata": {},
   "source": [
    "## API design\n",
    "### RPC vs REST vs GraphQL\n",
    "### RPC - Remote Procedure Call\n",
    "- call function in remote server\n",
    "- wrap a function over transport and have an endpoint attached to it, and we get RPC\n",
    "  - GET /listConversations\n",
    "  - GET /listMessages\n",
    "  - POST /sendMessage\n",
    "  \n",
    "### REST\n",
    "- https://hub.packtpub.com/defining-rest-and-its-various-architectural-styles/\n",
    "- https://www.altexsoft.com/blog/rest-api-design/\n",
    "- https://dev.to/priyanshi_sharma/basic-concepts-to-understand-api-web-services-microservices-3g02\n",
    "\n",
    "### GraphQL\n",
    "\n",
    "### Webhook\n",
    "- https://sendgrid.com/blog/whats-webhook/\n"
   ]
  },
  {
   "cell_type": "markdown",
   "id": "aef53b4b",
   "metadata": {},
   "source": [
    "## Functional programming\n",
    "- Functions dont retain any state\n",
    "- this means they are stateless and helps in maintaining consistent application wide state"
   ]
  },
  {
   "cell_type": "markdown",
   "id": "e96917b3",
   "metadata": {},
   "source": [
    "## ACID compliant\n",
    "- **Atomicity**\n",
    "  - Transactions are made up of multiple statements\n",
    "  - Atomicity guarantees that either it succeeds completely, or fails completely\n",
    "  - if any statement in a transaction fails to complete, the entire transaction fails and the database is left unchanged\n",
    "- **Consistency**\n",
    "  - any data written to database must be valid as per the rules, including constraints, cascades, triggers, and any combination thereof. \n",
    "  - no illegal/incorrect transaction must be allowed\n",
    "- **Isolation**\n",
    "  - concurrent execution of transactions leaves database in same state if the transactions were executed sequentially\n",
    "  -  incomplete transaction must not be visible to other transactions\n",
    "- **Durability**\n",
    "  - if a transaction has been committed it will remain committed during reboot or a system failure or crash\n",
    "\n",
    "## BASE semantics\n",
    "- basically-available, soft-state, eventual consistency\n",
    "- Eventually consistent services has only liveness guarantee - updates will be observed eventually\n",
    "  - **Basically available:** reading and writing operations are available as much as possible (using all nodes of a database cluster), but might not be consistent (the write might not persist after conflicts are reconciled, the read might not get the latest write)\n",
    "  - **Soft-state:** without consistency guarantees, after some amount of time, we only have some probability of knowing the state, since it might not yet have converged\n",
    "  - **Eventually consistent:** If we execute some writes and then the system functions long enough, we can know the state of the data; any further reads of that data item will return the same value\n",
    "  \n",
    "## CRUD\n",
    "- Create, Read, Update, Delete"
   ]
  },
  {
   "cell_type": "markdown",
   "id": "6ba7c0c5",
   "metadata": {},
   "source": [
    "## Staged event-driven architecture (SEDA)"
   ]
  },
  {
   "cell_type": "markdown",
   "id": "66afe6a1",
   "metadata": {},
   "source": [
    "## iPaaS"
   ]
  },
  {
   "cell_type": "markdown",
   "id": "5611738e",
   "metadata": {},
   "source": [
    "## Data Ingestion Pipeline Patterns\n",
    "- https://www.snaplogic.com/blog/big-data-ingestion-patterns\n",
    "- https://www.upsolver.com/blog/data-pipeline-architecture-building-blocks-diagrams-and-patterns\n",
    "- https://www.snaplogic.com/glossary/data-ingestion-pipeline\n"
   ]
  },
  {
   "cell_type": "markdown",
   "id": "4005a553",
   "metadata": {},
   "source": [
    "## Data Modeling\n",
    "- Relational data modeling\n",
    "- Dimensional data modeling\n",
    "- Graphical data modeling\n",
    "\n",
    "https://segment.com/blog/data-modeling/\n"
   ]
  },
  {
   "cell_type": "markdown",
   "id": "5683d9a6",
   "metadata": {},
   "source": [
    "## Message Broker Models\n",
    "- Point-to-point messaging\n",
    "- Publish/subscribe messaging\n",
    "\n",
    "https://www.ibm.com/cloud/learn/message-brokers#toc-message-br-Qe5q5uIC"
   ]
  },
  {
   "cell_type": "markdown",
   "id": "e17a4eeb",
   "metadata": {},
   "source": [
    "## Micro frontends\n",
    "- Micro-frontend architecture is a design approach in which a front-end app is decomposed into individual, semi-independent “microapps” working loosely together. The micro-frontend concept is vaguely inspired by, and named after, microservices.\n",
    "- Micro-frontend architectures may be simpler, and thus easier to reason about and manage.\n",
    "- Independent development teams can collaborate on a front-end app more easily.\n",
    "- They can provide a means for migrating from an “old” app by having a “new” app running side by side with it.\n",
    "\n",
    "<img src=\"https://miro.medium.com/max/1400/1*o9NfGBM20TJDrAfopPj2mg.png\" width=600 height=400>\n",
    "\n",
    "https://www.toptal.com/front-end/micro-frontends-strengths-benefits#:~:text=Micro%2Dfrontend%20architecture%20is%20a,%2C%20and%20named%20after%2C%20microservices."
   ]
  },
  {
   "cell_type": "markdown",
   "id": "e9a7aaae",
   "metadata": {},
   "source": [
    "## Service Mesh\n",
    "\n",
    "https://istio.io/latest/about/service-mesh/#what-is-a-service-mesh\n"
   ]
  },
  {
   "cell_type": "markdown",
   "id": "294c870d",
   "metadata": {},
   "source": [
    "## RESTful vs RESTless\n",
    "- Protocol\n",
    "  - RESTful services use REST architectural style,\n",
    "  - RESTless services use SOAP protocol.\n",
    "- Business logic / Functionality\n",
    "  - RESTful services use URL to expose business logic,\n",
    "  - RESTless services use the service interface to expose business logic.\n",
    "- Security\n",
    "  - RESTful inherits security from the underlying transport protocols,\n",
    "  - RESTless defines its own security layer, thus it is considered as more secure.\n",
    "- Data format\n",
    "  - RESTful supports various data formats such as HTML, JSON, text, etc,\n",
    "  - RESTless supports XML format.\n",
    "- Flexibility\n",
    "  - RESTful is easier and flexible,\n",
    "  - RESTless is not as easy and flexible.\n",
    "- Bandwidth\n",
    "  - RESTful services consume less bandwidth and resource,\n",
    "  - RESTless services consume more bandwidth and resources."
   ]
  },
  {
   "cell_type": "markdown",
   "id": "23c6b1c5",
   "metadata": {},
   "source": [
    "## Service Oriented Architecture"
   ]
  },
  {
   "cell_type": "markdown",
   "id": "54c80c69",
   "metadata": {},
   "source": [
    "## Programming Paradigm\n",
    "- https://en.wikipedia.org/wiki/Programming_paradigm\n",
    "\n",
    "\n"
   ]
  },
  {
   "cell_type": "markdown",
   "id": "6a5a716b",
   "metadata": {},
   "source": [
    "## Circuit design patttern"
   ]
  },
  {
   "cell_type": "markdown",
   "id": "7eb0ea5b",
   "metadata": {},
   "source": [
    "## SaaS"
   ]
  },
  {
   "cell_type": "markdown",
   "id": "ae280cd9",
   "metadata": {},
   "source": [
    "## PaaS"
   ]
  },
  {
   "cell_type": "markdown",
   "id": "0048c49e",
   "metadata": {},
   "source": [
    "## APNS - Apple Push Notification Service\n",
    "- https://developer.apple.com/go/?id=push-notifications\n",
    "\n",
    "## FCM - Google's Firebase Cloud Messaging\n",
    "- https://firebase.google.com/docs/cloud-messaging\n"
   ]
  },
  {
   "cell_type": "markdown",
   "id": "defe3099",
   "metadata": {},
   "source": []
  },
  {
   "cell_type": "markdown",
   "id": "95749611",
   "metadata": {},
   "source": []
  },
  {
   "cell_type": "markdown",
   "id": "cfe33918",
   "metadata": {},
   "source": []
  },
  {
   "cell_type": "markdown",
   "id": "a1bb8d32",
   "metadata": {},
   "source": []
  },
  {
   "cell_type": "markdown",
   "id": "1b1e688b",
   "metadata": {},
   "source": []
  },
  {
   "cell_type": "markdown",
   "id": "0fc73f62",
   "metadata": {},
   "source": [
    "## References\n",
    "- [Microsoft Azure - Cloud Design Patterns](https://docs.microsoft.com/en-us/azure/architecture/patterns/)  \n",
    "- [Event driven architecture](https://docs.microsoft.com/en-us/azure/architecture/guide/architecture-styles/event-driven)   \n",
    "- [Big data architecture](https://docs.microsoft.com/en-us/azure/architecture/guide/architecture-styles/big-data)\n",
    "- [Microservices](https://docs.microsoft.com/en-us/azure/architecture/guide/architecture-styles/microservices)\n",
    "- [N-tier](https://docs.microsoft.com/en-us/azure/architecture/guide/architecture-styles/n-tier)\n",
    "- [Web Queue worker](https://docs.microsoft.com/en-us/azure/architecture/guide/architecture-styles/web-queue-worker)"
   ]
  }
 ],
 "metadata": {
  "kernelspec": {
   "display_name": "Python 3 (ipykernel)",
   "language": "python",
   "name": "python3"
  },
  "language_info": {
   "codemirror_mode": {
    "name": "ipython",
    "version": 3
   },
   "file_extension": ".py",
   "mimetype": "text/x-python",
   "name": "python",
   "nbconvert_exporter": "python",
   "pygments_lexer": "ipython3",
   "version": "3.8.8"
  },
  "toc": {
   "base_numbering": 1,
   "nav_menu": {},
   "number_sections": true,
   "sideBar": true,
   "skip_h1_title": false,
   "title_cell": "Table of Contents",
   "title_sidebar": "Contents",
   "toc_cell": false,
   "toc_position": {},
   "toc_section_display": true,
   "toc_window_display": true
  }
 },
 "nbformat": 4,
 "nbformat_minor": 5
}
