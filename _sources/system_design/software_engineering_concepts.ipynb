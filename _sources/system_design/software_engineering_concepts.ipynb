{
 "cells": [
  {
   "cell_type": "markdown",
   "id": "cccd121e",
   "metadata": {},
   "source": [
    "# Software Engineering concepts\n",
    "## Database design\n",
    "### DB stack\n",
    "- SQL vs NoSQL\n",
    "- RDBMS\n",
    "- Oracle\n",
    "- MSSQL\n",
    "- Sybase\n",
    "- Hadoop\n",
    "- MapReduce\n",
    "- Cassandra\n",
    "- MongoDB\n",
    "- Reddis\n",
    "- Kafka\n",
    "- BigData\n",
    "- Data warehousing\n",
    "- OLAP\n",
    "- OLTP\n",
    "\n",
    "### Types of database\n",
    "- Structured \n",
    "  - Relational/Normalized\n",
    "- Unstructured \n",
    "  - Heterogenous type \n",
    "  - text, image, video, blobs, etc\n",
    "  - cannot be consumed directly\n",
    "- Semi-structured \n",
    "  - mix of structured and unstructured data\n",
    "  - XML, JSON or as per business needs\n",
    "- User state data \n",
    "  - information of activity that user performs on website\n",
    "\n",
    "### Relational\n",
    "- Forms\n",
    "  - one-to-one\n",
    "  - one-to-many\n",
    "  - many-to-one\n",
    "  - many-to-many\n",
    "- data consistency\n",
    "  - normalized\n",
    "\n",
    "<p align=\"center\"><img src=\"https://miro.medium.com/max/1236/1*kTcdlLdvq6pZUpsjKpifOg.png\" title=\"medium.com\" width=500></p>\n",
    "\n",
    "- ACID compliant\n",
    "  - Atomicity\n",
    "    - Transactions are made up of multiple statements\n",
    "    - Atomicity guarantees that either it succeeds completely, or fails completely\n",
    "    - if any statement in a transaction fails to complete, the entire transaction fails and the database is left unchanged\n",
    "  - Consistency\n",
    "    - any data written to database must be valid as per the rules, including constraints, cascades, triggers, and any combination thereof. \n",
    "    - no illegal/incorrect transaction must be allowed\n",
    "  - Isolation\n",
    "    - concurrent execution of transactions leaves database in same state if the transactions were executed sequentially\n",
    "    - incomplete transaction must not be visible to other transactions\n",
    "  - Durability\n",
    "    - if a transaction has been committed it will remain committed during reboot or a system failure or crash\n",
    "\n",
    "\n",
    "- Scaling\n",
    "  - scaling relational databases is not trivial \n",
    "  - they have to be sharded, replicated to make them run smoothly on a cluster\n",
    "  - require high skill set resources\n",
    "\n",
    "### NoSQL\n",
    "- they are more like JSON-based databases\n",
    "- built for high-frequency read writes\n",
    "- Scaling\n",
    "  - can add new server nodes easily\n",
    "  - designed to manage exponential growth of Web\n",
    "  - as nodes can be added easily, it allows handling more concurrent traffic quickly\n",
    "- Cluster\n",
    "  - they are designed to run on clusters\n",
    "- ACID\n",
    "  - support for ACID transactions, limited to an extent\n",
    "  - when a large application is deployed on hundreds of servers across the globe, the distributed nodes may take some time to reach a global consensus and actual figures as in Twitter like/follower count\n",
    "  - it works on the principle of **eventual consistency**\n",
    "  - best fit for analytics use case\n",
    "- Examples\n",
    "  - MongoDB, Redis, Neo4J, Cassandra, Memcache, Elasticsearch, Google Cloud Datastore\n",
    "  \n",
    "<p align=\"center\"><img src=\"https://storage.googleapis.com/gweb-cloudblog-publish/images/Which-Database_v07-10-21_1.max-2000x2000.jpeg\" width=600></p>\n",
    "\n",
    "$\\tiny{\\text{Priyanka Vergadia}}$\n",
    "\n",
    "### DataLake \n",
    "\n",
    "### BigQuery - data warehouse\n",
    "\n",
    "### Why Postgres\n",
    "\n",
    "### Why MySQL\n",
    "\n",
    "### Graph database\n",
    "\n",
    "### Document-oriented database\n",
    "- data is generally semi-structured and stored in a JSON-like format\n",
    "- optimal for use cases that require flexibility and fast, continual development\n",
    "- MongoDB, CouchDB, Elasticsearch, Google Cloud Datastore, and Amazon DocumentDB\n",
    "\n",
    "#### MongoDB - Document\n",
    "- A **document is a record in a document database**. \n",
    "- A document typically stores information about one object and any of its related metadata.\n",
    "- Documents **store data in field-value pairs**. \n",
    "- The values can be a **variety of types and structures**, including strings, numbers, dates, arrays, or objects. Documents can be stored in formats like JSON, BSON, and XML.\n",
    "- A **collection is a group of documents**. Collections typically store documents that have similar contents.\n",
    "- Not all documents in a collection are required to have the same fields, because **document databases have a flexible schema**. Note that **some document databases provide schema validation**, so the schema can optionally be locked down when needed.\n",
    "\n",
    "\n",
    "```json\n",
    "{\n",
    "     \"_id\": 1,\n",
    "     \"first_name\": \"Tom\",\n",
    "     \"email\": \"tom@example.com\",\n",
    "     \"cell\": \"765-555-5555\",\n",
    "     \"likes\": [\n",
    "        \"fashion\",\n",
    "        \"spas\",\n",
    "        \"shopping\"\n",
    "     ],\n",
    "     \"businesses\": [\n",
    "        {\n",
    "           \"name\": \"Entertainment 1080\",\n",
    "           \"partner\": \"Jean\",\n",
    "           \"status\": \"Bankrupt\",\n",
    "           \"date_founded\": {\n",
    "              \"$date\": \"2012-05-19T04:00:00Z\"\n",
    "           }\n",
    "        },\n",
    "        {\n",
    "           \"name\": \"Swag for Tweens\",\n",
    "           \"date_founded\": {\n",
    "              \"$date\": \"2012-11-01T04:00:00Z\"\n",
    "           }\n",
    "        }\n",
    "     ]\n",
    "  }\n",
    "```\n",
    "\n",
    "### Key-Value database\n",
    "- dictionary data structure \n",
    "- key has to be unique\n",
    "- commonly used for caching, storing, and managing user sessions, ad servicing, and recommendations\n",
    "- examples - Redis\n",
    "\n",
    "### Time Series database\n",
    "\n",
    "### Wide-Column database\n",
    "\n",
    "### Eventual vs Strong Consistency\n",
    "- Eventual consistency\n",
    "  - enables datastores to be highly available\n",
    "  - is also known as **optimistic replication** and is key to distributed systems.\n",
    "  - each data centers have multiple clusters with numerous server nodes running\n",
    "  - data is initially inconsistent but eventually becomes consistent across all the server nodes deployed around the world\n",
    "- Strong consistency\n",
    "  - data has to be consistent at all times\n",
    "  - to achieve this all nodes need to be locked down while getting updated\n",
    "  - this behavior enables implementation of ACID transactions\n",
    "\n",
    "### Polyglot persistence\n",
    "- \n",
    "\n",
    "<p align=\"center\"><img src=\"https://www.abhishek-tiwari.com/assets/images/Polyglot-persistence-pattern-for-an-ecommerce-application.png\"></p>\n",
    "\n",
    "### CAP theorem\n",
    "- consistency, availability, partition tolerance(fault tolerance)\n",
    "  - Consistency\n",
    "    - Every read receives the most recent write or an error.\n",
    "  - Availability\n",
    "    - Every request receives a (non-error) response, without the guarantee that it contains the most recent write.\n",
    "  - Partition tolerance\n",
    "    - The system continues to operate despite an arbitrary number of messages being dropped (or delayed) by the network between nodes.\n",
    "  > - No distributed system is safe from network failures, thus network partitioning generally has to be tolerated. In the presence of a partition, one is then left with two options: consistency or availability.  \n",
    "  >> - When choosing consistency over availability, the system will return an error or a time out if particular information cannot be guaranteed to be up to date due to network partitioning. \n",
    "  >> - When choosing availability over consistency, the system will always process the query and try to return the most recent available version of the information, even if it cannot guarantee it is up to date due to network partitioning. \n",
    "\n",
    "### BASE semantics\n",
    "- basically-available, soft-state, eventual consistency\n",
    "- Eventually consistent services has only liveness guarantee - updates will be observed eventually\n",
    "  - **Basically available:** reading and writing operations are available as much as possible (using all nodes of a database cluster), but might not be consistent (the write might not persist after conflicts are reconciled, the read might not get the latest write)\n",
    "  - **Soft-state:** without consistency guarantees, after some amount of time, we only have some probability of knowing the state, since it might not yet have converged\n",
    "  - **Eventually consistent:** If we execute some writes and then the system functions long enough, we can know the state of the data; any further reads of that data item will return the same value\n",
    "  \n",
    "### Multi-model database\n",
    "- ArangoDB, CosmosDB, OrientDB, Couchbase, etc\n",
    "- support multiple data models like the graph, document-oriented, relational, etc. \n",
    "- They also avert the need for managing multiple persistence technologies in a single service. \n",
    "- They reduce the operational complexity by notches\n",
    "\n",
    "### Cassandra\n",
    "\n",
    "### Memcached\n",
    "\n",
    "### HBase\n",
    "\n",
    "### Neo4j\n",
    "\n",
    "### MongoDB\n",
    "\n",
    "### MapReduce\n",
    "\n",
    "### Elasticsearch\n",
    "\n",
    "### Redis\n",
    "\n",
    "### Google Cloud Datastore\n",
    "\n",
    "### Redis vs Memcached\n",
    "\n",
    "### Oracle vs MySQL\n",
    "\n"
   ]
  },
  {
   "cell_type": "markdown",
   "id": "63e57dd7",
   "metadata": {},
   "source": []
  },
  {
   "cell_type": "markdown",
   "id": "74601561",
   "metadata": {},
   "source": [
    "## Cloud design\n",
    "- [Cloud design considerations](system_designs/design_patterns.html)"
   ]
  },
  {
   "cell_type": "markdown",
   "id": "ebf58b36",
   "metadata": {},
   "source": [
    "## AWS vs Azure vs Google Cloud\n"
   ]
  },
  {
   "cell_type": "markdown",
   "id": "0dd60fc4",
   "metadata": {},
   "source": [
    "## Amazon Web Services (AWS)\n",
    "- Infrastructure as a service\n",
    "  - ec2 - virtual machine\n",
    "    - launch any application\n",
    "    - based on memory requirement\n",
    "    - configure with different data centers\n",
    "    - install software and get started\n",
    "- Platform as a service\n",
    "  - not interested in virtual machine\n",
    "  - but use platform\n",
    "  - use elastic beanstalk\n",
    "    - deploy application\n",
    "    - which gets deployed on AWS cloud\n",
    "    - no control on middleware such as Java\n",
    "- Software as a service\n",
    "- Database as a service\n",
    "  - RDBMS\n",
    "  - Load balancing services\n",
    "- flexible billings\n",
    "\n",
    "----\n",
    "- Services\n",
    "  - Batch\n",
    "    - can run batch/overnight applications\n",
    "  - Lambda\n",
    "    - based on event triggered, a program will run and will give response back\n",
    "    - no server is running in background\n",
    "    - server gets initialized when the request comes in\n",
    "    - server will be initialized, it will be served and then will be destroyed once complete\n",
    "  - Elastic container service\n",
    "    - equivalent to docker container\n",
    "    - deploy containers into AWS\n",
    "  - Developer tools\n",
    "    - CodeStar/CodeCommit/CodeBuild/CodeDeploy\n",
    "    - code, build, deploy and pipe it into the queue\n",
    "  - Services for Machine Learning\n",
    "    - to check\n",
    "  - Storage \n",
    "    - S3\n",
    "      - simple storage\n",
    "      - can use in any of the computing design pattern\n",
    "    - EFS\n",
    "    - Glacier\n",
    "    - Storage Gateway\n",
    "  - Management Tools\n",
    "    - CloudWatch\n",
    "    - AWS Auto scaling\n",
    "      - automatically deploy and spawn new instance of say Tomcat server\n",
    "  - Analytics\n",
    "    - Athena\n",
    "    - EMR\n",
    "    - CloudSearch\n",
    "  - Security\n",
    "  - Migration services\n",
    "  - Networking"
   ]
  },
  {
   "cell_type": "markdown",
   "id": "a84dafa7",
   "metadata": {},
   "source": [
    "## Chaos Engineering\n",
    "- discipline of experimenting distributed system in production to build system capability\n",
    "- designed by Netflix\n",
    "- nothing breaks in production\n",
    "- but if it breaks how do we address system availability\n",
    "- helps in identifying loopholes in system\n",
    "- what are the principles\n",
    "  - build a hypothesis around steady state behaviour\n",
    "  - real world events\n",
    "    - plugging out the real world scenario and experimenting on it\n",
    "    - increasing the traffic\n",
    "    - adding failure events\n",
    "    - adding non-expected events\n",
    "  - run experiments in production\n",
    "  - automate experiments in a continuous manner\n",
    "  - minimize the blast radius\n",
    "    - identify the problem and localize the problem to an extent\n",
    "    - live traffic does not get impacted heavily or is minimalized\n",
    "- how does it work in AWS \n",
    "  - different services are launched for NA-East, NA-West, EU-East, EU-West and APAC\n",
    "  - if one service goes down the traffic is rerouted to another service and server request is handled by another service\n",
    "- Open Source Tools \n",
    "  - Netflix \n",
    "    - Chaos Monkey\n",
    "      - randomly kills a service not a server in production\n",
    "      - identify resilence\n",
    "      - checks system behaviour\n",
    "    - Chaos Gorilla\n",
    "      - kill entire availability zone\n",
    "      - NA West will be killed\n",
    "    - Chaos Kong\n",
    "      - kill the whole region\n",
    "    - Latency Monkey\n",
    "      - delay the response\n",
    "  - Facebook\n",
    "    - Facebook Storm\n",
    "      - datacenter goes down\n",
    "  - AWS\n",
    "    - AWS gamedays"
   ]
  },
  {
   "cell_type": "markdown",
   "id": "e210cb8a",
   "metadata": {},
   "source": [
    "## Scalability\n",
    "- Applications's ability to handle increased workload without impacting performance\n",
    "- If application was able to respond to a user request in x seconds, it should take same x seconds to respond, when concurrent user base increases\n",
    "\n",
    "Types of scaling\n",
    "- Horizonal scaling/ Scale out\n",
    "  - add servers\n",
    "- Vertical scaling/ Scale up\n",
    "  - add more power to server, increase RAM\n",
    "  - this is simple, as we don't need code or complex system configuration changes\n",
    "- Cloud elasticity\n",
    "  - scale up/down your servers, as per demand\n",
    "\n",
    "The scalability of application should be tested using load and stress tests by simulating concurrent traffic\n",
    "\n",
    "## Scale trade-offs\n",
    "\n",
    "## AutoScaling\n",
    "- Autoscaling is a cloud computing feature that enables organizations to scale cloud services such as server capacities or virtual machines up or down automatically, based on defined situations such as traffic utilization levels. Cloud computing providers, such as Amazon Web Services (AWS), Microsoft Azure, and Google Cloud Platform (GCP), offer autoscaling tools.\n",
    "- Overall benefit of autoscaling is that it eliminates the need to respond manually in real-time to traffic spikes that merit new resources and instances by automatically changing the active number of servers\n",
    "- An application load balancer and auto scaling package works in tandem as follows. You can deploy an auto scaling group load balancer to improve availability and performance, and decrease application latency. This works because you can define your autoscaling policies based on your application requirements to scale-in and scale-out instances and thus instruct how the load balancer distributes the traffic load between the running instances.\n",
    "- Autoscaling allows a user to set a policy based on predefined criteria that manage the number of available instances in both peak and off-peak hours. This enables multiple instances with the same functionality—parallel capabilities increasing or decreasing depending on demand.\n",
    "\n",
    "## Latency\n",
    "- Network latency\n",
    "- Application latency\n",
    "  - use stress and load tests for bottlenecks\n"
   ]
  },
  {
   "cell_type": "markdown",
   "id": "c4f946e7",
   "metadata": {},
   "source": [
    "## Cost considerations\n",
    "\n",
    "## High availability\n",
    "The ability of system to stay online despite failures at infrastructural level in real-time. The hosting time SLA of cloud platforms should be 99.99999% available. The distributed system must be designed to fault-tolerant and redundant.\n",
    "\n",
    "To achieve high availability at application level, the entire service is architecturally broken down into granular loosely coupled services called **_microservices_**.\n",
    "\n",
    "### Redundancy\n",
    "Redundancy is the process of duplicating the server instances and keeping them on standby incase any of the active server instances goes down. It is the fail-safe backup mechanism.\n",
    "\n",
    "This helps:  \n",
    "- eliminate single point failures with monolithic architecture\n",
    "- facilitate fault-tolerant microservices architecture\n",
    "\n",
    "Tools like __*Kubernetes*__ are intelligent enough to add or remove instances on the fly as per requirement, thereby reducing human error.\n",
    "\n",
    "### Replication\n",
    "- running a __*similar/duplicate node*__, so that when a few nodes go down, other nodes bear the load. Its a __*fail-safe backup mechanism*__.\n",
    "\n",
    "### High available cluster\n",
    "- Fail-over cluster, contains a set of nodes running in conjunction with each other that ensures high availability of service\n",
    "\n",
    "Tools like __*Zookeeper*__, monitor the state of cluster network with __*heartbeat network*__ and maintain shared distributed memory (to maintain a common state across several nodes in a cluster). It uses node coordinator service to maintain nodes in its cluster.\n",
    "\n",
    "Multiple HA clusters run together in one geographical zone to ensure minimum downtime and uninterrupted service."
   ]
  },
  {
   "cell_type": "markdown",
   "id": "a0c65f72",
   "metadata": {},
   "source": [
    "## Load balancing\n",
    "Load balancing enables services to scale well when the traffic load increases. The component that facilitates this are called *__load balancers__*. It distributes load across servers in cluster using different algorithms, thereby safe-guarding overloads and spikes in latency. \n",
    "\n",
    "Load balancers are *__single point of contact for client requests__*. They can be setup to __*manage traffic*__ at application component level, database component level, message queue level or at backend server level. They regularly perform __*health checks*__ on the machines in the cluster. They keep track of _**in service**_ and **_out of service_** instances.\n",
    "\n",
    "### Load balancers methods\n",
    "- DNS load balancing\n",
    "- Hardware based load balancing\n",
    "  - expensive\n",
    "  - high performance\n",
    "- Software based load balancing\n",
    "  - cost effective\n",
    "  - flexible\n",
    "  - advanced compared to DNS load balancers\n",
    "  - continually perform health checks\n",
    "  - __*HAProxy*__ one of leading software load balancers\n",
    "  \n",
    "### Load balancing algorithms\n",
    "- Round Robin\n",
    "- Weighted Round Robin\n",
    "- Least Connection (dynamic)\n",
    "- Weighted Least Connection\n",
    "- Resource Based (Adaptive)\n",
    "- Weighted Response Time\n",
    "- Source IP Hash\n",
    "- URL Hash\n",
    "- Random"
   ]
  },
  {
   "cell_type": "markdown",
   "id": "9d009678",
   "metadata": {},
   "source": [
    "## Fault isolation\n",
    "- Microservice architecture enables isolate faults, debug and fix issues"
   ]
  },
  {
   "cell_type": "markdown",
   "id": "23c3119a",
   "metadata": {},
   "source": [
    "## Fault tolerance\n",
    "Fault tolerance is the system's ability to stay up and running despite taking hits and faults. The instances/nodes may go offline/down but they come back up, which is called **_fail soft_**."
   ]
  },
  {
   "cell_type": "markdown",
   "id": "c2c65112",
   "metadata": {},
   "source": [
    "## Distributed system\n",
    "- There are four capabilities that are involved in a resilient, scalable, distributed system:\n",
    "  - __Load balancing (aka spraying)__ - The ability to spread a load source in an arbitrary manner to certain servers in a distributed system;\n",
    "  - __Partition targeting (aka routing)__ - The ability to direct a request to a particular sever based on attributes of the request and/or the service that handles the request;\n",
    "  - __Partitioning (aka sharding)__ - The ability to divide a domain into discrete, identifiable sub-divisions that together form the whole; and\n",
    "  - __Replication__ - The use of events, transaction logs, state copy, or other means to provide (i) resiliency to server failure, (ii) dynamic repartitioning, (iii) immediate access to non-mutating state, and (iv) local cache copies of mutating state.  \n",
    "$\\tiny{\\text{Source - Quora}}$  "
   ]
  },
  {
   "cell_type": "markdown",
   "id": "665db3d9",
   "metadata": {},
   "source": [
    "## Caching"
   ]
  },
  {
   "cell_type": "markdown",
   "id": "45ade10f",
   "metadata": {},
   "source": [
    "## Distributed Caching"
   ]
  },
  {
   "cell_type": "markdown",
   "id": "95ac82d8",
   "metadata": {},
   "source": [
    "## Distributed Transactions"
   ]
  },
  {
   "cell_type": "markdown",
   "id": "d9b68e3d",
   "metadata": {},
   "source": [
    "## Distributed File System"
   ]
  },
  {
   "cell_type": "markdown",
   "id": "e42ebe82",
   "metadata": {},
   "source": [
    "## Distributed Datastore"
   ]
  },
  {
   "cell_type": "markdown",
   "id": "205cff63",
   "metadata": {},
   "source": [
    "## Locks"
   ]
  },
  {
   "cell_type": "markdown",
   "id": "44bde403",
   "metadata": {},
   "source": [
    "## Distributed Locks"
   ]
  },
  {
   "cell_type": "markdown",
   "id": "5e94077d",
   "metadata": {},
   "source": [
    "## Development practices\n",
    "- Continuous integration\n",
    "  - Available tools\n",
    "    - Jenkins, Azure DevOps\n",
    "  - Practices\n",
    "    - merge as often as possible\n",
    "    - automated build and tests run(integration/acceptance)\n",
    "    - emphasis on testing automation to check new commits dont break the main branch\n",
    "- Continuous delivery\n",
    "  - Available tools\n",
    "    - Jenkins, TeamCity, AWS CodeBuild, Spinnaker\n",
    "  - Practices\n",
    "    - extension of continuous integration\n",
    "    - automated deployment and release to test and prod environment\n",
    "    - best practice is to deploy and release in small batches\n",
    "- Continuous deployment\n",
    "  - Available tools\n",
    "    - Jenkins, TeamCity\n",
    "  - Practices\n",
    "    - extension of continuous delivery\n",
    "    - the changes that passes production pipeline is released to customers\n",
    "    - no human intervention and accelerates the feedback loop from customers to developers\n",
    "- [Link](https://www.atlassian.com/continuous-delivery/principles/continuous-integration-vs-delivery-vs-deployment)"
   ]
  },
  {
   "cell_type": "markdown",
   "id": "0055fcae",
   "metadata": {},
   "source": [
    "## Intelligent Automation "
   ]
  },
  {
   "cell_type": "markdown",
   "id": "74ebf436",
   "metadata": {},
   "source": [
    "## Project Management\n",
    "- Agile \n",
    "  - structured iterative approach\n",
    "  - self organizing teams\n",
    "- Kanban  \n",
    "  - continuous improving flow of work \n",
    "  - uses boards or visuals\n",
    "- Scrum \n",
    "  - short structured work sprints\n",
    "- Jira"
   ]
  },
  {
   "cell_type": "markdown",
   "id": "137348a5",
   "metadata": {},
   "source": [
    "## Tools\n",
    "- Kubernetes \n",
    "  - orchestrates clusters of virtual machines and schedules containers to run on those machines based on their available computing resources\n",
    "- Docker\n",
    "  - packages containerized application on a single node"
   ]
  },
  {
   "cell_type": "markdown",
   "id": "898ee6c3",
   "metadata": {},
   "source": [
    "## Containers vs Virtual Machines\n",
    "- [Containers vs VM](https://www.docker.com/resources/what-container)"
   ]
  },
  {
   "cell_type": "markdown",
   "id": "243fa304",
   "metadata": {},
   "source": [
    "## Clusters"
   ]
  },
  {
   "cell_type": "markdown",
   "id": "2da8fcce",
   "metadata": {},
   "source": [
    "## Pipelines"
   ]
  },
  {
   "cell_type": "markdown",
   "id": "bf5d6092",
   "metadata": {},
   "source": [
    "## Google Compute Engine"
   ]
  },
  {
   "cell_type": "markdown",
   "id": "04acd54d",
   "metadata": {},
   "source": [
    "## Microsoft Azure"
   ]
  },
  {
   "cell_type": "markdown",
   "id": "9f61d472",
   "metadata": {},
   "source": [
    "## Microservice\n",
    "- [Architecture](https://martinfowler.com/articles/microservices.html)\n",
    "\n",
    "_\"In short, the microservice architectural style is an approach to developing a single application as a suite of small services, each running in its own process and communicating with lightweight mechanisms, often an HTTP resource API. These services are built around business capabilities and independently deployable by fully automated deployment machinery. There is a bare minimum of centralized management of these services, which may be written in different programming languages and use different data storage technologies.\"_  \n",
    "$\\tiny{\\text{martinfowler.com - Microservices Guide}}$   \n",
    "\n",
    "### Monolithic Architecture\n",
    "- self-contained as a single codebase \n",
    "- tightly coupled application\n",
    "- LinkedIn started as monolithic architecture in 2003 and then scaled out as cloud computing and microservices architecture\n",
    "- Simple to develop, test, deploy and manage as everything resides in one repo\n",
    "- reduced complexity of deployment\n",
    "- a monolithic architecture holds a lot of application state in the static variables, and an application to scale inherently on the cloud needs to be stateless.\n",
    "\n",
    "### Microservice Architecture\n",
    "- Loosely coupled services deployed and working in conjunction to form large distributed service as a whole\n",
    "- This architecture is designed to scale, which is relatively easy than in monolithic\n",
    "- Continuous deployment is a pre-requisite, dedicated teams can have their independent release and deployments\n",
    "- Regression testing becomes easier\n",
    "- No single point of failure\n",
    "- Can leverage heterogenous technologies\n",
    "- one of the ways of interaction can be REST API gateway interface\n",
    "\n",
    "### Micro frontends\n",
    "\n",
    "\n",
    "<img src=\"https://devblogs.microsoft.com/dotnet/wp-content/uploads/sites/10/2017/08/eShopOnContainers_Architecture_Diagram.png\">\n"
   ]
  },
  {
   "cell_type": "markdown",
   "id": "33bba9e8",
   "metadata": {},
   "source": [
    "## Sharded services\n",
    "- Do we have sharding of services, or is it applicable only in database management?"
   ]
  },
  {
   "cell_type": "markdown",
   "id": "30827f15",
   "metadata": {},
   "source": [
    "## Sharding database\n",
    "### Types of partitioning\n",
    "- Horizontal partitioning(sharding) \n",
    "  - separating table rows into multiple tables with same schema \n",
    "- Vertical partitioning\n",
    "  - separating columns into distinct tables\n",
    "\n",
    "### What is Sharding\n",
    "- breaking data into logical shards\n",
    "- distribute these logical shards into separate database nodes or into physical shards\n",
    "- physical shards can hold multiple logical shards\n",
    "- helps in mitigating impact of outages\n",
    "\n",
    "### Benefits of sharding\n",
    "- horizontal scaling or scaling out\n",
    "  - adding more machines to exsiting stack to spread out load and allow for more traffic\n",
    "- vertical scaling or scaling up\n",
    "  - upgrading hardware by adding more RAM or CPU\n",
    "  \n",
    "### Sharding architectures\n",
    "- Key based sharding\n",
    "  - hash based sharding based on partition key\n",
    "- Range based sharding\n",
    "  - for example, price range\n",
    "- Directory based sharding\n",
    "  - maintain lookup table\n",
    "  - Multiple tenants might share the same shard, but the data for a single tenant won't be spread across multiple shards\n",
    "\n",
    "<p align=\"center\"><img src=\"images/shardTable.png\" width=600 height=600></p>\n",
    "\n",
    "$\\tiny{\\text{Types of Partitioning - digitalocean.com}}$   \n",
    "\n"
   ]
  },
  {
   "cell_type": "markdown",
   "id": "11c690a6",
   "metadata": {},
   "source": [
    "## Hashing\n",
    "- bucket\n",
    "- hash collison\n",
    "- consistent hashing\n",
    "\n",
    "### Consistent Hashing\n",
    "- is a special kind of hashing technique such that when a hash table is resized, only n/m keys need to be remapped on average where n is the number of keys and m is the number of slots. In contrast, in most traditional hash tables, a change in the number of array slots causes nearly all keys to be remapped because the mapping between the keys and the slots is defined by a modular operation.\n",
    "- it allows requests to be mapped into hash buckets while allowing the system to add and remove nodes flexibly so as to maintain a good load factor on each machine\n",
    "- the standard way to hash objects is to map them to a search space, and then transfer the load to the mapped computer\n",
    "  - systems using this policy is likely to suffer when new nodes are added or removed from it\n",
    "- Consistent Hashing maps servers to the key space and assigns requests(mapped to relevant buckets, called load) to the next clockwise server. Servers can then store relevant request data in them while allowing the system flexibility and scalability\n",
    "- system design scenarios \n",
    "  - such as fault tolerance - in which a machine crashes\n",
    "  - or scalability - in which a machine needs to be added to process more requests\n",
    "    - in both these principles consistent hashing is used\n",
    "- this principle is used extensively in load balancing, caching, databases\n",
    "- request allocation\n",
    "\n",
    "\n",
    "<p align=\"center\"><img src=\"./images/consistentHashing.png\" width=400 height=400></p>\n",
    "\n",
    "$\\tiny{\\text{YouTube - Gaurav Sen}}$   "
   ]
  },
  {
   "cell_type": "markdown",
   "id": "e25b4f6a",
   "metadata": {},
   "source": [
    "## HTTP Messaging\n",
    "\n",
    "### HTTP GET vs POST Message\n",
    "- GET is used for viewing something, without changing it\n",
    "  - fetch data\n",
    "  - GET carries request parameter appended in URL string \n",
    "- POST is used for changing something\n",
    "  - change pwd\n",
    "  - writing data into resources\n",
    "  - POST carries request parameter in message body which makes it more secure way of transferring data\n",
    "  \n",
    "### HTTP codes\n",
    "\n",
    "<p align=\"center\"><img src=\"images/http_codes.png\" width=600 height=600></p>  \n",
    "\n",
    "$\\tiny{\\text{https://datatracker.ietf.org/}}$   \n",
    "\n",
    "\n",
    "## HTTP 1.0 vs 2.0 vs 3.0\n",
    "- https://cheapsslsecurity.com/p/http2-vs-http1/\n",
    "- https://ably.com/topic/http-2-vs-http-3\n",
    "\n",
    "<p align=\"center\"><img src=\"images/httpProtocol.webp\" width=600 height=600></p>\n",
    "\n",
    "$\\tiny{\\text{https://ably.com/}}$   \n",
    "\n"
   ]
  },
  {
   "cell_type": "markdown",
   "id": "e0a8313d",
   "metadata": {},
   "source": [
    "## Messaging\n",
    "\n",
    "### Messaging patterns\n",
    "- Client-Server\n",
    "- Publish-Subscribe\n",
    "  - https://ably.com/topic/pub-sub\n",
    "  - Topic \n",
    "  - https://cloud.google.com/pubsub/docs/subscriber\n",
    "  - https://www.bmc.com/blogs/pub-sub-publish-subscribe/\n",
    "- Push-Pull\n",
    "- Polling\n",
    "- Conventional sockets\n",
    "  - One-to-one\n",
    "  - Many-to-one\n",
    "  - One-to-many(multicast)\n",
    "- Event streaming\n",
    "  - https://ably.com/topic/event-streaming\n"
   ]
  },
  {
   "cell_type": "markdown",
   "id": "f522ab93",
   "metadata": {},
   "source": [
    "## Components vs Services"
   ]
  },
  {
   "cell_type": "markdown",
   "id": "1022e648",
   "metadata": {},
   "source": [
    "## Stateless architecture\n"
   ]
  },
  {
   "cell_type": "markdown",
   "id": "d80a358a",
   "metadata": {},
   "source": [
    "## Transport Protocols\n",
    "- TCP\n",
    "- UDP\n",
    "- Gossip Protocol\n",
    "- Broadcast\n",
    "- Multicast\n",
    "- Web sockets\n",
    "- FTP\n",
    "- Telnet "
   ]
  },
  {
   "cell_type": "markdown",
   "id": "d9d6825c",
   "metadata": {},
   "source": [
    "## gRPC\n",
    "- gRPC\n",
    "- Protocol buffers"
   ]
  },
  {
   "cell_type": "markdown",
   "id": "b27210e0",
   "metadata": {},
   "source": [
    "## Payload\n",
    "- Request payload\n",
    "- API payload"
   ]
  },
  {
   "cell_type": "markdown",
   "id": "eedbfb85",
   "metadata": {},
   "source": [
    "## Sockets\n",
    "- TCP sockets\n",
    "- SSL sockets\n",
    "- IPv4/IPv6 connections"
   ]
  },
  {
   "cell_type": "markdown",
   "id": "5c9cae27",
   "metadata": {},
   "source": [
    "## Connection Pools\n",
    "\n",
    "## Connection Proxy"
   ]
  },
  {
   "cell_type": "markdown",
   "id": "efb64d57",
   "metadata": {},
   "source": [
    "## POSIX message queue\n",
    "## Windows message queues\n",
    "[Windows Message Queue](https://web.archive.org/web/20120317065349/http://msdn.microsoft.com/en-us/library/ms644927(VS.85).aspx)"
   ]
  },
  {
   "cell_type": "markdown",
   "id": "73b3d3b0",
   "metadata": {},
   "source": [
    "## Distributed system or N-tier application\n",
    "\n",
    "An n-tier application has more than 3 components \n",
    "- user interface\n",
    "- backend server\n",
    "- database\n",
    "\n",
    "The components that are part of such system architecture are:\n",
    "- Load balancers\n",
    "- Caching system\n",
    "- Message queue for asynchronous activity\n",
    "- Microservices \n",
    "- Web services\n",
    "- etc"
   ]
  },
  {
   "cell_type": "markdown",
   "id": "c28de084",
   "metadata": {},
   "source": [
    "## Layers vs Tiers\n",
    "- Layers are at code level, it represent conceptual organization of code. In application, it means the logical separation at code level, for example business layer, service layer and data access layer\n",
    "- Tiers is at physical layer of components, where layers are deployed and where layers are run\n",
    "\n",
    "> - <i> Logical layers are merely a way of organizing your code. Typical layers include Presentation, Business and Data – the same as the traditional 3-tier model. But when we’re talking about layers, we’re only talking about logical organization of code. In no way is it implied that these layers might run on different computers or in different processes on a single computer or even in a single process on a single computer. All we are doing is discussing a way of organizing a code into a set of layers defined by specific function. </i>  \n",
    "> - <i> Physical tiers however, are only about where the code runs. Specifically, tiers are places where layers are deployed and where layers run. In other words, tiers are the physical deployment of layers.</i>  \n",
    "\n",
    "$\\tiny{\\text{Rockford Lhotka, Should all apps be n-tier?}}$   "
   ]
  },
  {
   "cell_type": "markdown",
   "id": "d7dda8c9",
   "metadata": {},
   "source": [
    "## POSIX thread model"
   ]
  },
  {
   "cell_type": "markdown",
   "id": "89dac2cb",
   "metadata": {},
   "source": [
    "## Static and Dynamic Dispatch\n",
    "\n",
    "https://medium.com/ingeniouslysimple/static-and-dynamic-dispatch-324d3dc890a3"
   ]
  },
  {
   "cell_type": "markdown",
   "id": "031da5fd",
   "metadata": {},
   "source": [
    "## Static vs Dynamic typing\n",
    "\n",
    "http://en.wikipedia.org/wiki/Type_system\n",
    "\n",
    "> **Static typing**\n",
    "\n",
    "> A programming language is said to use static typing when type checking is performed during compile-time as opposed to run-time. In static typing, types are associated with variables not values. Statically typed languages include Ada, C, C++, C#, JADE, Java, Fortran, Haskell, ML, Pascal, Perl (with respect to distinguishing scalars, arrays, hashes and subroutines) and Scala. Static typing is a limited form of program verification (see type safety): accordingly, it allows many type errors to be caught early in the development cycle. Static type checkers evaluate only the type information that can be determined at compile time, but are able to verify that the checked conditions hold for all possible executions of the program, which eliminates the need to repeat type checks every time the program is executed. Program execution may also be made more efficient (i.e. faster or taking reduced memory) by omitting runtime type checks and enabling other optimizations.\n",
    "\n",
    "> Because they evaluate type information during compilation, and therefore lack type information that is only available at run-time, static type checkers are conservative. They will reject some programs that may be well-behaved at run-time, but that cannot be statically determined to be well-typed. For example, even if an expression always evaluates to true at run-time, a program containing the code\n",
    "\n",
    "> if \\<complex test\\> then 42 else \\<type error\\>\n",
    "> will be rejected as ill-typed, because a static analysis cannot determine that the else branch won't be taken. The conservative behaviour of static type checkers is advantageous when evaluates to false infrequently: A static type checker can detect type errors in rarely used code paths. Without static type checking, even code coverage tests with 100% code coverage may be unable to find such type errors. Code coverage tests may fail to detect such type errors because the combination of all places where values are created and all places where a certain value is used must be taken into account.\n",
    "\n",
    "> The most widely used statically typed languages are not formally type safe. They have \"loopholes\" in the programming language specification enabling programmers to write code that circumvents the verification performed by a static type checker and so address a wider range of problems. For example, Java and most C-style languages have type punning, and Haskell has such features as unsafePerformIO: such operations may be unsafe at runtime, in that they can cause unwanted behaviour due to incorrect typing of values when the program runs.\n",
    "\n",
    "> **Dynamic typing**\n",
    "\n",
    "> A programming language is said to be dynamically typed, or just 'dynamic', when the majority of its type checking is performed at run-time as opposed to at compile-time. In dynamic typing, types are associated with values not variables. Dynamically typed languages include Groovy, JavaScript, Lisp, Lua, Objective-C, Perl (with respect to user-defined types but not built-in types), PHP, Prolog, Python, Ruby, Smalltalk and Tcl. Compared to static typing, dynamic typing can be more flexible (e.g. by allowing programs to generate types and functionality based on run-time data), though at the expense of fewer a priori guarantees. This is because a dynamically typed language accepts and attempts to execute some programs which may be ruled as invalid by a static type checker.\n",
    "\n",
    "> Dynamic typing may result in runtime type errors—that is, at runtime, a value may have an unexpected type, and an operation nonsensical for that type is applied. This operation may occur long after the place where the programming mistake was made—that is, the place where the wrong type of data passed into a place it should not have. This makes the bug difficult to locate.\n",
    "\n",
    "> Dynamically typed language systems, compared to their statically typed cousins, make fewer \"compile-time\" checks on the source code (but will check, for example, that the program is syntactically correct). Run-time checks can potentially be more sophisticated, since they can use dynamic information as well as any information that was present during compilation. On the other hand, runtime checks only assert that conditions hold in a particular execution of the program, and these checks are repeated for every execution of the program.\n",
    "\n",
    "> Development in dynamically typed languages is often supported by programming practices such as unit testing. Testing is a key practice in professional software development, and is particularly important in dynamically typed languages. In practice, the testing done to ensure correct program operation can detect a much wider range of errors than static type-checking, but conversely cannot search as comprehensively for the errors that both testing and static type checking are able to detect. Testing can be incorporated into the software build cycle, in which case it can be thought of as a \"compile-time\" check, in that the program user will not have to manually run such tests."
   ]
  },
  {
   "cell_type": "markdown",
   "id": "f2703690",
   "metadata": {},
   "source": [
    "## Name binding\n",
    "\n",
    "### Static binding vs Dynamic binding\n",
    "- Static binding\n",
    "  - checks performed without running the program\n",
    "    - in most statically typed languages it is done when the program is compiled\n",
    "  - such variables dont change during the course of its lifetime\n",
    "    - although we may cast it to some other data type \n",
    "- Dynamic binding or Late binding or Virtual binding\n",
    "  - as\n",
    "\n",
    "\n",
    "## Typing\n",
    "- Typing refers to changes in program structure that are due to the differences between data values: integers, characters, floating point numbers, strings, objects and so on. These differences can have many effects, for example:\n",
    "  - memory layout (e.g. 4 bytes for an int, 8 bytes for a double, more for an object)\n",
    "  - instructions executed (e.g. primitive operations to add small integers, library calls to add large ones)\n",
    "  - program flow (simple subroutine calling conventions versus hash-dispatch for multi-methods)\n",
    "\n",
    "### Static typing vs Dynamic typing\n",
    "- Static typing means that the executable form of a program generated at build time will vary depending upon the types of data values found in the program. \n",
    "- Dynamic typing means that the generated code will always be the same, irrespective of type -- any differences in execution will be determined at run-time.\n",
    "\n",
    "\n",
    "### Dynamic typing vs Dynamic binding\n",
    "- Dynamic typing defers the determination of the class that an object belongs to until the program is executing\n",
    "- Dynamic binding defers the determination of the actual method to invoke on an object until program execution time\n",
    "\n",
    "## Weak vs Strong typing\n",
    "\n",
    "Check out this JavaScript code:\n",
    "```javascript\n",
    "4 + '7';      // '47'\n",
    "4 * '7';      // 28\n",
    "2 + true;     // 3\n",
    "false - 3;    // -3\n",
    "```\n",
    "\n",
    "- Adding number 4 to a string '7' gives us a string '47'. JavaScript converted number 4 into a string '4' and concatenated two strings — glued them together. JavaScript just took the liberty of assuming this is what we wanted. It's hard to blame it — what did we want? Adding a number to a string — that doesn't make sense. Some other language, like Ruby or Python would've just complained and not do anything.\n",
    "\n",
    "- Multiplying number 4 by a string '7' is, well, 28, according to JavaScript. In this case, it converted string '7' into number 7 and did the normal multiplication.\n",
    "\n",
    "- it tries to assume and convert from type to type without telling. Sometimes it's useful, sometimes it's mindboggling. This happens because **JavaScript is a weakly typed language**. \n",
    "\n",
    "- This has nothing to do with dynamic versus static typing, __which is about WHEN to check for types. Strong versus weak is about HOW SERIOUS DO YOU GET while checking the types.__\n",
    "\n",
    "- **You can say that weak typing is relaxed typing, and strong typing is strict typing.**\n",
    "\n",
    "- All three are dynamically typed languages\n",
    "  - JavaScript has very weak typing \n",
    "  - PHP has somewhat stronger typing \n",
    "  - Python — even stronger \n",
    "\n",
    "\n",
    "## Single vs Multiple Dispatch\n",
    "https://en.wikipedia.org/wiki/Dynamic_dispatch#Single_and_multiple_dispatch\n",
    "\n",
    "> The choice of **which version of a method to call** may be based either on **a single object**, or **on a combination of objects**. The former is called **single dispatch** and is directly supported by common object-oriented languages such as Smalltalk, C++, Java, C#, Objective-C, Swift, JavaScript, and Python. In these and similar languages, one may call a method for division with syntax that resembles\n",
    "\n",
    ">> dividend.divide(divisor)  # dividend / divisor\n",
    "\n",
    "> where the **parameters are optional**. This is thought of as sending a message named divide with parameter divisor to dividend. An **implementation will be chosen based only on dividend's type** (perhaps rational, floating point, matrix), **disregarding the type or value of divisor**.\n",
    "\n",
    "> By contrast, some languages dispatch methods or functions based on the **combination of operands**; in the division case, the **types of the dividend and divisor together** determine which divide operation will be performed. This is known as **multiple dispatch**. Examples of languages that support multiple dispatch are Common Lisp, Dylan, and **Julia**.\n",
    "\n",
    "\n",
    "\n",
    "\n",
    "## Dynamic Dispatch mechanisms\n",
    "\n",
    "A language may be implemented with different dynamic dispatch mechanisms. The choices of the dynamic dispatch mechanism offered by a language to a large extent alter the programming paradigms that are available or are most natural to use within a given language.\n",
    "\n",
    "Normally, in a typed language, the dispatch mechanism will be performed based on the type of the arguments (most commonly based on the type of the receiver of a message). **Languages with weak or no typing systems often carry a dispatch table as part of the object data for each object. This allows instance behaviour as each instance may map a given message to a separate method.**\n",
    "\n",
    "Some languages offer a hybrid approach.\n",
    "\n",
    "**Dynamic dispatch will always incur an overhead so some languages offer static dispatch for particular methods.**\n",
    "\n",
    "- C++ uses early binding and offers both dynamic and static dispatch. The **default form of dispatch is static**. To get dynamic dispatch the programmer must declare a method as **virtual**.\n",
    "\n",
    "\n",
    "C++ example:\n",
    "```cpp\n",
    "#include <iostream>\n",
    "using namespace std;\n",
    "\n",
    "//make Pet an abstract virtual base class\n",
    "class Pet {\n",
    "    public:\n",
    "    virtual void speak() = 0;\n",
    "};\n",
    "\n",
    "class Dog : public Pet {\n",
    "    public:\n",
    "    void speak()\n",
    "    {\n",
    "        std::cout<<\"Woof!\\n\";\n",
    "    }\n",
    "};\n",
    "\n",
    "class Cat : public Pet {\n",
    "    public:\n",
    "    void speak()\n",
    "    {\n",
    "        std::cout<<\"Meow!\\n\";\n",
    "    }\n",
    "};\n",
    "\n",
    "//Speak will be able to accept anything deriving from Pet\n",
    "void speak(Pet& pet)\n",
    "{\n",
    "    pet.speak();\n",
    "}\n",
    "\n",
    "int main()\n",
    "{\n",
    "    Dog fido;\n",
    "    Cat simba;\n",
    "    speak(fido);\n",
    "    speak(simba);\n",
    "    return 0;\n",
    "}\n",
    "```\n",
    "\n",
    "Python example:\n",
    "```python\n",
    "class Cat:\n",
    "    def speak(self):\n",
    "        print(\"Meow\")\n",
    "\n",
    "class Dog:\n",
    "    def speak(self):\n",
    "        print(\"Woof\")\n",
    "\n",
    "\n",
    "def speak(pet):\n",
    "    # Dynamically dispatches the speak method\n",
    "    # pet can either be an instance of Cat or Dog\n",
    "    pet.speak()\n",
    "\n",
    "cat = Cat()\n",
    "speak(cat)\n",
    "dog = Dog()\n",
    "speak(dog)\n",
    "```"
   ]
  },
  {
   "cell_type": "markdown",
   "id": "de1bafc4",
   "metadata": {},
   "source": [
    "## Virtual Method Table\n",
    "\n",
    "- https://legacy.python.org/workshops/1998-11/proceedings/papers/lowis/lowis.html\n",
    "- https://programs.wiki/wiki/detailed-parsing-of-c-virtual-functions-with-examples.html\n",
    "\n",
    "\n",
    "> - Anyone who knows C++ should know that virtual functions are implemented through a Virtual Table.V-Table for short. In this table, **the address table of the Virtual Function of a class is the main address table**. This table solves the problem of **inheritance and override**, and ensures that it can faithfully reflect the actual function. In this way, the **table is shared by classes in instances of classes with virtual functions**, so when we manipulate a subclass with the pointer of the parent class, the **Virtual Function table becomes important, just like a map**, indicating what functions should actually be called.\n",
    "> - The C++ compiler should ensure that the **pointer to the virtual function table exists at the top of the object instance** (this is to ensure the highest performance when fetching the virtual function table - if there is multiple or multiple inheritance).This means that **we get this virtual function table from the address of the object instance, then we can iterate through the function pointer and call the corresponding function.**\n",
    "\n",
    "> - The **inherited class derives a table of virtual functions**, if any, and copies the virtual function address of the parent class.\n",
    "> - Virtual functions are **placed in tables in the order in which they are declared**.\n",
    "> - The virtual function of the parent class precedes the virtual function of the child class\n",
    "\n",
    "> - The **override function is placed in the new virtual table where the parent virtual function address** is, that is, the parent virtual function address is overridden, thus **achieving polymorphism.**\n",
    "> - Functions that are not overwritten are still listed after the virtual table in the declarative order.\n",
    "\n",
    "\n",
    "- codes/cpp_templates/virtual_test.cpp"
   ]
  },
  {
   "cell_type": "markdown",
   "id": "e07d5466",
   "metadata": {},
   "source": [
    "## Bottlenecks"
   ]
  },
  {
   "cell_type": "markdown",
   "id": "25987a18",
   "metadata": {},
   "source": [
    "## CDN - Content delivery network\n",
    "> A content delivery network (CDN) refers to a geographically distributed group of servers which work together to provide fast delivery of Internet content.  \n",
    "\n",
    "> A CDN allows for the quick transfer of assets needed for loading Internet content including HTML pages, javascript files, stylesheets, images, and videos. The popularity of CDN services continues to grow, and today the majority of web traffic is served through CDNs, including traffic from major sites like Facebook, Netflix, and Amazon.  \n",
    "\n",
    "> It helps cache content at the network edge, which improves website performance. Many websites struggle to have their performance needs met by traditional hosting services, which is why they opt for CDNs.  \n",
    "\n",
    "> Benfits of using a CDN:\n",
    "> - Improving website load times\n",
    "> - Reducing bandwidth costs\n",
    "> - Increasing content availability and redundancy\n",
    "> - Improving website security\n",
    "\n",
    "<p align=\"center\"><img src=\"https://cf-assets.www.cloudflare.com/slt3lc6tev37/540CpDkqSDg6QAPi5nO1AP/b44a3edb5abc4e115ddab9b4d9bf7a32/Learning-How-does-a-CDN-work.svg\" width=500></p>\n",
    "\n",
    "$\\tiny{\\text{cloudflare.com}}$   "
   ]
  },
  {
   "cell_type": "markdown",
   "id": "3247a532",
   "metadata": {},
   "source": [
    "## Point of Presence(PoP)\n",
    "A point of presence (PoP) is a demarcation point, access point, or physical location at which two or more networks or communication devices share a connection.\n",
    "\n",
    "The routers, switches, servers, and other devices necessary for traffic to cross over networks are all present at PoPs. Internet service providers and edge networks like StackPath typically have multiple points of presence located near large Internet exchange points (IXPs) at which they have peering agreements. The proximity of points of presence and Internet exchange points is one very important factor in how quickly traffic is able to traverse the Internet.\n",
    "\n",
    "$\\tiny{\\text{https://blog.stackpath.com/}}$   "
   ]
  },
  {
   "cell_type": "markdown",
   "id": "62274e73",
   "metadata": {},
   "source": [
    "## Domain Name Service (DNS)\n",
    "This query service maps long IP addresses to domain names such as google.com. There are four key components:\n",
    "- DNS Resolver \n",
    "- Root nameserver  \n",
    "- Top level domain nameserver\n",
    "- Authorative nameserver\n",
    "\n",
    "The authorative server sends list of IP addresses in a round-robin fashion, enabling to use other IP addresses if the client doesn't respond within a time limit.\n",
    "\n",
    "<p align=\"center\"><img src=\"https://foxutech.com/wp-content/uploads/2017/09/How-DNS-works.png\" width=500></p>\n",
    "\n",
    "$\\tiny{\\text{https://foxutech.com}}$   "
   ]
  },
  {
   "cell_type": "markdown",
   "id": "67f9b950",
   "metadata": {},
   "source": [
    "## System Design Problems\n",
    "\n",
    "- 1) Requirements clarifications\n",
    "  - they are open-ended questions\n",
    "  - they dont have one correct answer\n",
    "  - define end goals of system\n",
    "  - clarify which part of system to focus on\n",
    "- 2) Back-of-the-envelope estimation\n",
    "  - estimate scale of system to design\n",
    "  - how much storage is needed\n",
    "  - what type of storage is required, photos, videos, tweets\n",
    "  - what network bandwidth is expected\n",
    "- 3) System interface definition\n",
    "  - define the main APIs\n",
    "  - define the main contracts expected within the system\n",
    "- 4) Defining data model\n",
    "  - how data flows between components\n",
    "  - define different aspects of data management for example storage\n",
    "  - what type of database to choose - relational or no-sql\n",
    "  - how will storage of photos and videos be done\n",
    "- 5) High-level design\n",
    "  - draw block diagrams, \n",
    "    - as how many application server, \n",
    "    - how will load balancers be designed, \n",
    "    - what sort of database is required, \n",
    "    - how many read-writes are needed, \n",
    "    - what sort of distributed file storage system is required\n",
    "- 6) Detailed design\n",
    "  - dig deeper into couple of major components\n",
    "  - which layer would we need caching\n",
    "  - how will we partition the data\n",
    "  - what time will have major tweets and how to optimize \n",
    "  - which components need load balancing\n",
    "- 7) Identifying and resolving bottlenecks\n",
    "  - which components may cause bottlenecks\n",
    "  - how to create redundant serives/applications to serve well\n",
    "  - how to monitor performance of services\n"
   ]
  },
  {
   "cell_type": "markdown",
   "id": "a836fe60",
   "metadata": {},
   "source": [
    "### Design URL shortening system like bit.ly or tinyurl\n",
    "- What is the need?\n",
    "  - shorter links\n",
    "  - saves space\n",
    "  - less likely to mistype\n",
    "- What are the requirements of designing such system?\n",
    "  - Functional requirements\n",
    "    - shorter link or aliases\n",
    "    - service must redirects them to original link\n",
    "    - users should have a choice of picking up shorter name link\n",
    "    - should expire after standard time span\n",
    "  - Non-Functional requirements\n",
    "    - minimal or no downtime\n",
    "    - url redirection must happen realtime\n"
   ]
  },
  {
   "cell_type": "markdown",
   "id": "eca9c2b9",
   "metadata": {},
   "source": [
    "\n",
    "### How hotstar scaled 10.3 million concurrent users\n",
    "https://www.scaleyourapp.com/how-hotstar-scaled-with-10-3-million-concurrent-users-an-architectural-insight/\n",
    "\n",
    "### How facebook support global events\n",
    "https://engineering.fb.com/2018/02/12/production-engineering/how-production-engineers-support-global-events-on-facebook/\n",
    "\n"
   ]
  },
  {
   "cell_type": "markdown",
   "id": "f2c98b39",
   "metadata": {},
   "source": [
    "## Application server features"
   ]
  },
  {
   "cell_type": "markdown",
   "id": "4b1211c7",
   "metadata": {},
   "source": [
    "## Web server features"
   ]
  },
  {
   "cell_type": "markdown",
   "id": "b62865ec",
   "metadata": {},
   "source": [
    "## API \n",
    "Application Protocol Interface\n"
   ]
  },
  {
   "cell_type": "markdown",
   "id": "2ab9ed13",
   "metadata": {},
   "source": [
    "## Proxy Server\n",
    "- Proxy acts as a firewall\n",
    "- Multiple clients can talk to the same proxy and can interact on our behalf with the outside world \n",
    "- Acts as a security layer and protects against phishing and other malwares\n",
    "- Helps in caching by saving static content\n",
    "- helps in encrypting/decrypting sensitive client data"
   ]
  },
  {
   "cell_type": "markdown",
   "id": "1c9c2254",
   "metadata": {},
   "source": [
    "## Reverse Proxy Server\n",
    "- instead of protecting the client, it protects the server\n",
    "- outside world can interact with reverse proxy server instead of interacting with server directly\n",
    "- works as load balancing\n",
    "- helps in caching\n",
    "- helps in compressing the data, thereby improving the bandwidth and performance of network"
   ]
  },
  {
   "cell_type": "markdown",
   "id": "7a9421a7",
   "metadata": {},
   "source": [
    "## OAuth 2.0\n",
    "When we launch Spotify to listen to some music, we may choose into login using Facebook. Spotify logins using Facebook API. \n",
    "- We may think, Spotify uses Facebook username and password to login. Wrong. __*It does not*__ \n",
    "- Passwords are never passed from server to server in an OAuth 2.0 framework\n",
    "\n",
    "In the example below, Sarah wants to check her balance in Memorial bank account. She logs into MyBucks application to check her checkings bank account in MyBucks dashboard. \n",
    "- MyBucks makes an _**authorization request**_ to memorial bank authorization server\n",
    "- Memorial bank asks Sarah to _**authorize**_ MyBucks to access her account balances \n",
    "- Sarah's authorization is sent back to Memorial Bank __*authorization server*__ with _**authorization grant and authorization code**_\n",
    "- Authorization Server does not hold any of Sarah's account details. It is with _**Resource Server**_, so authorization code is used for interactions\n",
    "- Authorization Server then sends MyBucks application with _**access token**_ to get Sarah's checking details\n",
    "- The access token has details of what __*authorization Sarah provided*__. In this case its her account balances only\n",
    "- MyBucks sends _**access token**_ to Resource Server, which validates the token\n",
    "- Resource server sends the **_protected resource_**\n",
    "\n",
    "<p align=\"center\"><img src=\"./images/OAuth2.png\" width=400></p>\n",
    "\n",
    "$\\tiny{\\text{YouTube - InterSystems Learning Services}}$   "
   ]
  },
  {
   "cell_type": "markdown",
   "id": "bacd2d42",
   "metadata": {},
   "source": [
    "## Master Slave Model"
   ]
  },
  {
   "cell_type": "markdown",
   "id": "7a9cc85f",
   "metadata": {},
   "source": [
    "## API Gateway\n",
    "- APIs are the interfaces which applications use to communicate and the gateway is the control point for routing, shaping, and securing that traffic\n",
    "- Incoming traffic is filtered and routed to the appropriate services.\n",
    "\n",
    "Example\n",
    "- Reverse proxy server. Nginx and HAProxy\n",
    "\n",
    "<p align=\"center\"><img src=\"https://docs.microsoft.com/en-us/azure/architecture/microservices/images/gateway.png\" width=500></p>\n",
    "\n",
    "$\\tiny{\\text{https://docs.microsoft.com}}$"
   ]
  },
  {
   "cell_type": "markdown",
   "id": "c18b992d",
   "metadata": {},
   "source": [
    "## Worker Pool"
   ]
  },
  {
   "cell_type": "markdown",
   "id": "338eb669",
   "metadata": {},
   "source": [
    "## Data Lake\n",
    "- https://www.snaplogic.com/glossary/data-lake\n",
    "- https://www.snaplogic.com/glossary/hadoop-data-lake\n"
   ]
  },
  {
   "cell_type": "markdown",
   "id": "77ea8564",
   "metadata": {},
   "source": [
    "## Message Queue\n",
    "A message queue is a data structure, or a container - a way to hold messages for eventual consumption\n",
    "\n",
    "### Message Broker\n",
    "- A message broker is a **separate component that manages queues**\n",
    "- It is also known as a **service bus** which is a piece of middleware responsible with persisting and routing of message while allowing you to decouple your system into smaller parts. \n",
    "  - A message queue is a part of a message broker and is just a persistence mechanism.\n"
   ]
  },
  {
   "cell_type": "markdown",
   "id": "993d2253",
   "metadata": {},
   "source": [
    "## Web components\n",
    "- low level browser APIs\n",
    "- gives a standard component interface\n",
    "- web components are not specific framework\n",
    "- web components simply tell broser **\"When and Where to create components, but not how\"**\n",
    "\n",
    "### AMP component\n",
    "\n"
   ]
  },
  {
   "cell_type": "markdown",
   "id": "1e32b2eb",
   "metadata": {},
   "source": [
    "## Web 2.0"
   ]
  },
  {
   "cell_type": "markdown",
   "id": "a0bd9b2c",
   "metadata": {},
   "source": [
    "## Costs of operation\n",
    "- Read from disk\n",
    "- Read from memory\n",
    "- Local Area Network (LAN) round-trip\n",
    "- Cross Continental Network"
   ]
  },
  {
   "cell_type": "markdown",
   "id": "2fccf339",
   "metadata": {},
   "source": [
    "## Solution Patterns\n",
    "- Sharding Data\n",
    "- Replication Types\n",
    "- Write-Ahead Logging\n",
    "- Separating Data and Metadata Storage\n",
    "- Load Distribution"
   ]
  },
  {
   "cell_type": "markdown",
   "id": "ce1a942d",
   "metadata": {},
   "source": [
    "## Trade-Offs and Compromise\n",
    "- Rotating disk and pay for latency\n",
    "- Flash drive and pay more money\n",
    "- Seek multiple solutions, pick one and commit to it"
   ]
  },
  {
   "cell_type": "markdown",
   "id": "53bca61f",
   "metadata": {},
   "source": [
    "## Better Practices\n",
    "- how you think - how you solve problems\n",
    "- most questions will be open ended\n",
    "  - ask for clarifications\n",
    "- first solution may not be the best solution\n",
    "  - ways to improve upon it\n",
    "- practice on paper or white-board"
   ]
  },
  {
   "cell_type": "markdown",
   "id": "3d9a88ce",
   "metadata": {},
   "source": [
    "## Hardware"
   ]
  },
  {
   "cell_type": "markdown",
   "id": "7741c5ea",
   "metadata": {},
   "source": [
    "## Stack vs Heap"
   ]
  },
  {
   "cell_type": "markdown",
   "id": "6469b290",
   "metadata": {},
   "source": [
    "## Functional programming vs OOP"
   ]
  },
  {
   "cell_type": "markdown",
   "id": "92094eba",
   "metadata": {},
   "source": [
    "## Advantages of Physical layer vs Logical layer separation"
   ]
  },
  {
   "cell_type": "markdown",
   "id": "8a646710",
   "metadata": {},
   "source": [
    "## Service Providers \n",
    "- What are the type of features that service providers offer like Gmail, Microsoft or IMAP\n",
    "  "
   ]
  },
  {
   "cell_type": "markdown",
   "id": "94e360be",
   "metadata": {},
   "source": [
    "## Calculate capacity of shard services"
   ]
  },
  {
   "cell_type": "markdown",
   "id": "d86a791d",
   "metadata": {},
   "source": [
    "## Calculate acceptable latency"
   ]
  },
  {
   "cell_type": "markdown",
   "id": "40b5e30e",
   "metadata": {},
   "source": [
    "## Calculate hardware capability"
   ]
  },
  {
   "cell_type": "markdown",
   "id": "e086ac21",
   "metadata": {},
   "source": [
    "## Calculate scalability requirements"
   ]
  },
  {
   "cell_type": "markdown",
   "id": "69689863",
   "metadata": {},
   "source": [
    "## Elasticity of cloud"
   ]
  },
  {
   "cell_type": "markdown",
   "id": "47db1c7d",
   "metadata": {},
   "source": [
    "## Features that cloud provides"
   ]
  },
  {
   "cell_type": "markdown",
   "id": "49190a77",
   "metadata": {},
   "source": [
    "## User Session \n",
    "- When a website stores user state, the next time the user logs in they can continue from where they left off\n",
    "- It would not feel like that one is starting fresh & all the previous activity is lost"
   ]
  },
  {
   "cell_type": "markdown",
   "id": "9b4dc0eb",
   "metadata": {},
   "source": [
    "## Algorithms \n",
    "### Completeness\n",
    "### Time complexity\n",
    "### Space complexity\n"
   ]
  },
  {
   "cell_type": "markdown",
   "id": "2780da35",
   "metadata": {},
   "source": [
    "## Hypervisor\n",
    "\n",
    "- Hypervisor makes virtualization possible. \n",
    "- It is also called virtual machine monitor. \n",
    "- It divides host system and allocates the resources to each of the divided virtual environment. \n",
    "- there can be multiple operating system in a single host system\n",
    "\n",
    "\n",
    "- Type 1 hypervisor \n",
    "  - native hypervisor\n",
    "  - runs directly on the underlying host system\n",
    "  - it has direct access to host system hardware, so does not require base server operating system\n",
    "- Type 2 hypervisor\n",
    "  - they make use of underlying host operating system\n",
    "  - hosted hypervisor\n"
   ]
  },
  {
   "cell_type": "markdown",
   "id": "f184b562",
   "metadata": {},
   "source": [
    "## Virtualization\n",
    "\n",
    "## Containerization\n",
    "- An application that is developed and deployed is bundled and wrapped together with all its configuration files and dependencies. This is **containerization** and the bundle is called **container**. Examples of containerization environments are Docker and Kubernetes.\n",
    "\n",
    "## Virtualization vs Containerization\n",
    "- Container provide an isolated environment for running the application\n",
    "- the entire user space is explicitly dedicated to application\n",
    "- any changes made inside container is not reflected to the host or other containers running on the same host\n",
    "- container is the abstraction of application layer\n",
    "- each ocntainer is a different application\n",
    "\n",
    "\n",
    "- hypervisor gives the entire virtual machine to the guest which includes the kernel as well\n",
    "- virtual machine is the abstraction of hardware layer and each virtual machine is a physical machine\n"
   ]
  },
  {
   "cell_type": "markdown",
   "id": "1bda504d",
   "metadata": {},
   "source": []
  },
  {
   "cell_type": "markdown",
   "id": "4c0d18b9",
   "metadata": {},
   "source": [
    "## Bare metal deployment\n",
    "### Bare Metal vs. Virtual Machine Deployments\n",
    "- https://www.containiq.com/post/deploying-kubernetes-on-bare-metal"
   ]
  },
  {
   "cell_type": "markdown",
   "id": "23976d72",
   "metadata": {},
   "source": [
    "## TTL\n",
    "- Time to live"
   ]
  },
  {
   "cell_type": "markdown",
   "id": "35a183b7",
   "metadata": {},
   "source": [
    "## TLS/SSL"
   ]
  },
  {
   "cell_type": "markdown",
   "id": "0c6ca3fc",
   "metadata": {},
   "source": [
    "## CA certificate"
   ]
  },
  {
   "cell_type": "markdown",
   "id": "9b85a953",
   "metadata": {},
   "source": [
    "## Public-Private Key"
   ]
  },
  {
   "cell_type": "markdown",
   "id": "2d5d9739",
   "metadata": {},
   "source": []
  },
  {
   "cell_type": "markdown",
   "id": "ee688614",
   "metadata": {},
   "source": []
  },
  {
   "cell_type": "markdown",
   "id": "ca711363",
   "metadata": {},
   "source": []
  },
  {
   "cell_type": "markdown",
   "id": "45833f3d",
   "metadata": {},
   "source": []
  },
  {
   "cell_type": "markdown",
   "id": "71b75f6c",
   "metadata": {},
   "source": []
  }
 ],
 "metadata": {
  "kernelspec": {
   "display_name": "Python 3 (ipykernel)",
   "language": "python",
   "name": "python3"
  },
  "language_info": {
   "codemirror_mode": {
    "name": "ipython",
    "version": 3
   },
   "file_extension": ".py",
   "mimetype": "text/x-python",
   "name": "python",
   "nbconvert_exporter": "python",
   "pygments_lexer": "ipython3",
   "version": "3.8.8"
  },
  "toc": {
   "base_numbering": 1,
   "nav_menu": {},
   "number_sections": true,
   "sideBar": true,
   "skip_h1_title": false,
   "title_cell": "Table of Contents",
   "title_sidebar": "Contents",
   "toc_cell": false,
   "toc_position": {
    "height": "calc(100% - 180px)",
    "left": "10px",
    "top": "150px",
    "width": "371.562px"
   },
   "toc_section_display": true,
   "toc_window_display": true
  }
 },
 "nbformat": 4,
 "nbformat_minor": 5
}
