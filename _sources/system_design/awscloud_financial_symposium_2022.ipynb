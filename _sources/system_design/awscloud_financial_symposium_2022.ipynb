{
 "cells": [
  {
   "cell_type": "markdown",
   "id": "b5eea03f",
   "metadata": {},
   "source": [
    "# AWS - Financial Services Cloud Symposium - 2022\n",
    "\n",
    "## How Nomura built a next-generation time series Metrics-as-a-Service\n",
    "\n",
    "- Andy Coates - Executive Director, Global Head of Infrastructure Development, Nomura\n",
    "- Arnav Khare - Principal Solutions Architect, Global Financial Services, AWS"
   ]
  },
  {
   "cell_type": "markdown",
   "id": "9294a3df",
   "metadata": {},
   "source": [
    "### Serverless analytics on AWS\n",
    "- pillars for AWS analytics \n",
    "- scalable data lakes\n",
    "  - explosion of data cannot be copped up using traditional analytical tools\n",
    "  - AWS provides scalability S3 and Athena\n",
    "- purpose bilt for performance and cost\n",
    "  - reduces overhead\n",
    "- serverless and easy to use\n",
    "  - build use cases rather than managing servers\n",
    "- unified data access, security and governance\n",
    "  - difference between data swamp and data lake\n",
    "  - ability of fine-grained access\n",
    "- built in machine learning\n",
    "  - Sagemaker, RedShift ML and others are directly integrated into data lakes\n",
    "  \n",
    "#### AWS Serverless options for data analytics\n",
    "- AWS Glue \n",
    "  - serverless ETL engine\n",
    "  - allows users to bring code and run in fully managed AWS clusters\n",
    "  - feature of crawler\n",
    "    - scans data on S3 and populates data catalog\n",
    "    - data catalog is integrated with Amazon Athena\n",
    "- Amazon Athena\n",
    "  - serverless SQL engine which can scale to massive volumes of data\n",
    "- Amazon Kinesis and Amazon MSK(Managed Services for Kafka)\n",
    "  - streaming services\n",
    "\n",
    "<p align=\"center\"><img src=\"./images/nomura_serverless_data_analytics.png\"></p>\n",
    "\n",
    "$\\tiny{\\text{AWS Symposium 2022 - Nomura}}$\n",
    "\n",
    "#### Serverless analytics pipeline using Glue and Athena\n",
    "- use Glue to connect to on-prem datasources and query using JDBC/ODBC\n",
    "- inject files using Glue and transfer using AWS DataSync\n",
    "- once data comes in S3 buckets, Glue can be used to cleanse, enrich and transform the data\n",
    "  - then can be consumed in downstream ML or other applications\n",
    "\n",
    "<p align=\"center\"><img src=\"./images/nomura_serverless_pipeline.png\"></p>\n",
    "\n",
    "$\\tiny{\\text{AWS Symposium 2022 - Nomura}}$"
   ]
  },
  {
   "cell_type": "markdown",
   "id": "de67bd5f",
   "metadata": {},
   "source": [
    "### Vision for infrastructure platform at Nomura\n",
    "#### Introduction to Nomura\n",
    "#### In 2010, Vision for the platform\n",
    "- measuring/checks but threw the data away\n",
    "- identify hot-spots in the infrastructure and assist with root-cause analysis\n",
    "- forward looking capacity planning"
   ]
  },
  {
   "cell_type": "markdown",
   "id": "a1c9903f",
   "metadata": {},
   "source": [
    "### Journey and lessons learned\n",
    "#### Overview of platform design\n",
    "- Data collection\n",
    "  - gather data globally from all systems\n",
    "  - metrics baseline\n",
    "- ETL\n",
    "  - standard format\n",
    "- Processing and Analysis\n",
    "  - statistical analysis\n",
    "- Storage\n",
    "- Query and Visualization\n",
    "\n",
    "#### Evolving with infrastructure estate\n",
    "- In 2010 \n",
    "  - focussed on the KPIs of servers only (CPU, memory usage, cores of CPU, network and disk/IO statistics)\n",
    "  - about 8 billion data points every day\n",
    "- In 2015\n",
    "  - focused on both servers and desktop states\n",
    "- In 2022\n",
    "  \n",
    "<p align=\"center\"><img src=\"./images/nomura_infrastructure_evolution.png\"></p>\n",
    "\n",
    "$\\tiny{\\text{AWS Symposium 2022 - Nomura}}$\n",
    "\n",
    "#### Phase 1 - Initial launch of the platform - 2010\n",
    "- load of Java batch job for ETL and processing\n",
    "- SQL to query it, Spring MVC application\n",
    "- KPIs were presented in charts and unified manner, which was very helpful in times of failures especially\n",
    "- added value, so started making predictions\n",
    "\n",
    "<p align=\"center\"><img src=\"./images/nomura_infrastructure_phase1.png\"></p>\n",
    "\n",
    "$\\tiny{\\text{AWS Symposium 2022 - Nomura}}$\n",
    "\n",
    "#### Phase 2 - Evolving to big data - 2015\n",
    "- batch processes were vertically scaling\n",
    "- number of regional jobs were taking more than 8 products\n",
    "- open up the metric platform, open for everyone \"as-a-service\"\n",
    "- realized opening up database resulted in poor architecture/practices around \n",
    "- moved into Hadoop\n",
    "- moved processing into Scala running in Spark\n",
    "- moved from mySQL to time-series OpenTSDB and querying using REST protocol\n",
    "- x22 times improvement\n",
    "\n",
    "<p align=\"center\"><img src=\"./images/nomura_infrastructure_phase2.png\"></p>\n",
    "\n",
    "$\\tiny{\\text{AWS Symposium 2022 - Nomura}}$\n",
    "\n",
    "- opened metric platform as __\"metric-as-a-service\"__\n",
    "\n",
    "<p align=\"center\"><img src=\"./images/nomura_infrastructure_metric-as-a-service.png\"></p>\n",
    "\n",
    "$\\tiny{\\text{AWS Symposium 2022 - Nomura}}$"
   ]
  },
  {
   "cell_type": "markdown",
   "id": "9ac0dbab",
   "metadata": {},
   "source": [
    "### Current architecture on AWS\n",
    "#### Goals for cloud transformation\n",
    "- Hadoop ecosystem were cumbersome to manage\n",
    "- move towards serverless architecture\n",
    "- scaling servers meant to buy and maintain servers\n",
    "- disc failures would lead to backlog of data in the pipelines\n",
    "- opening up as metric-as-a-service made multi-tenancy at storage layer where everything was going through one pipeline\n",
    "  - there was a need to break this out\n",
    "\n",
    "#### Transforming to public cloud - 2022\n",
    "- changes were at the 3 middle layers\n",
    "- moved ETL to Lambda/Python\n",
    "- moved processing/analytics into AWS Glue\n",
    "- moved storage into AWS S3 and Athena\n",
    "\n",
    "<p align=\"center\"><img src=\"./images/nomura_infrastructure_phase3.png\"></p>\n",
    "\n",
    "$\\tiny{\\text{AWS Symposium 2022 - Nomura}}$\n",
    "\n",
    "#### High level logical architecture\n",
    "\n",
    "<p align=\"center\"><img src=\"./images/nomura_infrastructure_high-level-arch.png\"></p>\n",
    "\n",
    "$\\tiny{\\text{AWS Symposium 2022 - Nomura}}$\n",
    "\n",
    "#### Detailed logical pipeline view\n",
    "- In the ETL pipeline\n",
    "  - the first lambda processes bundles of files from data producers\n",
    "    - this is processed and put onto queue\n",
    "  - the second lambda unbundles these files and processes them into chunks of JSONs\n",
    "    - JSONs are then put onto another queue\n",
    "  - the third lambda aggregates them into Parquet files\n",
    "- this triggers the Glue jobs which scales the number of workers based on how much data needs to be processed\n",
    "  - aggegation is done at minute, hour and day level of aggregation -- this dataset is queried using Athena\n",
    "  - Athena is not exposed directly but is done using lambda and loadbalancer in front\n",
    "- infrastructure and application level of data is processed using different pipelines\n",
    "  \n",
    "<p align=\"center\"><img src=\"./images/nomura_infrastructure_detailed-logical-pipeline-arch.png\"></p>\n",
    "\n",
    "$\\tiny{\\text{AWS Symposium 2022 - Nomura}}$\n",
    "\n",
    "#### Thinking differently in cloud\n",
    "- started the journey while migrating to Hadoop\n",
    "  - decomposing the architecture\n",
    "- moving to AWS brought in serverless capability\n",
    "- kept control of how people will query the system\n",
    "  - observability and monitoring how people are querying/behaving is important\n",
    "  - keep control of it\n",
    "  "
   ]
  },
  {
   "cell_type": "markdown",
   "id": "df30c44f",
   "metadata": {},
   "source": [
    "### Future plans\n",
    "- data collection has not changed\n",
    "  - modernization of data collection is next in plan\n",
    "- on-premise infrastructure are leveraging AWS services\n",
    "  - unify the tools of on-premise and cloud data infrastructures management\n",
    "- along with metrics, logs and traces are planned to manage centrally\n",
    "- apply machine learning tools to apply on data stored on S3\n"
   ]
  },
  {
   "cell_type": "markdown",
   "id": "072d3a03",
   "metadata": {},
   "source": [
    "### Q&A\n",
    "- Why are there 3 lambdas in ETL \n",
    "  - looked at Kinesis as alternative and other ways of combining this\n",
    "  - this seemed to be the best for us\n",
    "  - can also be done through step function\n",
    "  - step function works well when there is a complex chain of processes and decision chain of processes\n",
    "  - this was a case of linear \n",
    "- What is the data volume, how are the metrics pulled in, what type of metrics\n",
    "  - 35 billion data point on infrastructure side\n",
    "    - 400,000 datapoint per second\n",
    "  - 2TB of files that arrive in the pipeline\n",
    "    - this translates to 4TB of JSONs \n",
    "    - this translates to 40G of parquet files \n",
    "  - the data is pulled using different mechanism\n",
    "    - infrastructure data is pulled in, \n",
    "    - stored in regional hubs as part of monitoring system responsibility\n",
    "    - this is then fetched in periodically\n",
    "    - these buckets of data are then fetched in\n",
    "    - for non-infrastructure, endpoints are provided \n",
    "      - people push in data\n",
    "- is it custom metrics, cost controls as these things can blow-out\n",
    "  - on-premise service and desktop metrics\n",
    "    - virtualization and group information\n",
    "    - cost control - indirectly\n",
    "      - request each consumer can make\n",
    "      - no usage of select * allowed\n",
    "    - based on query pattern \n",
    "      - change what will be allowed and not\n",
    "- how many dimensions do you have for a metric, does the service scale\n",
    "  - limits on number of dimension\n",
    "  - dont store raw data, only store min, max or other aggregated result\n",
    "    - all have different retention period based on aggregation\n",
    "  - max of 10 per entity\n",
    "- what is SQS used for\n",
    "  - SQS is used before using the Glue job\n",
    "  - used to allow the flow control"
   ]
  },
  {
   "cell_type": "markdown",
   "id": "30439c42",
   "metadata": {},
   "source": [
    "## How three Fintechs are transforming Financial Services with AWS\n",
    "- Chris Ciompi, Head of Marketing, Clarity AI\n",
    "- Adam Healy, CSO, Blockfi\n",
    "- Ali Heron, CTO, Petal\n",
    "- Moderated by Kathryn Van Nuys, Global Head, Fintech Business Development, Startups and Venture Capital, AWS"
   ]
  },
  {
   "cell_type": "markdown",
   "id": "2e53d6dc",
   "metadata": {},
   "source": [
    "## How the Options Clearing Corporation modernized its clearing technology with Ness\n",
    "- Paul Meulbroek - Head of Cloud and Data, Ness Digital Engineering\n",
    "- Amy McCormick - Chief Information Officer, OCC\n",
    "- Dave Hoag - Managing Director, Market Risk and Default Management, OCC"
   ]
  },
  {
   "cell_type": "markdown",
   "id": "ab6db5de",
   "metadata": {},
   "source": [
    "## How Hyland helped Finra to securely manage their most critical applications\n",
    "- Steve Comer, AVP - Financial Services and Insurance, Hyland"
   ]
  },
  {
   "cell_type": "markdown",
   "id": "62cd7f2a",
   "metadata": {},
   "source": [
    "## Building climate resiliency and sustainability into your IT infrastructure\n",
    "- Elias Ghanem, Global Head of Capgemini Research Institute for Financial Services, Capgemini\n",
    "- Ravi Khokhar, Executive Vice President & Head of Cloud at Capgemini Financial Services, Capgemini"
   ]
  },
  {
   "cell_type": "markdown",
   "id": "6cd39621",
   "metadata": {},
   "source": [
    "## The Goldman Sachs Cloud Fast Track: Secure Cloud Deployments at Scale\n",
    "- Ryan McDonough, Vice President, Cloud Enablement, Goldman Sachs\n",
    "- Shubham Shukla, Vice President, Cloud Enablement, Goldman Sachs"
   ]
  },
  {
   "cell_type": "markdown",
   "id": "b5b7de37",
   "metadata": {},
   "source": [
    "## Santander's journey to achieving security at-scale on AWS\n",
    "- Jorge Álvarez Fernández, Global Head of Public Cloud Architecture, Santander\n",
    "- Luis Enríquez, Group VP, CTO for Cloud, Infrastructure & Automation, Santander"
   ]
  },
  {
   "cell_type": "markdown",
   "id": "a1790b0a",
   "metadata": {},
   "source": [
    "## How USAA built a paved road with guardrails\n",
    "- Gerum Haile, VP, Chief Architect and Technical Fellow, USAA"
   ]
  },
  {
   "cell_type": "markdown",
   "id": "6602c21e",
   "metadata": {},
   "source": [
    "## Shift record retention from obligation to advantage with AWS\n",
    "- Russell Lewis, Financial Services Compliance Specialist, AWS\n",
    "- Alket Memushaj, Principal Solutions Architect, Capital Markets, AWS"
   ]
  },
  {
   "cell_type": "markdown",
   "id": "792253b7",
   "metadata": {},
   "source": [
    "## Transform cross-border payments compliance with AWS\n",
    "- Gloria Vargas, Account Manager, Global Financial Services, AWS\n"
   ]
  },
  {
   "cell_type": "markdown",
   "id": "8b54a4a1",
   "metadata": {},
   "source": [
    "## How Fidelity asset management’s equity trading platform migrated all-in to AWS\n",
    "- John Kerin, Head of Engineering, Asset Management - Equity Technology, Fidelity\n",
    "- Girish Maraliga, SVP, Head of Architecture & Platforms, Fidelity"
   ]
  },
  {
   "cell_type": "markdown",
   "id": "79c1d1a3",
   "metadata": {},
   "source": [
    "## How Fannie Mae is modernizing its technology, people, and processes with AWS\n",
    "- Arif Sattar, Senior Director, Enterprise Cloud Migration, Fannie Mae\n",
    "\n"
   ]
  },
  {
   "cell_type": "markdown",
   "id": "6e4131c3",
   "metadata": {},
   "source": [
    "## Mastercard’s journey from on premises to an ML-enables SaaS solution for fraud detection\n",
    "- Manu Thapar, CTO, Mastercard, AI, Security and Fraud Products\n",
    "\n"
   ]
  },
  {
   "cell_type": "markdown",
   "id": "346e0122",
   "metadata": {},
   "source": [
    "## How business transformation is driving mainframe modernization in Financial Services\n",
    "- Steve Steuart, Global Head of Mainframe Migration and Modernization, AWS\n",
    "\n"
   ]
  },
  {
   "cell_type": "markdown",
   "id": "b5072268",
   "metadata": {},
   "source": [
    "## Unlock business value with document processing ML pipelines\n",
    "- Mojgan Ahmadi, Principal Solutions Architect - Financial Services, AWS\n",
    "- David Kheyman, Senior Solutions Architect - Financial Services, AWS"
   ]
  },
  {
   "cell_type": "markdown",
   "id": "91c26955",
   "metadata": {},
   "source": [
    "## Truist digital straddle: A customer-first approach to merger integration\n",
    "- Ken Meyer, EVP & CIO, Experience and Innovation, Truist\n",
    "\n"
   ]
  },
  {
   "cell_type": "markdown",
   "id": "5d9d6493",
   "metadata": {},
   "source": [
    "## How Prudential’s data platform drives inclusive innovation at scale\n",
    "- Shihas Vamanjoor, Vice President, Enterprise Data Platforms, Prudential\n",
    "- Prasanna Sridharan, Senior Data & Analytics Architect, AWS"
   ]
  },
  {
   "cell_type": "markdown",
   "id": "6a44ec46",
   "metadata": {},
   "source": [
    "## How Liberty Mutual empowers developers to drive Innovation\n",
    "- Matt Coulter, Senior Architect, Liberty Mutual\n",
    "\n"
   ]
  },
  {
   "cell_type": "markdown",
   "id": "3a6e41a0",
   "metadata": {},
   "source": [
    "## How The Clearing House creates frictionless experiences for their bank customers\n",
    "- Elena Whisler, VP, Relationship Management and Sales, The Clearing House\n",
    "\n"
   ]
  },
  {
   "cell_type": "markdown",
   "id": "b8568f70",
   "metadata": {},
   "source": [
    "## Leveraging AWS AI/ML to support the customer experience for financial institutions\n",
    "- Alvin Huang, Business Development, AWS\n",
    "\n"
   ]
  },
  {
   "cell_type": "markdown",
   "id": "b0ed9bbd",
   "metadata": {},
   "source": [
    "## How Global Payments accelerates innovation on AWS\n",
    "- Scott Carter, CTO, Global Payments\n",
    "- Raghu Ram Bongula, SVP Engineering, Global Payments"
   ]
  },
  {
   "cell_type": "markdown",
   "id": "e91ae0f0",
   "metadata": {},
   "source": [
    "## How JPMC modernized its hedging and risk management platform\n",
    "- Paul Bauerschmidt, Managing Director, JPMorgan Chase\n",
    "\n"
   ]
  },
  {
   "cell_type": "markdown",
   "id": "b023c8b1",
   "metadata": {},
   "source": [
    "## How Vanguard sped up its internal approval process for using AWS services\n",
    "- Michael Bakay, IT Project Manager, Vanguard Cloud Platforms, Vanguard\n",
    "- Rebecca Sundheim, Head of Developer Experience, Vanguard Cloud Enablement, Vanguard"
   ]
  },
  {
   "cell_type": "markdown",
   "id": "e1b46e8f",
   "metadata": {},
   "source": [
    "## How Munich Re built an insurance-focused IoT solution on AWS\n",
    "- Lewis Wight, CTO, Meshify HSB (Munich Re Group)\n"
   ]
  }
 ],
 "metadata": {
  "kernelspec": {
   "display_name": "Python 3 (ipykernel)",
   "language": "python",
   "name": "python3"
  },
  "language_info": {
   "codemirror_mode": {
    "name": "ipython",
    "version": 3
   },
   "file_extension": ".py",
   "mimetype": "text/x-python",
   "name": "python",
   "nbconvert_exporter": "python",
   "pygments_lexer": "ipython3",
   "version": "3.8.8"
  },
  "toc": {
   "base_numbering": 1,
   "nav_menu": {},
   "number_sections": true,
   "sideBar": true,
   "skip_h1_title": false,
   "title_cell": "Table of Contents",
   "title_sidebar": "Contents",
   "toc_cell": false,
   "toc_position": {},
   "toc_section_display": true,
   "toc_window_display": false
  }
 },
 "nbformat": 4,
 "nbformat_minor": 5
}
