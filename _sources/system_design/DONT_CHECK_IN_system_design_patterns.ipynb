{
 "cells": [
  {
   "cell_type": "markdown",
   "id": "78a53e6d",
   "metadata": {},
   "source": [
    "### Data Lake Strategy via Data Mesh\n",
    "\n",
    "- youtube.com/watch?v=7iazNKG8XQo\n",
    "\n",
    "- https://www.youtube.com/channel/UC3bSfMzhHjeX_tFdte1esgQ/playlists\n",
    "\n",
    "- https://www.datamesh-architecture.com/\n",
    "\n",
    "- https://services.google.com/fh/files/misc/build-a-modern-distributed-datamesh-with-google-cloud-whitepaper.pdf\n",
    "\n",
    "### ESB driven SOA\n",
    "\n",
    "- The Hard Parts by Neal Ford\n",
    "- https://www.youtube.com/watch?v=v55IV8IhwKM\n",
    "\n"
   ]
  }
 ],
 "metadata": {
  "kernelspec": {
   "display_name": "Python 3 (ipykernel)",
   "language": "python",
   "name": "python3"
  },
  "language_info": {
   "codemirror_mode": {
    "name": "ipython",
    "version": 3
   },
   "file_extension": ".py",
   "mimetype": "text/x-python",
   "name": "python",
   "nbconvert_exporter": "python",
   "pygments_lexer": "ipython3",
   "version": "3.8.8"
  },
  "toc": {
   "base_numbering": 1,
   "nav_menu": {},
   "number_sections": true,
   "sideBar": true,
   "skip_h1_title": false,
   "title_cell": "Table of Contents",
   "title_sidebar": "Contents",
   "toc_cell": false,
   "toc_position": {},
   "toc_section_display": true,
   "toc_window_display": false
  }
 },
 "nbformat": 4,
 "nbformat_minor": 5
}
