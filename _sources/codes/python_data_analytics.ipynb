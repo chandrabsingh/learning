{
 "cells": [
  {
   "cell_type": "markdown",
   "id": "3e041d90",
   "metadata": {},
   "source": [
    "# Python Data Analytics - FAQs\n",
    "\n",
    "## numpy"
   ]
  },
  {
   "cell_type": "code",
   "execution_count": 102,
   "id": "a2618229",
   "metadata": {},
   "outputs": [],
   "source": [
    "import numpy as np"
   ]
  },
  {
   "cell_type": "markdown",
   "id": "67b3e941",
   "metadata": {},
   "source": [
    "### Create array of particular datatype"
   ]
  },
  {
   "cell_type": "code",
   "execution_count": 103,
   "id": "7e1822b3",
   "metadata": {},
   "outputs": [
    {
     "name": "stdout",
     "output_type": "stream",
     "text": [
      "[1. 2. 3.]\n",
      "array([1., 2., 3.])\n"
     ]
    }
   ],
   "source": [
    "arr = np.array([1,2,3], dtype=float)\n",
    "print(arr)\n",
    "print(repr(arr))"
   ]
  },
  {
   "cell_type": "code",
   "execution_count": 104,
   "id": "d2ce15bf",
   "metadata": {},
   "outputs": [
    {
     "name": "stdout",
     "output_type": "stream",
     "text": [
      "array([1., 2., 3.], dtype=float32)\n",
      "float32\n"
     ]
    }
   ],
   "source": [
    "arr = np.array([1,2,3], dtype=np.float32) \n",
    "print(repr(arr))\n",
    "print(arr.dtype)"
   ]
  },
  {
   "cell_type": "markdown",
   "id": "4754ddef",
   "metadata": {},
   "source": [
    "### Default Upcasting"
   ]
  },
  {
   "cell_type": "code",
   "execution_count": 105,
   "id": "d344fbfb",
   "metadata": {},
   "outputs": [
    {
     "name": "stdout",
     "output_type": "stream",
     "text": [
      "array([1. , 2.1, 3. ])\n",
      "float64\n"
     ]
    }
   ],
   "source": [
    "arr = np.array([1,2.1,3]) # Upcasting\n",
    "print(repr(arr))\n",
    "print(arr.dtype)"
   ]
  },
  {
   "cell_type": "markdown",
   "id": "d52ceed0",
   "metadata": {},
   "source": [
    "### Create with nan/inf"
   ]
  },
  {
   "cell_type": "code",
   "execution_count": 106,
   "id": "14491373",
   "metadata": {},
   "outputs": [
    {
     "name": "stdout",
     "output_type": "stream",
     "text": [
      "array([nan,  1.,  2.])\n",
      "array(['nan', 'abc'], dtype='<U32')\n"
     ]
    }
   ],
   "source": [
    "arr = np.array([np.nan, 1, 2]) \n",
    "print(repr(arr))\n",
    "arr = np.array([np.nan, 'abc'])\n",
    "print(repr(arr))"
   ]
  },
  {
   "cell_type": "code",
   "execution_count": 107,
   "id": "8fee5e2b",
   "metadata": {},
   "outputs": [
    {
     "name": "stdout",
     "output_type": "stream",
     "text": [
      "array([inf,  1.,  2.])\n",
      "array([-inf,   1.,   2.])\n",
      "array(['inf', 'abc'], dtype='<U32')\n"
     ]
    }
   ],
   "source": [
    "arr = np.array([np.inf, 1, 2])\n",
    "print(repr(arr))\n",
    "arr = np.array([-np.inf, 1, 2])\n",
    "print(repr(arr))\n",
    "arr = np.array([np.inf, 'abc'])\n",
    "print(repr(arr))"
   ]
  },
  {
   "cell_type": "code",
   "execution_count": 108,
   "id": "578d5427",
   "metadata": {},
   "outputs": [
    {
     "data": {
      "text/plain": [
       "array([inf,  3.], dtype=float32)"
      ]
     },
     "execution_count": 108,
     "metadata": {},
     "output_type": "execute_result"
    }
   ],
   "source": [
    "# Will result in a OverflowError: If we uncomment line below and run again.\n",
    "# np.array([np.inf, 3], dtype=np.int32)\n",
    "np.array([np.inf, 3], dtype=np.float32)\n"
   ]
  },
  {
   "cell_type": "code",
   "execution_count": 109,
   "id": "65e461ed",
   "metadata": {},
   "outputs": [
    {
     "name": "stdout",
     "output_type": "stream",
     "text": [
      "array([nan,  2.,  3.,  4.,  5.])\n",
      "array([10.,  2.,  3.,  4.,  5.])\n"
     ]
    }
   ],
   "source": [
    "arr = [np.nan]\n",
    "arr.extend([n for n in range(2,6)])\n",
    "arr = np.array(arr)\n",
    "print(repr(arr))\n",
    "arr2 = arr.copy()\n",
    "arr2[0] = 10\n",
    "print(repr(arr2))"
   ]
  },
  {
   "cell_type": "markdown",
   "id": "e391fa5e",
   "metadata": {},
   "source": [
    "### Casting"
   ]
  },
  {
   "cell_type": "code",
   "execution_count": 110,
   "id": "1769bafb",
   "metadata": {},
   "outputs": [
    {
     "name": "stdout",
     "output_type": "stream",
     "text": [
      "int16\n",
      "array([1, 5, 3], dtype=int16)\n",
      "float32\n",
      "array([1., 5., 3.], dtype=float32)\n",
      "float64\n",
      "array([1., 5., 3.])\n"
     ]
    }
   ],
   "source": [
    "int_arr = np.array([1,5,3], dtype=np.int16)\n",
    "print(int_arr.dtype)\n",
    "print(repr(int_arr))\n",
    "float_arr2 = int_arr.astype(np.float32)\n",
    "print(float_arr2.dtype)\n",
    "print(repr(float_arr2))\n",
    "float_arr2 = int_arr.astype(np.float64)\n",
    "print(float_arr2.dtype)\n",
    "print(repr(float_arr2))"
   ]
  },
  {
   "cell_type": "code",
   "execution_count": 111,
   "id": "d545f408",
   "metadata": {},
   "outputs": [
    {
     "name": "stdout",
     "output_type": "stream",
     "text": [
      "array([[1., 2., 3.],\n",
      "       [4., 5., 6.]], dtype=float32)\n"
     ]
    }
   ],
   "source": [
    "float_arr = np.array([1,5.4,3])\n",
    "float_arr2 = arr2.astype(np.float32)\n",
    "matrix = np.array([[1,2,3],[4,5,6]], dtype=np.float32)\n",
    "print(repr(matrix))"
   ]
  },
  {
   "cell_type": "markdown",
   "id": "b6f61f65",
   "metadata": {},
   "source": [
    "### Ranged data using arange\n"
   ]
  },
  {
   "cell_type": "code",
   "execution_count": 112,
   "id": "874e161f",
   "metadata": {},
   "outputs": [
    {
     "name": "stdout",
     "output_type": "stream",
     "text": [
      "array([0, 1, 2, 3, 4])\n",
      "array([0., 1., 2., 3., 4.])\n",
      "array([-1,  0,  1,  2,  3])\n",
      "array([-1.5,  0.5,  2.5])\n"
     ]
    }
   ],
   "source": [
    "arr = np.arange(5)\n",
    "print(repr(arr))\n",
    "arr = np.arange(4.9)\n",
    "print(repr(arr))\n",
    "arr = np.arange(-1,4)\n",
    "print(repr(arr))\n",
    "arr = np.arange(-1.5, 4, 2) # step size of 2, in the range [m,n)\n",
    "print(repr(arr))"
   ]
  },
  {
   "cell_type": "markdown",
   "id": "3c0c9e8e",
   "metadata": {},
   "source": [
    "### Ranged data using linspace\n"
   ]
  },
  {
   "cell_type": "code",
   "execution_count": 113,
   "id": "70723ee6",
   "metadata": {},
   "outputs": [
    {
     "name": "stdout",
     "output_type": "stream",
     "text": [
      "array([ 5.,  7.,  9., 11.])\n",
      "array([ 5.        ,  7.33333333,  9.66666667, 12.        ])\n",
      "array([5. , 6.5, 8. , 9.5])\n",
      "array([ 5,  7,  9, 11], dtype=int32)\n",
      "array([-3.5 , -3.45, -3.4 , -3.35, -3.3 , -3.25, -3.2 , -3.15, -3.1 ,\n",
      "       -3.05, -3.  , -2.95, -2.9 , -2.85, -2.8 , -2.75, -2.7 , -2.65,\n",
      "       -2.6 , -2.55, -2.5 , -2.45, -2.4 , -2.35, -2.3 , -2.25, -2.2 ,\n",
      "       -2.15, -2.1 , -2.05, -2.  , -1.95, -1.9 , -1.85, -1.8 , -1.75,\n",
      "       -1.7 , -1.65, -1.6 , -1.55, -1.5 , -1.45, -1.4 , -1.35, -1.3 ,\n",
      "       -1.25, -1.2 , -1.15, -1.1 , -1.05, -1.  , -0.95, -0.9 , -0.85,\n",
      "       -0.8 , -0.75, -0.7 , -0.65, -0.6 , -0.55, -0.5 , -0.45, -0.4 ,\n",
      "       -0.35, -0.3 , -0.25, -0.2 , -0.15, -0.1 , -0.05,  0.  ,  0.05,\n",
      "        0.1 ,  0.15,  0.2 ,  0.25,  0.3 ,  0.35,  0.4 ,  0.45,  0.5 ,\n",
      "        0.55,  0.6 ,  0.65,  0.7 ,  0.75,  0.8 ,  0.85,  0.9 ,  0.95,\n",
      "        1.  ,  1.05,  1.1 ,  1.15,  1.2 ,  1.25,  1.3 ,  1.35,  1.4 ,\n",
      "        1.45,  1.5 ])\n"
     ]
    }
   ],
   "source": [
    "arr = np.linspace(5, 11, 4)\n",
    "print(repr(arr))\n",
    "arr = np.linspace(5, 12, 4)\n",
    "print(repr(arr))\n",
    "arr = np.linspace(5, 11, num=4, endpoint = False)\n",
    "print(repr(arr))\n",
    "arr = np.linspace(5, 11, num=4, dtype=np.int32)\n",
    "print(repr(arr))\n",
    "#101 evenly spaced numbers, Since they are evenly spaced, the difference between adjacent numbers is 0.05\n",
    "arr = np.linspace(-3.5, 1.5, num=101)\n",
    "print(repr(arr))"
   ]
  },
  {
   "cell_type": "markdown",
   "id": "28c9981d",
   "metadata": {},
   "source": [
    "### Reshaping data\n"
   ]
  },
  {
   "cell_type": "code",
   "execution_count": 114,
   "id": "9cb46c4f",
   "metadata": {},
   "outputs": [
    {
     "name": "stdout",
     "output_type": "stream",
     "text": [
      "array([[0, 1, 2, 3],\n",
      "       [4, 5, 6, 7]])\n",
      "New shape=(2, 4)\n",
      "\n",
      "array([[[0, 1],\n",
      "        [2, 3]],\n",
      "\n",
      "       [[4, 5],\n",
      "        [6, 7]]])\n",
      "New shape=(2, 2, 2)\n",
      "\n",
      "array([[[0, 1],\n",
      "        [2, 3]],\n",
      "\n",
      "       [[4, 5],\n",
      "        [6, 7]]])\n",
      "New shape=(2, 2, 2)\n",
      "\n"
     ]
    }
   ],
   "source": [
    "arr = np.arange(8)\n",
    "reshaped_arr = np.reshape(arr, (2,4))\n",
    "print(repr(reshaped_arr))\n",
    "print(f'New shape={reshaped_arr.shape}\\n')\n",
    "\n",
    "reshaped_arr = np.reshape(arr, (2,2,2))\n",
    "print(repr(reshaped_arr))\n",
    "print(f'New shape={reshaped_arr.shape}\\n')\n",
    "\n",
    "# special value of -1 is allowed in at most one dimension of the new shape. \n",
    "# This will take value necessary to allow the new shape to contain all elements\n",
    "reshaped_arr = np.reshape(arr, (-1,2,2))\n",
    "print(repr(reshaped_arr))\n",
    "print(f'New shape={reshaped_arr.shape}\\n')\n"
   ]
  },
  {
   "cell_type": "markdown",
   "id": "175e98c8",
   "metadata": {},
   "source": [
    "### Flatten shape\n"
   ]
  },
  {
   "cell_type": "code",
   "execution_count": 115,
   "id": "c57cd0ea",
   "metadata": {},
   "outputs": [
    {
     "name": "stdout",
     "output_type": "stream",
     "text": [
      "array([[0, 1, 2, 3],\n",
      "       [4, 5, 6, 7]])\n",
      "New shape=(2, 4)\n",
      "array([0, 1, 2, 3, 4, 5, 6, 7])\n",
      "New shape=(8,)\n"
     ]
    }
   ],
   "source": [
    "arr = np.arange(8)\n",
    "arr = np.reshape(arr, (2,4))\n",
    "print(repr(arr))\n",
    "print(f'New shape={arr.shape}')\n",
    "arr = arr.flatten()\n",
    "print(repr(arr))\n",
    "print(f'New shape={arr.shape}')"
   ]
  },
  {
   "cell_type": "markdown",
   "id": "05798e46",
   "metadata": {},
   "source": [
    "### Transposing\n"
   ]
  },
  {
   "cell_type": "code",
   "execution_count": 116,
   "id": "e93325fa",
   "metadata": {},
   "outputs": [
    {
     "name": "stdout",
     "output_type": "stream",
     "text": [
      "array([[0, 4],\n",
      "       [1, 5],\n",
      "       [2, 6],\n",
      "       [3, 7]])\n",
      "New shape=(4, 2)\n"
     ]
    }
   ],
   "source": [
    "arr = np.arange(8)\n",
    "arr = np.reshape(arr, (2,4))\n",
    "arr = np.transpose(arr)\n",
    "print(repr(arr))\n",
    "print(f'New shape={arr.shape}')"
   ]
  },
  {
   "cell_type": "code",
   "execution_count": 117,
   "id": "8782f10d",
   "metadata": {},
   "outputs": [
    {
     "name": "stdout",
     "output_type": "stream",
     "text": [
      "New shape=(3, 4, 2)\n",
      "New shape=(4, 2, 3)\n"
     ]
    }
   ],
   "source": [
    "arr = np.arange(24)\n",
    "arr = np.reshape(arr, (3,4,2))\n",
    "print(f'New shape={arr.shape}')\n",
    "\n",
    "# Index1(val=4) of old array gets reassigned as Index0 of new array, \n",
    "# Index2(val=2) of old array gets reassigned as Index1 of new array, \n",
    "# Index0(val=3) of old array gets reassigned as Index2 of new array, \n",
    "arr = np.transpose(arr, axes=(1,2,0)) \n",
    "print(f'New shape={arr.shape}')"
   ]
  },
  {
   "cell_type": "markdown",
   "id": "f615aa79",
   "metadata": {},
   "source": [
    "### Zeros and Ones\n"
   ]
  },
  {
   "cell_type": "code",
   "execution_count": 118,
   "id": "28a2be86",
   "metadata": {},
   "outputs": [
    {
     "name": "stdout",
     "output_type": "stream",
     "text": [
      "array([0., 0., 0., 0.])\n",
      "array([[1., 1., 1.],\n",
      "       [1., 1., 1.]])\n",
      "float64\n",
      "array([[1, 1, 1],\n",
      "       [1, 1, 1]], dtype=int32)\n",
      "int32\n"
     ]
    }
   ],
   "source": [
    "arr = np.zeros(4)\n",
    "print(repr(arr))\n",
    "\n",
    "arr = np.ones((2,3))\n",
    "print(repr(arr))\n",
    "print(arr.dtype)\n",
    "\n",
    "arr = np.ones((2,3), dtype=np.int32)\n",
    "print(repr(arr))\n",
    "print(arr.dtype)"
   ]
  },
  {
   "cell_type": "code",
   "execution_count": 119,
   "id": "11f4df79",
   "metadata": {},
   "outputs": [
    {
     "name": "stdout",
     "output_type": "stream",
     "text": [
      "array([[0, 0],\n",
      "       [0, 0]])\n",
      "array([[1, 1],\n",
      "       [1, 1]])\n",
      "array([[1, 1],\n",
      "       [1, 1]], dtype=int32)\n"
     ]
    }
   ],
   "source": [
    "arr = np.array([[1,2], [3,4]])\n",
    "print(repr(np.zeros_like(arr)))\n",
    "print(repr(np.ones_like(arr)))\n",
    "print(repr(np.ones_like(arr, dtype=np.int32)))"
   ]
  },
  {
   "cell_type": "markdown",
   "id": "6dc69e14",
   "metadata": {},
   "source": [
    "### Arithmetic operations\n"
   ]
  },
  {
   "cell_type": "code",
   "execution_count": 120,
   "id": "afa2e7ee",
   "metadata": {},
   "outputs": [
    {
     "name": "stdout",
     "output_type": "stream",
     "text": [
      "Sum=array([[2, 3],\n",
      "       [4, 5]])\n",
      "Sub=array([[-0.1,  0.9],\n",
      "       [ 1.9,  2.9]])\n",
      "Mul=array([[2, 4],\n",
      "       [6, 8]])\n",
      "Div=array([[0.5, 1. ],\n",
      "       [1.5, 2. ]])\n",
      "Div and round to int=array([[0, 1],\n",
      "       [1, 2]])\n",
      "Pow2=array([[ 1,  4],\n",
      "       [ 9, 16]])\n",
      "SqrRt=array([[1.        , 1.41421356],\n",
      "       [1.73205081, 2.        ]])\n"
     ]
    }
   ],
   "source": [
    "arr = np.array([[1,2],[3,4]])\n",
    "print(f'Sum={repr(arr + 1)}')\n",
    "print(f'Sub={repr(arr - 1.1)}')\n",
    "print(f'Mul={repr(arr * 2)}')\n",
    "print(f'Div={repr(arr / 2)}')\n",
    "print(f'Div and round to int={repr(arr // 2)}')\n",
    "print(f'Pow2={repr(arr ** 2)}')\n",
    "print(f'SqrRt={repr(arr ** 0.5)}')"
   ]
  },
  {
   "cell_type": "markdown",
   "id": "4f3a01e1",
   "metadata": {},
   "source": [
    "### Non-linear functions\n"
   ]
  },
  {
   "cell_type": "code",
   "execution_count": 121,
   "id": "04482cf5",
   "metadata": {},
   "outputs": [
    {
     "name": "stdout",
     "output_type": "stream",
     "text": [
      "array([[ 2.71828183,  7.3890561 ],\n",
      "       [20.08553692, 54.59815003]])\n",
      "array([[ 2.,  4.],\n",
      "       [ 8., 16.]])\n",
      "array([[0.        , 2.30258509],\n",
      "       [1.        , 1.14472989]])\n",
      "array([[0.        , 1.        ],\n",
      "       [0.43429448, 0.49714987]])\n"
     ]
    }
   ],
   "source": [
    "arr = np.array([[1,2],[3,4]])\n",
    "print(repr(np.exp(arr))) # e^element\n",
    "print(repr(np.exp2(arr))) # 2^element\n",
    "arr2 = np.array([[1,10], [np.e,np.pi]])\n",
    "print(repr(np.log(arr2)))\n",
    "print(repr(np.log10(arr2)))\n",
    "# help(np.exp2)"
   ]
  },
  {
   "cell_type": "code",
   "execution_count": 122,
   "id": "3406a4af",
   "metadata": {},
   "outputs": [
    {
     "name": "stdout",
     "output_type": "stream",
     "text": [
      "array([[ 3,  9],\n",
      "       [27, 81]])\n",
      "array([[ 10.2,  16. ],\n",
      "       [ 27. , 625. ]])\n"
     ]
    }
   ],
   "source": [
    "arr = np.array([[1,2],[3,4]])\n",
    "print(repr(np.power(3, arr)))\n",
    "arr2 = np.array([[10.2, 4], [3,5]])\n",
    "print(repr(np.power(arr2, arr))) # element-wise power"
   ]
  },
  {
   "cell_type": "markdown",
   "id": "6188db9a",
   "metadata": {},
   "source": [
    "### Dot product\n"
   ]
  },
  {
   "cell_type": "code",
   "execution_count": 123,
   "id": "3c6d9871",
   "metadata": {},
   "outputs": [
    {
     "name": "stdout",
     "output_type": "stream",
     "text": [
      "2\n",
      "[[ 5 10 10]\n",
      " [ 9 20 22]\n",
      " [13 30 34]]\n",
      "[[ 9 10]\n",
      " [38 50]]\n"
     ]
    }
   ],
   "source": [
    "arr = np.array([1,2,3])\n",
    "arr2 = np.array([-4,0,2])\n",
    "print(np.matmul(arr, arr2)) \n",
    "\n",
    "arr3 = np.array([[1,2], [3,4], [5,6]])\n",
    "arr4 = np.array([[-1,0,2], [3,5,4]])\n",
    "print(np.matmul(arr3, arr4)) #3x2, 2x3 = 3,3\n",
    "print(np.matmul(arr4, arr3)) #2x3, 3x2 = 2,2\n",
    "# print(np.matmul(arr3, arr3)) #3x2, #3x2 = Error"
   ]
  },
  {
   "cell_type": "markdown",
   "id": "d53209d7",
   "metadata": {},
   "source": [
    "### Random integers\n"
   ]
  },
  {
   "cell_type": "code",
   "execution_count": 124,
   "id": "a141a3d6",
   "metadata": {},
   "outputs": [
    {
     "name": "stdout",
     "output_type": "stream",
     "text": [
      "3\n",
      "4\n",
      "[[13  5]\n",
      " [ 2 -2]]\n"
     ]
    }
   ],
   "source": [
    "print(np.random.randint(5)) # Range=[0,5)\n",
    "print(np.random.randint(3, high=6)) # Range=[3,6)\n",
    "print(np.random.randint(-3, high=14, size=(2,2))) # Range=[-3,14)"
   ]
  },
  {
   "cell_type": "markdown",
   "id": "3d7ab1a8",
   "metadata": {},
   "source": [
    "### Random - Utility functions\n"
   ]
  },
  {
   "cell_type": "code",
   "execution_count": 125,
   "id": "f732b1c9",
   "metadata": {},
   "outputs": [
    {
     "name": "stdout",
     "output_type": "stream",
     "text": [
      "5\n",
      "array([[15, 75],\n",
      "       [12, 78]])\n",
      "\n",
      "8\n",
      "array([[18, 75],\n",
      "       [25, 46]])\n",
      "\n",
      "5\n",
      "array([[15, 75],\n",
      "       [12, 78]])\n"
     ]
    }
   ],
   "source": [
    "np.random.seed(1)\n",
    "print(np.random.randint(10))\n",
    "random_arr = np.random.randint(3,high=100, size=(2,2))\n",
    "print(repr(random_arr))\n",
    "print('')\n",
    "\n",
    "# New seed\n",
    "np.random.seed(2)\n",
    "print(np.random.randint(10))\n",
    "random_arr = np.random.randint(3,high=100, size=(2,2))\n",
    "print(repr(random_arr))\n",
    "print('')\n",
    "\n",
    "# Original seed\n",
    "np.random.seed(1)\n",
    "print(np.random.randint(10))\n",
    "random_arr = np.random.randint(3,high=100, size=(2,2))\n",
    "print(repr(random_arr))\n"
   ]
  },
  {
   "cell_type": "markdown",
   "id": "5b586a7b",
   "metadata": {},
   "source": [
    "### Random - Distributions\n"
   ]
  },
  {
   "cell_type": "code",
   "execution_count": 126,
   "id": "0648734f",
   "metadata": {},
   "outputs": [
    {
     "name": "stdout",
     "output_type": "stream",
     "text": [
      "['BitGenerator', 'Generator', 'MT19937', 'PCG64', 'Philox', 'RandomState', 'SFC64', 'SeedSequence', 'beta', 'binomial', 'bit_generator', 'bytes', 'chisquare', 'choice', 'default_rng', 'dirichlet', 'exponential', 'f', 'gamma', 'geometric', 'get_state', 'gumbel', 'hypergeometric', 'laplace', 'logistic', 'lognormal', 'logseries', 'mtrand', 'multinomial', 'multivariate_normal', 'negative_binomial', 'noncentral_chisquare', 'noncentral_f', 'normal', 'pareto', 'permutation', 'poisson', 'power', 'rand', 'randint', 'randn', 'random', 'random_integers', 'random_sample', 'ranf', 'rayleigh', 'sample', 'seed', 'set_state', 'shuffle', 'standard_cauchy', 'standard_exponential', 'standard_gamma', 'standard_normal', 'standard_t', 'test', 'triangular', 'uniform', 'vonmises', 'wald', 'weibull', 'zipf']\n"
     ]
    }
   ],
   "source": [
    "print([n for n in dir(np.random) if not(n.startswith('_'))],sep='')\n",
    "\n"
   ]
  },
  {
   "cell_type": "code",
   "execution_count": 127,
   "id": "26e7f604",
   "metadata": {},
   "outputs": [
    {
     "name": "stdout",
     "output_type": "stream",
     "text": [
      "0.9990405153241447\n",
      "1.6652622838663833\n",
      "1.7776065091072184\n",
      "[0.38791074 0.66974604 0.93553907]\n",
      "[[2.09241764 1.71929146]\n",
      " [1.86718371 1.81041703]]\n"
     ]
    }
   ],
   "source": [
    "print(np.random.uniform())\n",
    "print(np.random.uniform(1.5, 2.2))\n",
    "print(np.random.uniform(low=1.5, high=2.2))\n",
    "print(np.random.uniform(size=3))\n",
    "print(np.random.uniform(low=1.5, high=2.2, size=(2,2)))"
   ]
  },
  {
   "cell_type": "code",
   "execution_count": 128,
   "id": "9f1402e6",
   "metadata": {},
   "outputs": [
    {
     "data": {
      "image/png": "[encoded data removed]",
      "text/plain": [
       "<Figure size 432x288 with 1 Axes>"
      ]
     },
     "metadata": {
      "needs_background": "light"
     },
     "output_type": "display_data"
    }
   ],
   "source": [
    "import scipy.stats as st\n",
    "import matplotlib.pyplot as plt\n",
    "\n",
    "arr = np.random.uniform(3.5, 5, size=10000)\n",
    "plt.hist(arr, density=True, bins=100, label=\"Data\") # density=False would make counts\n",
    "\n",
    "# density : bool, default: False\n",
    "#         If ``True``, draw and return a probability density: each bin\n",
    "#         will display the bin's raw count divided by the total number of\n",
    "#         counts *and the bin width*\n",
    "#         (``density = counts / (sum(counts) * np.diff(bins))``),\n",
    "#         so that the area under the histogram integrates to 1\n",
    "#         (``np.sum(density * np.diff(bins)) == 1``).\n",
    "        \n",
    "mn, mx = plt.xlim()\n",
    "plt.xlim(mn, mx)\n",
    "kde_xs = np.linspace(mn, mx, 300)\n",
    "kde = st.gaussian_kde(arr)\n",
    "plt.plot(kde_xs, kde.pdf(kde_xs), label=\"PDF\")\n",
    "plt.legend(loc=\"upper left\")\n",
    "plt.ylabel(\"Probability\")\n",
    "plt.xlabel(\"Data\")\n",
    "plt.title(\"Histogram\"); # \";\" Removes the output\n",
    "plt.plot();\n",
    "# plt.savefig('./images/plt_uniform.png')\n",
    "# plt.close()"
   ]
  },
  {
   "cell_type": "code",
   "execution_count": 129,
   "id": "aecea047",
   "metadata": {},
   "outputs": [
    {
     "name": "stdout",
     "output_type": "stream",
     "text": [
      "1.1287250319016267\n",
      "3.126691004242508\n",
      "[[ 9.66591032  1.25436201]\n",
      " [ 0.04591234 -0.34528494]]\n"
     ]
    }
   ],
   "source": [
    "print(np.random.normal())\n",
    "print(np.random.normal(loc=1.5, scale=3.5))\n",
    "print(np.random.normal(loc=1.5, scale=3.5, size=(2,2)))"
   ]
  },
  {
   "cell_type": "code",
   "execution_count": 130,
   "id": "68b56cc9",
   "metadata": {},
   "outputs": [
    {
     "data": {
      "image/png": "[encoded data removed]",
      "text/plain": [
       "<Figure size 432x288 with 1 Axes>"
      ]
     },
     "metadata": {
      "needs_background": "light"
     },
     "output_type": "display_data"
    }
   ],
   "source": [
    "\n",
    "\n",
    "# print([n for n in dir(plt) if not(n.startswith('_'))],sep='')\n",
    "\n",
    "arr = np.random.normal(loc=5, scale=3.5, size=5000)\n",
    "plt.hist(arr, density=True, bins=100, label=\"Data\") # density=False would make counts\n",
    "\n",
    "mn, mx = plt.xlim()\n",
    "plt.xlim(mn, mx)\n",
    "kde_xs = np.linspace(mn, mx, 300)\n",
    "kde = st.gaussian_kde(arr)\n",
    "plt.plot(kde_xs, kde.pdf(kde_xs), label=\"PDF\")\n",
    "plt.legend(loc=\"upper left\")\n",
    "plt.ylabel(\"Probability\")\n",
    "plt.xlabel(\"Data\")\n",
    "plt.title(\"Histogram\"); # \";\" Removes the output\n",
    "# plt.savefig('./images/plt_normal.png')\n",
    "plt.plot();\n",
    "# plt.close()"
   ]
  },
  {
   "cell_type": "markdown",
   "id": "271225c5",
   "metadata": {},
   "source": [
    "### Random - Custom sampling\n"
   ]
  },
  {
   "cell_type": "code",
   "execution_count": 131,
   "id": "aa8ae3bf",
   "metadata": {},
   "outputs": [
    {
     "name": "stdout",
     "output_type": "stream",
     "text": [
      "red\n",
      "['green' 'blue']\n",
      "[['red' 'red']\n",
      " ['blue' 'blue']]\n"
     ]
    }
   ],
   "source": [
    "colors = ['red', 'blue', 'green']\n",
    "print(np.random.choice(colors))\n",
    "print(np.random.choice(colors, size=2))\n",
    "print(np.random.choice(colors, size=(2,2), p=[0.8, 0.19, 0.01])) # p - prob of each entry"
   ]
  },
  {
   "cell_type": "markdown",
   "id": "fc37d37d",
   "metadata": {},
   "source": [
    "### Random - shuffling\n"
   ]
  },
  {
   "cell_type": "code",
   "execution_count": 132,
   "id": "6e7c60b2",
   "metadata": {},
   "outputs": [
    {
     "name": "stdout",
     "output_type": "stream",
     "text": [
      "[1 5 3 2 4]\n"
     ]
    }
   ],
   "source": [
    "arr = np.arange(1,6)\n",
    "np.random.shuffle(arr)\n",
    "print(arr)"
   ]
  },
  {
   "cell_type": "markdown",
   "id": "68d86b32",
   "metadata": {},
   "source": [
    "### Array slicing\n"
   ]
  },
  {
   "cell_type": "code",
   "execution_count": 133,
   "id": "2bdcd305",
   "metadata": {},
   "outputs": [
    {
     "name": "stdout",
     "output_type": "stream",
     "text": [
      "arr[:] = [1 2 3 4 5]\n",
      "arr[2:4] = [3 4]\n",
      "arr[1:] = [2 3 4 5]\n",
      "arr[:1] = [1]\n",
      "arr[:-1] = [1 2 3 4]\n",
      "arr[-1:] = [5]\n"
     ]
    }
   ],
   "source": [
    "arr = np.array([1,2,3,4,5])\n",
    "print(f'arr[:] = {arr[:]}')\n",
    "print(f'arr[2:4] = {arr[2:4]}')\n",
    "print(f'arr[1:] = {arr[1:]}')\n",
    "print(f'arr[:1] = {arr[:1]}')\n",
    "print(f'arr[:-1] = {arr[:-1]}')\n",
    "print(f'arr[-1:] = {arr[-1:]}')"
   ]
  },
  {
   "cell_type": "code",
   "execution_count": 134,
   "id": "40bd94d3",
   "metadata": {},
   "outputs": [
    {
     "name": "stdout",
     "output_type": "stream",
     "text": [
      "arr[:] = [[1 2 3]\n",
      " [4 5 6]\n",
      " [7 8 9]]\n",
      "\n",
      "arr[0:2] = [[1 2 3]\n",
      " [4 5 6]]\n",
      "\n",
      "arr[2:4] = [[7 8 9]]\n",
      "\n",
      "arr[1:] = [[4 5 6]\n",
      " [7 8 9]]\n",
      "\n",
      "arr[:1] = [[1 2 3]]\n",
      "\n",
      "arr[:-1] = [[1 2 3]\n",
      " [4 5 6]]\n",
      "\n",
      "arr[-1:] = [[7 8 9]]\n",
      "\n",
      "arr[:,1:2] = [[2]\n",
      " [5]\n",
      " [8]]\n",
      "\n",
      "arr[1:2,0] = [4]\n",
      "\n",
      "arr[:,1:] = [[2 3]\n",
      " [5 6]\n",
      " [8 9]]\n",
      "\n",
      "arr[0:1,1:] = [[2 3]]\n",
      "\n",
      "arr[:1,:] = [[1 2 3]]\n",
      "\n",
      "arr[1:,:] = [[4 5 6]\n",
      " [7 8 9]]\n",
      "\n",
      "arr[:,1:] = [[2 3]\n",
      " [5 6]\n",
      " [8 9]]\n",
      "\n",
      "arr[0:2,:-2] = [[1]\n",
      " [4]]\n",
      "\n"
     ]
    }
   ],
   "source": [
    "arr = np.array([[1,2,3],[4,5,6],[7,8,9]])\n",
    "print(f'arr[:] = {arr[:]}\\n')\n",
    "print(f'arr[0:2] = {arr[0:2]}\\n')\n",
    "print(f'arr[2:4] = {arr[2:4]}\\n')\n",
    "\n",
    "print(f'arr[1:] = {arr[1:]}\\n')\n",
    "print(f'arr[:1] = {arr[:1]}\\n')\n",
    "\n",
    "print(f'arr[:-1] = {arr[:-1]}\\n')\n",
    "print(f'arr[-1:] = {arr[-1:]}\\n')\n",
    "\n",
    "print(f'arr[:,1:2] = {arr[:,1:2]}\\n')\n",
    "print(f'arr[1:2,0] = {arr[1:2,0]}\\n')\n",
    "\n",
    "print(f'arr[:,1:] = {arr[:,1:]}\\n')\n",
    "print(f'arr[0:1,1:] = {arr[0:1,1:]}\\n')\n",
    "\n",
    "print(f'arr[:1,:] = {arr[:1,:]}\\n')\n",
    "print(f'arr[1:,:] = {arr[1:,:]}\\n')\n",
    "\n",
    "print(f'arr[:,1:] = {arr[:,1:]}\\n') #  all rows, but will skip the first element in each row\n",
    "print(f'arr[0:2,:-2] = {arr[0:2,:-2]}\\n') # all elements of first three rows except the last two elements."
   ]
  },
  {
   "cell_type": "markdown",
   "id": "885bf9b5",
   "metadata": {},
   "source": [
    "### Argmin-Argmax"
   ]
  },
  {
   "cell_type": "code",
   "execution_count": 135,
   "id": "c4fe3630",
   "metadata": {},
   "outputs": [
    {
     "name": "stdout",
     "output_type": "stream",
     "text": [
      "2\n",
      "1\n",
      "5\n"
     ]
    }
   ],
   "source": [
    "arr = np.array([[-2, -1, -3],\n",
    "                [4, 5, -6],\n",
    "                [-3, 9, 1]])\n",
    "print(np.argmin(arr[0]))\n",
    "print(np.argmax(arr[2]))\n",
    "print(np.argmin(arr)) # flattened index of arr"
   ]
  },
  {
   "cell_type": "code",
   "execution_count": 136,
   "id": "057726ef",
   "metadata": {},
   "outputs": [
    {
     "name": "stdout",
     "output_type": "stream",
     "text": [
      "array([2, 0, 1])\n",
      "array([2, 2, 0])\n",
      "array([1, 1, 1])\n"
     ]
    }
   ],
   "source": [
    "arr = np.array([[-2, -1, -3],\n",
    "                [4, 5, -6],\n",
    "                [-3, 9, 1]])\n",
    "print(repr(np.argmin(arr, axis=0))) # min row element for each column\n",
    "print(repr(np.argmin(arr, axis=1))) # min column element for each row\n",
    "print(repr(np.argmax(arr, axis=-1))) # last dimension => axis = 1 "
   ]
  },
  {
   "cell_type": "markdown",
   "id": "b9a782b7",
   "metadata": {},
   "source": [
    "### Filtering using operator"
   ]
  },
  {
   "cell_type": "code",
   "execution_count": 137,
   "id": "f6e544de",
   "metadata": {},
   "outputs": [
    {
     "name": "stdout",
     "output_type": "stream",
     "text": [
      "array([[False, False,  True],\n",
      "       [False,  True, False],\n",
      "       [False, False, False]])\n",
      "array([[False,  True,  True],\n",
      "       [ True,  True, False],\n",
      "       [False, False,  True]])\n",
      "array([[ True,  True,  True],\n",
      "       [False,  True,  True],\n",
      "       [ True,  True, False]])\n",
      "array([[False, False, False],\n",
      "       [ True, False, False],\n",
      "       [False, False,  True]])\n"
     ]
    }
   ],
   "source": [
    "arr = np.array([[0, 2, 3],\n",
    "                [1, 3, -6],\n",
    "                [-3, -2, 1]])\n",
    "print(repr(arr == 3))\n",
    "print(repr(arr > 0))\n",
    "print(repr(arr != 1))\n",
    "# Negated from the previous step\n",
    "print(repr(~(arr != 1)))"
   ]
  },
  {
   "cell_type": "code",
   "execution_count": 138,
   "id": "39cb0d30",
   "metadata": {},
   "outputs": [
    {
     "name": "stdout",
     "output_type": "stream",
     "text": [
      "array([[False, False,  True],\n",
      "       [False,  True, False],\n",
      "       [ True, False, False]])\n"
     ]
    }
   ],
   "source": [
    "arr = np.array([[0, 2, np.nan],\n",
    "                [1, np.nan, -6],\n",
    "                [np.nan, -2, 1]])\n",
    "print(repr(np.isnan(arr)))"
   ]
  },
  {
   "cell_type": "markdown",
   "id": "7316b25c",
   "metadata": {},
   "source": [
    "### Filtering using where"
   ]
  },
  {
   "cell_type": "code",
   "execution_count": 139,
   "id": "569c671b",
   "metadata": {},
   "outputs": [
    {
     "name": "stdout",
     "output_type": "stream",
     "text": [
      "array(False)\n",
      "(array([1, 3]),)\n",
      "(array([0, 0, 1, 2]), array([1, 2, 0, 0]))\n",
      "array([ 2,  3,  1, -3])\n"
     ]
    }
   ],
   "source": [
    "print(repr(np.where(True, False, True)))\n",
    "\n",
    "arr = np.array([0,3,5,3,1])\n",
    "print(repr(np.where(arr==3)))\n",
    "\n",
    "arr = np.array([[0, 2, 3],\n",
    "                [1, 0, 0],\n",
    "                [-3, 0, 0]])\n",
    "print(repr(np.where(arr != 0)))\n",
    "print(repr(arr[np.where(arr != 0)]))"
   ]
  },
  {
   "cell_type": "code",
   "execution_count": 140,
   "id": "309a84ba",
   "metadata": {},
   "outputs": [
    {
     "name": "stdout",
     "output_type": "stream",
     "text": [
      "array([[-2, -5],\n",
      "       [ 3, -8]])\n",
      "array([[ 1,  2],\n",
      "       [-1,  4]])\n",
      "array([[ 1,  2],\n",
      "       [-5,  4]])\n"
     ]
    }
   ],
   "source": [
    "np_filter = np.array([[True, True], [False, True]])\n",
    "positives = np.array([[1,2], [3,4]])\n",
    "negatives = np.array([[-2,-5], [-1,-8]])\n",
    "print(repr(np.where(np_filter, negatives, positives)))\n",
    "print(repr(np.where(np_filter, positives, negatives)))\n",
    "print(repr(np.where(np_filter, positives, -5))) # broadcasting used here"
   ]
  },
  {
   "cell_type": "code",
   "execution_count": 141,
   "id": "afda7673",
   "metadata": {},
   "outputs": [
    {
     "name": "stdout",
     "output_type": "stream",
     "text": [
      "array([[-2, -5],\n",
      "       [ 3,  4]])\n",
      "array([[-2, -5],\n",
      "       [-1, -8]])\n"
     ]
    }
   ],
   "source": [
    "np_filter = positives > 2\n",
    "print(repr(np.where(np_filter, positives, negatives)))\n",
    "np_filter = negatives > 0\n",
    "print(repr(np.where(np_filter, positives, negatives)))"
   ]
  },
  {
   "cell_type": "markdown",
   "id": "960c5d72",
   "metadata": {},
   "source": [
    "### Axis-wise filtering"
   ]
  },
  {
   "cell_type": "code",
   "execution_count": 142,
   "id": "504d25a5",
   "metadata": {},
   "outputs": [
    {
     "name": "stdout",
     "output_type": "stream",
     "text": [
      "array([[False, False, False],\n",
      "       [ True,  True, False],\n",
      "       [ True,  True,  True]])\n",
      "True\n",
      "False\n"
     ]
    }
   ],
   "source": [
    "arr = np.array([[-2, -1, -3],\n",
    "                [4, 5, -6],\n",
    "                [3, 9, 1]])\n",
    "print(repr(arr > 0))\n",
    "print(np.any(arr > 0)) # equivalent to logical OR (||)\n",
    "print(np.all(arr > 0)) # equivalent to logical AND (&&)"
   ]
  },
  {
   "cell_type": "code",
   "execution_count": 143,
   "id": "b282288a",
   "metadata": {},
   "outputs": [
    {
     "name": "stdout",
     "output_type": "stream",
     "text": [
      "array([[False, False,  True],\n",
      "       [ True, False,  True]])\n",
      "[ True False  True]\n",
      "[ True  True]\n",
      "[False False]\n"
     ]
    }
   ],
   "source": [
    "arr = np.array([[-2, -1, 3],\n",
    "                [3, -9, 1]])\n",
    "print(repr(arr > 0))\n",
    "print(np.any(arr > 0, axis=0)) # axis = 0 - find the index of the minimum row element for each column\n",
    "print(np.any(arr > 0, axis=1)) # axis = 1 - find the index of the minimum column element for each row.\n",
    "print(np.all(arr > 0, axis=1))"
   ]
  },
  {
   "cell_type": "code",
   "execution_count": 144,
   "id": "0fff12de",
   "metadata": {},
   "outputs": [
    {
     "name": "stdout",
     "output_type": "stream",
     "text": [
      "[False  True  True]\n"
     ]
    }
   ],
   "source": [
    "arr = np.array([[-2, -1, -3],\n",
    "                [4, 5, -6],\n",
    "                [3, 9, 1]])\n",
    "has_positive = np.any(arr > 0, axis=1)\n",
    "print(has_positive)\n",
    "# print(repr(arr[np.where(has_positive)]))"
   ]
  },
  {
   "cell_type": "markdown",
   "id": "932d593b",
   "metadata": {},
   "source": [
    "### Operation across axis"
   ]
  },
  {
   "cell_type": "code",
   "execution_count": 145,
   "id": "f225184e",
   "metadata": {},
   "outputs": [
    {
     "name": "stdout",
     "output_type": "stream",
     "text": [
      "array([[[ 0,  1,  2,  3],\n",
      "        [ 4,  5,  6,  7],\n",
      "        [ 8,  9, 10, 11]],\n",
      "\n",
      "       [[12, 13, 14, 15],\n",
      "        [16, 17, 18, 19],\n",
      "        [20, 21, 22, 23]]])\n",
      "array([[12, 14, 16, 18],\n",
      "       [20, 22, 24, 26],\n",
      "       [28, 30, 32, 34]])\n",
      "array([[12, 15, 18, 21],\n",
      "       [48, 51, 54, 57]])\n",
      "array([[ 6, 22, 38],\n",
      "       [54, 70, 86]])\n",
      "array([[ 6, 22, 38],\n",
      "       [54, 70, 86]])\n"
     ]
    }
   ],
   "source": [
    "arr = np.arange(24)\n",
    "arr = np.reshape(arr, (2,3,4))\n",
    "print(repr(arr))\n",
    "print(repr(np.sum(arr, axis=0)))\n",
    "print(repr(np.sum(arr, axis=1)))\n",
    "print(repr(np.sum(arr, axis=2)))\n",
    "print(repr(np.sum(arr, axis=-1)))"
   ]
  },
  {
   "cell_type": "markdown",
   "id": "9a7af01c",
   "metadata": {},
   "source": [
    "### Min-Max along axis"
   ]
  },
  {
   "cell_type": "code",
   "execution_count": 146,
   "id": "b4749139",
   "metadata": {},
   "outputs": [
    {
     "name": "stdout",
     "output_type": "stream",
     "text": [
      "-60\n",
      "72\n",
      "array([ -3,  -2, -60])\n",
      "array([72,  3,  4])\n"
     ]
    }
   ],
   "source": [
    "arr = np.array([[0, 72, 3],\n",
    "                [1, 3, -60],\n",
    "                [-3, -2, 4]])\n",
    "print(arr.min())\n",
    "print(arr.max())\n",
    "\n",
    "print(repr(arr.min(axis=0)))\n",
    "print(repr(arr.max(axis=-1)))"
   ]
  },
  {
   "cell_type": "markdown",
   "id": "e34c62c2",
   "metadata": {},
   "source": [
    "### Basic Stats"
   ]
  },
  {
   "cell_type": "code",
   "execution_count": 147,
   "id": "38c4df86",
   "metadata": {},
   "outputs": [
    {
     "name": "stdout",
     "output_type": "stream",
     "text": [
      "2.0\n",
      "977.3333333333334\n",
      "1.0\n",
      "array([ 3.,  1., -2.])\n",
      "\n",
      "18\n",
      "array([ -2,  73, -53])\n",
      "array([ 75, -56,  -1])\n",
      "\n",
      "array([ 0, 72, 75, 76, 79, 19, 16, 14, 18])\n",
      "array([[  0,  72,   3],\n",
      "       [  1,  75, -57],\n",
      "       [ -2,  73, -53]])\n",
      "array([[  0,  72,  75],\n",
      "       [  1,   4, -56],\n",
      "       [ -3,  -5,  -1]])\n",
      "\n",
      "array([[  0,  72,   3],\n",
      "       [  1,   3, -60],\n",
      "       [ -3,  -2,   4],\n",
      "       [-15,   6,   1],\n",
      "       [  8,   9,  -4],\n",
      "       [  5, -21,  18]])\n",
      "array([[  0,  72,   3, -15,   6,   1],\n",
      "       [  1,   3, -60,   8,   9,  -4],\n",
      "       [ -3,  -2,   4,   5, -21,  18]])\n",
      "array([[-15,   6,   1,   0,  72,   3],\n",
      "       [  8,   9,  -4,   1,   3, -60],\n",
      "       [  5, -21,  18,  -3,  -2,   4]])\n"
     ]
    }
   ],
   "source": [
    "arr = np.array([[0, 72, 3],\n",
    "                [1, 3, -60],\n",
    "                [-3, -2, 4]])\n",
    "print(np.mean(arr))\n",
    "print(np.var(arr))\n",
    "print(np.median(arr))\n",
    "print(repr(np.median(arr, axis=-1)))\n",
    "\n",
    "print()\n",
    "print(np.sum(arr))\n",
    "print(repr(np.sum(arr, axis=0)))\n",
    "print(repr(np.sum(arr, axis=1)))\n",
    "\n",
    "print()\n",
    "print(repr(np.cumsum(arr)))\n",
    "print(repr(np.cumsum(arr, axis=0)))\n",
    "print(repr(np.cumsum(arr, axis=1)))\n",
    "\n",
    "print()\n",
    "arr1 = arr\n",
    "arr2 = np.array([[-15, 6, 1],\n",
    "                 [8, 9, -4],\n",
    "                 [5, -21, 18]])\n",
    "print(repr(np.concatenate([arr1, arr2])))\n",
    "print(repr(np.concatenate([arr1, arr2], axis=1)))\n",
    "print(repr(np.concatenate([arr2, arr1], axis=1)))"
   ]
  },
  {
   "cell_type": "markdown",
   "id": "bc738509",
   "metadata": {},
   "source": [
    "### Saving numpy data"
   ]
  },
  {
   "cell_type": "code",
   "execution_count": 148,
   "id": "06e1abe7",
   "metadata": {},
   "outputs": [],
   "source": [
    "arr = np.array([1, 2, 3])\n",
    "# Saves to 'arr.npy'\n",
    "np.save('arr.npy', arr)\n",
    "# Also saves to 'arr.npy'\n",
    "np.save('arr', arr)"
   ]
  },
  {
   "cell_type": "markdown",
   "id": "5c606824",
   "metadata": {},
   "source": [
    "### Loading numpy data"
   ]
  },
  {
   "cell_type": "code",
   "execution_count": 149,
   "id": "87fdda4a",
   "metadata": {},
   "outputs": [
    {
     "name": "stdout",
     "output_type": "stream",
     "text": [
      "array([1, 2, 3])\n"
     ]
    }
   ],
   "source": [
    "load_arr = np.load('arr.npy')\n",
    "print(repr(load_arr))"
   ]
  },
  {
   "cell_type": "markdown",
   "id": "ce9c0b32",
   "metadata": {},
   "source": [
    "## pandas"
   ]
  },
  {
   "cell_type": "code",
   "execution_count": 150,
   "id": "2c7e2cb9",
   "metadata": {},
   "outputs": [],
   "source": [
    "import pandas as pd"
   ]
  },
  {
   "cell_type": "markdown",
   "id": "7a42fb5d",
   "metadata": {},
   "source": [
    "### Series - 1D data\n",
    "- Difference between np.array and pd.Series\n",
    "  - the Series object is interchangeable with one-dimensional NumPy array \n",
    "  - the Numpy Array has an implicitly defined integer index used to access the values\n",
    "  - the Pandas Series has an explicitly defined index associated with the values"
   ]
  },
  {
   "cell_type": "code",
   "execution_count": 151,
   "id": "e4e088df",
   "metadata": {},
   "outputs": [
    {
     "name": "stdout",
     "output_type": "stream",
     "text": [
      "Series([], dtype: float64)\n",
      "\n",
      "Series([], dtype: float64)\n",
      "\n",
      "0    5\n",
      "dtype: int64\n",
      "\n",
      "0    1\n",
      "1    2\n",
      "2    3\n",
      "dtype: int64\n",
      "\n",
      "0    1.0\n",
      "1    2.2\n",
      "dtype: float64\n",
      "\n",
      "0    1.0\n",
      "1    2.0\n",
      "dtype: float32\n",
      "\n",
      "0    [1, 2]\n",
      "1    [3, 4]\n",
      "dtype: object\n",
      "\n"
     ]
    },
    {
     "name": "stderr",
     "output_type": "stream",
     "text": [
      "/var/folders/kz/g_s979xs7pdbzdsbg21qhs240000gn/T/ipykernel_8853/306238363.py:3: FutureWarning: The default dtype for empty Series will be 'object' instead of 'float64' in a future version. Specify a dtype explicitly to silence this warning.\n",
      "  series = pd.Series()\n"
     ]
    }
   ],
   "source": [
    "# Creating an empty series, will result in \n",
    "# DeprecationWarning\n",
    "series = pd.Series()\n",
    "print('{}\\n'.format(series))\n",
    "\n",
    "# Passing dtype as a parameter to Series for \n",
    "# an empty series to avoid DeprecationWarning\n",
    "# Creating an empty series\n",
    "series = pd.Series(dtype='float64')\n",
    "# Newline to separate series print statements\n",
    "print('{}\\n'.format(series))\n",
    "\n",
    "series = pd.Series(5)\n",
    "print('{}\\n'.format(series))\n",
    "\n",
    "series = pd.Series([1, 2, 3])\n",
    "print('{}\\n'.format(series))\n",
    "\n",
    "series = pd.Series([1, 2.2]) # upcasting\n",
    "print('{}\\n'.format(series))\n",
    "\n",
    "arr = np.array([1, 2])\n",
    "series = pd.Series(arr, dtype=np.float32)\n",
    "print('{}\\n'.format(series))\n",
    "\n",
    "series = pd.Series([[1, 2], [3, 4]])\n",
    "print('{}\\n'.format(series))\n"
   ]
  },
  {
   "cell_type": "markdown",
   "id": "600532c9",
   "metadata": {},
   "source": [
    "### Series - index\n",
    "- integers are collectively referred to as index of a Series\n",
    "- each individual index element is referred to as a label"
   ]
  },
  {
   "cell_type": "code",
   "execution_count": 152,
   "id": "732eb32e",
   "metadata": {},
   "outputs": [
    {
     "name": "stdout",
     "output_type": "stream",
     "text": [
      "a    0.25\n",
      "b    0.50\n",
      "c    0.75\n",
      "d    1.00\n",
      "dtype: float64\n",
      "0.25\n",
      "0.75\n"
     ]
    }
   ],
   "source": [
    "data = pd.Series([0.25, 0.5, 0.75, 1.0],\n",
    "                 index=['a', 'b', 'c', 'd'])\n",
    "print(repr(data))\n",
    "\n",
    "print(data['a'])\n",
    "\n",
    "print(data[2])"
   ]
  },
  {
   "cell_type": "code",
   "execution_count": 153,
   "id": "d6c8c8c1",
   "metadata": {},
   "outputs": [
    {
     "name": "stdout",
     "output_type": "stream",
     "text": [
      "0.25\n"
     ]
    }
   ],
   "source": [
    "data = pd.Series([0.25, 0.5, 0.75, 1.0],\n",
    "                 index=[2, 5, 3, 7])\n",
    "print(data[2])\n",
    "# print(data[0]) # results in KeyError"
   ]
  },
  {
   "cell_type": "code",
   "execution_count": 154,
   "id": "aab752cf",
   "metadata": {},
   "outputs": [
    {
     "name": "stdout",
     "output_type": "stream",
     "text": [
      "a      1\n",
      "8      2\n",
      "0.3    3\n",
      "dtype: int64\n"
     ]
    },
    {
     "data": {
      "text/plain": [
       "3"
      ]
     },
     "execution_count": 154,
     "metadata": {},
     "output_type": "execute_result"
    }
   ],
   "source": [
    "series = pd.Series([1, 2, 3], index=['a', 8, 0.3])\n",
    "print(series)\n",
    "series[0.3]"
   ]
  },
  {
   "cell_type": "markdown",
   "id": "5e47bffd",
   "metadata": {},
   "source": [
    "### Series using dictionary\n",
    "- key becomes the index and value the series"
   ]
  },
  {
   "cell_type": "code",
   "execution_count": 155,
   "id": "75a8d6cb",
   "metadata": {},
   "outputs": [
    {
     "name": "stdout",
     "output_type": "stream",
     "text": [
      "a    1\n",
      "b    2\n",
      "c    3\n",
      "dtype: int64\n",
      "\n",
      "b    2\n",
      "a    1\n",
      "c    3\n",
      "dtype: int64\n",
      "\n"
     ]
    }
   ],
   "source": [
    "series = pd.Series({'a':1, 'b':2, 'c':3})\n",
    "print('{}\\n'.format(series))\n",
    "\n",
    "series = pd.Series({'b':2, 'a':1, 'c':3})\n",
    "print('{}\\n'.format(series))"
   ]
  },
  {
   "cell_type": "markdown",
   "id": "750187dc",
   "metadata": {},
   "source": [
    "### Series multiplication"
   ]
  },
  {
   "cell_type": "code",
   "execution_count": 156,
   "id": "5f60745f",
   "metadata": {},
   "outputs": [
    {
     "name": "stdout",
     "output_type": "stream",
     "text": [
      "0    0.10\n",
      "1    0.60\n",
      "2    1.56\n",
      "dtype: float64\n"
     ]
    }
   ],
   "source": [
    "s1 = pd.Series([1,3,5.2])\n",
    "s2 = s1 * [0.1, 0.2, 0.3]\n",
    "print(s2)"
   ]
  },
  {
   "cell_type": "markdown",
   "id": "b0faae0a",
   "metadata": {},
   "source": [
    "### Series fill"
   ]
  },
  {
   "cell_type": "code",
   "execution_count": 157,
   "id": "ff97ba0c",
   "metadata": {},
   "outputs": [
    {
     "name": "stdout",
     "output_type": "stream",
     "text": [
      "100    5\n",
      "200    5\n",
      "300    5\n",
      "dtype: int64\n"
     ]
    }
   ],
   "source": [
    "s1 = pd.Series(5, index=[100, 200, 300])\n",
    "print(s1)"
   ]
  },
  {
   "cell_type": "markdown",
   "id": "1215befc",
   "metadata": {},
   "source": [
    "### Series partial population"
   ]
  },
  {
   "cell_type": "code",
   "execution_count": 158,
   "id": "792cc0ac",
   "metadata": {},
   "outputs": [
    {
     "name": "stdout",
     "output_type": "stream",
     "text": [
      "3    c\n",
      "2    a\n",
      "dtype: object\n"
     ]
    }
   ],
   "source": [
    "s1 = pd.Series({2:'a', 1:'b', 3:'c'}, index=[3, 2])\n",
    "print(s1)"
   ]
  },
  {
   "cell_type": "markdown",
   "id": "a217ba4c",
   "metadata": {},
   "source": [
    "### DataFrame 2D data - empty "
   ]
  },
  {
   "cell_type": "code",
   "execution_count": 159,
   "id": "731a8a63",
   "metadata": {},
   "outputs": [
    {
     "name": "stdout",
     "output_type": "stream",
     "text": [
      "Empty DataFrame\n",
      "Columns: []\n",
      "Index: []\n",
      "\n"
     ]
    }
   ],
   "source": [
    "df = pd.DataFrame()\n",
    "# Newline added to separate DataFrames\n",
    "print('{}\\n'.format(df))"
   ]
  },
  {
   "cell_type": "markdown",
   "id": "1ea9c473",
   "metadata": {},
   "source": [
    "### DataFrame 2D data - one column vs one row "
   ]
  },
  {
   "cell_type": "code",
   "execution_count": 160,
   "id": "e8884086",
   "metadata": {},
   "outputs": [
    {
     "name": "stdout",
     "output_type": "stream",
     "text": [
      "   0\n",
      "0  5\n",
      "1  6\n",
      "\n",
      "   0  1\n",
      "0  5  6\n",
      "\n"
     ]
    }
   ],
   "source": [
    "df = pd.DataFrame([5, 6])\n",
    "print('{}\\n'.format(df))\n",
    "\n",
    "df = pd.DataFrame([[5,6]])\n",
    "print('{}\\n'.format(df))\n"
   ]
  },
  {
   "cell_type": "markdown",
   "id": "2504ad86",
   "metadata": {},
   "source": [
    "### DataFrame 2D data - constructor"
   ]
  },
  {
   "cell_type": "code",
   "execution_count": 161,
   "id": "5c64f6f7",
   "metadata": {},
   "outputs": [
    {
     "name": "stdout",
     "output_type": "stream",
     "text": [
      "    c1  c2\n",
      "r1   5   6\n",
      "r2   1   3\n",
      "\n",
      "    c1  c2\n",
      "r1   1   3\n",
      "r2   2   4\n",
      "\n"
     ]
    }
   ],
   "source": [
    "df = pd.DataFrame([[5, 6], [1, 3]],\n",
    "                  index=['r1', 'r2'],\n",
    "                  columns=['c1', 'c2'])\n",
    "print('{}\\n'.format(df))\n",
    "\n",
    "df = pd.DataFrame({'c1': [1, 2], 'c2': [3, 4]},\n",
    "                  index=['r1', 'r2'])\n",
    "print('{}\\n'.format(df))"
   ]
  },
  {
   "cell_type": "markdown",
   "id": "805b305e",
   "metadata": {},
   "source": [
    "### Dataframe - print"
   ]
  },
  {
   "cell_type": "code",
   "execution_count": 162,
   "id": "874af0a4",
   "metadata": {},
   "outputs": [
    {
     "name": "stdout",
     "output_type": "stream",
     "text": [
      "    c1  c2\n",
      "r1   1   3\n",
      "r2   2   4\n"
     ]
    }
   ],
   "source": [
    "print(df)"
   ]
  },
  {
   "cell_type": "code",
   "execution_count": 163,
   "id": "93fe0f12",
   "metadata": {},
   "outputs": [
    {
     "data": {
      "text/html": [
       "<div>\n",
       "<style scoped>\n",
       "    .dataframe tbody tr th:only-of-type {\n",
       "        vertical-align: middle;\n",
       "    }\n",
       "\n",
       "    .dataframe tbody tr th {\n",
       "        vertical-align: top;\n",
       "    }\n",
       "\n",
       "    .dataframe thead th {\n",
       "        text-align: right;\n",
       "    }\n",
       "</style>\n",
       "<table border=\"1\" class=\"dataframe\">\n",
       "  <thead>\n",
       "    <tr style=\"text-align: right;\">\n",
       "      <th></th>\n",
       "      <th>c1</th>\n",
       "      <th>c2</th>\n",
       "    </tr>\n",
       "  </thead>\n",
       "  <tbody>\n",
       "    <tr>\n",
       "      <th>r1</th>\n",
       "      <td>1</td>\n",
       "      <td>3</td>\n",
       "    </tr>\n",
       "    <tr>\n",
       "      <th>r2</th>\n",
       "      <td>2</td>\n",
       "      <td>4</td>\n",
       "    </tr>\n",
       "  </tbody>\n",
       "</table>\n",
       "</div>"
      ],
      "text/plain": [
       "    c1  c2\n",
       "r1   1   3\n",
       "r2   2   4"
      ]
     },
     "execution_count": 163,
     "metadata": {},
     "output_type": "execute_result"
    }
   ],
   "source": [
    "df "
   ]
  },
  {
   "cell_type": "markdown",
   "id": "86a9a0d1",
   "metadata": {},
   "source": [
    "### DataFrame upcasting\n",
    "- while initializing a DataFrame of mixed types\n",
    "  - upcasting occurs on a per-column basis"
   ]
  },
  {
   "cell_type": "code",
   "execution_count": 164,
   "id": "0921f71b",
   "metadata": {},
   "outputs": [
    {
     "name": "stdout",
     "output_type": "stream",
     "text": [
      "     0  1\n",
      "0  5.0  6\n",
      "1  1.2  3\n",
      "\n",
      "0    float64\n",
      "1      int64\n",
      "dtype: object\n"
     ]
    }
   ],
   "source": [
    "upcast = pd.DataFrame([[5, 6], [1.2, 3]])\n",
    "print('{}\\n'.format(upcast))\n",
    "# Datatypes of each column\n",
    "print(upcast.dtypes)"
   ]
  },
  {
   "cell_type": "markdown",
   "id": "c1ff37c4",
   "metadata": {},
   "source": [
    "### DataFrame appending rows"
   ]
  },
  {
   "cell_type": "code",
   "execution_count": 165,
   "id": "7d645699",
   "metadata": {},
   "outputs": [
    {
     "name": "stdout",
     "output_type": "stream",
     "text": [
      "      0  1\n",
      "0   5.0  6\n",
      "1   1.2  3\n",
      "r3  0.0  0\n",
      "\n"
     ]
    },
    {
     "name": "stderr",
     "output_type": "stream",
     "text": [
      "/var/folders/kz/g_s979xs7pdbzdsbg21qhs240000gn/T/ipykernel_8853/533385271.py:5: FutureWarning: The frame.append method is deprecated and will be removed from pandas in a future version. Use pandas.concat instead.\n",
      "  df_app = df.append(ser)\n"
     ]
    }
   ],
   "source": [
    "df = pd.DataFrame([[5, 6], [1.2, 3]])\n",
    "ser = pd.Series([0, 0], name='r3')\n",
    "# ser = pd.Series([0, 0])\n",
    "\n",
    "df_app = df.append(ser)\n",
    "# df_app = pd.concat([df, ser], axis=0)\n",
    "print('{}\\n'.format(df_app))\n"
   ]
  },
  {
   "cell_type": "code",
   "execution_count": 166,
   "id": "1d7deaad",
   "metadata": {},
   "outputs": [
    {
     "name": "stdout",
     "output_type": "stream",
     "text": [
      "     0  1\n",
      "0  5.0  6\n",
      "1  1.2  3\n",
      "2  0.0  0\n",
      "\n",
      "     0  1\n",
      "0  5.0  6\n",
      "1  1.2  3\n",
      "0  0.0  0\n",
      "1  9.0  9\n",
      "\n"
     ]
    },
    {
     "name": "stderr",
     "output_type": "stream",
     "text": [
      "/var/folders/kz/g_s979xs7pdbzdsbg21qhs240000gn/T/ipykernel_8853/3111016736.py:1: FutureWarning: The frame.append method is deprecated and will be removed from pandas in a future version. Use pandas.concat instead.\n",
      "  df_app = df.append(ser, ignore_index=True)\n",
      "/var/folders/kz/g_s979xs7pdbzdsbg21qhs240000gn/T/ipykernel_8853/3111016736.py:5: FutureWarning: The frame.append method is deprecated and will be removed from pandas in a future version. Use pandas.concat instead.\n",
      "  df_app = df.append(df2)\n"
     ]
    }
   ],
   "source": [
    "df_app = df.append(ser, ignore_index=True)\n",
    "print('{}\\n'.format(df_app))\n",
    "\n",
    "df2 = pd.DataFrame([[0,0],[9,9]])\n",
    "df_app = df.append(df2)\n",
    "print('{}\\n'.format(df_app))"
   ]
  },
  {
   "cell_type": "markdown",
   "id": "8e79ec55",
   "metadata": {},
   "source": [
    "### DataFrame dropping data - row using labels\n",
    "- similar to append, the drop function returns the modified DataFrame but doesn't actually change the original"
   ]
  },
  {
   "cell_type": "code",
   "execution_count": 167,
   "id": "3dce843c",
   "metadata": {
    "scrolled": false
   },
   "outputs": [
    {
     "name": "stdout",
     "output_type": "stream",
     "text": [
      "    c1  c2  c3\n",
      "r2   2   4   6\n",
      "\n"
     ]
    }
   ],
   "source": [
    "df = pd.DataFrame({'c1': [1, 2], 'c2': [3, 4],\n",
    "                   'c3': [5, 6]},\n",
    "                  index=['r1', 'r2'])\n",
    "# Drop row r1\n",
    "df_drop = df.drop(labels='r1')\n",
    "print('{}\\n'.format(df_drop))\n"
   ]
  },
  {
   "cell_type": "markdown",
   "id": "62814822",
   "metadata": {},
   "source": [
    "### DataFrame dropping data - column using labels"
   ]
  },
  {
   "cell_type": "code",
   "execution_count": 168,
   "id": "43522c4b",
   "metadata": {},
   "outputs": [
    {
     "name": "stdout",
     "output_type": "stream",
     "text": [
      "    c2\n",
      "r1   3\n",
      "r2   4\n",
      "\n"
     ]
    }
   ],
   "source": [
    "\n",
    "# Drop columns c1, c3\n",
    "df_drop = df.drop(labels=['c1', 'c3'], axis=1)\n",
    "print('{}\\n'.format(df_drop))\n"
   ]
  },
  {
   "cell_type": "markdown",
   "id": "03e3130d",
   "metadata": {},
   "source": [
    "### DataFrame dropping data - using index"
   ]
  },
  {
   "cell_type": "code",
   "execution_count": 169,
   "id": "1076af97",
   "metadata": {},
   "outputs": [
    {
     "name": "stdout",
     "output_type": "stream",
     "text": [
      "    c1  c2  c3\n",
      "r1   1   3   5\n",
      "\n"
     ]
    }
   ],
   "source": [
    "df_drop = df.drop(index='r2')\n",
    "print('{}\\n'.format(df_drop))\n"
   ]
  },
  {
   "cell_type": "markdown",
   "id": "08b8ac48",
   "metadata": {},
   "source": [
    "### DataFrame dropping data - using column"
   ]
  },
  {
   "cell_type": "code",
   "execution_count": 170,
   "id": "5e31d76e",
   "metadata": {},
   "outputs": [
    {
     "name": "stdout",
     "output_type": "stream",
     "text": [
      "    c1  c3\n",
      "r1   1   5\n",
      "r2   2   6\n",
      "\n",
      "    c1  c3\n",
      "r1   1   5\n",
      "r2   2   6\n",
      "\n"
     ]
    }
   ],
   "source": [
    "\n",
    "df_drop = df.drop(columns='c2')\n",
    "print('{}\\n'.format(df_drop))\n",
    "\n",
    "df.drop(index='r2', columns='c2')\n",
    "print('{}\\n'.format(df_drop))"
   ]
  },
  {
   "cell_type": "markdown",
   "id": "39811830",
   "metadata": {},
   "source": [
    "### DataFrame combining "
   ]
  },
  {
   "cell_type": "code",
   "execution_count": 171,
   "id": "a223223c",
   "metadata": {},
   "outputs": [
    {
     "name": "stdout",
     "output_type": "stream",
     "text": [
      "    c1  c2  c1  c2\n",
      "r1   1   3   5   7\n",
      "r2   2   4   6   8\n",
      "\n",
      "    c1  c2\n",
      "r1   5   7\n",
      "r2   6   8\n",
      "r1   1   3\n",
      "r2   2   4\n",
      "0    5   7\n",
      "1    6   8\n",
      "\n",
      "     c1   c2   c1   c2\n",
      "r1  1.0  3.0  NaN  NaN\n",
      "r2  2.0  4.0  NaN  NaN\n",
      "0   NaN  NaN  5.0  7.0\n",
      "1   NaN  NaN  6.0  8.0\n",
      "\n"
     ]
    }
   ],
   "source": [
    "df1 = pd.DataFrame({'c1':[1,2], 'c2':[3,4]},\n",
    "                   index=['r1','r2'])\n",
    "df2 = pd.DataFrame({'c1':[5,6], 'c2':[7,8]},\n",
    "                   index=['r1','r2'])\n",
    "df3 = pd.DataFrame({'c1':[5,6], 'c2':[7,8]})\n",
    "\n",
    "concat = pd.concat([df1, df2], axis=1)\n",
    "# Newline to separate print statements\n",
    "print('{}\\n'.format(concat))\n",
    "\n",
    "concat = pd.concat([df2, df1, df3])\n",
    "print('{}\\n'.format(concat))\n",
    "\n",
    "concat = pd.concat([df1, df3], axis=1)\n",
    "print('{}\\n'.format(concat))"
   ]
  },
  {
   "cell_type": "markdown",
   "id": "f9d3a474",
   "metadata": {},
   "source": [
    "### DataFrame merging\n",
    "- if not specified, merge uses all common column labels"
   ]
  },
  {
   "cell_type": "code",
   "execution_count": 172,
   "id": "894980ec",
   "metadata": {},
   "outputs": [
    {
     "name": "stdout",
     "output_type": "stream",
     "text": [
      "        name pos  year\n",
      "0   john doe  1B  2000\n",
      "1   al smith   C  2004\n",
      "2  sam black   P  2008\n",
      "3   john doe  2B  2003\n",
      "\n",
      "       name  year  rbi\n",
      "0  john doe  2000   80\n",
      "1  al smith  2004  100\n",
      "2  jack lee  2012   12\n",
      "\n",
      "       name pos  year  rbi\n",
      "0  john doe  1B  2000   80\n",
      "1  al smith   C  2004  100\n",
      "\n"
     ]
    }
   ],
   "source": [
    "mlb_df1 = pd.DataFrame({'name': ['john doe', 'al smith', 'sam black', 'john doe'],\n",
    "                        'pos': ['1B', 'C', 'P', '2B'],\n",
    "                        'year': [2000, 2004, 2008, 2003]})\n",
    "mlb_df2 = pd.DataFrame({'name': ['john doe', 'al smith', 'jack lee'],\n",
    "                        'year': [2000, 2004, 2012],\n",
    "                        'rbi': [80, 100, 12]})\n",
    "                        \n",
    "print('{}\\n'.format(mlb_df1))\n",
    "print('{}\\n'.format(mlb_df2))\n",
    "\n",
    "mlb_merged = pd.merge(mlb_df1, mlb_df2)\n",
    "print('{}\\n'.format(mlb_merged))"
   ]
  },
  {
   "cell_type": "markdown",
   "id": "beb312ef",
   "metadata": {},
   "source": [
    "### DataFrame indexing to fetch columns - directly"
   ]
  },
  {
   "cell_type": "code",
   "execution_count": 173,
   "id": "bc864d77",
   "metadata": {},
   "outputs": [
    {
     "name": "stdout",
     "output_type": "stream",
     "text": [
      "r1    1\n",
      "r2    2\n",
      "Name: c1, dtype: int64\n",
      "\n",
      "    c1\n",
      "r1   1\n",
      "r2   2\n",
      "\n",
      "    c2  c3\n",
      "r1   3   5\n",
      "r2   4   6\n",
      "\n"
     ]
    }
   ],
   "source": [
    "df = pd.DataFrame({'c1': [1, 2], 'c2': [3, 4],\n",
    "                   'c3': [5, 6]}, index=['r1', 'r2'])\n",
    "col1 = df['c1']\n",
    "# output here is a Series \n",
    "print('{}\\n'.format(col1))\n",
    "\n",
    "col1_df = df[['c1']]\n",
    "# output here is a DataFrame\n",
    "print('{}\\n'.format(col1_df))\n",
    "\n",
    "col23 = df[['c2', 'c3']]\n",
    "print('{}\\n'.format(col23))"
   ]
  },
  {
   "cell_type": "markdown",
   "id": "e1c70065",
   "metadata": {},
   "source": [
    "### DataFrame indexing to fetch rows - directly"
   ]
  },
  {
   "cell_type": "code",
   "execution_count": 174,
   "id": "39c060cd",
   "metadata": {},
   "outputs": [
    {
     "name": "stdout",
     "output_type": "stream",
     "text": [
      "    c1  c2  c3\n",
      "r1   1   4   7\n",
      "r2   2   5   8\n",
      "r3   3   6   9\n",
      "\n",
      "    c1  c2  c3\n",
      "r1   1   4   7\n",
      "r2   2   5   8\n",
      "\n",
      "    c1  c2  c3\n",
      "r2   2   5   8\n",
      "r3   3   6   9\n",
      "\n"
     ]
    }
   ],
   "source": [
    "df = pd.DataFrame({'c1': [1, 2, 3], 'c2': [4, 5, 6],\n",
    "                   'c3': [7, 8, 9]}, index=['r1', 'r2', 'r3'])\n",
    "\n",
    "print('{}\\n'.format(df))\n",
    "\n",
    "first_two_rows = df[0:2]\n",
    "print('{}\\n'.format(first_two_rows))\n",
    "\n",
    "last_two_rows = df['r2':'r3']\n",
    "print('{}\\n'.format(last_two_rows))\n",
    "\n",
    "# There will be a KeyError when we uncomment the line 13 and run again\n",
    "#df['r1']"
   ]
  },
  {
   "cell_type": "markdown",
   "id": "f32ee032",
   "metadata": {},
   "source": [
    "### DataFrame indexing to fetch rows - other - iloc\n",
    "- use iloc to access rows based on their integer index"
   ]
  },
  {
   "cell_type": "code",
   "execution_count": 175,
   "id": "dad34563",
   "metadata": {},
   "outputs": [
    {
     "name": "stdout",
     "output_type": "stream",
     "text": [
      "    c1  c2  c3\n",
      "r1   1   4   7\n",
      "r2   2   5   8\n",
      "r3   3   6   9\n",
      "\n",
      "c1    2\n",
      "c2    5\n",
      "c3    8\n",
      "Name: r2, dtype: int64\n",
      "\n",
      "    c1  c2  c3\n",
      "r1   1   4   7\n",
      "r3   3   6   9\n",
      "\n",
      "    c1  c2  c3\n",
      "r2   2   5   8\n",
      "r3   3   6   9\n",
      "\n"
     ]
    }
   ],
   "source": [
    "df = pd.DataFrame({'c1': [1, 2, 3], 'c2': [4, 5, 6],\n",
    "                   'c3': [7, 8, 9]}, index=['r1', 'r2', 'r3'])\n",
    "                   \n",
    "print('{}\\n'.format(df))\n",
    "\n",
    "print('{}\\n'.format(df.iloc[1]))\n",
    "# returns a single row as a Series\n",
    "\n",
    "print('{}\\n'.format(df.iloc[[0, 2]]))\n",
    "# returns a multiple rows as a DataFrame\n",
    "\n",
    "bool_list = [False, True, True]\n",
    "print('{}\\n'.format(df.iloc[bool_list]))"
   ]
  },
  {
   "cell_type": "markdown",
   "id": "daba858a",
   "metadata": {},
   "source": [
    "### DataFrame indexing to fetch columns - other - iloc\n",
    "- use iloc to access columns based on their position "
   ]
  },
  {
   "cell_type": "code",
   "execution_count": 5,
   "id": "a9995cc1",
   "metadata": {},
   "outputs": [
    {
     "name": "stdout",
     "output_type": "stream",
     "text": [
      "    c1  c2  c3\n",
      "r1   1   4   7\n",
      "r2   2   5   8\n",
      "r3   3   6   9\n",
      "\n",
      "    c1\n",
      "r1   1\n",
      "r2   2\n",
      "r3   3\n",
      "\n",
      "    c1  c2\n",
      "r1   1   4\n",
      "r2   2   5\n",
      "r3   3   6\n",
      "\n"
     ]
    }
   ],
   "source": [
    "df = pd.DataFrame({'c1': [1, 2, 3], 'c2': [4, 5, 6],\n",
    "                   'c3': [7, 8, 9]}, index=['r1', 'r2', 'r3'])\n",
    "                   \n",
    "print('{}\\n'.format(df))\n",
    "\n",
    "print('{}\\n'.format(df.iloc[:, :1]))\n",
    "# returns columns within the column range\n",
    "\n",
    "print('{}\\n'.format(df.iloc[:, 0:2]))\n",
    "# returns columns within the column range"
   ]
  },
  {
   "cell_type": "markdown",
   "id": "a1aa9ba5",
   "metadata": {},
   "source": [
    "### DataFrame indexing to fetch rows - other - loc\n",
    "- loc property provides the same row indexing functionality as iloc, but `uses row labels rather than integer indexes`\n",
    "- can perform column indexing along with row indexing\n",
    "- can set new values in a DataFrame for specific rows and columns\n",
    "- can access rows and columns together with loc similar to how we access 2-D NumPy arrays"
   ]
  },
  {
   "cell_type": "code",
   "execution_count": 176,
   "id": "c8ed8546",
   "metadata": {},
   "outputs": [
    {
     "name": "stdout",
     "output_type": "stream",
     "text": [
      "    c1  c2  c3\n",
      "r1   1   4   7\n",
      "r2   2   5   8\n",
      "r3   3   6   9\n",
      "\n",
      "c1    2\n",
      "c2    5\n",
      "c3    8\n",
      "Name: r2, dtype: int64\n",
      "\n",
      "    c1  c2  c3\n",
      "r2   2   5   8\n",
      "r3   3   6   9\n",
      "\n",
      "Single val: 4\n",
      "\n",
      "r1    4\n",
      "r3    6\n",
      "Name: c2, dtype: int64\n",
      "\n",
      "    c1  c2  c3\n",
      "r1   1   0   7\n",
      "r2   2   5   8\n",
      "r3   3   0   9\n",
      "\n"
     ]
    }
   ],
   "source": [
    "df = pd.DataFrame({'c1': [1, 2, 3], 'c2': [4, 5, 6],\n",
    "                   'c3': [7, 8, 9]}, index=['r1', 'r2', 'r3'])\n",
    "                   \n",
    "print('{}\\n'.format(df))\n",
    "\n",
    "print('{}\\n'.format(df.loc['r2']))\n",
    "\n",
    "bool_list = [False, True, True]\n",
    "print('{}\\n'.format(df.loc[bool_list]))\n",
    "\n",
    "single_val = df.loc['r1', 'c2']\n",
    "print('Single val: {}\\n'.format(single_val))\n",
    "# To access row and col together\n",
    "\n",
    "print('{}\\n'.format(df.loc[['r1', 'r3'], 'c2']))\n",
    "\n",
    "df.loc[['r1', 'r3'], 'c2'] = 0\n",
    "print('{}\\n'.format(df))"
   ]
  },
  {
   "cell_type": "markdown",
   "id": "6ed007fa",
   "metadata": {},
   "source": [
    "### Read data from csv"
   ]
  },
  {
   "cell_type": "code",
   "execution_count": 177,
   "id": "67213a15",
   "metadata": {},
   "outputs": [
    {
     "name": "stdout",
     "output_type": "stream",
     "text": [
      "        name pos  HR\n",
      "0  joe smith  2B  17\n",
      "1  alan west   C  28\n",
      "2   john doe   P  19\n",
      "          pos  HR\n",
      "name             \n",
      "joe smith  2B  17\n",
      "alan west   C  28\n",
      "john doe    P  19\n",
      "\n",
      "          name  HR\n",
      "pos               \n",
      "2B   joe smith  17\n",
      "C    alan west  28\n",
      "P     john doe  19\n",
      "\n"
     ]
    }
   ],
   "source": [
    "df = pd.read_csv('./data/basketball.csv')\n",
    "print(df)\n",
    "\n",
    "df = pd.read_csv('./data/basketball.csv', index_col=0)\n",
    "print('{}\\n'.format(df))\n",
    "\n",
    "df = pd.read_csv('./data/basketball.csv', index_col=1)\n",
    "print('{}\\n'.format(df))"
   ]
  },
  {
   "cell_type": "markdown",
   "id": "93a09118",
   "metadata": {},
   "source": [
    "### Read data from excel"
   ]
  },
  {
   "cell_type": "code",
   "execution_count": 178,
   "id": "7cec1ee1",
   "metadata": {
    "scrolled": false
   },
   "outputs": [
    {
     "name": "stdout",
     "output_type": "stream",
     "text": [
      "        name   pos  HR\n",
      "0   jack lee  SS     1\n",
      "1     mo sam  1B    52\n",
      "2  lex jones  RF    37\n",
      "\n",
      "Sheet 1 (0-indexed) DataFrame:\n",
      "         name   pos  HR\n",
      "0    abe hass  LF    32\n",
      "1    jim buck   C    17\n",
      "2  aaron dean  LF    58\n",
      "\n",
      "MIL DataFrame:\n",
      "          name   pos  HR\n",
      "0      jj west  LF    15\n",
      "1  will thomas  CF    44\n",
      "2   alex stein  3B    12\n",
      "\n",
      "         name   pos  HR\n",
      "0    abe hass  LF    32\n",
      "1    jim buck   C    17\n",
      "2  aaron dean  LF    58\n",
      "\n",
      "dict_keys(['NYY', 'BOS', 'MIL'])\n"
     ]
    }
   ],
   "source": [
    "# data.csv contains baseball data\n",
    "df = pd.read_excel('./data/basketball.xlsx')\n",
    "# Newline to separate print statements\n",
    "print('{}\\n'.format(df))\n",
    "\n",
    "print('Sheet 1 (0-indexed) DataFrame:')\n",
    "df = pd.read_excel('./data/basketball.xlsx', sheet_name=1)\n",
    "print('{}\\n'.format(df))\n",
    "\n",
    "print('MIL DataFrame:')\n",
    "df = pd.read_excel('./data/basketball.xlsx', sheet_name='MIL')\n",
    "print('{}\\n'.format(df))\n",
    "\n",
    "# Sheets 0 and 1\n",
    "df_dict = pd.read_excel('./data/basketball.xlsx', sheet_name=[0, 1])\n",
    "print('{}\\n'.format(df_dict[1]))\n",
    "\n",
    "# All Sheets\n",
    "df_dict = pd.read_excel('./data/basketball.xlsx', sheet_name=None)\n",
    "print(df_dict.keys())"
   ]
  },
  {
   "cell_type": "markdown",
   "id": "a9fafa46",
   "metadata": {},
   "source": [
    "### Read data from JSON\n",
    "- When we don't use any keyword arguments, \n",
    "    - pd.read_json treats each outer key of the JSON data as a column label and each inner key as a row label\n",
    "- when we set orient='index', \n",
    "    - the outer keys are treated as row labels and the inner keys are treated as column labels."
   ]
  },
  {
   "cell_type": "code",
   "execution_count": 179,
   "id": "89f98c3e",
   "metadata": {},
   "outputs": [
    {
     "name": "stdout",
     "output_type": "stream",
     "text": [
      "    tom june jack doe\n",
      "pos        P       1B\n",
      "HR        31        4\n",
      "\n",
      "         pos  HR\n",
      "tom june   P  31\n",
      "jack doe  1B   4\n",
      "\n"
     ]
    }
   ],
   "source": [
    "# data is the JSON data (as a Python dict)\n",
    "# print('{}\\n'.format(data))\n",
    "\n",
    "df1 = pd.read_json('./data/basketball.json')\n",
    "print('{}\\n'.format(df1))\n",
    "\n",
    "df2 = pd.read_json('./data/basketball.json', orient='index')\n",
    "print('{}\\n'.format(df2))"
   ]
  },
  {
   "cell_type": "markdown",
   "id": "cdbc8b3f",
   "metadata": {},
   "source": [
    "### Group DataFrame on one column"
   ]
  },
  {
   "cell_type": "code",
   "execution_count": 180,
   "id": "a5b564ad",
   "metadata": {},
   "outputs": [
    {
     "name": "stdout",
     "output_type": "stream",
     "text": [
      "   yearID teamID     H    R\n",
      "0    2017    CLE  1449  818\n",
      "1    2015    CLE  1395  669\n",
      "2    2016    BOS  1598  878\n",
      "3    2015    DET  1515  689\n",
      "4    2016    DET  1476  750\n",
      "5    2016    CLE  1435  777\n",
      "6    2015    BOS  1495  748\n",
      "7    2017    BOS  1461  785\n",
      "8    2017    DET  1435  735\n",
      "\n",
      "Year: 2015\n",
      "   yearID teamID     H    R\n",
      "1    2015    CLE  1395  669\n",
      "3    2015    DET  1515  689\n",
      "6    2015    BOS  1495  748\n",
      "\n",
      "Year: 2016\n",
      "   yearID teamID     H    R\n",
      "2    2016    BOS  1598  878\n",
      "4    2016    DET  1476  750\n",
      "5    2016    CLE  1435  777\n",
      "\n",
      "Year: 2017\n",
      "   yearID teamID     H    R\n",
      "0    2017    CLE  1449  818\n",
      "7    2017    BOS  1461  785\n",
      "8    2017    DET  1435  735\n",
      "\n"
     ]
    }
   ],
   "source": [
    "# Predefined df of MLB stats\n",
    "df = pd.read_csv('./data/MLBstats.csv')\n",
    "print('{}\\n'.format(df))\n",
    "\n",
    "groups = df.groupby('yearID')\n",
    "for name, group in groups:\n",
    "  print('Year: {}'.format(name))\n",
    "  print('{}\\n'.format(group))\n"
   ]
  },
  {
   "cell_type": "markdown",
   "id": "549b000b",
   "metadata": {},
   "source": [
    "### Aggregate functions on grouped DataFrame "
   ]
  },
  {
   "cell_type": "code",
   "execution_count": 181,
   "id": "cacc6c3b",
   "metadata": {},
   "outputs": [
    {
     "name": "stdout",
     "output_type": "stream",
     "text": [
      "   yearID teamID     H    R\n",
      "2    2016    BOS  1598  878\n",
      "4    2016    DET  1476  750\n",
      "5    2016    CLE  1435  777\n",
      "\n",
      "           H     R\n",
      "yearID            \n",
      "2015    4405  2106\n",
      "2016    4509  2405\n",
      "2017    4345  2338\n",
      "\n",
      "                  H           R\n",
      "yearID                         \n",
      "2015    1468.333333  702.000000\n",
      "2016    1503.000000  801.666667\n",
      "2017    1448.333333  779.333333\n",
      "\n"
     ]
    }
   ],
   "source": [
    "print('{}\\n'.format(groups.get_group(2016)))\n",
    "print('{}\\n'.format(groups.sum()))\n",
    "print('{}\\n'.format(groups.mean()))"
   ]
  },
  {
   "cell_type": "markdown",
   "id": "c5fd8739",
   "metadata": {},
   "source": [
    "### Filter DataFrame on groups"
   ]
  },
  {
   "cell_type": "code",
   "execution_count": 182,
   "id": "a068b7db",
   "metadata": {},
   "outputs": [
    {
     "name": "stdout",
     "output_type": "stream",
     "text": [
      "   yearID teamID     H    R\n",
      "0    2017    CLE  1449  818\n",
      "2    2016    BOS  1598  878\n",
      "4    2016    DET  1476  750\n",
      "5    2016    CLE  1435  777\n",
      "7    2017    BOS  1461  785\n",
      "8    2017    DET  1435  735\n"
     ]
    }
   ],
   "source": [
    "no2015 = groups.filter(lambda x: x.name > 2015)\n",
    "print(no2015)"
   ]
  },
  {
   "cell_type": "markdown",
   "id": "1414a23f",
   "metadata": {},
   "source": [
    "### Group DataFrame on multiple columns"
   ]
  },
  {
   "cell_type": "code",
   "execution_count": 183,
   "id": "92c7e6aa",
   "metadata": {},
   "outputs": [
    {
     "name": "stdout",
     "output_type": "stream",
     "text": [
      "Year, Team: (2016, 'BOS')\n",
      "   yearID   playerID teamID    H\n",
      "1    2016  bettsmo01    BOS  214\n",
      "2    2016  bogaexa01    BOS  192\n",
      "4    2016  pedrodu01    BOS  201\n",
      "\n",
      "Year, Team: (2016, 'HOU')\n",
      "   yearID   playerID teamID    H\n",
      "0    2016  altuvjo01    HOU  216\n",
      "3    2016  correca01    HOU  158\n",
      "\n",
      "Year, Team: (2017, 'BOS')\n",
      "   yearID   playerID teamID    H\n",
      "6    2017  bettsmo01    BOS  166\n",
      "7    2017  bogaexa01    BOS  156\n",
      "9    2017  pedrodu01    BOS  119\n",
      "\n",
      "Year, Team: (2017, 'HOU')\n",
      "   yearID   playerID teamID    H\n",
      "5    2017  altuvjo01    HOU  204\n",
      "8    2017  correca01    HOU  133\n",
      "\n",
      "                 H\n",
      "yearID teamID     \n",
      "2016   BOS     607\n",
      "       HOU     374\n",
      "2017   BOS     441\n",
      "       HOU     337\n"
     ]
    }
   ],
   "source": [
    "# player_df is predefined\n",
    "player_df = pd.read_csv('./data/player_df.csv')\n",
    "groups = player_df.groupby(['yearID', 'teamID'])\n",
    "\n",
    "for name, group in groups:\n",
    "  print('Year, Team: {}'.format(name))\n",
    "  print('{}\\n'.format(group))\n",
    "\n",
    "print(groups.sum())\n"
   ]
  },
  {
   "cell_type": "markdown",
   "id": "d79e8d1d",
   "metadata": {},
   "source": [
    "### Unique values for each column "
   ]
  },
  {
   "cell_type": "code",
   "execution_count": 8,
   "id": "82f9c521",
   "metadata": {},
   "outputs": [
    {
     "name": "stdout",
     "output_type": "stream",
     "text": [
      "Unique values for each column:\n",
      "a1    [1, 4, 8]\n",
      "a2    [2, 7, 6]\n",
      "a3       [4, 3]\n",
      "a4       [5, 6]\n",
      "a5    [a, r, f]\n",
      "a6    [b, t, s]\n",
      "dtype: object\n",
      "\n"
     ]
    }
   ],
   "source": [
    "df = pd.DataFrame([['1',2,4,5,'a','b'],[4,7,3,6,'r','t'],[8,6,3,6,'f','s']], columns=['a1','a2','a3','a4','a5','a6'])\n",
    "df1 = df.apply(lambda col: col.unique())\n",
    "print('Unique values for each column:\\n{}\\n'.format(df1))\n"
   ]
  },
  {
   "cell_type": "markdown",
   "id": "7d4e78cb",
   "metadata": {},
   "source": [
    "### Unique datatype for each column "
   ]
  },
  {
   "cell_type": "code",
   "execution_count": 7,
   "id": "26799624",
   "metadata": {},
   "outputs": [
    {
     "name": "stdout",
     "output_type": "stream",
     "text": [
      "Unique coltype for each column:\n",
      "a1    [<class 'str'>, <class 'int'>]\n",
      "a2                   [<class 'int'>]\n",
      "a3                   [<class 'int'>]\n",
      "a4                   [<class 'int'>]\n",
      "a5                   [<class 'str'>]\n",
      "a6                   [<class 'str'>]\n",
      "dtype: object\n",
      "\n"
     ]
    }
   ],
   "source": [
    "df = pd.DataFrame([['1',2,4,5,'a','b'],[4,7,3,6,'r','t'],[8,6,3,6,'f','s']], columns=['a1','a2','a3','a4','a5','a6'])\n",
    "df1 = df.applymap(type).apply(lambda col: col.unique())\n",
    "print('Unique coltype for each column:\\n{}\\n'.format(df1))"
   ]
  },
  {
   "cell_type": "code",
   "execution_count": null,
   "id": "13cc3368",
   "metadata": {},
   "outputs": [],
   "source": []
  },
  {
   "cell_type": "code",
   "execution_count": null,
   "id": "a3a60d3a",
   "metadata": {},
   "outputs": [],
   "source": []
  },
  {
   "cell_type": "markdown",
   "id": "53336e73",
   "metadata": {},
   "source": [
    "### "
   ]
  },
  {
   "cell_type": "code",
   "execution_count": 184,
   "id": "e36f19e6",
   "metadata": {},
   "outputs": [
    {
     "data": {
      "text/plain": [
       "2338"
      ]
     },
     "execution_count": 184,
     "metadata": {},
     "output_type": "execute_result"
    }
   ],
   "source": [
    "# Goal is to retrieve home run (R) statistics for 2017.\n",
    "\n",
    "df = pd.read_csv('./data/MLBstats.csv')\n",
    "year_group = df.groupby(['yearID'])\n",
    "year_stats = year_group.sum()\n",
    "\n",
    "hr_2017 = year_stats.loc[2017, 'R'] # 2017 is row label while R is column label\n",
    "hr_2017\n"
   ]
  },
  {
   "cell_type": "markdown",
   "id": "3717fa38",
   "metadata": {},
   "source": [
    "### Quantitative vs Categorical features\n",
    "- columns are referred as features of a dataset\n",
    "- features can be quantitative vs categorical \n",
    "\n",
    "### DataFrame - Quantitative features"
   ]
  },
  {
   "cell_type": "code",
   "execution_count": 185,
   "id": "4307354e",
   "metadata": {},
   "outputs": [
    {
     "name": "stdout",
     "output_type": "stream",
     "text": [
      "Original dataset:\n",
      "   T1  T2  T3\n",
      "0  10  25  16\n",
      "1  15  27  15\n",
      "2   8  25  10\n",
      "\n",
      "Sum of all rows in each column (by index):\n",
      "T1    33\n",
      "T2    77\n",
      "T3    41\n",
      "dtype: int64\n",
      "\n",
      "Sum of all columns in each row (by column):\n",
      "0    51\n",
      "1    57\n",
      "2    43\n",
      "dtype: int64\n",
      "\n",
      "Mean by index:\n",
      "T1    11.000000\n",
      "T2    25.666667\n",
      "T3    13.666667\n",
      "dtype: float64\n",
      "\n",
      "Mean by column:\n",
      "0    17.000000\n",
      "1    19.000000\n",
      "2    14.333333\n",
      "dtype: float64\n",
      "\n"
     ]
    }
   ],
   "source": [
    "df = pd.DataFrame({\n",
    "  'T1': [10, 15, 8],\n",
    "  'T2': [25, 27, 25],\n",
    "  'T3': [16, 15, 10]})\n",
    "  \n",
    "print('Original dataset:\\n{}\\n'.format(df))\n",
    "\n",
    "print('Sum of all rows in each column (by index):\\n{}\\n'.format(df.sum()))\n",
    "\n",
    "print('Sum of all columns in each row (by column):\\n{}\\n'.format(df.sum(axis=1)))\n",
    "\n",
    "print('Mean by index:\\n{}\\n'.format(df.mean()))\n",
    "\n",
    "print('Mean by column:\\n{}\\n'.format(df.mean(axis=1)))"
   ]
  },
  {
   "cell_type": "markdown",
   "id": "9ae8ab23",
   "metadata": {},
   "source": [
    "### DataFrame - Weighted features"
   ]
  },
  {
   "cell_type": "code",
   "execution_count": 186,
   "id": "c87dc308",
   "metadata": {},
   "outputs": [
    {
     "name": "stdout",
     "output_type": "stream",
     "text": [
      "      T1      T2      T3\n",
      "0    0.1    0.25    0.16\n",
      "1  150.0  240.00  100.00\n",
      "\n",
      "      T1     T2      T3\n",
      "0    0.2    0.5    0.32\n",
      "1  300.0  480.0  200.00\n",
      "\n",
      "      T1     T2     T3\n",
      "0  100.0  250.0  160.0\n",
      "1  150.0  240.0  100.0\n",
      "\n",
      "      T1     T2     T3\n",
      "0  100.0  125.0  160.0\n",
      "1  150.0  120.0  100.0\n",
      "\n",
      "0    385.0\n",
      "1    370.0\n",
      "dtype: float64\n",
      "\n"
     ]
    }
   ],
   "source": [
    "df = pd.DataFrame({\n",
    "  'T1': [0.1, 150.],\n",
    "  'T2': [0.25, 240.],\n",
    "  'T3': [0.16, 100.]})\n",
    "  \n",
    "print('{}\\n'.format(df))\n",
    "\n",
    "print('{}\\n'.format(df.multiply(2)))\n",
    "\n",
    "df_ms = df.multiply([1000, 1], axis=0)\n",
    "print('{}\\n'.format(df_ms))\n",
    "\n",
    "df_w = df_ms.multiply([1,0.5,1])\n",
    "print('{}\\n'.format(df_w))\n",
    "print('{}\\n'.format(df_w.sum(axis=1)))"
   ]
  },
  {
   "cell_type": "markdown",
   "id": "52a8f9fe",
   "metadata": {},
   "source": [
    "### df.reset_index vs df.reindex"
   ]
  },
  {
   "cell_type": "code",
   "execution_count": null,
   "id": "96263ff4",
   "metadata": {},
   "outputs": [],
   "source": []
  },
  {
   "cell_type": "markdown",
   "id": "448773d6",
   "metadata": {},
   "source": [
    "### df.loc vs df.iloc\n",
    "\n",
    "- function .loc is used for label indexing\n",
    "- function .iloc is used for integer indexing\n",
    "\n",
    "#### df.loc\n",
    "\n",
    "```python\n",
    "titanic.loc[titanic[‘Sex’]==’male’]\n",
    "\n",
    "titanic.loc[(titanic['Sex']=='male') & (titanic['Embarked']=='S')].head()\n",
    "\n",
    "titanic.loc[0:5,['Sex','Age']] # Here 0:5 is the integer index\n",
    "\n",
    "```\n",
    "\n",
    "#### df.iloc\n",
    "\n",
    "```python\n",
    "titanic.iloc[0,0] # give element at row=0 and col=0\n",
    "\n",
    "titanic.iloc[0:4,2:5] # give elements from row 0:4 and columns 2:5\n",
    "\n",
    "```"
   ]
  },
  {
   "cell_type": "code",
   "execution_count": null,
   "id": "31338e8b",
   "metadata": {},
   "outputs": [],
   "source": []
  },
  {
   "cell_type": "code",
   "execution_count": null,
   "id": "493acead",
   "metadata": {},
   "outputs": [],
   "source": []
  },
  {
   "cell_type": "markdown",
   "id": "812395e0",
   "metadata": {},
   "source": [
    "## SciPy"
   ]
  },
  {
   "cell_type": "markdown",
   "id": "14296ea1",
   "metadata": {},
   "source": [
    "Subpackage | Description\n",
    ":--|:--\n",
    "cluster | Clustering algorithms\n",
    "constants | Physical and mathematical constants\n",
    "fftpack | Fast Fourier Transform routines\n",
    "integrate | Integration and ordinary differential equation solvers\n",
    "interpolate | Interpolation and smoothing splines\n",
    "io | Input and Output\n",
    "linalg | Linear algebra\n",
    "ndimage | N-dimensional image processing\n",
    "odr | Orthogonal distance regression\n",
    "optimize | Optimization and root-finding routines\n",
    "signal | Signal processing\n",
    "sparse | Sparse matrices and associated routines\n",
    "spatial | Spatial data structures and algorithms\n",
    "special | Special functions\n",
    "stats | Statistical distributions and functions"
   ]
  },
  {
   "cell_type": "markdown",
   "id": "fb1f988a",
   "metadata": {},
   "source": [
    "## scipy.stats"
   ]
  },
  {
   "cell_type": "markdown",
   "id": "670e2007",
   "metadata": {},
   "source": [
    "## matplotlib"
   ]
  },
  {
   "cell_type": "code",
   "execution_count": 187,
   "id": "94987d4d",
   "metadata": {},
   "outputs": [],
   "source": [
    "import matplotlib"
   ]
  },
  {
   "cell_type": "code",
   "execution_count": 188,
   "id": "e8817eb7",
   "metadata": {},
   "outputs": [
    {
     "name": "stdout",
     "output_type": "stream",
     "text": [
      "/Users/chandrasingh/opt/anaconda3/lib/python3.8/site-packages/matplotlib/mpl-data/matplotlibrc\n"
     ]
    }
   ],
   "source": [
    "print (matplotlib.matplotlib_fname()) "
   ]
  },
  {
   "cell_type": "code",
   "execution_count": 189,
   "id": "b6478cb7",
   "metadata": {
    "scrolled": true
   },
   "outputs": [],
   "source": [
    "# print (matplotlib.rcParams) "
   ]
  },
  {
   "cell_type": "markdown",
   "id": "5cac28b8",
   "metadata": {},
   "source": [
    "## Seaborn\n",
    "## Plotly"
   ]
  },
  {
   "cell_type": "code",
   "execution_count": null,
   "id": "d21de2b9",
   "metadata": {},
   "outputs": [],
   "source": []
  },
  {
   "cell_type": "markdown",
   "id": "28c2e7e2",
   "metadata": {},
   "source": []
  },
  {
   "cell_type": "markdown",
   "id": "d7bc0232",
   "metadata": {},
   "source": [
    "## References \n",
    "- https://numpy.org/doc/stable/user/basics.html\n"
   ]
  },
  {
   "cell_type": "code",
   "execution_count": null,
   "id": "f0df3b7b",
   "metadata": {},
   "outputs": [],
   "source": []
  }
 ],
 "metadata": {
  "kernelspec": {
   "display_name": "Python 3 (ipykernel)",
   "language": "python",
   "name": "python3"
  },
  "language_info": {
   "codemirror_mode": {
    "name": "ipython",
    "version": 3
   },
   "file_extension": ".py",
   "mimetype": "text/x-python",
   "name": "python",
   "nbconvert_exporter": "python",
   "pygments_lexer": "ipython3",
   "version": "3.8.8"
  },
  "toc": {
   "base_numbering": 1,
   "nav_menu": {},
   "number_sections": true,
   "sideBar": true,
   "skip_h1_title": false,
   "title_cell": "Table of Contents",
   "title_sidebar": "Contents",
   "toc_cell": false,
   "toc_position": {
    "height": "calc(100% - 180px)",
    "left": "10px",
    "top": "150px",
    "width": "313px"
   },
   "toc_section_display": true,
   "toc_window_display": true
  }
 },
 "nbformat": 4,
 "nbformat_minor": 5
}
