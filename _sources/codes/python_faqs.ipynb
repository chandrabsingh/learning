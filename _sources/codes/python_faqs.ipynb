{
 "cells": [
  {
   "cell_type": "markdown",
   "id": "92d56a12",
   "metadata": {},
   "source": [
    "# Python FAQs\n",
    "\n",
    "## Print all interactive output"
   ]
  },
  {
   "cell_type": "code",
   "execution_count": 1,
   "id": "54285904",
   "metadata": {},
   "outputs": [],
   "source": [
    "from IPython.core.interactiveshell import InteractiveShell\n",
    "InteractiveShell.ast_node_interactivity = \"all\""
   ]
  },
  {
   "cell_type": "markdown",
   "id": "ed0d0e47",
   "metadata": {},
   "source": [
    "## Python - dynamic typed language\n",
    "\n",
    "- Interpreter does type checking only when the code runs\n",
    "- This is allowed as Python is dynamic typed language and data type of variable is not used during initialization\n",
    "- Static type checks are possible though with type hints using other tools"
   ]
  },
  {
   "cell_type": "code",
   "execution_count": 2,
   "id": "a2efcb1e",
   "metadata": {},
   "outputs": [
    {
     "data": {
      "text/plain": [
       "str"
      ]
     },
     "execution_count": 2,
     "metadata": {},
     "output_type": "execute_result"
    },
    {
     "data": {
      "text/plain": [
       "int"
      ]
     },
     "execution_count": 2,
     "metadata": {},
     "output_type": "execute_result"
    }
   ],
   "source": [
    "dtype = \"Hello\"\n",
    "type(dtype)\n",
    "\n",
    "dtype = 12\n",
    "type(dtype)"
   ]
  },
  {
   "cell_type": "markdown",
   "id": "868ab46d",
   "metadata": {},
   "source": [
    "## Duck typing\n",
    "\n",
    "- When we call len() on any Python object it invokes a \\_\\_len\\_\\_() method\n"
   ]
  },
  {
   "cell_type": "code",
   "execution_count": 3,
   "id": "da373ef8",
   "metadata": {},
   "outputs": [
    {
     "data": {
      "text/plain": [
       "101"
      ]
     },
     "execution_count": 3,
     "metadata": {},
     "output_type": "execute_result"
    }
   ],
   "source": [
    "class TClass:\n",
    "    def __len__(self):\n",
    "        return 101\n",
    "\n",
    "o = TClass()\n",
    "len(o)\n",
    "\n",
    "# the below will fail\n",
    "l = 12\n",
    "# len(l) # TypeError: object of type 'int' has no len()"
   ]
  },
  {
   "cell_type": "markdown",
   "id": "30519d9d",
   "metadata": {},
   "source": [
    "## Type hints\n",
    "\n",
    "- introduced in Python 3.5\n",
    "- annotate arguments and the return value\n",
    "- help catch certain errors\n",
    "- help document your code\n",
    "- improve IDEs and linters\n",
    "- help build and maintain a cleaner architecture\n"
   ]
  },
  {
   "cell_type": "code",
   "execution_count": 4,
   "id": "0aba45ac",
   "metadata": {},
   "outputs": [
    {
     "data": {
      "text/plain": [
       "<function __main__.headline(text, align=True)>"
      ]
     },
     "execution_count": 4,
     "metadata": {},
     "output_type": "execute_result"
    },
    {
     "name": "stdout",
     "output_type": "stream",
     "text": [
      "Python Type Checking\n",
      "--------------------\n",
      "oooooooooooooo Python Type Checking oooooooooooooo\n"
     ]
    },
    {
     "data": {
      "text/plain": [
       "<function __main__.headline(text: str, align: bool = True) -> str>"
      ]
     },
     "execution_count": 4,
     "metadata": {},
     "output_type": "execute_result"
    },
    {
     "name": "stdout",
     "output_type": "stream",
     "text": [
      "Python Type Checking\n",
      "--------------------\n",
      "Python Type Checking\n",
      "--------------------\n"
     ]
    }
   ],
   "source": [
    "# example of adding type information to function\n",
    "def greet(name: str) -> str:\n",
    "    return \"Hello, \" + name\n",
    "\n",
    "# without type hints\n",
    "def headline(text, align=True):\n",
    "   if align:\n",
    "       return f\"{text.title()}\\n{'-' * len(text)}\"\n",
    "   else:\n",
    "       return f\" {text.title()} \".center(50, \"o\")\n",
    "\n",
    "headline\n",
    "print(headline(\"python type checking\"))\n",
    "print(headline(\"python type checking\", align=False))\n",
    "\n",
    "# with type hints\n",
    "def headline(text: str, align: bool = True) -> str:\n",
    "   if align:\n",
    "       return f\"{text.title()}\\n{'-' * len(text)}\"\n",
    "   else:\n",
    "       return f\" {text.title()} \".center(50, \"o\")\n",
    "\n",
    "\n",
    "headline\n",
    "print(headline(\"python type checking\", align=\"left\"))\n",
    "print(headline(\"python type checking\", align=\"center\")) \n",
    "\n",
    "# the above line was allowed as python is dynamic typed language, align is type casted to boolean from string"
   ]
  },
  {
   "cell_type": "markdown",
   "id": "dfaf2044",
   "metadata": {},
   "source": [
    "## Function Annotations"
   ]
  },
  {
   "cell_type": "code",
   "execution_count": 5,
   "id": "41aebeb4",
   "metadata": {},
   "outputs": [
    {
     "data": {
      "text/plain": [
       "{'radius': float, 'return': float}"
      ]
     },
     "execution_count": 5,
     "metadata": {},
     "output_type": "execute_result"
    }
   ],
   "source": [
    "import math\n",
    "def circumference(radius: float) -> float:\n",
    "    return 2 * math.pi * radius\n",
    "\n",
    "circumference.__annotations__"
   ]
  },
  {
   "cell_type": "markdown",
   "id": "369bfc42",
   "metadata": {},
   "source": [
    "## Variable Annotations"
   ]
  },
  {
   "cell_type": "code",
   "execution_count": 6,
   "id": "12e437d9",
   "metadata": {},
   "outputs": [
    {
     "data": {
      "text/plain": [
       "{'radius': float, 'return': float}"
      ]
     },
     "execution_count": 6,
     "metadata": {},
     "output_type": "execute_result"
    },
    {
     "data": {
      "text/plain": [
       "6.284"
      ]
     },
     "execution_count": 6,
     "metadata": {},
     "output_type": "execute_result"
    },
    {
     "data": {
      "text/plain": [
       "{'pi': float, 'nothing': str}"
      ]
     },
     "execution_count": 6,
     "metadata": {},
     "output_type": "execute_result"
    }
   ],
   "source": [
    "pi: float = 3.142\n",
    "    \n",
    "def circumference(radius: float) -> float:\n",
    "    return 2 * pi * radius\n",
    "\n",
    "circumference.__annotations__\n",
    "circumference(1)\n",
    "\n",
    "nothing: str\n",
    "__annotations__\n",
    "\n",
    "# pi.__annotations__ # AttributeError: 'float' object has no attribute '__annotations__'\n",
    "\n",
    "# print(nothing) # NameError: name 'nothing' is not defined"
   ]
  },
  {
   "cell_type": "markdown",
   "id": "da99cacd",
   "metadata": {},
   "source": [
    "## Type comments\n",
    "\n",
    "- specially formatted comments that can be used to add type hints compatible with older code\n",
    "- type comments **will not be available in the \\_\\_annotations\\_\\_ dictionary**\n",
    "- For variables, add the type comment on the same line\n",
    "- For functions, a type comment must start with the type: literal and be on the same line as the function definition or the following line\n",
    "  - If you want to annotate a function with several arguments, you write each type separated by comma. You can also write each argument on a separate line with its own annotation"
   ]
  },
  {
   "cell_type": "code",
   "execution_count": 7,
   "id": "9336991c",
   "metadata": {},
   "outputs": [
    {
     "data": {
      "text/plain": [
       "28.274333882308138"
      ]
     },
     "execution_count": 7,
     "metadata": {},
     "output_type": "execute_result"
    },
    {
     "data": {
      "text/plain": [
       "{}"
      ]
     },
     "execution_count": 7,
     "metadata": {},
     "output_type": "execute_result"
    }
   ],
   "source": [
    "my_variable = 42 # type: int\n",
    "\n",
    "import math\n",
    "def circumference(radius):\n",
    "    # type: (float) -> float\n",
    "    return 2 * math.pi * radius\n",
    "\n",
    "circumference(4.5)\n",
    "\n",
    "circumference.__annotations__\n",
    "# __annotations__"
   ]
  },
  {
   "cell_type": "markdown",
   "id": "dfd210af",
   "metadata": {},
   "source": [
    "## List - Print memory size in bytes"
   ]
  },
  {
   "cell_type": "code",
   "execution_count": 8,
   "id": "760e6498",
   "metadata": {},
   "outputs": [],
   "source": [
    "lst_lst = [[], [1], ['1'], [1, 2], ['1', '2']]"
   ]
  },
  {
   "cell_type": "code",
   "execution_count": 9,
   "id": "ee539070",
   "metadata": {},
   "outputs": [
    {
     "name": "stdout",
     "output_type": "stream",
     "text": [
      "56 64 64 72 72 96\n"
     ]
    }
   ],
   "source": [
    "import sys\n",
    "for lst in lst_lst:\n",
    "    print(sys.getsizeof(lst), end=' ')\n",
    "print(sys.getsizeof(lst_lst))"
   ]
  },
  {
   "cell_type": "code",
   "execution_count": 10,
   "id": "5e8477cb",
   "metadata": {},
   "outputs": [
    {
     "name": "stdout",
     "output_type": "stream",
     "text": [
      "Help on built-in function getsizeof in module sys:\n",
      "\n",
      "getsizeof(...)\n",
      "    getsizeof(object [, default]) -> int\n",
      "    \n",
      "    Return the size of object in bytes.\n",
      "\n"
     ]
    }
   ],
   "source": [
    "help(sys.getsizeof)"
   ]
  },
  {
   "cell_type": "markdown",
   "id": "f26d6033",
   "metadata": {},
   "source": [
    "## List - Print growth in memory size"
   ]
  },
  {
   "cell_type": "code",
   "execution_count": 11,
   "id": "1f79b924",
   "metadata": {},
   "outputs": [
    {
     "name": "stdout",
     "output_type": "stream",
     "text": [
      "Size of list length 0 in 56\n",
      "Size of list length 1 in 88\n",
      "Size of list length 2 in 88\n",
      "Size of list length 3 in 88\n",
      "Size of list length 4 in 88\n",
      "Size of list length 5 in 120\n",
      "Size of list length 6 in 120\n",
      "Size of list length 7 in 120\n",
      "Size of list length 8 in 120\n",
      "Size of list length 9 in 184\n",
      "Size of list length 10 in 184\n",
      "Size of list length 11 in 184\n",
      "Size of list length 12 in 184\n",
      "Size of list length 13 in 184\n",
      "Size of list length 14 in 184\n",
      "Size of list length 15 in 184\n",
      "Size of list length 16 in 184\n",
      "Size of list length 17 in 256\n",
      "Size of list length 18 in 256\n",
      "Size of list length 19 in 256\n"
     ]
    }
   ],
   "source": [
    "a = []\n",
    "for i in range(20):\n",
    "    print('Size of list length {0} in {1}'.format(len(a), sys.getsizeof(a)))\n",
    "    a.append(i)"
   ]
  },
  {
   "cell_type": "markdown",
   "id": "fb623512",
   "metadata": {},
   "source": [
    "## collections - namedtuple\n",
    "- returns a new subclass of a tuple but with named fields\n",
    "- no need to keep track of each item’s index as each item is named and accessed via a class property\n",
    "- immutable data structure"
   ]
  },
  {
   "cell_type": "code",
   "execution_count": 60,
   "id": "89e1f66e",
   "metadata": {},
   "outputs": [
    {
     "name": "stdout",
     "output_type": "stream",
     "text": [
      "('Bob', 12, 45)\n",
      "Computer_Science(name='Bob', id=15, score=56)\n"
     ]
    }
   ],
   "source": [
    "record1 = ('Bob', 12, 45)\n",
    "from collections import namedtuple\n",
    "Record = namedtuple('Computer_Science', 'name id score')\n",
    "record2 = Record('Bob', id=15, score=56)\n",
    "print(record1)\n",
    "print(record2)"
   ]
  },
  {
   "cell_type": "code",
   "execution_count": 61,
   "id": "ca14c414",
   "metadata": {},
   "outputs": [
    {
     "name": "stdout",
     "output_type": "stream",
     "text": [
      "Help on function namedtuple in module collections:\n",
      "\n",
      "namedtuple(typename, field_names, *, rename=False, defaults=None, module=None)\n",
      "    Returns a new subclass of tuple with named fields.\n",
      "    \n",
      "    >>> Point = namedtuple('Point', ['x', 'y'])\n",
      "    >>> Point.__doc__                   # docstring for the new class\n",
      "    'Point(x, y)'\n",
      "    >>> p = Point(11, y=22)             # instantiate with positional args or keywords\n",
      "    >>> p[0] + p[1]                     # indexable like a plain tuple\n",
      "    33\n",
      "    >>> x, y = p                        # unpack like a regular tuple\n",
      "    >>> x, y\n",
      "    (11, 22)\n",
      "    >>> p.x + p.y                       # fields also accessible by name\n",
      "    33\n",
      "    >>> d = p._asdict()                 # convert to a dictionary\n",
      "    >>> d['x']\n",
      "    11\n",
      "    >>> Point(**d)                      # convert from a dictionary\n",
      "    Point(x=11, y=22)\n",
      "    >>> p._replace(x=100)               # _replace() is like str.replace() but targets named fields\n",
      "    Point(x=100, y=22)\n",
      "\n"
     ]
    }
   ],
   "source": [
    "help(namedtuple)"
   ]
  },
  {
   "cell_type": "code",
   "execution_count": 77,
   "id": "be74cf25",
   "metadata": {},
   "outputs": [
    {
     "name": "stdout",
     "output_type": "stream",
     "text": [
      "Counter({'u': 3, 's': 2, 'p': 1, 'e': 1, 'r': 1, 'f': 1, 'l': 1, 'o': 1})\n",
      "1200.0\n",
      "1234\n"
     ]
    }
   ],
   "source": [
    "from collections import Counter\n",
    "Counter('superfluous')\n",
    "counter = Counter('superfluous')\n",
    "print(counter)\n",
    "\n",
    "auto_parts = ('1234', 'Ford Engine', 1200.00, 10)\n",
    "print (auto_parts[2] ) \n",
    "\n",
    "id_num, desc, cost, amount = auto_parts\n",
    "print (id_num )"
   ]
  },
  {
   "cell_type": "code",
   "execution_count": 63,
   "id": "436f80bb",
   "metadata": {},
   "outputs": [
    {
     "name": "stdout",
     "output_type": "stream",
     "text": [
      "Parts(id_num='1234', desc='Ford Engine', cost=1200.0, amount=10)\n"
     ]
    }
   ],
   "source": [
    "from collections import namedtuple\n",
    "\n",
    "Parts = {'id_num':'1234', 'desc':'Ford Engine',\n",
    "     'cost':1200.00, 'amount':10}\n",
    "parts = namedtuple('Parts', Parts.keys())(**Parts)\n",
    "print (parts)"
   ]
  },
  {
   "cell_type": "code",
   "execution_count": 68,
   "id": "1164a329",
   "metadata": {},
   "outputs": [
    {
     "data": {
      "text/plain": [
       "__main__.Parts"
      ]
     },
     "execution_count": 68,
     "metadata": {},
     "output_type": "execute_result"
    }
   ],
   "source": [
    "# Parts.keys()\n",
    "# (**Parts)\n",
    "namedtuple('Parts', Parts.keys())"
   ]
  },
  {
   "cell_type": "code",
   "execution_count": 70,
   "id": "b9a38ce4",
   "metadata": {},
   "outputs": [
    {
     "name": "stdout",
     "output_type": "stream",
     "text": [
      "<class '__main__.Scientist'>\n",
      "Scientist(name='Chandra', field='math', born=1982, nobel=True)\n",
      "Chandra\n"
     ]
    }
   ],
   "source": [
    "Scientist = namedtuple('Scientist', ['name', 'field', 'born', 'nobel'])\n",
    "print(Scientist)\n",
    "\n",
    "cbs = Scientist(name='Chandra', field='math', born=1982, nobel=True)\n",
    "print(cbs)\n",
    "print(cbs.name)\n",
    "\n",
    "# cbs.name = 'ChandraS' # Immutable error"
   ]
  },
  {
   "cell_type": "markdown",
   "id": "590edc82",
   "metadata": {},
   "source": [
    "## tuple vs int - assignment differences"
   ]
  },
  {
   "cell_type": "code",
   "execution_count": 14,
   "id": "f66a1fac",
   "metadata": {},
   "outputs": [
    {
     "name": "stdout",
     "output_type": "stream",
     "text": [
      "<class 'tuple'>\n",
      "<class 'int'>\n",
      "<class 'tuple'>\n"
     ]
    }
   ],
   "source": [
    "a,b,c = (), (1), (1,)\n",
    "print(type(a), type(b), type(c), sep='\\n')"
   ]
  },
  {
   "cell_type": "markdown",
   "id": "7b103741",
   "metadata": {},
   "source": [
    "## Tuple - Print growth in memory size"
   ]
  },
  {
   "cell_type": "code",
   "execution_count": 15,
   "id": "e2a37aea",
   "metadata": {},
   "outputs": [
    {
     "name": "stdout",
     "output_type": "stream",
     "text": [
      "56 64 64 72 72 96\n"
     ]
    }
   ],
   "source": [
    "lst_tup = [(), (1), (1,2), (1,2,3), (1,2,3,4)]\n",
    "for lst in lst_lst:\n",
    "    print(sys.getsizeof(lst), end=' ')\n",
    "print(sys.getsizeof(lst_lst))"
   ]
  },
  {
   "cell_type": "markdown",
   "id": "1a4a7535",
   "metadata": {},
   "source": [
    "## Base class as object vs default builtin"
   ]
  },
  {
   "cell_type": "code",
   "execution_count": 79,
   "id": "d3335c91",
   "metadata": {},
   "outputs": [
    {
     "name": "stdout",
     "output_type": "stream",
     "text": [
      "(<class 'object'>,)\n",
      "(<class 'object'>,)\n"
     ]
    }
   ],
   "source": [
    "## experiment\n",
    "class TestClass:\n",
    "    def iterate(obj):\n",
    "        for _ in obj:\n",
    "            pass\n",
    "\n",
    "class TestClass2(object):\n",
    "    def iterate(obj):\n",
    "        for _ in obj:\n",
    "            pass\n",
    "\n",
    "print(TestClass.__bases__) # contains a list of all the base classes that the given class inherits.\n",
    "print(TestClass2.__bases__)"
   ]
  },
  {
   "cell_type": "markdown",
   "id": "219d06b0",
   "metadata": {},
   "source": [
    "## Time list vs tuple iteration"
   ]
  },
  {
   "cell_type": "code",
   "execution_count": 17,
   "id": "2592dbb9",
   "metadata": {},
   "outputs": [
    {
     "name": "stdout",
     "output_type": "stream",
     "text": [
      "<class 'tuple'>\n",
      "1.01 ms ± 81.6 µs per loop (mean ± std. dev. of 7 runs, 1,000 loops each)\n",
      "857 µs ± 45.7 µs per loop (mean ± std. dev. of 7 runs, 1,000 loops each)\n"
     ]
    }
   ],
   "source": [
    "a = [1]*100000\n",
    "b =(1,)*100000\n",
    "print(type(b))\n",
    "%timeit TestClass.iterate(a)\n",
    "%timeit TestClass.iterate(b)"
   ]
  },
  {
   "cell_type": "markdown",
   "id": "1864c019",
   "metadata": {},
   "source": [
    "## Print object attributes "
   ]
  },
  {
   "cell_type": "code",
   "execution_count": 18,
   "id": "250581b1",
   "metadata": {},
   "outputs": [
    {
     "name": "stdout",
     "output_type": "stream",
     "text": [
      "['__abs__', '__add__', '__and__', '__bool__', '__ceil__', '__class__', '__delattr__', '__dir__', '__divmod__', '__doc__', '__eq__', '__float__', '__floor__', '__floordiv__', '__format__', '__ge__', '__getattribute__', '__getnewargs__', '__gt__', '__hash__', '__index__', '__init__', '__init_subclass__', '__int__', '__invert__', '__le__', '__lshift__', '__lt__', '__mod__', '__mul__', '__ne__', '__neg__', '__new__', '__or__', '__pos__', '__pow__', '__radd__', '__rand__', '__rdivmod__', '__reduce__', '__reduce_ex__', '__repr__', '__rfloordiv__', '__rlshift__', '__rmod__', '__rmul__', '__ror__', '__round__', '__rpow__', '__rrshift__', '__rshift__', '__rsub__', '__rtruediv__', '__rxor__', '__setattr__', '__sizeof__', '__str__', '__sub__', '__subclasshook__', '__truediv__', '__trunc__', '__xor__', 'as_integer_ratio', 'bit_length', 'conjugate', 'denominator', 'from_bytes', 'imag', 'numerator', 'real', 'to_bytes']\n",
      "True\n",
      "False\n",
      "['__class__', '__delattr__', '__dir__', '__doc__', '__eq__', '__format__', '__ge__', '__getattribute__', '__gt__', '__hash__', '__init__', '__init_subclass__', '__le__', '__lt__', '__ne__', '__new__', '__reduce__', '__reduce_ex__', '__repr__', '__setattr__', '__sizeof__', '__str__', '__subclasshook__']\n"
     ]
    }
   ],
   "source": [
    "print(dir(1))#print all attributes\n",
    "print(isinstance(1, int)) # check instance type\n",
    "print(isinstance(1, float))\n",
    "o=object()\n",
    "print(dir(o))"
   ]
  },
  {
   "cell_type": "code",
   "execution_count": 19,
   "id": "71a78523",
   "metadata": {},
   "outputs": [
    {
     "name": "stdout",
     "output_type": "stream",
     "text": [
      "<slot wrapper '__init__' of 'object' objects>\n"
     ]
    }
   ],
   "source": [
    "print(TestClass.__init__)"
   ]
  },
  {
   "cell_type": "markdown",
   "id": "83ebf4ee",
   "metadata": {},
   "source": [
    "## Tuple - mixed datatype"
   ]
  },
  {
   "cell_type": "code",
   "execution_count": 20,
   "id": "a86817fe",
   "metadata": {},
   "outputs": [
    {
     "name": "stdout",
     "output_type": "stream",
     "text": [
      "([1, 2, 3, 4], '3', '4')\n"
     ]
    }
   ],
   "source": [
    "eg_tuple = ([1,2,3], '3', '4')\n",
    "eg_tuple[0].append(4)\n",
    "print(eg_tuple)\n",
    "# eg_tuple[0]=[1]"
   ]
  },
  {
   "cell_type": "markdown",
   "id": "663949f4",
   "metadata": {},
   "source": [
    "## Object attributes"
   ]
  },
  {
   "cell_type": "code",
   "execution_count": 21,
   "id": "52f512eb",
   "metadata": {},
   "outputs": [
    {
     "data": {
      "text/plain": [
       "['- What is the significance of __class__?',\n",
       " '- What is the significance of __delattr__?',\n",
       " '- What is the significance of __dir__?',\n",
       " '- What is the significance of __doc__?',\n",
       " '- What is the significance of __eq__?',\n",
       " '- What is the significance of __format__?',\n",
       " '- What is the significance of __ge__?',\n",
       " '- What is the significance of __getattribute__?',\n",
       " '- What is the significance of __gt__?',\n",
       " '- What is the significance of __hash__?',\n",
       " '- What is the significance of __init__?',\n",
       " '- What is the significance of __init_subclass__?',\n",
       " '- What is the significance of __le__?',\n",
       " '- What is the significance of __lt__?',\n",
       " '- What is the significance of __ne__?',\n",
       " '- What is the significance of __new__?',\n",
       " '- What is the significance of __reduce__?',\n",
       " '- What is the significance of __reduce_ex__?',\n",
       " '- What is the significance of __repr__?',\n",
       " '- What is the significance of __setattr__?',\n",
       " '- What is the significance of __sizeof__?',\n",
       " '- What is the significance of __str__?',\n",
       " '- What is the significance of __subclasshook__?']"
      ]
     },
     "execution_count": 21,
     "metadata": {},
     "output_type": "execute_result"
    }
   ],
   "source": [
    "['- What is the significance of {0}?'.format(n) for n in dir(o)]"
   ]
  },
  {
   "cell_type": "markdown",
   "id": "df50cb30",
   "metadata": {},
   "source": [
    "## TODO - builtins package"
   ]
  },
  {
   "cell_type": "code",
   "execution_count": 22,
   "id": "b0fb5b96",
   "metadata": {
    "scrolled": false
   },
   "outputs": [],
   "source": [
    "import builtins\n",
    "# help(builtins) # - lots of learnings out here!!"
   ]
  },
  {
   "cell_type": "markdown",
   "id": "a8700790",
   "metadata": {},
   "source": [
    "## Difference between function and method"
   ]
  },
  {
   "cell_type": "code",
   "execution_count": 23,
   "id": "ff254d69",
   "metadata": {},
   "outputs": [
    {
     "name": "stdout",
     "output_type": "stream",
     "text": [
      "1-> <class '__main__.TestClass'>\n",
      "2-> <class '__main__.TestClass2'>\n",
      "3-> <class 'method'>\n",
      "4-> <class 'method'>\n",
      "5-> <class 'function'>\n",
      "6-> <class 'function'>\n"
     ]
    }
   ],
   "source": [
    "t1 = TestClass()\n",
    "t2 = TestClass2()\n",
    "print('1->', t1.__class__)\n",
    "print('2->', t2.__class__)\n",
    "print('3->', t1.iterate.__class__)\n",
    "print('4->', type(t1.iterate))\n",
    "\n",
    "def simple_function():\n",
    "    pass\n",
    "\n",
    "print('5->', simple_function.__class__)\n",
    "print('6->', type(simple_function))"
   ]
  },
  {
   "cell_type": "markdown",
   "id": "2c99736c",
   "metadata": {},
   "source": [
    "## Attribute vs Property"
   ]
  },
  {
   "cell_type": "code",
   "execution_count": 24,
   "id": "ac6dc642",
   "metadata": {},
   "outputs": [],
   "source": [
    "class A(object):\n",
    "    _x = 0\n",
    "    '''A._x is an attribute'''\n",
    "\n",
    "    @property\n",
    "    def x(self):\n",
    "        '''\n",
    "        A.x is a property\n",
    "        This is the getter method\n",
    "        '''\n",
    "        return self._x\n",
    "\n",
    "    @x.setter\n",
    "    def x(self, value):\n",
    "        \"\"\"\n",
    "        This is the setter method\n",
    "        where I can check it's not assigned a value < 0\n",
    "        \"\"\"\n",
    "        if value < 0:\n",
    "            raise ValueError(\"Must be >= 0\")\n",
    "        self._x = value"
   ]
  },
  {
   "cell_type": "code",
   "execution_count": 25,
   "id": "f101ff82",
   "metadata": {},
   "outputs": [
    {
     "name": "stdout",
     "output_type": "stream",
     "text": [
      "11-> 12\n",
      "12-> 12\n",
      "13-> 15\n",
      "14-> 15\n",
      "15-> -19\n",
      "16-> -19\n"
     ]
    }
   ],
   "source": [
    "# A.x = 12\n",
    "# print('1->',A.x)\n",
    "# A.x = -10\n",
    "# print('2->',A.x)\n",
    "# A._x = 15\n",
    "# print('3->',A.x)\n",
    "# print('4->',A._x)\n",
    "# A._x = -19\n",
    "# print('5->',A.x)\n",
    "# print('6->',A._x)\n",
    "\n",
    "a = A()\n",
    "a.x = 12\n",
    "print('11->',a.x)\n",
    "# a.x = -10 # ValueError\n",
    "print('12->',a.x)\n",
    "a._x = 15\n",
    "print('13->',a.x)\n",
    "print('14->',a._x)\n",
    "a._x = -19\n",
    "print('15->',a.x)\n",
    "print('16->',a._x)\n"
   ]
  },
  {
   "cell_type": "markdown",
   "id": "469fd1b3",
   "metadata": {},
   "source": [
    "## Static vs instance method "
   ]
  },
  {
   "cell_type": "code",
   "execution_count": 7,
   "id": "03772ae2",
   "metadata": {},
   "outputs": [
    {
     "name": "stdout",
     "output_type": "stream",
     "text": [
      "Called method_one\n",
      "Called method_two\n",
      "<function Test.method_one at 0x7f879f8af160>\n",
      "<function Test.method_two at 0x7f879f8afca0>\n",
      "<bound method Test.method_one of <__main__.Test object at 0x7f879f81adf0>>\n",
      "<function Test.method_two at 0x7f879f8afca0>\n",
      "<function Test.method_one at 0x7f879f8af160>\n"
     ]
    }
   ],
   "source": [
    "class Test(object):\n",
    "    def method_one(self):\n",
    "        print(\"Called method_one\")\n",
    "    \n",
    "    @staticmethod\n",
    "    def method_two():\n",
    "        print(\"Called method_two\")\n",
    "\n",
    "a_test = Test()\n",
    "a_test.method_one()\n",
    "a_test.method_two()\n",
    "print(Test.method_one)\n",
    "print(Test.method_two)\n",
    "print(a_test.method_one)\n",
    "print(a_test.method_two)\n",
    "print(Test.__dict__['method_one'])\n",
    "# - \"The concept of 'unbound methods' has been removed from the language. \n",
    "# When referencing a method as a class attribute, you now get a plain function object.\""
   ]
  },
  {
   "cell_type": "code",
   "execution_count": 17,
   "id": "435c2b17",
   "metadata": {},
   "outputs": [
    {
     "name": "stdout",
     "output_type": "stream",
     "text": [
      "Called instance method_one calling method_two\n",
      "Called static method_two\n",
      "Access class variable 1\n",
      "Called static method_two\n",
      "Access class variable 1\n",
      "Access class variable 1\n",
      "Access instance variable 2\n",
      "Called static method_two\n",
      "Access class variable 1\n",
      "Called instance method_three\n",
      "Called static method_four calling method_three\n",
      "Called instance method_three\n"
     ]
    }
   ],
   "source": [
    "class Test(object):\n",
    "    testvar1 = 1\n",
    "    def __init__(self):\n",
    "        self.testvar2 = 2\n",
    "        \n",
    "    def method_one(self):\n",
    "        print(\"Called instance method_one calling method_two\")\n",
    "        Test.method_two()\n",
    "        self.method_two()\n",
    "        print(\"Access class variable\", Test.testvar1)\n",
    "        print(\"Access instance variable\", self.testvar2)\n",
    "        \n",
    "    @staticmethod\n",
    "    def method_two():\n",
    "        print(\"Called static method_two\")\n",
    "        print(\"Access class variable\", Test.testvar1)\n",
    "\n",
    "    def method_three(self):\n",
    "        print(\"Called instance method_three\")\n",
    "    \n",
    "    @staticmethod\n",
    "    def method_four(o):\n",
    "        print(\"Called static method_four calling method_three\")\n",
    "        o.method_three()\n",
    "#         Test.method_three()\n",
    "\n",
    "a_test = Test()\n",
    "a_test.method_one()\n",
    "a_test.method_two()\n",
    "a_test.method_three()\n",
    "a_test.method_four(a_test)\n"
   ]
  },
  {
   "cell_type": "markdown",
   "id": "a840e1cb",
   "metadata": {},
   "source": [
    "## Inner function"
   ]
  },
  {
   "cell_type": "code",
   "execution_count": 27,
   "id": "a0c3dc1d",
   "metadata": {},
   "outputs": [
    {
     "name": "stdout",
     "output_type": "stream",
     "text": [
      "1\n"
     ]
    }
   ],
   "source": [
    "x = 1\n",
    "def foo():\n",
    "    x = 2\n",
    "    class Bar:\n",
    "        print(x)\n",
    "        x = 3\n",
    "foo()"
   ]
  },
  {
   "cell_type": "markdown",
   "id": "901df85b",
   "metadata": {},
   "source": [
    "## TODO - Break it!! How does MRO work - class ordering"
   ]
  },
  {
   "cell_type": "code",
   "execution_count": 28,
   "id": "0b273657",
   "metadata": {},
   "outputs": [
    {
     "name": "stdout",
     "output_type": "stream",
     "text": [
      " In class B\n"
     ]
    }
   ],
   "source": [
    "\n",
    "# Python program showing\n",
    "# how MRO works\n",
    "  \n",
    "class A:\n",
    "    def rk(self):\n",
    "        print(\" In class A\")\n",
    "class B(A):\n",
    "    def rk(self):\n",
    "        print(\" In class B\")\n",
    "class C(A):\n",
    "    def rk(self):\n",
    "        print(\"In class C\")\n",
    "  \n",
    "# classes ordering\n",
    "class D(B, C):\n",
    "    pass\n",
    "     \n",
    "r = D()\n",
    "r.rk()"
   ]
  },
  {
   "cell_type": "code",
   "execution_count": 29,
   "id": "67e5b062",
   "metadata": {},
   "outputs": [
    {
     "name": "stdout",
     "output_type": "stream",
     "text": [
      "Constructor C\n",
      "(<class '__main__.C'>, <class '__main__.A'>, <class '__main__.B'>, <class 'object'>)\n",
      "[<class '__main__.C'>, <class '__main__.A'>, <class '__main__.B'>, <class 'object'>]\n"
     ]
    }
   ],
   "source": [
    "# Python program to show the order\n",
    "# in which methods are resolved\n",
    "  \n",
    "class A:\n",
    "    def rk(self):\n",
    "        print(\" In class A\")\n",
    "class B:\n",
    "    def rk(self):\n",
    "        print(\" In class B\")\n",
    "  \n",
    "# classes ordering\n",
    "class C(A, B):\n",
    "    def __init__(self):\n",
    "        print(\"Constructor C\")\n",
    "  \n",
    "r = C()\n",
    "  \n",
    "# it prints the lookup order \n",
    "print(C.__mro__)\n",
    "print(C.mro())"
   ]
  },
  {
   "cell_type": "code",
   "execution_count": 30,
   "id": "48c57813",
   "metadata": {},
   "outputs": [
    {
     "name": "stdout",
     "output_type": "stream",
     "text": [
      "[<class '__main__.C'>, <class '__main__.A'>, <class '__main__.B'>, <class 'object'>]\n",
      "[<class '__main__.D'>, <class '__main__.B'>, <class '__main__.A'>, <class 'object'>]\n"
     ]
    }
   ],
   "source": [
    "class A: \n",
    "    pass\n",
    "  \n",
    "  \n",
    "class B: \n",
    "    pass\n",
    "  \n",
    "  \n",
    "class C(A, B): \n",
    "    pass\n",
    "  \n",
    "  \n",
    "class D(B, A): \n",
    "    pass\n",
    "  \n",
    "  \n",
    "# class E(C,D): \n",
    "#     pass\n",
    "  \n",
    "# it prints the lookup order \n",
    "print(C.mro())\n",
    "print(D.mro())\n",
    "# print(E.mro()) # TypeError: Cannot create a consistent method resolution order (MRO) for bases A, B"
   ]
  },
  {
   "cell_type": "code",
   "execution_count": 31,
   "id": "8fae56c0",
   "metadata": {},
   "outputs": [
    {
     "name": "stdout",
     "output_type": "stream",
     "text": [
      "[<class '__main__.OldStyleClass'>, <class 'object'>]\n",
      "[<class '__main__.NewStyleClass'>, <class 'object'>]\n"
     ]
    }
   ],
   "source": [
    "\n",
    "# Old style class\n",
    "class OldStyleClass: \n",
    "    pass\n",
    "  \n",
    "# New style class\n",
    "class NewStyleClass(object): \n",
    "    pass\n",
    "\n",
    "print(OldStyleClass.mro())\n",
    "print(NewStyleClass.mro())"
   ]
  },
  {
   "cell_type": "code",
   "execution_count": 32,
   "id": "696bd84a",
   "metadata": {},
   "outputs": [],
   "source": [
    "# import inspect\n",
    "# help(inspect)"
   ]
  },
  {
   "cell_type": "code",
   "execution_count": 33,
   "id": "0b1996d6",
   "metadata": {},
   "outputs": [
    {
     "name": "stdout",
     "output_type": "stream",
     "text": [
      "inner pi variable\n",
      "global pi variable\n"
     ]
    }
   ],
   "source": [
    "# Enclosed Scope\n",
    "  \n",
    "pi = 'global pi variable'\n",
    "  \n",
    "def outer():\n",
    "    pi = 'outer pi variable'\n",
    "    def inner():\n",
    "        pi = 'inner pi variable'\n",
    "#         nonlocal pi\n",
    "        print(pi)\n",
    "    inner()\n",
    "  \n",
    "outer()\n",
    "print(pi)"
   ]
  },
  {
   "cell_type": "code",
   "execution_count": 34,
   "id": "c48a94bd",
   "metadata": {},
   "outputs": [
    {
     "name": "stdout",
     "output_type": "stream",
     "text": [
      "3.141592653589793\n"
     ]
    }
   ],
   "source": [
    "# Built-in Scope\n",
    "from math import pi\n",
    "  \n",
    "# pi = 'global pi variable'\n",
    "  \n",
    "def outer():\n",
    "#     pi = 'outer pi variable'\n",
    "    def inner():\n",
    "#         pi = 'inner pi variable'\n",
    "        print(pi)\n",
    "    inner()\n",
    "  \n",
    "outer()"
   ]
  },
  {
   "cell_type": "markdown",
   "id": "52a61e06",
   "metadata": {},
   "source": [
    "## Scope resolution - When function is defined\n",
    "Python resolves the scope of the parameters of a function in two ways:\n",
    "- When the function is defined\n",
    "- When the function is called\n",
    "\n",
    "Observe that even though we don’t pass a parameter in the 2nd and 3rd call, the default \n",
    "value of b no longer remains [1, 8, 11]. It is because of the fact that Python resolves the\n",
    "reference to name of a default parameter in the scope of a function only once, when it is \n",
    "defined and not every time it is called. Even if a and b were to be any other mutable type \n",
    "like dict and set, the program would have worked in the same way.\n",
    "\n",
    "What do we do if we want the default value of b to always be [1, 8, 11] ? Inside the function, \n",
    "we can check if b was passed while calling the function or not. If it was not, then we reassign \n",
    "the value of b to [1, 8, 11].\n"
   ]
  },
  {
   "cell_type": "code",
   "execution_count": 35,
   "id": "2446b3f1",
   "metadata": {},
   "outputs": [
    {
     "name": "stdout",
     "output_type": "stream",
     "text": [
      "[1, 8, 11, 1]\n",
      "[1, 8, 11, 1, 2]\n",
      "[1, 8, 11, 1, 2, 9]\n",
      "[3, 6, 2]\n",
      "[1, 8, 11, 1, 2, 9, 9]\n"
     ]
    }
   ],
   "source": [
    "# When the function is defined\n",
    "def adder(a, b = [1, 8, 11]):\n",
    "    b.append(a)\n",
    "    return b.copy()\n",
    "  \n",
    "print(adder(1))\n",
    "print(adder(2))\n",
    "print(adder(9))\n",
    "print(adder(2, [3, 6]))\n",
    "print(adder(9))\n"
   ]
  },
  {
   "cell_type": "markdown",
   "id": "3d8f658b",
   "metadata": {},
   "source": [
    "## Scope resolution - When the function is called\n",
    "\n",
    "It is because Python resolves the reference to names of non-default parameters in the scope\n",
    "of a function when it is called and not when it is defined. Here the parameter is i. When the \n",
    "loop terminates, the value of i is 4 and when we call any of the lambda functions stored in \n",
    "l, 4**2 = 16 is returned.\n",
    "\n",
    "What do we do to make the program work the way we expected? Just make i a default parameter \n",
    "for the lambda function and let python’s scope resolution behaviour do that for you."
   ]
  },
  {
   "cell_type": "code",
   "execution_count": 36,
   "id": "7680199b",
   "metadata": {},
   "outputs": [
    {
     "name": "stdout",
     "output_type": "stream",
     "text": [
      "16\n",
      "16\n",
      "16\n",
      "16\n",
      "16\n"
     ]
    }
   ],
   "source": [
    "# When the function is called\n",
    "# - Python resolves the reference to names of non-default parameters in the scope \n",
    "#     of a function when it is called and not when it is defined. \n",
    "\n",
    "l = []\n",
    "for i in range(5):\n",
    "    l.append(lambda : i**2)\n",
    "for j in range(5):\n",
    "    print(l[j]())"
   ]
  },
  {
   "cell_type": "markdown",
   "id": "13f838be",
   "metadata": {},
   "source": [
    "## Using default arguments in lambda expressions"
   ]
  },
  {
   "cell_type": "code",
   "execution_count": 37,
   "id": "9ab399fa",
   "metadata": {},
   "outputs": [
    {
     "name": "stdout",
     "output_type": "stream",
     "text": [
      "summ() =  6\n",
      "summ(10) =  15\n",
      "summ(10, 20) =  33\n",
      "summ(10, 20, 30) =  60\n"
     ]
    }
   ],
   "source": [
    "# Lambda expression that takes 3 arguments by default\n",
    "summ = lambda a=1, b=2, c=3: a+b+c\n",
    "\n",
    "print(\"summ() = \", summ()) # 1+2+3 = 6\n",
    "print(\"summ(10) = \", summ(10)) # 10+2+3 = 15\n",
    "print(\"summ(10, 20) = \", summ(10,20)) # 10+20+3 = 33\n",
    "print(\"summ(10, 20, 30) = \", summ(10,20,30)) # 10+20+30 = 60"
   ]
  },
  {
   "cell_type": "markdown",
   "id": "6d73e4e5",
   "metadata": {},
   "source": [
    "## Using lambda expressions containing default arguments"
   ]
  },
  {
   "cell_type": "code",
   "execution_count": 38,
   "id": "4c65ad24",
   "metadata": {},
   "outputs": [
    {
     "name": "stdout",
     "output_type": "stream",
     "text": [
      "area5 =  78.53981633974483\n",
      "area1 =  3.141592653589793\n"
     ]
    }
   ],
   "source": [
    "# Using default arguments in lambda expressions\n",
    "\n",
    "import math\n",
    "\n",
    "# Lambda expression that returns the area of a circle\n",
    "areaCircle = (lambda r = 1: math.pi*r*r)\n",
    "\n",
    "# Calculate the area of a circle of radius 5\n",
    "area5 = areaCircle(5)\n",
    "print(\"area5 = \", area5)\n",
    "\n",
    "# Calculate the area of a circle of radius 1 - default\n",
    "area1 = areaCircle()\n",
    "print(\"area1 = \", area1)"
   ]
  },
  {
   "cell_type": "markdown",
   "id": "819028f6",
   "metadata": {},
   "source": [
    "## Nested lambda expressions"
   ]
  },
  {
   "cell_type": "code",
   "execution_count": 39,
   "id": "7578bc6e",
   "metadata": {},
   "outputs": [
    {
     "name": "stdout",
     "output_type": "stream",
     "text": [
      "power2(5)(4) =  625\n",
      "power3(3)(2)(1) =  9\n"
     ]
    }
   ],
   "source": [
    "# Calculate the power of two numbers\n",
    "sum2 = (lambda a: (lambda b: a**b))\n",
    "s = sum2(5)(4)\n",
    "print(\"power2(5)(4) = \", s)\n",
    "\n",
    "# Calculate the power of three numbers\n",
    "sum3 = (lambda a: (lambda b: (lambda c: a**b**c)))\n",
    "print(\"power3(3)(2)(1) = \", sum3(3)(2)(1))"
   ]
  },
  {
   "cell_type": "markdown",
   "id": "68bdc48c",
   "metadata": {},
   "source": [
    "## Using lambda expressions to process sequences"
   ]
  },
  {
   "cell_type": "code",
   "execution_count": 40,
   "id": "ca9ee493",
   "metadata": {},
   "outputs": [
    {
     "name": "stdout",
     "output_type": "stream",
     "text": [
      "2\n",
      "T2 =  <generator object <genexpr> at 0x7f89ec8f5190>\n"
     ]
    }
   ],
   "source": [
    "\n",
    "# Using a lambda expression and map() function to a tuple\n",
    "\n",
    "# 1. Declare a test tuple\n",
    "T = ( 2.88, -1.75, 100.55 )\n",
    "\n",
    "# 2. Get a new tuple in which the elements of the sequence are cast\n",
    "# to an integer type\n",
    "# T2 = tuple(map((lambda x: int(x)), T))\n",
    "T2 = (int(t) for t in T)\n",
    "\n",
    "print(T2.__next__())\n",
    "# 3. Print the result\n",
    "print(\"T2 = \", T2) # T2 = (2, -1, 100)"
   ]
  },
  {
   "cell_type": "markdown",
   "id": "f8bd414e",
   "metadata": {},
   "source": [
    "## Using lambda and filter expressions for processing sequences "
   ]
  },
  {
   "cell_type": "code",
   "execution_count": 41,
   "id": "07f6e61e",
   "metadata": {},
   "outputs": [
    {
     "name": "stdout",
     "output_type": "stream",
     "text": [
      "l2 =  <filter object at 0x7f89ec8ff0a0>\n",
      "l3 =  [15, 11, 20, 17]\n",
      "(2, 3, 5, 7, 11, 13, 17, 19)\n"
     ]
    }
   ],
   "source": [
    "\n",
    "# The use of lambda expressions and function filter() for a list\n",
    "\n",
    "# 1. Declare a testable list\n",
    "l = [ 8, 15, 7, 3, 11, 23, 187, -5, 20, 17 ]\n",
    "\n",
    "# 2. Use a lambda expression to solve a problem\n",
    "l2 = filter((lambda t: (t>=10)and(t<=20)), l)\n",
    "print(\"l2 = \", l2) # L2 = [15, 11, 20, 17]\n",
    "\n",
    "# 3. Use a function to solve task\n",
    "def range_10_20(t):\n",
    "    return (t>=10)and(t<=20)\n",
    "\n",
    "l3 = [a for a in filter(range_10_20, l)]\n",
    "print(\"l3 = \", l3)\n",
    "\n",
    "\n",
    "l = range(2, 20)\n",
    "for i in range(2, 6):\n",
    "    l = [a for a in filter(lambda x: x == i or x % i != 0, l)]\n",
    "print(tuple(l))"
   ]
  },
  {
   "cell_type": "markdown",
   "id": "5b25f51b",
   "metadata": {},
   "source": [
    "## Using lambda and reduce expressions to process sequences"
   ]
  },
  {
   "cell_type": "code",
   "execution_count": 42,
   "id": "72b453f0",
   "metadata": {},
   "outputs": [
    {
     "name": "stdout",
     "output_type": "stream",
     "text": [
      "summ1 =  15.68\n",
      "summ2 =  15.68\n"
     ]
    }
   ],
   "source": [
    "\n",
    "import functools\n",
    "\n",
    "# Using lambda expression in reduce() function\n",
    "\n",
    "# 1. Declare a list\n",
    "l = [ 1.88, 3, 2.4, 3.6, 4.8 ]\n",
    "\n",
    "# 2. Calculate the sum of the elements of a list using a lambda expression\n",
    "summ1 = functools.reduce((lambda a, b: a+b), l)\n",
    "print(\"summ1 = \", summ1)\n",
    "\n",
    "# 3. Declare a function and use it in reduce() function\n",
    "def add(x, y):\n",
    "    return x+y\n",
    "\n",
    "summ2 = functools.reduce(add, l)\n",
    "print(\"summ2 = \", summ2)"
   ]
  },
  {
   "cell_type": "code",
   "execution_count": 43,
   "id": "95c5cd1a",
   "metadata": {
    "scrolled": false
   },
   "outputs": [
    {
     "name": "stdout",
     "output_type": "stream",
     "text": [
      "Help on built-in function reduce in module _functools:\n",
      "\n",
      "reduce(...)\n",
      "    reduce(function, sequence[, initial]) -> value\n",
      "    \n",
      "    Apply a function of two arguments cumulatively to the items of a sequence,\n",
      "    from left to right, so as to reduce the sequence to a single value.\n",
      "    For example, reduce(lambda x, y: x+y, [1, 2, 3, 4, 5]) calculates\n",
      "    ((((1+2)+3)+4)+5).  If initial is present, it is placed before the items\n",
      "    of the sequence in the calculation, and serves as a default when the\n",
      "    sequence is empty.\n",
      "\n"
     ]
    }
   ],
   "source": [
    "help(functools.reduce)"
   ]
  },
  {
   "cell_type": "code",
   "execution_count": 1,
   "id": "920749eb",
   "metadata": {},
   "outputs": [
    {
     "name": "stdout",
     "output_type": "stream",
     "text": [
      "24\n",
      "24\n"
     ]
    }
   ],
   "source": [
    "from functools import reduce, partial\n",
    "def multiply(x,y): return x*y\n",
    "\n",
    "xs = [1,2,3,4]\n",
    "x_product = reduce(multiply, xs)\n",
    "print(x_product) # 1st way\n",
    "\n",
    "list_product = partial(reduce, multiply)\n",
    "x_product = list_product(xs)\n",
    "print(x_product) # 2nd way"
   ]
  },
  {
   "cell_type": "markdown",
   "id": "6b717233",
   "metadata": {},
   "source": [
    "## classmethod vs staticmethod vs instance method\n",
    "- instance method\n",
    "  - the instance methods, using self parameter, `can freely access attributes and other methods` on the same object\n",
    "    - it `can modify an object’s state`\n",
    "  - Not only can they modify object state, instance methods `can also access the class itself` through the self.\\_\\_class\\_\\_ attribute. \n",
    "    - it `can also modify class state`\n",
    "- @classmethod\n",
    "  - it uses class methods take a cls parameter that `points to the class—and not the object instance`—when the method is called.\n",
    "  - Because the class method only has access to this cls argument, \n",
    "    - it `can’t modify object instance state` \n",
    "  - However, class methods can still modify class state that `applies across all instances of the class`\n",
    "- @staticmethod\n",
    "  - this type of method takes `neither a self nor a cls parameter` (but of course it’s free to accept an arbitrary number of other parameters)\n",
    "  - a static method `can neither modify object state nor class state`. Static methods are restricted in what data they can access - and they’re primarily a way to namespace your methods.\n",
    "\n",
    "\n",
    "\n",
    "- Final takeaways\n",
    "  - Instance methods need a class instance and can access the instance through self.\n",
    "  - Class methods don’t need a class instance. They can’t access the instance (self) but they have access to the class itself via cls.\n",
    "    - classmethod is a decorator, wrapping a function, and you can call the resulting object on a class or (equivalently) an instance thereof\n",
    "    - One of the main uses of classmethod is to define alternative constructors/factory method\n",
    "    - Class methods are different than C++ or Java static methods.\n",
    "  - Static methods don’t have access to cls or self. They work like regular functions but belong to the class’s namespace.\n",
    "    - Static methods in Python are similar to those found in Java or C++.\n",
    "  \n",
    "  \n",
    "    \n",
    "- https://stackoverflow.com/questions/1950414/what-is-the-purpose-of-classmethod-in-this-code/1950927#1950927"
   ]
  },
  {
   "cell_type": "code",
   "execution_count": 28,
   "id": "bdcef787",
   "metadata": {},
   "outputs": [],
   "source": [
    "class MyClass:\n",
    "    def method(self):\n",
    "        return 'instance method called', self\n",
    "\n",
    "    @classmethod\n",
    "    def classmethod(cls):\n",
    "        return 'class method called', cls\n",
    "\n",
    "    @staticmethod\n",
    "    def staticmethod():\n",
    "        return 'static method called'"
   ]
  },
  {
   "cell_type": "code",
   "execution_count": 34,
   "id": "3012761a",
   "metadata": {},
   "outputs": [
    {
     "name": "stdout",
     "output_type": "stream",
     "text": [
      "obj.method() -  ('instance method called', <__main__.MyClass object at 0x7fd3aef27610>)\n",
      "MyClass.method(obj) -  ('instance method called', <__main__.MyClass object at 0x7fd3aef27610>)\n",
      "obj.classmethod() -  ('class method called', <class '__main__.MyClass'>)\n",
      "MyClass.classmethod() -  ('class method called', <class '__main__.MyClass'>)\n",
      "obj.staticmethod() -  static method called\n",
      "MyClass.staticmethod() -  static method called\n"
     ]
    }
   ],
   "source": [
    "obj = MyClass()\n",
    "\n",
    "print('obj.method() - ', obj.method())\n",
    "print('MyClass.method(obj) - ', MyClass.method(obj))\n",
    "# print(MyClass.method()) # fails with a TypeError\n",
    "\n",
    "print('obj.classmethod() - ', obj.classmethod())\n",
    "print('MyClass.classmethod() - ', MyClass.classmethod())\n",
    "\n",
    "print('obj.staticmethod() - ', obj.staticmethod())\n",
    "print('MyClass.staticmethod() - ', MyClass.staticmethod())"
   ]
  },
  {
   "cell_type": "markdown",
   "id": "92df44e5",
   "metadata": {},
   "source": [
    "## TODO - Break it!"
   ]
  },
  {
   "cell_type": "code",
   "execution_count": 44,
   "id": "dc05184b",
   "metadata": {},
   "outputs": [
    {
     "name": "stdout",
     "output_type": "stream",
     "text": [
      "21\n",
      "26\n",
      "True\n"
     ]
    }
   ],
   "source": [
    "# Python program to demonstrate\n",
    "# use of class method and static method.\n",
    "from datetime import date\n",
    "  \n",
    "class Person:\n",
    "    def __init__(self, name, age):\n",
    "        self.name = name\n",
    "        self.age = age\n",
    "      \n",
    "    # a class method to create a Person object by birth year.\n",
    "    @classmethod\n",
    "    def fromBirthYear(cls, name, year):\n",
    "        return cls(name, date.today().year - year)\n",
    "      \n",
    "    # a static method to check if a Person is adult or not.\n",
    "    @staticmethod\n",
    "    def isAdult(age):\n",
    "        return age > 18\n",
    "  \n",
    "person1 = Person('mayank', 21)\n",
    "person2 = Person.fromBirthYear('mayank', 1996)\n",
    "  \n",
    "print (person1.age)\n",
    "print (person2.age)\n",
    "  \n",
    "# print the result\n",
    "print (Person.isAdult(22))"
   ]
  },
  {
   "cell_type": "code",
   "execution_count": 45,
   "id": "d94e10d3",
   "metadata": {},
   "outputs": [
    {
     "name": "stdout",
     "output_type": "stream",
     "text": [
      "Calling Create_obj() function...\n",
      "Making Object...\n",
      "Employee created\n",
      "function end...\n",
      "Program End...\n"
     ]
    }
   ],
   "source": [
    "# Python program to illustrate destructor\n",
    "# destructor is not invoked - the first time, but is called from second invocation\n",
    "\n",
    "class Employee:\n",
    " \n",
    "    # Initializing\n",
    "    def __init__(self):\n",
    "        print('Employee created')\n",
    " \n",
    "    # Calling destructor\n",
    "    def __del__(self):\n",
    "        print(\"Destructor called\")\n",
    " \n",
    "def Create_obj():\n",
    "    print('Making Object...')\n",
    "    obj = Employee()\n",
    "    print('function end...')\n",
    "    return obj\n",
    " \n",
    "print('Calling Create_obj() function...')\n",
    "obj = Create_obj()\n",
    "print('Program End...')"
   ]
  },
  {
   "cell_type": "code",
   "execution_count": 46,
   "id": "82ea317f",
   "metadata": {},
   "outputs": [],
   "source": [
    "# circular referencing - instances are involved in circular references \n",
    "# they will live in memory for as long as the application run.\n",
    "\n",
    "class A:\n",
    "    def __init__(self, bb):\n",
    "        self.b = bb\n",
    " \n",
    "class B:\n",
    "    def __init__(self):\n",
    "        self.a = A(self)\n",
    "    def __del__(self):\n",
    "        print(\"die\")\n",
    " \n",
    "def fun():\n",
    "    b = B()\n",
    " \n",
    "fun()"
   ]
  },
  {
   "cell_type": "code",
   "execution_count": 47,
   "id": "b24deeb4",
   "metadata": {},
   "outputs": [
    {
     "name": "stdout",
     "output_type": "stream",
     "text": [
      "Hello Bob\n",
      "Yo Bob, together we are the awesomest!\n"
     ]
    }
   ],
   "source": [
    "# functions can be passed around and used as arguments, just like any other object \n",
    "# (string, int, float, list, and so on)\n",
    "\n",
    "def say_hello(name):\n",
    "    return f\"Hello {name}\"\n",
    "\n",
    "def be_awesome(name):\n",
    "    return f\"Yo {name}, together we are the awesomest!\"\n",
    "\n",
    "def greet_bob(greeter_func):\n",
    "    return greeter_func(\"Bob\")\n",
    "\n",
    "print(greet_bob(say_hello))\n",
    "print(greet_bob(be_awesome))"
   ]
  },
  {
   "cell_type": "code",
   "execution_count": 48,
   "id": "fd6bf98e",
   "metadata": {},
   "outputs": [
    {
     "name": "stdout",
     "output_type": "stream",
     "text": [
      "Printing from the parent() function\n",
      "Printing from the second_child() function\n",
      "Printing from the first_child() function\n"
     ]
    }
   ],
   "source": [
    "def parent():\n",
    "    print(\"Printing from the parent() function\")\n",
    "\n",
    "    def first_child():\n",
    "        print(\"Printing from the first_child() function\")\n",
    "\n",
    "    def second_child():\n",
    "        print(\"Printing from the second_child() function\")\n",
    "\n",
    "    second_child()\n",
    "    first_child()\n",
    "    \n",
    "parent()\n",
    "# first_child() # 'function' object has no attribute 'first_child'"
   ]
  },
  {
   "cell_type": "code",
   "execution_count": 49,
   "id": "61e6c169",
   "metadata": {},
   "outputs": [
    {
     "name": "stdout",
     "output_type": "stream",
     "text": [
      "<function parent.<locals>.first_child at 0x7f89eca99790>\n",
      "<function parent.<locals>.second_child at 0x7f89eca99160>\n",
      "Hi, I am Emma\n",
      "Call me Liam\n"
     ]
    }
   ],
   "source": [
    "# Python also allows you to use functions as return values\n",
    "def parent(num):\n",
    "    def first_child():\n",
    "        return \"Hi, I am Emma\"\n",
    "\n",
    "    def second_child():\n",
    "        return \"Call me Liam\"\n",
    "\n",
    "    if num == 1:\n",
    "        return first_child\n",
    "    else:\n",
    "        return second_child\n",
    "    \n",
    "first = parent(1)\n",
    "second = parent(2)\n",
    "print(first)\n",
    "print(second)\n",
    "print(first())\n",
    "print(second())"
   ]
  },
  {
   "cell_type": "code",
   "execution_count": 50,
   "id": "c3537e53",
   "metadata": {},
   "outputs": [
    {
     "name": "stdout",
     "output_type": "stream",
     "text": [
      "Something is happening before the function is called.\n",
      "Whee!\n",
      "Something is happening after the function is called.\n"
     ]
    },
    {
     "data": {
      "text/plain": [
       "<function __main__.my_decorator.<locals>.wrapper()>"
      ]
     },
     "execution_count": 50,
     "metadata": {},
     "output_type": "execute_result"
    }
   ],
   "source": [
    "# Simple decorators\n",
    "def my_decorator(func):\n",
    "    def wrapper():\n",
    "        print(\"Something is happening before the function is called.\")\n",
    "        func()\n",
    "        print(\"Something is happening after the function is called.\")\n",
    "    return wrapper\n",
    "\n",
    "def say_whee():\n",
    "    print(\"Whee!\")\n",
    "\n",
    "say_whee = my_decorator(say_whee)\n",
    "\n",
    "say_whee()\n",
    "say_whee"
   ]
  },
  {
   "cell_type": "code",
   "execution_count": 51,
   "id": "b37a7b8f",
   "metadata": {},
   "outputs": [
    {
     "name": "stdout",
     "output_type": "stream",
     "text": [
      "not now\n"
     ]
    }
   ],
   "source": [
    "from datetime import datetime\n",
    "\n",
    "def not_during_the_night(func):\n",
    "    def wrapper():\n",
    "        if 7 <= datetime.now().hour < 22:\n",
    "            func()\n",
    "        else:\n",
    "            print('not now')  # Hush, the neighbors are asleep\n",
    "    return wrapper\n",
    "\n",
    "def say_whee():\n",
    "    print(\"Whee2!\")\n",
    "\n",
    "say_whee = not_during_the_night(say_whee)\n",
    "say_whee()"
   ]
  },
  {
   "cell_type": "code",
   "execution_count": 52,
   "id": "485f0a5f",
   "metadata": {},
   "outputs": [
    {
     "name": "stdout",
     "output_type": "stream",
     "text": [
      "Something is happening before the function is called.\n",
      "Whee!\n",
      "Something is happening after the function is called.\n"
     ]
    }
   ],
   "source": [
    "# cleaner way of creating decorators\n",
    "def my_decorator(func):\n",
    "    def wrapper():\n",
    "        print(\"Something is happening before the function is called.\")\n",
    "        func()\n",
    "        print(\"Something is happening after the function is called.\")\n",
    "    return wrapper\n",
    "\n",
    "@my_decorator\n",
    "def say_whee():\n",
    "    print(\"Whee!\")\n",
    "    \n",
    "# So, @my_decorator is just an easier way of saying say_whee = my_decorator(say_whee). \n",
    "# It’s how you apply a decorator to a function.\n",
    "say_whee() "
   ]
  },
  {
   "cell_type": "code",
   "execution_count": 53,
   "id": "421dcbee",
   "metadata": {},
   "outputs": [
    {
     "name": "stdout",
     "output_type": "stream",
     "text": [
      "die\n",
      "Whee!\n",
      "Whee!\n",
      "Hello Chandra\n",
      "Hello Chandra\n"
     ]
    }
   ],
   "source": [
    "# Decorating Functions With Arguments\n",
    "\n",
    "def do_twice(func):\n",
    "#     def wrapper_do_twice():\n",
    "#         func()\n",
    "#         func()\n",
    "#     return wrapper_do_twice\n",
    "\n",
    "    def wrapper_do_twice(*args, **kwargs):\n",
    "        func(*args, **kwargs)\n",
    "        func(*args, **kwargs)\n",
    "    return wrapper_do_twice\n",
    "\n",
    "@do_twice\n",
    "def say_whee():\n",
    "    print(\"Whee!\")\n",
    "    \n",
    "@do_twice\n",
    "def greet(name):\n",
    "    print(f\"Hello {name}\")\n",
    "    \n",
    "say_whee()\n",
    "greet('Chandra') # greet() missing 1 required positional argument: 'name'"
   ]
  },
  {
   "cell_type": "code",
   "execution_count": 54,
   "id": "e60c18e3",
   "metadata": {},
   "outputs": [
    {
     "name": "stdout",
     "output_type": "stream",
     "text": [
      "Creating greeting\n",
      "Creating greeting\n",
      "None\n"
     ]
    }
   ],
   "source": [
    "# Returning Values From Decorated Functions\n",
    "\n",
    "@do_twice\n",
    "def return_greeting(name):\n",
    "    print(\"Creating greeting\")\n",
    "    return f\"Hi {name}\"\n",
    "\n",
    "hi_adam = return_greeting(\"Adam\")\n",
    "\n",
    "print(hi_adam)\n",
    "# here the decorator ate the return value from the function.\n",
    "\n",
    "# Because the do_twice_wrapper() doesn’t explicitly return a \n",
    "# value, the call return_greeting(\"Adam\") ended up returning None.\n",
    "\n",
    "# To fix this, you need to make sure the wrapper function returns \n",
    "# the return value of the decorated function."
   ]
  },
  {
   "cell_type": "code",
   "execution_count": 55,
   "id": "b9316c04",
   "metadata": {},
   "outputs": [
    {
     "name": "stdout",
     "output_type": "stream",
     "text": [
      "Creating greeting\n",
      "Creating greeting\n",
      "Hi Adam\n"
     ]
    }
   ],
   "source": [
    "def do_twice(func):\n",
    "    def wrapper_do_twice(*args, **kwargs):\n",
    "        func(*args, **kwargs)\n",
    "        return func(*args, **kwargs) # return defined here\n",
    "    return wrapper_do_twice\n",
    "\n",
    "@do_twice\n",
    "def return_greeting(name):\n",
    "    print(\"Creating greeting\")\n",
    "    return f\"Hi {name}\"\n",
    "\n",
    "hi_adam = return_greeting(\"Adam\")\n",
    "\n",
    "print(hi_adam)"
   ]
  },
  {
   "cell_type": "code",
   "execution_count": 56,
   "id": "35bd228d",
   "metadata": {},
   "outputs": [
    {
     "data": {
      "text/plain": [
       "<function print>"
      ]
     },
     "execution_count": 56,
     "metadata": {},
     "output_type": "execute_result"
    },
    {
     "data": {
      "text/plain": [
       "'print'"
      ]
     },
     "execution_count": 56,
     "metadata": {},
     "output_type": "execute_result"
    }
   ],
   "source": [
    "print # <function print>\n",
    "\n",
    "print.__name__ # 'print'\n",
    "\n",
    "# help(print) # print documentation"
   ]
  },
  {
   "cell_type": "code",
   "execution_count": 57,
   "id": "506db676",
   "metadata": {},
   "outputs": [
    {
     "data": {
      "text/plain": [
       "<function __main__.do_twice.<locals>.wrapper_do_twice(*args, **kwargs)>"
      ]
     },
     "execution_count": 57,
     "metadata": {},
     "output_type": "execute_result"
    },
    {
     "data": {
      "text/plain": [
       "'wrapper_do_twice'"
      ]
     },
     "execution_count": 57,
     "metadata": {},
     "output_type": "execute_result"
    },
    {
     "name": "stdout",
     "output_type": "stream",
     "text": [
      "Help on function wrapper_do_twice in module __main__:\n",
      "\n",
      "wrapper_do_twice(*args, **kwargs)\n",
      "\n"
     ]
    }
   ],
   "source": [
    "say_whee # <function __main__.do_twice.<locals>.wrapper_do_twice(*args, **kwargs)>\n",
    "\n",
    "say_whee.__name__ # 'wrapper_do_twice'\n",
    "\n",
    "help(say_whee) \n",
    "# Help on function wrapper_do_twice in module __main__:\n",
    "# wrapper_do_twice(*args, **kwargs)"
   ]
  },
  {
   "cell_type": "code",
   "execution_count": 58,
   "id": "4f9fae20",
   "metadata": {},
   "outputs": [],
   "source": [
    "import functools\n",
    "\n",
    "def do_twice(func):\n",
    "    @functools.wraps(func)\n",
    "    def wrapper_do_twice(*args, **kwargs):\n",
    "        func(*args, **kwargs)\n",
    "        return func(*args, **kwargs)\n",
    "    return wrapper_do_twice\n",
    "\n",
    "@do_twice\n",
    "def say_whee():\n",
    "    print(\"Whee!\")"
   ]
  },
  {
   "cell_type": "code",
   "execution_count": 59,
   "id": "5dbe4f0c",
   "metadata": {},
   "outputs": [
    {
     "data": {
      "text/plain": [
       "<function __main__.say_whee()>"
      ]
     },
     "execution_count": 59,
     "metadata": {},
     "output_type": "execute_result"
    },
    {
     "data": {
      "text/plain": [
       "'say_whee'"
      ]
     },
     "execution_count": 59,
     "metadata": {},
     "output_type": "execute_result"
    },
    {
     "name": "stdout",
     "output_type": "stream",
     "text": [
      "Help on function say_whee in module __main__:\n",
      "\n",
      "say_whee()\n",
      "\n"
     ]
    }
   ],
   "source": [
    "say_whee # <function __main__.say_whee()>\n",
    "\n",
    "say_whee.__name__ # 'say_whee'\n",
    "\n",
    "help(say_whee)\n",
    "# Help on function say_whee in module __main__:\n",
    "# say_whee()"
   ]
  },
  {
   "cell_type": "markdown",
   "id": "7d1e5f96",
   "metadata": {},
   "source": [
    "## Multiple decorators"
   ]
  },
  {
   "cell_type": "code",
   "execution_count": 10,
   "id": "e433bc4e",
   "metadata": {},
   "outputs": [],
   "source": [
    "# @f1(arg)\n",
    "# @f2\n",
    "# def func(): pass\n",
    "\n",
    "#### is equivalent to\n",
    "\n",
    "# def func(): pass\n",
    "# func = f1(arg)(f2(func))"
   ]
  },
  {
   "cell_type": "markdown",
   "id": "b578b155",
   "metadata": {},
   "source": [
    "## TODO - functools package\n",
    "help(functools.wraps)\n",
    "- Learn functools a bit more!"
   ]
  },
  {
   "cell_type": "code",
   "execution_count": 60,
   "id": "721a107b",
   "metadata": {},
   "outputs": [],
   "source": [
    "# A boilerplate template for building more complex decorators\n",
    "\n",
    "# Why functools.wraps? This takes a function used in a decorator and adds the \n",
    "# functionality of copying over the function name, docstring, arguments list, etc. And since \n",
    "# wraps is itself a decorator, the following code does the correct thing\n",
    "\n",
    "import functools\n",
    "\n",
    "def decorator(func):\n",
    "    @functools.wraps(func)\n",
    "    def wrapper_decorator(*args, **kwargs):\n",
    "        # Do something before\n",
    "        value = func(*args, **kwargs)\n",
    "        # Do something after\n",
    "        return value\n",
    "    return wrapper_decorator"
   ]
  },
  {
   "cell_type": "code",
   "execution_count": 61,
   "id": "6e997d2e",
   "metadata": {},
   "outputs": [],
   "source": [
    "import functools\n",
    "import time\n",
    "\n",
    "def timer(func):\n",
    "    \"\"\"Print the runtime of the decorated function\"\"\"\n",
    "    @functools.wraps(func)\n",
    "    def wrapper_timer(*args, **kwargs):\n",
    "        start_time = time.perf_counter()    # 1\n",
    "        value = func(*args, **kwargs)\n",
    "        end_time = time.perf_counter()      # 2\n",
    "        run_time = end_time - start_time    # 3\n",
    "        print(f\"Finished {func.__name__!r} in {run_time:.4f} secs\")\n",
    "        return value\n",
    "    return wrapper_timer\n",
    "\n",
    "@timer\n",
    "def waste_some_time(num_times):\n",
    "    for _ in range(num_times):\n",
    "        sum([i**2 for i in range(10000)])"
   ]
  },
  {
   "cell_type": "code",
   "execution_count": 62,
   "id": "f356dda7",
   "metadata": {},
   "outputs": [
    {
     "data": {
      "text/plain": [
       "'waste_some_time'"
      ]
     },
     "execution_count": 62,
     "metadata": {},
     "output_type": "execute_result"
    },
    {
     "data": {
      "text/plain": [
       "'waste_some_time'"
      ]
     },
     "execution_count": 62,
     "metadata": {},
     "output_type": "execute_result"
    }
   ],
   "source": [
    "# With @functools.wraps(func) \n",
    "waste_some_time.__name__ # prints 'waste_some_time'\n",
    "# Without @functools.wraps(func) \n",
    "waste_some_time.__name__ # prints 'wrapper_timer'"
   ]
  },
  {
   "cell_type": "code",
   "execution_count": 63,
   "id": "fae0b500",
   "metadata": {},
   "outputs": [
    {
     "name": "stdout",
     "output_type": "stream",
     "text": [
      "Finished 'waste_some_time' in 0.0049 secs\n",
      "Finished 'waste_some_time' in 3.7146 secs\n"
     ]
    }
   ],
   "source": [
    "waste_some_time(1)\n",
    "waste_some_time(999)"
   ]
  },
  {
   "cell_type": "code",
   "execution_count": 64,
   "id": "31fd6445",
   "metadata": {},
   "outputs": [],
   "source": [
    "import functools\n",
    "\n",
    "def debug(func):\n",
    "    \"\"\"Print the function signature and return value\"\"\"\n",
    "    @functools.wraps(func)\n",
    "    def wrapper_debug(*args, **kwargs):\n",
    "        args_repr = [repr(a) for a in args]                      # 1\n",
    "        kwargs_repr = [f\"{k}={v!r}\" for k, v in kwargs.items()]  # 2\n",
    "        signature = \", \".join(args_repr + kwargs_repr)           # 3\n",
    "        print(f\"Calling {func.__name__}({signature})\")\n",
    "        value = func(*args, **kwargs)\n",
    "        print(f\"{func.__name__!r} returned {value!r}\")           # 4\n",
    "        return value\n",
    "    return wrapper_debug"
   ]
  },
  {
   "cell_type": "code",
   "execution_count": 65,
   "id": "a15c55aa",
   "metadata": {},
   "outputs": [],
   "source": [
    "@debug\n",
    "def make_greeting(name, age=None):\n",
    "    if age is None:\n",
    "        return f\"Howdy {name}!\"\n",
    "    else:\n",
    "        return f\"Whoa {name}! {age} already, you are growing up!\""
   ]
  },
  {
   "cell_type": "code",
   "execution_count": 66,
   "id": "6ffa1063",
   "metadata": {},
   "outputs": [
    {
     "name": "stdout",
     "output_type": "stream",
     "text": [
      "Calling make_greeting('Benjamin')\n",
      "'make_greeting' returned 'Howdy Benjamin!'\n"
     ]
    },
    {
     "data": {
      "text/plain": [
       "'Howdy Benjamin!'"
      ]
     },
     "execution_count": 66,
     "metadata": {},
     "output_type": "execute_result"
    }
   ],
   "source": [
    "make_greeting(\"Benjamin\")"
   ]
  },
  {
   "cell_type": "code",
   "execution_count": 67,
   "id": "dd5c8150",
   "metadata": {},
   "outputs": [
    {
     "name": "stdout",
     "output_type": "stream",
     "text": [
      "Calling make_greeting('Richard', age=112)\n",
      "'make_greeting' returned 'Whoa Richard! 112 already, you are growing up!'\n"
     ]
    },
    {
     "data": {
      "text/plain": [
       "'Whoa Richard! 112 already, you are growing up!'"
      ]
     },
     "execution_count": 67,
     "metadata": {},
     "output_type": "execute_result"
    }
   ],
   "source": [
    "make_greeting(\"Richard\", age=112)"
   ]
  },
  {
   "cell_type": "code",
   "execution_count": 68,
   "id": "46071b77",
   "metadata": {},
   "outputs": [
    {
     "name": "stdout",
     "output_type": "stream",
     "text": [
      "Calling make_greeting(name='Dorrisile', age=116)\n",
      "'make_greeting' returned 'Whoa Dorrisile! 116 already, you are growing up!'\n"
     ]
    },
    {
     "data": {
      "text/plain": [
       "'Whoa Dorrisile! 116 already, you are growing up!'"
      ]
     },
     "execution_count": 68,
     "metadata": {},
     "output_type": "execute_result"
    }
   ],
   "source": [
    "make_greeting(name=\"Dorrisile\", age=116)"
   ]
  },
  {
   "cell_type": "code",
   "execution_count": 69,
   "id": "de33a66e",
   "metadata": {},
   "outputs": [],
   "source": [
    "import math\n",
    "\n",
    "math.factorial = debug(math.factorial)\n",
    "\n",
    "def approximate_e(terms=18):\n",
    "    return sum(1 / math.factorial(n) for n in range(terms))"
   ]
  },
  {
   "cell_type": "code",
   "execution_count": 70,
   "id": "40543a5e",
   "metadata": {},
   "outputs": [
    {
     "name": "stdout",
     "output_type": "stream",
     "text": [
      "Calling factorial(0)\n",
      "'factorial' returned 1\n",
      "Calling factorial(1)\n",
      "'factorial' returned 1\n",
      "Calling factorial(2)\n",
      "'factorial' returned 2\n",
      "Calling factorial(3)\n",
      "'factorial' returned 6\n",
      "Calling factorial(4)\n",
      "'factorial' returned 24\n"
     ]
    },
    {
     "data": {
      "text/plain": [
       "2.708333333333333"
      ]
     },
     "execution_count": 70,
     "metadata": {},
     "output_type": "execute_result"
    }
   ],
   "source": [
    "approximate_e(5)"
   ]
  },
  {
   "cell_type": "markdown",
   "id": "a9946bf2",
   "metadata": {
    "scrolled": false
   },
   "source": [
    "dataclasses\n",
    "- dataclasses remain classes. Therefore, you can implement any custom methods in them just like you’d do in a normal class.\n",
    "- less boilerplate code"
   ]
  },
  {
   "cell_type": "code",
   "execution_count": 8,
   "id": "c457a5b5",
   "metadata": {},
   "outputs": [],
   "source": [
    "from dataclasses import dataclass\n",
    "@dataclass\n",
    "class Person:\n",
    "     first_name: str\n",
    "     last_name: str\n",
    "     age: int\n",
    "     job: str"
   ]
  },
  {
   "cell_type": "code",
   "execution_count": 9,
   "id": "ea829126",
   "metadata": {},
   "outputs": [
    {
     "name": "stdout",
     "output_type": "stream",
     "text": [
      "[('__eq__', <function __create_fn__.<locals>.__eq__ at 0x7fc466796b80>),\n",
      " ('__init__', <function __create_fn__.<locals>.__init__ at 0x7fc466796c10>),\n",
      " ('__repr__', <function __create_fn__.<locals>.__repr__ at 0x7fc465a559d0>)]\n"
     ]
    }
   ],
   "source": [
    "import inspect\n",
    "from pprint import pprint\n",
    "pprint(inspect.getmembers(Person, inspect.isfunction))"
   ]
  },
  {
   "cell_type": "code",
   "execution_count": 10,
   "id": "2b15c674",
   "metadata": {
    "scrolled": false
   },
   "outputs": [],
   "source": [
    "# help(inspect.getmembers)\n",
    "# dir(inspect)"
   ]
  },
  {
   "cell_type": "code",
   "execution_count": 23,
   "id": "11be7d98",
   "metadata": {},
   "outputs": [
    {
     "name": "stdout",
     "output_type": "stream",
     "text": [
      "Chandra Singh (5)\n"
     ]
    }
   ],
   "source": [
    "@dataclass\n",
    "class Person:\n",
    "    first_name: str = \"Chandra\"\n",
    "    last_name: str = \"Singh\"\n",
    "    age: int = 5\n",
    "    job: str = \"Engineer\"\n",
    "\n",
    "    def __repr__(self):\n",
    "        return f\"{self.first_name} {self.last_name} ({self.age})\"\n",
    "\n",
    "chandra = Person()\n",
    "print(chandra)"
   ]
  },
  {
   "cell_type": "code",
   "execution_count": 24,
   "id": "d9bfa69f",
   "metadata": {},
   "outputs": [
    {
     "name": "stdout",
     "output_type": "stream",
     "text": [
      "Chandra Singh (5)\n",
      "('Chandra', 'Singh', 5, 'Engineer')\n",
      "{'first_name': 'Chandra', 'last_name': 'Singh', 'age': 5, 'job': 'Engineer'}\n"
     ]
    }
   ],
   "source": [
    "from dataclasses import astuple, asdict\n",
    "\n",
    "chandra = Person()\n",
    "print(chandra)\n",
    "print(astuple(chandra))\n",
    "print(asdict(chandra))"
   ]
  },
  {
   "cell_type": "code",
   "execution_count": 15,
   "id": "f41cf793",
   "metadata": {},
   "outputs": [
    {
     "name": "stdout",
     "output_type": "stream",
     "text": [
      "True\n"
     ]
    }
   ],
   "source": [
    "@dataclass\n",
    "class Person:\n",
    "    first_name: str = \"Chandra\"\n",
    "    last_name: str = \"Singh\"\n",
    "    age: int = 19\n",
    "    job: str = \"Engineer\"\n",
    "\n",
    "first_person = Person()\n",
    "second_person = Person()\n",
    "\n",
    "print(first_person == second_person)"
   ]
  },
  {
   "cell_type": "code",
   "execution_count": 28,
   "id": "11be8733",
   "metadata": {},
   "outputs": [
    {
     "name": "stdout",
     "output_type": "stream",
     "text": [
      "Point(x=10, y=20)\n"
     ]
    }
   ],
   "source": [
    "@dataclass\n",
    "class Point:\n",
    "     x: int\n",
    "     y: int\n",
    "\n",
    "p = Point(10, 20)\n",
    "print(p)\n",
    "assert asdict(p) == {'x': 10, 'y': 20}\n",
    "\n",
    "\n",
    "# https://docs.python.org/3/library/dataclasses.html\n",
    "# @dataclass\n",
    "# class C:\n",
    "#      mylist: list[Point]\n",
    "\n",
    "\n",
    "# c = C([Point(0, 0), Point(10, 4)])\n",
    "# assert asdict(c) == {'mylist': [{'x': 0, 'y': 0}, {'x': 10, 'y': 4}]}"
   ]
  },
  {
   "cell_type": "markdown",
   "id": "83c1b297",
   "metadata": {},
   "source": [
    "## Equality for tuples"
   ]
  },
  {
   "cell_type": "code",
   "execution_count": 77,
   "id": "40e82077",
   "metadata": {},
   "outputs": [
    {
     "name": "stdout",
     "output_type": "stream",
     "text": [
      "True\n",
      "False\n"
     ]
    }
   ],
   "source": [
    "t1 = (12, 'asd', 14.3)\n",
    "t2 = (12, 'asd', 14.3)\n",
    "t3 = (12, 'asd', 15.0)\n",
    "print(t1 == t2)\n",
    "print(t1 == t3)"
   ]
  },
  {
   "cell_type": "markdown",
   "id": "534555af",
   "metadata": {},
   "source": [
    "## str vs repr"
   ]
  },
  {
   "cell_type": "code",
   "execution_count": 78,
   "id": "bb253c74",
   "metadata": {},
   "outputs": [
    {
     "data": {
      "text/plain": [
       "datetime.datetime(2022, 4, 7, 23, 26, 22, 481136)"
      ]
     },
     "execution_count": 78,
     "metadata": {},
     "output_type": "execute_result"
    }
   ],
   "source": [
    "import datetime\n",
    "datetime.datetime.now() # This is the __repr__ implementation"
   ]
  },
  {
   "cell_type": "code",
   "execution_count": 79,
   "id": "d92d6626",
   "metadata": {},
   "outputs": [
    {
     "name": "stdout",
     "output_type": "stream",
     "text": [
      "2022-04-07 23:26:22.488343\n"
     ]
    }
   ],
   "source": [
    "print(datetime.datetime.now()) # This is the __str__ implementation"
   ]
  },
  {
   "cell_type": "code",
   "execution_count": 80,
   "id": "7b88f535",
   "metadata": {},
   "outputs": [
    {
     "data": {
      "text/plain": [
       "\"'s'\""
      ]
     },
     "execution_count": 80,
     "metadata": {},
     "output_type": "execute_result"
    },
    {
     "data": {
      "text/plain": [
       "'s'"
      ]
     },
     "execution_count": 80,
     "metadata": {},
     "output_type": "execute_result"
    }
   ],
   "source": [
    "# str('s') # 's'\n",
    "repr('s') # \"'s'\"\n",
    "# eval(str('s')) # NameError: name 's' is not defined\n",
    "eval(repr('s')) # 's'"
   ]
  },
  {
   "cell_type": "code",
   "execution_count": 6,
   "id": "acce3ee7",
   "metadata": {},
   "outputs": [
    {
     "name": "stdout",
     "output_type": "stream",
     "text": [
      "str: <__main__.Test object at 0x7fcbb1be4850>\n",
      "repr: <__main__.Test object at 0x7fcbb20dbb80>\n"
     ]
    }
   ],
   "source": [
    "class Test(object):\n",
    "    pass\n",
    "print(f'str: {str(Test())}')\n",
    "print(f'repr: {repr(Test())}')\n",
    "# No difference"
   ]
  },
  {
   "cell_type": "code",
   "execution_count": 8,
   "id": "2e6d89bb",
   "metadata": {},
   "outputs": [
    {
     "name": "stdout",
     "output_type": "stream",
     "text": [
      "str: test1\n",
      "repr: test1\n"
     ]
    }
   ],
   "source": [
    "class Test1(object):\n",
    "    def __repr__(self):\n",
    "        return 'test1'\n",
    "print(f'str: {str(Test1())}')\n",
    "print(f'repr: {repr(Test1())}')"
   ]
  },
  {
   "cell_type": "code",
   "execution_count": 11,
   "id": "c2a45c53",
   "metadata": {},
   "outputs": [
    {
     "name": "stdout",
     "output_type": "stream",
     "text": [
      "str: test2\n",
      "repr: <__main__.Test2 object at 0x7fcbb1d5b2b0>\n"
     ]
    }
   ],
   "source": [
    "class Test2(object):\n",
    "    def __str__(self):\n",
    "        return 'test2'\n",
    "print(f'str: {str(Test2())}')\n",
    "print(f'repr: {repr(Test2())}')"
   ]
  },
  {
   "cell_type": "markdown",
   "id": "f1833a23",
   "metadata": {},
   "source": [
    "- The default implementation is useless (it’s hard to think of one which wouldn’t be, but yeah)\n",
    "- \\_\\_repr\\_\\_ goal is to be unambiguous\n",
    "- \\_\\_str\\_\\_ goal is to be readable\n",
    "- Container’s \\_\\_str\\_\\_ uses contained objects’ \\_\\_repr\\_\\_\n",
    "\n",
    "READ:\n",
    "- https://stackoverflow.com/questions/1436703/what-is-the-difference-between-str-and-repr"
   ]
  },
  {
   "cell_type": "markdown",
   "id": "e737fe21",
   "metadata": {},
   "source": [
    "## Decorators"
   ]
  },
  {
   "cell_type": "code",
   "execution_count": 81,
   "id": "2435709e",
   "metadata": {},
   "outputs": [
    {
     "name": "stdout",
     "output_type": "stream",
     "text": [
      "Hello World\n",
      "Hello World\n",
      "Hello World\n",
      "Hello World\n"
     ]
    }
   ],
   "source": [
    "def repeat(num_times):\n",
    "    def decorator_repeat(func):\n",
    "        @functools.wraps(func)\n",
    "        def wrapper_repeat(*args, **kwargs):\n",
    "            for _ in range(num_times):\n",
    "                value = func(*args, **kwargs)\n",
    "            return value\n",
    "        return wrapper_repeat\n",
    "    return decorator_repeat\n",
    "\n",
    "@repeat(num_times=4)\n",
    "def greet(name):\n",
    "    print(f\"Hello {name}\")\n",
    "    \n",
    "greet(\"World\")\n",
    "\n",
    "# This wrapper_repeat() function takes arbitrary arguments and returns the \n",
    "#   value of the decorated function, func(). This wrapper function also \n",
    "#   contains the loop that calls the decorated function num_times times. \n",
    "#   This is no different from the earlier wrapper functions you have seen, \n",
    "#   except that it is using the num_times parameter that must be supplied \n",
    "#   from the outside.\n",
    "# Defining decorator_repeat() as an inner function means that repeat() will \n",
    "#   refer to a function object—decorator_repeat. Earlier, we used repeat \n",
    "#   without parentheses to refer to the function object. The added \n",
    "#   parentheses are necessary when defining decorators that take arguments.\n",
    "# The num_times argument is seemingly not used in repeat() itself. But by \n",
    "#   passing num_times a closure is created where the value of num_times is \n",
    "#   stored until it will be used later by wrapper_repeat().\n",
    "# When a decorator uses arguments, you need to add an extra outer function. \n",
    "#   The challenge is for your code to figure out if the decorator has been \n",
    "#   called with or without arguments."
   ]
  },
  {
   "cell_type": "markdown",
   "id": "af21a228",
   "metadata": {},
   "source": [
    "## Packing and Unpacking iterables"
   ]
  },
  {
   "cell_type": "code",
   "execution_count": 82,
   "id": "f0b05ad6",
   "metadata": {},
   "outputs": [
    {
     "name": "stdout",
     "output_type": "stream",
     "text": [
      "6\n",
      "45\n"
     ]
    }
   ],
   "source": [
    "def my_sum(*args):\n",
    "    result = 0\n",
    "    # Iterating over the Python args tuple\n",
    "    for x in args:\n",
    "        result += x\n",
    "    return result\n",
    "\n",
    "print(my_sum(1, 2, 3))\n",
    "\n",
    "list1 = [1, 2, 3]\n",
    "list2 = [4, 5]\n",
    "list3 = [6, 7, 8, 9]\n",
    "\n",
    "print(my_sum(*list1, *list2, *list3))"
   ]
  },
  {
   "cell_type": "code",
   "execution_count": 83,
   "id": "789bebfc",
   "metadata": {},
   "outputs": [
    {
     "name": "stdout",
     "output_type": "stream",
     "text": [
      "1 2 3\n"
     ]
    }
   ],
   "source": [
    "# print_unpacked_list.py\n",
    "my_list = [1, 2, 3]\n",
    "print(*my_list)"
   ]
  },
  {
   "cell_type": "code",
   "execution_count": 84,
   "id": "9fe1e19c",
   "metadata": {},
   "outputs": [
    {
     "name": "stdout",
     "output_type": "stream",
     "text": [
      "6\n"
     ]
    }
   ],
   "source": [
    "def my_sum(a, b, c):\n",
    "    print(a + b + c)\n",
    "\n",
    "my_list = [1, 2, 3]\n",
    "my_sum(*my_list)\n",
    "# Here, my_sum() explicitly states that a, b, and c are required arguments."
   ]
  },
  {
   "cell_type": "code",
   "execution_count": 85,
   "id": "3492f07b",
   "metadata": {},
   "outputs": [
    {
     "name": "stdout",
     "output_type": "stream",
     "text": [
      "1\n",
      "[2, 3, 4, 5]\n",
      "6\n"
     ]
    }
   ],
   "source": [
    "my_list = [1, 2, 3, 4, 5, 6]\n",
    "\n",
    "a, *b, c = my_list\n",
    "\n",
    "print(a)\n",
    "print(b)\n",
    "print(c)"
   ]
  },
  {
   "cell_type": "code",
   "execution_count": 86,
   "id": "59256ab0",
   "metadata": {},
   "outputs": [
    {
     "name": "stdout",
     "output_type": "stream",
     "text": [
      "[1, 2, 3, 4, 5, 6, 7, 8, 9]\n"
     ]
    }
   ],
   "source": [
    "my_first_list = [1, 2, 3]\n",
    "my_second_list = [4, 5, 6]\n",
    "my_first_list = [*my_first_list, *my_second_list]\n",
    "my_second_list = [7, 8, 9]\n",
    "my_first_list = [*my_first_list, *my_second_list]\n",
    "\n",
    "print(my_first_list)"
   ]
  },
  {
   "cell_type": "code",
   "execution_count": 87,
   "id": "01ae95be",
   "metadata": {},
   "outputs": [
    {
     "name": "stdout",
     "output_type": "stream",
     "text": [
      "{'A': 1, 'B': 2, 'C': 3, 'D': 4}\n"
     ]
    }
   ],
   "source": [
    "my_first_dict = {\"A\": 1, \"B\": 2}\n",
    "my_second_dict = {\"C\": 3, \"D\": 4}\n",
    "my_merged_dict = {**my_first_dict, **my_second_dict}\n",
    "\n",
    "print(my_merged_dict)"
   ]
  },
  {
   "cell_type": "code",
   "execution_count": 88,
   "id": "22456d78",
   "metadata": {},
   "outputs": [
    {
     "name": "stdout",
     "output_type": "stream",
     "text": [
      "['R', 'e', 'a', 'l', 'P', 'y', 't', 'h', 'o', 'n']\n"
     ]
    }
   ],
   "source": [
    "# string_to_list.py\n",
    "a = [*\"RealPython\"]\n",
    "print(a)"
   ]
  },
  {
   "cell_type": "code",
   "execution_count": 89,
   "id": "9116e005",
   "metadata": {},
   "outputs": [
    {
     "name": "stdout",
     "output_type": "stream",
     "text": [
      "['R', 'e', 'a', 'l', 'P', 'y', 't', 'h', 'o', 'n']\n"
     ]
    }
   ],
   "source": [
    "*a, = \"RealPython\"\n",
    "print(a)"
   ]
  },
  {
   "cell_type": "code",
   "execution_count": 90,
   "id": "0e5e6539",
   "metadata": {},
   "outputs": [
    {
     "name": "stdout",
     "output_type": "stream",
     "text": [
      "n\n",
      "<class 'str'>\n",
      "['R', 'e', 'a', 'l', 'P', 'y', 't', 'h', 'o']\n",
      "<class 'list'>\n"
     ]
    }
   ],
   "source": [
    "*a, b = \"RealPython\"\n",
    "print(b)\n",
    "print(type(b))\n",
    "print(a)\n",
    "print(type(a))"
   ]
  },
  {
   "cell_type": "markdown",
   "id": "46abd020",
   "metadata": {},
   "source": [
    "## Packing iterables"
   ]
  },
  {
   "cell_type": "code",
   "execution_count": 91,
   "id": "d79b215d",
   "metadata": {},
   "outputs": [
    {
     "name": "stdout",
     "output_type": "stream",
     "text": [
      "Only a assignment: [1, 2]\n",
      "a variable: 1\n",
      "b starred variable: [2, 3]\n",
      "a starred variable: [1, 2]\n",
      "b variable: 3\n",
      "_ variable: [0, 0, 0, 0]\n"
     ]
    }
   ],
   "source": [
    "*a, = 1, 2\n",
    "print('Only a assignment:', a)\n",
    "a, *b = 1, 2, 3\n",
    "print('a variable:', a)\n",
    "print('b starred variable:', b)\n",
    "*a, b = 1, 2, 3\n",
    "print('a starred variable:', a)\n",
    "print('b variable:', b)\n",
    "a, b, *_ = 1, 2, 0, 0, 0, 0 # Dropping Unneeded Values With *\n",
    "print('_ variable:', _)"
   ]
  },
  {
   "cell_type": "markdown",
   "id": "4dd96f5a",
   "metadata": {},
   "source": [
    "## Merging iterables using star operator"
   ]
  },
  {
   "cell_type": "code",
   "execution_count": 92,
   "id": "f541346d",
   "metadata": {},
   "outputs": [
    {
     "name": "stdout",
     "output_type": "stream",
     "text": [
      "(0, 1, 2, 3, 4)\n",
      "[0, 1, 2, 3, 4]\n",
      "{0, 1, 2, 3, 4}\n",
      "[1, 2, 3, 1, 2, 3, 1, 2, 3, 1, 2, 3]\n",
      "[1, 2, 3, 1, 2, 3, 1, 2, 3, 1, 2, 3, '1', '2', '3']\n"
     ]
    }
   ],
   "source": [
    "my_tuple = (1, 2, 3)\n",
    "print((0, *my_tuple, 4))\n",
    "my_list = [1, 2, 3]\n",
    "print([0, *my_list, 4])\n",
    "my_set = {1, 2, 3}\n",
    "print({0, *my_set, 4})\n",
    "print([*my_set, *my_list, *my_tuple, *range(1, 4)])\n",
    "my_str = \"123\"\n",
    "print([*my_set, *my_list, *my_tuple, *range(1, 4), *my_str])\n"
   ]
  },
  {
   "cell_type": "code",
   "execution_count": 93,
   "id": "db6a725c",
   "metadata": {},
   "outputs": [
    {
     "name": "stdout",
     "output_type": "stream",
     "text": [
      "[0, 1, 2, 3, 4]\n",
      "<class 'list'>\n",
      "range(0, 5)\n",
      "<class 'range'>\n",
      "[2, 3]\n",
      "[5, 6, 7]\n"
     ]
    }
   ],
   "source": [
    "# *a = range(5) # SyntaxError: starred assignment target must be in a list or tuple\n",
    "*a, = range(5) # Valid\n",
    "print(a)\n",
    "print(type(a))\n",
    "a = range(5)\n",
    "print(a)\n",
    "print(type(a))\n",
    "\n",
    "for a, *b in [(1, 2, 3), (4, 5, 6, 7)]:\n",
    "    print(b)"
   ]
  },
  {
   "cell_type": "markdown",
   "id": "0669dd40",
   "metadata": {},
   "source": [
    "## Unpacking Dictionaries With the ** Operator"
   ]
  },
  {
   "cell_type": "code",
   "execution_count": 94,
   "id": "f99db58c",
   "metadata": {},
   "outputs": [
    {
     "name": "stdout",
     "output_type": "stream",
     "text": [
      "{'one': 1, 'two': 2, 'three': 3, 'a': 'A', 'b': 'B', 'c': 'C'}\n"
     ]
    }
   ],
   "source": [
    "numbers = {\"one\": 1, \"two\": 2, \"three\": 3}\n",
    "letters = {\"a\": \"A\", \"b\": \"B\", \"c\": \"C\"}\n",
    "combination = {**numbers, **letters}\n",
    "print(combination)"
   ]
  },
  {
   "cell_type": "markdown",
   "id": "0adaf600",
   "metadata": {},
   "source": [
    "## Iterable unpacking"
   ]
  },
  {
   "cell_type": "code",
   "execution_count": 95,
   "id": "62e98da1",
   "metadata": {},
   "outputs": [
    {
     "name": "stdout",
     "output_type": "stream",
     "text": [
      "String: 1\n",
      "List: 1\n",
      "Generators 0\n",
      "Keys: one\n",
      "Values: 1\n",
      "Pairs: ('one', 1)\n"
     ]
    }
   ],
   "source": [
    "# Unpacking strings\n",
    "a, b, c = '123'\n",
    "print('String:', a)\n",
    "# Unpacking lists\n",
    "a, b, c = [1, 2, 3]\n",
    "print('List:', a)\n",
    "# Unpacking generators\n",
    "gen = (i ** 2 for i in range(3))\n",
    "a, b, c = gen\n",
    "print('Generators', a)\n",
    "# Unpacking dictionaries (keys, values, and items)\n",
    "my_dict = {'one': 1, 'two':2, 'three': 3}\n",
    "a, b, c = my_dict  # Unpack keys\n",
    "print('Keys:', a)\n",
    "a, b, c = my_dict.values()  # Unpack values\n",
    "print('Values:', a)\n",
    "a, b, c = my_dict.items()  # Unpacking key-value pairs\n",
    "print('Pairs:', a)"
   ]
  },
  {
   "cell_type": "markdown",
   "id": "f06eb2de",
   "metadata": {},
   "source": [
    "## Defining Functions With * and **"
   ]
  },
  {
   "cell_type": "code",
   "execution_count": 96,
   "id": "5d2d2f9e",
   "metadata": {},
   "outputs": [
    {
     "name": "stdout",
     "output_type": "stream",
     "text": [
      "Welcome to...\n",
      "(1, 2, 3)\n",
      "{'site': 'StackAbuse.com'}\n"
     ]
    }
   ],
   "source": [
    "def func(required, *args, **kwargs):\n",
    "     print(required)\n",
    "     print(args)\n",
    "     print(kwargs)\n",
    "func(\"Welcome to...\", 1, 2, 3, site='StackAbuse.com')"
   ]
  },
  {
   "cell_type": "markdown",
   "id": "37493e2a",
   "metadata": {},
   "source": [
    "## Calling Functions With * and **"
   ]
  },
  {
   "cell_type": "code",
   "execution_count": 97,
   "id": "97a4c8f8",
   "metadata": {},
   "outputs": [
    {
     "name": "stdout",
     "output_type": "stream",
     "text": [
      "Welcome to StackAbuse.com\n"
     ]
    }
   ],
   "source": [
    "def func(welcome, to, site):\n",
    "    print(welcome, to, site)\n",
    "\n",
    "func(*[\"Welcome\", \"to\"], **{\"site\": 'StackAbuse.com'})"
   ]
  },
  {
   "cell_type": "code",
   "execution_count": 98,
   "id": "f68648e9",
   "metadata": {},
   "outputs": [
    {
     "name": "stdout",
     "output_type": "stream",
     "text": [
      "Welcome to...\n",
      "(1, 2, 3)\n",
      "{'site': 'StackAbuse.com'}\n",
      "Welcome to...\n",
      "(1, 2, 3)\n",
      "{'site': 'StackAbuse.com'}\n"
     ]
    }
   ],
   "source": [
    "def func(required, *args, **kwargs):\n",
    "    print(required)\n",
    "    print(args)\n",
    "    print(kwargs)\n",
    "func(\"Welcome to...\", *[1, 2, 3], **{\"site\": 'StackAbuse.com'})\n",
    "func(\"Welcome to...\", *(1, 2, 3), **{\"site\": 'StackAbuse.com'})"
   ]
  },
  {
   "cell_type": "markdown",
   "id": "6a2bee35",
   "metadata": {},
   "source": [
    "## Parameters after * are keyword-only parameters "
   ]
  },
  {
   "cell_type": "code",
   "execution_count": 7,
   "id": "db880a4a",
   "metadata": {},
   "outputs": [
    {
     "name": "stdout",
     "output_type": "stream",
     "text": [
      "10 20\n",
      "10 20\n"
     ]
    },
    {
     "ename": "TypeError",
     "evalue": "foo() takes 1 positional argument but 2 were given",
     "output_type": "error",
     "traceback": [
      "\u001b[0;31m---------------------------------------------------------------------------\u001b[0m",
      "\u001b[0;31mTypeError\u001b[0m                                 Traceback (most recent call last)",
      "Input \u001b[0;32mIn [7]\u001b[0m, in \u001b[0;36m<cell line: 6>\u001b[0;34m()\u001b[0m\n\u001b[1;32m      4\u001b[0m foo(pos\u001b[38;5;241m=\u001b[39m\u001b[38;5;241m10\u001b[39m, forcenamed\u001b[38;5;241m=\u001b[39m\u001b[38;5;241m20\u001b[39m)\n\u001b[1;32m      5\u001b[0m foo(\u001b[38;5;241m10\u001b[39m, forcenamed\u001b[38;5;241m=\u001b[39m\u001b[38;5;241m20\u001b[39m)\n\u001b[0;32m----> 6\u001b[0m \u001b[38;5;28;01massert\u001b[39;00m \u001b[43mfoo\u001b[49m\u001b[43m(\u001b[49m\u001b[38;5;241;43m10\u001b[39;49m\u001b[43m,\u001b[49m\u001b[43m \u001b[49m\u001b[38;5;241;43m20\u001b[39;49m\u001b[43m)\u001b[49m, \u001b[38;5;124m\"\u001b[39m\u001b[38;5;124mThis should fail with TypeError\u001b[39m\u001b[38;5;124m\"\u001b[39m\n",
      "\u001b[0;31mTypeError\u001b[0m: foo() takes 1 positional argument but 2 were given"
     ]
    }
   ],
   "source": [
    "def foo(pos, *, forcenamed):\n",
    "    print(pos, forcenamed)\n",
    "\n",
    "foo(pos=10, forcenamed=20)\n",
    "foo(10, forcenamed=20)\n",
    "assert foo(10, 20), \"This should fail with TypeError\"\n"
   ]
  },
  {
   "cell_type": "markdown",
   "id": "d5f76a0b",
   "metadata": {},
   "source": [
    "## Integer identity"
   ]
  },
  {
   "cell_type": "code",
   "execution_count": 99,
   "id": "8166b965",
   "metadata": {},
   "outputs": [
    {
     "name": "stdout",
     "output_type": "stream",
     "text": [
      "4561709536\n"
     ]
    }
   ],
   "source": [
    "x = 5\n",
    "print(id(x))"
   ]
  },
  {
   "cell_type": "code",
   "execution_count": 100,
   "id": "b6a6df60",
   "metadata": {},
   "outputs": [
    {
     "name": "stdout",
     "output_type": "stream",
     "text": [
      "4561709568\n"
     ]
    }
   ],
   "source": [
    "x = x+1\n",
    "print(id(x))"
   ]
  },
  {
   "cell_type": "code",
   "execution_count": 101,
   "id": "366b8cdf",
   "metadata": {},
   "outputs": [
    {
     "name": "stdout",
     "output_type": "stream",
     "text": [
      "<class 'builtin_function_or_method'> with id: 140230221272944\n"
     ]
    }
   ],
   "source": [
    "print(f'{type(id)} with id: {id(id)}')"
   ]
  },
  {
   "cell_type": "markdown",
   "id": "1c97ac3c",
   "metadata": {},
   "source": [
    "## String equality using identity"
   ]
  },
  {
   "cell_type": "code",
   "execution_count": 102,
   "id": "86503edd",
   "metadata": {},
   "outputs": [
    {
     "name": "stdout",
     "output_type": "stream",
     "text": [
      "Hello 140230355840240\n",
      "Hello 140230355840240\n",
      "True\n",
      "True\n",
      "Hello 140230355840240\n",
      "Helloo 140230358215856\n",
      "False\n",
      "False\n"
     ]
    }
   ],
   "source": [
    "str1 = 'Hello'\n",
    "str2 = 'Hello'\n",
    "print(str1, id(str1))\n",
    "print(str2, id(str2))\n",
    "print(str1 is str2)\n",
    "print(str1 == str2)\n",
    "str2 = str2 + 'o'\n",
    "print(str1, id(str1))\n",
    "print(str2, id(str2))\n",
    "print(str1 is str2)\n",
    "print(str1 == str2)"
   ]
  },
  {
   "cell_type": "code",
   "execution_count": 103,
   "id": "239e2ae7",
   "metadata": {},
   "outputs": [
    {
     "name": "stdout",
     "output_type": "stream",
     "text": [
      "Hello 140230355840240\n",
      "Hello 140230355840240\n",
      "Hello 140230355840240\n",
      "Helloo 140230358217264\n"
     ]
    }
   ],
   "source": [
    "str1 = 'Hello'\n",
    "str2 = str1\n",
    "print(str1, id(str1))\n",
    "print(str2, id(str2))\n",
    "str2 = str2 + 'o'\n",
    "print(str1, id(str1))\n",
    "print(str2, id(str2))"
   ]
  },
  {
   "cell_type": "markdown",
   "id": "faafa5ee",
   "metadata": {},
   "source": [
    "## Immutable string"
   ]
  },
  {
   "cell_type": "code",
   "execution_count": 104,
   "id": "384dcc2f",
   "metadata": {
    "scrolled": true
   },
   "outputs": [
    {
     "name": "stdout",
     "output_type": "stream",
     "text": [
      "o\n"
     ]
    }
   ],
   "source": [
    "a = 'dog'\n",
    "print(a[1])\n",
    "# a[1] = 'a' # 'str' object does not support item assignment"
   ]
  },
  {
   "cell_type": "markdown",
   "id": "c047a539",
   "metadata": {},
   "source": [
    "## List as mutable with object representation"
   ]
  },
  {
   "cell_type": "code",
   "execution_count": 105,
   "id": "24b63751",
   "metadata": {},
   "outputs": [
    {
     "name": "stdout",
     "output_type": "stream",
     "text": [
      "<method-wrapper '__repr__' of list object at 0x7f89ecafae00>\n",
      "['hello new']\n",
      "<method-wrapper '__repr__' of list object at 0x7f89ecafae00>\n"
     ]
    }
   ],
   "source": [
    "a = ['hello']\n",
    "print(a.__repr__)\n",
    "a[0] = \"hello new\"\n",
    "print(a)\n",
    "print(a.__repr__)"
   ]
  },
  {
   "cell_type": "markdown",
   "id": "68eb7ba4",
   "metadata": {},
   "source": [
    "## Disable asserts"
   ]
  },
  {
   "cell_type": "code",
   "execution_count": 106,
   "id": "c7b0f0a5",
   "metadata": {},
   "outputs": [],
   "source": [
    "# !python -Oc \"assert False\" # This is how we disable asserts\n",
    "\n",
    "# !python -c \"assert False\" # This will make asserts fail\n",
    "!python -c \"assert True\" # This will make asserts pass"
   ]
  },
  {
   "cell_type": "markdown",
   "id": "8aeaecb3",
   "metadata": {},
   "source": [
    "## assert with parenthesis"
   ]
  },
  {
   "cell_type": "code",
   "execution_count": 107,
   "id": "e0126af9",
   "metadata": {},
   "outputs": [],
   "source": [
    "# assert(1 == 2, 'This should fail') # An old feature that is no more relevant\n",
    "# assert 1 == 2, 'This should fail'\n",
    "# ?assert"
   ]
  },
  {
   "cell_type": "markdown",
   "id": "b48383ee",
   "metadata": {},
   "source": [
    "## Context manager order of events"
   ]
  },
  {
   "cell_type": "code",
   "execution_count": 108,
   "id": "c7bc6de1",
   "metadata": {},
   "outputs": [
    {
     "name": "stdout",
     "output_type": "stream",
     "text": [
      "__init__ method\n",
      "__enter__ method\n",
      "144\n",
      "__exit__ method\n"
     ]
    }
   ],
   "source": [
    "class TestClass(object):\n",
    "    def __init__(self, vara):\n",
    "        self.vara = vara\n",
    "        print('__init__ method')\n",
    "        \n",
    "    def __enter__(self):\n",
    "        print('__enter__ method')\n",
    "        return self.vara**2\n",
    "    \n",
    "    def __exit__(self, type, value, traceback):\n",
    "        print('__exit__ method')\n",
    "        \n",
    "vara = 12\n",
    "with TestClass(vara) as tc:\n",
    "    print(tc)"
   ]
  },
  {
   "cell_type": "markdown",
   "id": "c8b8f107",
   "metadata": {
    "scrolled": false
   },
   "source": [
    "## TODO - contextlib package\n"
   ]
  },
  {
   "cell_type": "code",
   "execution_count": 74,
   "id": "0754b1d9",
   "metadata": {},
   "outputs": [
    {
     "name": "stdout",
     "output_type": "stream",
     "text": [
      "Closing file\n"
     ]
    }
   ],
   "source": [
    "import contextlib\n",
    "# help(contextlib)\n",
    "\n",
    "from contextlib import contextmanager\n",
    "\n",
    "@contextmanager\n",
    "def file_open(path):\n",
    "    try:\n",
    "        f_obj = open(path, 'w')\n",
    "        yield f_obj\n",
    "    except OSError:\n",
    "        print(\"We had an error!\")\n",
    "    finally:\n",
    "        print('Closing file')\n",
    "        f_obj.close()\n",
    "\n",
    "if __name__ == '__main__':\n",
    "    with file_open('test.txt') as fobj:\n",
    "        fobj.write('Testing context managers')"
   ]
  },
  {
   "cell_type": "code",
   "execution_count": 76,
   "id": "197ee97d",
   "metadata": {
    "scrolled": false
   },
   "outputs": [
    {
     "data": {
      "text/plain": [
       "['AbstractAsyncContextManager',\n",
       " 'AbstractContextManager',\n",
       " 'AsyncExitStack',\n",
       " 'ContextDecorator',\n",
       " 'ExitStack',\n",
       " 'MethodType',\n",
       " '_AsyncGeneratorContextManager',\n",
       " '_BaseExitStack',\n",
       " '_GeneratorContextManager',\n",
       " '_GeneratorContextManagerBase',\n",
       " '_RedirectStream',\n",
       " '__all__',\n",
       " '__builtins__',\n",
       " '__cached__',\n",
       " '__doc__',\n",
       " '__file__',\n",
       " '__loader__',\n",
       " '__name__',\n",
       " '__package__',\n",
       " '__spec__',\n",
       " '_collections_abc',\n",
       " 'abc',\n",
       " 'asynccontextmanager',\n",
       " 'closing',\n",
       " 'contextmanager',\n",
       " 'deque',\n",
       " 'nullcontext',\n",
       " 'redirect_stderr',\n",
       " 'redirect_stdout',\n",
       " 'suppress',\n",
       " 'sys',\n",
       " 'wraps']"
      ]
     },
     "execution_count": 76,
     "metadata": {},
     "output_type": "execute_result"
    }
   ],
   "source": [
    "import contextlib\n",
    "# help(contextlib)\n",
    "dir(contextlib)"
   ]
  },
  {
   "cell_type": "code",
   "execution_count": null,
   "id": "a7324380",
   "metadata": {},
   "outputs": [],
   "source": []
  },
  {
   "cell_type": "markdown",
   "id": "3968c797",
   "metadata": {},
   "source": [
    "## Context manager with pytest"
   ]
  },
  {
   "cell_type": "code",
   "execution_count": 109,
   "id": "4f18f4c8",
   "metadata": {},
   "outputs": [],
   "source": [
    "import pytest\n",
    "with pytest.raises(ZeroDivisionError):\n",
    "    4 / 0 # No error\n",
    "#     4/2 # Raises error - Failed: DID NOT RAISE <class 'ZeroDivisionError'>"
   ]
  },
  {
   "cell_type": "markdown",
   "id": "dcf62433",
   "metadata": {},
   "source": [
    "## Incorrect context manager"
   ]
  },
  {
   "cell_type": "code",
   "execution_count": 110,
   "id": "0e840225",
   "metadata": {},
   "outputs": [
    {
     "name": "stdout",
     "output_type": "stream",
     "text": [
      "Entering the context...\n",
      "Hello, World!\n",
      "Leaving the context...\n",
      "None\n",
      "None\n",
      "None\n"
     ]
    }
   ],
   "source": [
    "class HelloContextManager:\n",
    "    def __enter__(self):\n",
    "        print(\"Entering the context...\")\n",
    "        return \"Hello, World!\"\n",
    "    def __exit__(self, exc_type, exc_value, exc_tb):\n",
    "        print(\"Leaving the context...\")\n",
    "        print(exc_type, exc_value, exc_tb, sep=\"\\n\")\n",
    "\n",
    "\n",
    "with HelloContextManager() as hello:\n",
    "    print(hello)\n",
    "\n",
    "# with HelloContextManager as hello: # This is incorrect as the required context manager is not passed\n",
    "#     print(hello)"
   ]
  },
  {
   "cell_type": "markdown",
   "id": "556627d0",
   "metadata": {},
   "source": [
    "## Use of contextmanager and lambda functions"
   ]
  },
  {
   "cell_type": "code",
   "execution_count": 111,
   "id": "608903ab",
   "metadata": {},
   "outputs": [
    {
     "data": {
      "text/plain": [
       "0.5043559669999986"
      ]
     },
     "execution_count": 111,
     "metadata": {},
     "output_type": "execute_result"
    }
   ],
   "source": [
    "from time import perf_counter\n",
    "\n",
    "class TestTimer:\n",
    "    def __enter__(self):\n",
    "        '''\n",
    "        When you use Timer in a with statement, .__enter__() gets called. This method uses \n",
    "        time.perf_counter() to get the time at the beginning of the with code block and \n",
    "        stores it in .start. It also initializes .end and returns a lambda function that \n",
    "        computes a time delta. In this case, .start holds the initial state or time measurement.\n",
    "        '''\n",
    "        self.start = perf_counter()\n",
    "        self.end = 0.0\n",
    "        return lambda: self.end - self.start\n",
    "\n",
    "    def __exit__(self, *args):\n",
    "        '''\n",
    "        Once the with block ends, .__exit__() gets called. The method gets the time at the end \n",
    "        of the block and updates the value of .end so that the lambda function can compute the \n",
    "        time required to run the with code block\n",
    "        '''\n",
    "        self.end = perf_counter()\n",
    "        \n",
    "from time import sleep\n",
    "\n",
    "with TestTimer() as timer:\n",
    "    # Time-consuming code goes here...\n",
    "    sleep(0.5)\n",
    "\n",
    "timer()"
   ]
  },
  {
   "cell_type": "code",
   "execution_count": 112,
   "id": "561d5471",
   "metadata": {},
   "outputs": [],
   "source": [
    "# help(perf_counter)"
   ]
  },
  {
   "cell_type": "markdown",
   "id": "1341238d",
   "metadata": {},
   "source": [
    "## Iterables/Iterators"
   ]
  },
  {
   "cell_type": "code",
   "execution_count": 113,
   "id": "d624f807",
   "metadata": {},
   "outputs": [
    {
     "name": "stdout",
     "output_type": "stream",
     "text": [
      "<class 'generator'>\n",
      "0\n",
      "1\n",
      "4\n"
     ]
    }
   ],
   "source": [
    "mygenerator = (x*x for x in range(3))\n",
    "print(type(mygenerator))\n",
    "for i in mygenerator:\n",
    "  print(i)"
   ]
  },
  {
   "cell_type": "markdown",
   "id": "0dcfcd16",
   "metadata": {},
   "source": [
    "## Using yield as generator"
   ]
  },
  {
   "cell_type": "code",
   "execution_count": 29,
   "id": "b2ef9fa7",
   "metadata": {},
   "outputs": [
    {
     "name": "stdout",
     "output_type": "stream",
     "text": [
      "1-> <generator object f123 at 0x7fc467030e40>\n",
      "2-> <class 'generator'>\n",
      "3-> 1\n",
      "Loop starts\n",
      "2\n",
      "3\n"
     ]
    }
   ],
   "source": [
    "def f123():\n",
    "    yield 1\n",
    "    yield 2\n",
    "    yield 3\n",
    "\n",
    "x = f123()\n",
    "print('1->', f123())\n",
    "print('2->', type(x))\n",
    "print('3->', x.__next__())\n",
    "\n",
    "print('Loop starts')\n",
    "for item in x:\n",
    "    print(item)"
   ]
  },
  {
   "cell_type": "code",
   "execution_count": 115,
   "id": "c07152f4",
   "metadata": {},
   "outputs": [
    {
     "name": "stdout",
     "output_type": "stream",
     "text": [
      "1\n",
      "Loop starts\n",
      "1\n",
      "2\n",
      "3\n"
     ]
    }
   ],
   "source": [
    "print(f123().__next__())\n",
    "\n",
    "print('Loop starts')\n",
    "for item in f123():\n",
    "    print(item)"
   ]
  },
  {
   "cell_type": "code",
   "execution_count": 116,
   "id": "4083830a",
   "metadata": {},
   "outputs": [
    {
     "name": "stdout",
     "output_type": "stream",
     "text": [
      "Task 1 performed\n",
      "Task 2 performed\n"
     ]
    }
   ],
   "source": [
    "def do_task():\n",
    "    print('Task 1 performed')\n",
    "    yield\n",
    "    print('Task 2 performed')\n",
    "    \n",
    "task_list = do_task()\n",
    "\n",
    "while True:\n",
    "    try:\n",
    "        next(task_list)\n",
    "    except StopIteration:\n",
    "        break\n",
    "        \n"
   ]
  },
  {
   "cell_type": "markdown",
   "id": "e001965b",
   "metadata": {},
   "source": [
    "## Invoking super"
   ]
  },
  {
   "cell_type": "code",
   "execution_count": 117,
   "id": "cfedd0d3",
   "metadata": {},
   "outputs": [],
   "source": [
    "class A:\n",
    "     def __init__(self, x):\n",
    "          self.x = x\n",
    "\n",
    "class B(A):\n",
    "     def __init__(self, x, y):\n",
    "          A.__init__(self, x) # Either this \n",
    "          self.y = y\n",
    "\n",
    "class B(A):\n",
    "     def __init__(self, x, y):\n",
    "          super().__init__(x) # or this \n",
    "          self.y = y"
   ]
  },
  {
   "cell_type": "markdown",
   "id": "47a9093e",
   "metadata": {},
   "source": [
    "## Formating strings"
   ]
  },
  {
   "cell_type": "code",
   "execution_count": 118,
   "id": "576ea09c",
   "metadata": {},
   "outputs": [
    {
     "name": "stdout",
     "output_type": "stream",
     "text": [
      "Hello, Eric. You are 74.\n",
      "Hello, Eric. You are 74.\n",
      "Hello, Eric. You are 74.\n",
      "Hello, Eric. You are 74.\n",
      "74\n",
      "Eric Idle is 74.\n",
      "Eric Idle is 74. Surprise!\n"
     ]
    }
   ],
   "source": [
    "# Old way of formating strings\n",
    "name = \"Eric\"\n",
    "age = 74\n",
    "print(\"Hello, %s. You are %s.\" % (name, age))\n",
    "\n",
    "# Reference variables using str.format()\n",
    "print(\"Hello, {1}. You are {0}.\".format(age, name))\n",
    "\n",
    "person = {'name': 'Eric', 'age': 74}\n",
    "print(\"Hello, {name}. You are {age}.\".format(**person))\n",
    "\n",
    "# f-string formating\n",
    "print(f\"Hello, {name}. You are {age}.\")\n",
    "print(f\"{2 * 37}\")\n",
    "\n",
    "class Comedian:\n",
    "    def __init__(self, first_name, last_name, age):\n",
    "        self.first_name = first_name\n",
    "        self.last_name = last_name\n",
    "        self.age = age\n",
    "\n",
    "    def __str__(self):\n",
    "        return f\"{self.first_name} {self.last_name} is {self.age}.\"\n",
    "\n",
    "    def __repr__(self):\n",
    "        return f\"{self.first_name} {self.last_name} is {self.age}. Surprise!\"\n",
    "\n",
    "new_comedian = Comedian(\"Eric\", \"Idle\", \"74\")\n",
    "print(f\"{new_comedian}\")   # This calls str()\n",
    "print(f\"{new_comedian!r}\") # This calls repr()\n"
   ]
  },
  {
   "cell_type": "markdown",
   "id": "5028fa6d",
   "metadata": {},
   "source": [
    "## Named arguments"
   ]
  },
  {
   "cell_type": "code",
   "execution_count": 119,
   "id": "037ce368",
   "metadata": {},
   "outputs": [
    {
     "name": "stdout",
     "output_type": "stream",
     "text": [
      "fname Chandra\n",
      "lname Singh\n",
      "lname Singh\n",
      "print_arguments3\n",
      "args: ()\n",
      "kwargs: lname Singh\n",
      "print_arguments3\n",
      "args: ('hello',)\n",
      "kwargs: lname Singh\n",
      "{'fname': 'Chandra', 'lname': 'Singh'}\n",
      "Chandra\n",
      "Some Name\n",
      "fname Chandra\n",
      "lname Singh\n"
     ]
    }
   ],
   "source": [
    "def analyzekwargs(**kwargs):\n",
    "    print(kwargs)\n",
    "    print(kwargs.get('fname', 'Some Name'))\n",
    "    print(kwargs.get('name', 'Some Name'))\n",
    "    print_arguments(**kwargs)\n",
    "\n",
    "\n",
    "def print_arguments(**kwargs):\n",
    "    for k, v in kwargs.items():\n",
    "        print(k, v)\n",
    "\n",
    "print_arguments()  # no output\n",
    "\n",
    "print_arguments(fname='Chandra', lname='Singh')\n",
    "# outputs\n",
    "# fname Chandra\n",
    "# lname Singh\n",
    "\n",
    "\n",
    "def print_arguments2(fname, **kwargs):\n",
    "    for k, v in kwargs.items():\n",
    "        print(k, v)\n",
    "\n",
    "\n",
    "print_arguments2(fname='Chandra', lname='Singh')\n",
    "# outputs\n",
    "# lname Singh\n",
    "\n",
    "\n",
    "def print_arguments3(fname, *args, **kwargs):\n",
    "    print('print_arguments3')\n",
    "    print('args:', args)\n",
    "    for k, v in kwargs.items():\n",
    "        print('kwargs:', k, v)\n",
    "\n",
    "# This is SyntaxError\n",
    "# print_arguments3(fname = 'Chandra', 'hello', lname = 'Singh') # positional arguments follows argument\n",
    "\n",
    "# This is also SyntaxError\n",
    "# print_arguments3('hello', fname = 'Chandra', lname = 'Singh') # still invalid as fname is a named recieving argument\n",
    "\n",
    "\n",
    "# fname recieves 'Chandra', and kwargs recieve lname\n",
    "print_arguments3('Chandra', lname='Singh')\n",
    "# fname recieves 'Chandra', args recieve hello and kwargs recieve lname\n",
    "print_arguments3('Chandra', 'hello', lname='Singh')\n",
    "\n",
    "analyzekwargs(fname='Chandra', lname='Singh')"
   ]
  },
  {
   "cell_type": "code",
   "execution_count": 120,
   "id": "bb68814f",
   "metadata": {},
   "outputs": [
    {
     "name": "stdout",
     "output_type": "stream",
     "text": [
      "1\n"
     ]
    }
   ],
   "source": [
    "print(1)\n",
    "# print(1/0) # ZeroDivisionError: division by zero"
   ]
  },
  {
   "cell_type": "markdown",
   "id": "e0983420",
   "metadata": {},
   "source": [
    "## Fibonacci with memoization and decorator"
   ]
  },
  {
   "cell_type": "code",
   "execution_count": 121,
   "id": "c3532831",
   "metadata": {
    "scrolled": false
   },
   "outputs": [
    {
     "name": "stdout",
     "output_type": "stream",
     "text": [
      "fibonacciWithMemAndClassDecorator: 3.53089999975964e-05\n"
     ]
    },
    {
     "data": {
      "text/plain": [
       "75025"
      ]
     },
     "execution_count": 121,
     "metadata": {},
     "output_type": "execute_result"
    },
    {
     "name": "stdout",
     "output_type": "stream",
     "text": [
      "fibonacciWithMem: 0.041457776000001445\n"
     ]
    },
    {
     "data": {
      "text/plain": [
       "75025"
      ]
     },
     "execution_count": 121,
     "metadata": {},
     "output_type": "execute_result"
    },
    {
     "name": "stdout",
     "output_type": "stream",
     "text": [
      "fibonacci: 0.023076013000000728\n"
     ]
    }
   ],
   "source": [
    "def fibonacci(num):\n",
    "#     print(num)\n",
    "    if num in (1,2):\n",
    "        return 1\n",
    "    return fibonacci(num-1) + fibonacci(num-2)\n",
    "        \n",
    "def fibonacciWithMem(num, d={}):\n",
    "    if num in (1,2):\n",
    "        val = 1\n",
    "    else:\n",
    "        val = fibonacciWithMem(num-1, d) + fibonacciWithMem(num-2, d)\n",
    "    d[num] = val\n",
    "#     print(num, d)\n",
    "    return d.get(num)\n",
    "\n",
    "def memoizeFib(fn):\n",
    "    mem = {}\n",
    "    def wrapper(*args):\n",
    "        if args not in mem:\n",
    "            mem[args] = fn(*args)\n",
    "#         print('mem wrapper: ', mem, args)\n",
    "        return mem.get(args)\n",
    "    return wrapper\n",
    "\n",
    "# class based decorator\n",
    "class MemoizeFib:\n",
    "    def __init__(self, fn):\n",
    "        self.__mem = {}\n",
    "        self.__fn = fn\n",
    "\n",
    "    def __call__(self, *args):\n",
    "#         print('Inside __call__ method')\n",
    "        if args not in self.__mem:\n",
    "#             print('Inside __call__ if block')\n",
    "            self.__mem[args] = self.__fn(*args)\n",
    "#         else:\n",
    "#             print('Inside __call__ else block')\n",
    "        return self.__mem[args]\n",
    "    \n",
    "# @timer\n",
    "def fibonacciWithMemAndClassDecorator(num):\n",
    "#     print('fibonacciWithDec:', num)\n",
    "    calcFib(num) \n",
    "    \n",
    "\n",
    "@MemoizeFib\n",
    "def calcFib(num):\n",
    "#     print('calcFib:', num)\n",
    "    if num in (1,2):\n",
    "        return 1\n",
    "    return calcFib(num-1) + calcFib(num-2)\n",
    "\n",
    "# print(fibonacci(6))\n",
    "# print(fibonacciWithMem(6))\n",
    "# print(fibonacciWithClassDecorator())\n",
    "\n",
    "num = 25\n",
    "with TestTimer() as timer:\n",
    "    fibonacciWithMemAndClassDecorator(num)\n",
    "print('fibonacciWithMemAndClassDecorator:', timer())\n",
    "\n",
    "with TestTimer() as timer:\n",
    "    fibonacciWithMem(num)\n",
    "print('fibonacciWithMem:', timer())\n",
    "\n",
    "with TestTimer() as timer:\n",
    "    fibonacci(num)\n",
    "print('fibonacci:', timer())\n",
    "\n"
   ]
  },
  {
   "cell_type": "code",
   "execution_count": 122,
   "id": "b063bd9e",
   "metadata": {},
   "outputs": [],
   "source": [
    "# help(range)\n",
    "# import this\n",
    "# help(this)"
   ]
  },
  {
   "cell_type": "markdown",
   "id": "beeaf096",
   "metadata": {},
   "source": [
    "## Closures"
   ]
  },
  {
   "cell_type": "code",
   "execution_count": 123,
   "id": "97758d1c",
   "metadata": {},
   "outputs": [
    {
     "name": "stdout",
     "output_type": "stream",
     "text": [
      "8\n",
      "12\n"
     ]
    }
   ],
   "source": [
    "def multiplier(num1):\n",
    "    def multiply(num2):\n",
    "        return num1 * num2\n",
    "    return multiply\n",
    "\n",
    "\n",
    "twice = multiplier(2)\n",
    "thrice = multiplier(3)\n",
    "\n",
    "print(twice(4))\n",
    "print(thrice(4))\n",
    "\n",
    "# example 2"
   ]
  },
  {
   "cell_type": "code",
   "execution_count": 124,
   "id": "c1e7a6ab",
   "metadata": {},
   "outputs": [
    {
     "name": "stdout",
     "output_type": "stream",
     "text": [
      "Access denied: Age restriction\n",
      "Access denied: Age restriction\n"
     ]
    }
   ],
   "source": [
    "def on_success(data):\n",
    "    def validate():\n",
    "        if data.get('age') > 18:\n",
    "            print('Access granted to: ' + data.get('name'))\n",
    "        else:\n",
    "            print('Access denied: Age restriction')\n",
    "    return validate\n",
    "\n",
    "\n",
    "def do_some_task():\n",
    "    data = dict(name='Chandra Singh', age=12)\n",
    "    validateLater = on_success(data)\n",
    "    validateLater()\n",
    "    # or\n",
    "    on_success(data)()\n",
    "\n",
    "\n",
    "do_some_task()"
   ]
  },
  {
   "cell_type": "markdown",
   "id": "c1be3d98",
   "metadata": {},
   "source": [
    "## [Closure vs Nested function](https://stackoverflow.com/questions/4020419/why-arent-python-nested-functions-called-closures)\n",
    "\n",
    "- Example 1 - Closure\n",
    "  - A closure occurs when a function has access to a local variable from an enclosing scope that has finished its execution.\n",
    "\n",
    "  - When make_printer is called, a new frame is put on the stack with the compiled code for the printer function as a constant and the value of msg as a local. It then creates and returns the function. Because the function printer references the msg variable, it is kept alive after the make_printer function has returned.\n",
    "\n",
    "- Example 2 - Not a Closure\n",
    "  - So, if your nested functions don't\n",
    "    - access variables that are local to enclosing scopes,\n",
    "    - do so when they are executed outside of that scope,\n",
    "  - then they are not closures.\n",
    "\n",
    "  - Here, we are binding the value to the default value of a parameter. This occurs when the function printer is created and so no reference to the value of msg external to printer needs to be maintained after make_printer returns. msg is just a normal local variable of the function printer in this context"
   ]
  },
  {
   "cell_type": "code",
   "execution_count": 125,
   "id": "638b04df",
   "metadata": {},
   "outputs": [
    {
     "name": "stdout",
     "output_type": "stream",
     "text": [
      "Foo!\n",
      "Foo!\n"
     ]
    }
   ],
   "source": [
    "### This is a closure - Example 1\n",
    "def make_printer(msg):\n",
    "    def printer():\n",
    "        print(msg)\n",
    "    return printer\n",
    "\n",
    "printer = make_printer('Foo!')\n",
    "printer()\n",
    "\n",
    "### This is not a closure - Example 2\n",
    "def make_printer(msg):\n",
    "    def printer(msg=msg):\n",
    "        print(msg)\n",
    "    return printer\n",
    "\n",
    "printer = make_printer(\"Foo!\")\n",
    "printer()  #Output: Foo!"
   ]
  },
  {
   "cell_type": "markdown",
   "id": "c8ab1ffe",
   "metadata": {},
   "source": [
    "## Example of not-a-closure attributes as no content inside and has no free variable."
   ]
  },
  {
   "cell_type": "code",
   "execution_count": 126,
   "id": "f0862590",
   "metadata": {},
   "outputs": [
    {
     "name": "stdout",
     "output_type": "stream",
     "text": [
      "None\n",
      "True\n"
     ]
    }
   ],
   "source": [
    "def foo():\n",
    "    def fii():\n",
    "        pass\n",
    "    return fii\n",
    "f = foo()\n",
    "print(f.__closure__)\n",
    "print('__closure__' in dir(f))\n",
    "# print(f.__closure__[0].cell_contents) # No attribute"
   ]
  },
  {
   "cell_type": "markdown",
   "id": "7e93b31a",
   "metadata": {},
   "source": [
    "## Example of closure attributes with content inside"
   ]
  },
  {
   "cell_type": "code",
   "execution_count": 127,
   "id": "6bd44598",
   "metadata": {},
   "outputs": [
    {
     "name": "stdout",
     "output_type": "stream",
     "text": [
      "(<cell at 0x7f89ecea8be0: str object at 0x7f89ece96230>,)\n",
      "True\n",
      "foooo\n"
     ]
    }
   ],
   "source": [
    "def foo(msg):\n",
    "    def fii():\n",
    "        print(msg)\n",
    "    return fii\n",
    "f = foo('foooo')\n",
    "print(f.__closure__)\n",
    "print('__closure__' in dir(f))\n",
    "print(f.__closure__[0].cell_contents)"
   ]
  },
  {
   "cell_type": "markdown",
   "id": "b32a72af",
   "metadata": {},
   "source": [
    "## Example of not-a-closure attributes as access variables are local to enclosing scopes"
   ]
  },
  {
   "cell_type": "code",
   "execution_count": 128,
   "id": "50ae362e",
   "metadata": {},
   "outputs": [
    {
     "name": "stdout",
     "output_type": "stream",
     "text": [
      "None\n",
      "True\n"
     ]
    }
   ],
   "source": [
    "def foo(msg):\n",
    "    def fii(msg=msg):\n",
    "        print(msg)\n",
    "    return fii\n",
    "f = foo('foooo')\n",
    "print(f.__closure__)\n",
    "print('__closure__' in dir(f))\n",
    "# print(f.__closure__[0].cell_contents)"
   ]
  },
  {
   "cell_type": "markdown",
   "id": "9bf91e52",
   "metadata": {},
   "source": [
    "## Lambda"
   ]
  },
  {
   "cell_type": "code",
   "execution_count": 129,
   "id": "10106ff2",
   "metadata": {},
   "outputs": [
    {
     "name": "stdout",
     "output_type": "stream",
     "text": [
      "8\n",
      "12\n",
      "<function multiplier.<locals>.<lambda> at 0x7f89ece8aa60>\n",
      "<function multiplier.<locals>.<lambda> at 0x7f89ece8a430>\n"
     ]
    }
   ],
   "source": [
    "def multiplier(num):\n",
    "    return lambda a: a * num\n",
    "\n",
    "twice = multiplier(2)\n",
    "thrice = multiplier(3)\n",
    "\n",
    "print(twice(4))\n",
    "print(thrice(4))\n",
    "print(twice)\n",
    "print(thrice)"
   ]
  },
  {
   "cell_type": "code",
   "execution_count": 130,
   "id": "9cec4e48",
   "metadata": {},
   "outputs": [
    {
     "name": "stdout",
     "output_type": "stream",
     "text": [
      "2\n",
      "4\n",
      "6\n",
      "8\n",
      "10\n",
      "2\n",
      "4\n",
      "6\n",
      "8\n",
      "10\n",
      "2\n",
      "4\n",
      "2000\n"
     ]
    }
   ],
   "source": [
    "list = [1, 2, 3, 4, 5]\n",
    "\n",
    "result = map(lambda n: n * 2, list)\n",
    "for x in result:\n",
    "    print(x)\n",
    "\n",
    "for n in list:\n",
    "    print((lambda a: a * 2)(n))\n",
    "\n",
    "result = filter(lambda n: n % 2 == 0, list)\n",
    "for x in result:\n",
    "    print(x)\n",
    "\n",
    "print((lambda a, b: a * b * 10)(10, 20))"
   ]
  },
  {
   "cell_type": "markdown",
   "id": "2af457b4",
   "metadata": {},
   "source": [
    "## Using maps"
   ]
  },
  {
   "cell_type": "code",
   "execution_count": 131,
   "id": "1921e93b",
   "metadata": {},
   "outputs": [
    {
     "name": "stdout",
     "output_type": "stream",
     "text": [
      "[1, 4, 9, 16, 25]\n",
      "[1, 4, 9, 16, 25]\n",
      "<class 'map'>\n",
      "[1, 4, 9, 16, 25]\n"
     ]
    }
   ],
   "source": [
    "# 1st way - traditional way\n",
    "numbers = [1, 2, 3, 4, 5]\n",
    "squared = []\n",
    "for num in numbers:\n",
    "    squared.append(num ** 2)\n",
    "print(squared)\n",
    "\n",
    "# 2nd way - using list comprehension\n",
    "print([n**2 for n in numbers])\n",
    "\n",
    "# 3rd way - using maps\n",
    "def square(number):\n",
    "    return number ** 2\n",
    "squared = map(square, numbers)\n",
    "print(type(squared))\n",
    "print([*map(square, numbers)])"
   ]
  },
  {
   "cell_type": "code",
   "execution_count": 132,
   "id": "dc8ac0ed",
   "metadata": {},
   "outputs": [
    {
     "data": {
      "text/plain": [
       "['B', '5', '\\x00', '^']"
      ]
     },
     "execution_count": 132,
     "metadata": {},
     "output_type": "execute_result"
    }
   ],
   "source": [
    "[*map(chr,[66,53,0,94])] # This will work\n",
    "# list(map(chr, [66, 53, 0, 94]))  # This will not work # TypeError: 'list' object is not callable\n",
    "# list(*map(chr, [66, 53, 0, 94])) # This will not work # TypeError: 'list' object is not callable"
   ]
  },
  {
   "cell_type": "code",
   "execution_count": 133,
   "id": "ab8d5c59",
   "metadata": {},
   "outputs": [
    {
     "name": "stdout",
     "output_type": "stream",
     "text": [
      "Help on class map in module builtins:\n",
      "\n",
      "class map(object)\n",
      " |  map(func, *iterables) --> map object\n",
      " |  \n",
      " |  Make an iterator that computes the function using arguments from\n",
      " |  each of the iterables.  Stops when the shortest iterable is exhausted.\n",
      " |  \n",
      " |  Methods defined here:\n",
      " |  \n",
      " |  __getattribute__(self, name, /)\n",
      " |      Return getattr(self, name).\n",
      " |  \n",
      " |  __iter__(self, /)\n",
      " |      Implement iter(self).\n",
      " |  \n",
      " |  __next__(self, /)\n",
      " |      Implement next(self).\n",
      " |  \n",
      " |  __reduce__(...)\n",
      " |      Return state information for pickling.\n",
      " |  \n",
      " |  ----------------------------------------------------------------------\n",
      " |  Static methods defined here:\n",
      " |  \n",
      " |  __new__(*args, **kwargs) from builtins.type\n",
      " |      Create and return a new object.  See help(type) for accurate signature.\n",
      "\n"
     ]
    }
   ],
   "source": [
    "help(map)"
   ]
  },
  {
   "cell_type": "markdown",
   "id": "a6eec7e0",
   "metadata": {},
   "source": [
    "## Using list comprehension method to convert a map object to list"
   ]
  },
  {
   "cell_type": "code",
   "execution_count": 134,
   "id": "0b967c70",
   "metadata": {},
   "outputs": [
    {
     "name": "stdout",
     "output_type": "stream",
     "text": [
      "['F', '2', '\\n', '`']\n"
     ]
    },
    {
     "data": {
      "text/plain": [
       "'\\nIn Python, the term unpacking can be defined as an operation whose primary purpose \\nis to assign the iterable with all the values to a List or a Tuple, provided it’s \\ndone in a single assignment statement.\\n\\nThe star * sign is used as the iterable unpacking operator. The iterable unpacking \\noperator can work efficiently and excellently for both Tuples and List.\\n'"
      ]
     },
     "execution_count": 134,
     "metadata": {},
     "output_type": "execute_result"
    },
    {
     "name": "stdout",
     "output_type": "stream",
     "text": [
      "['F', '2', '\\n', '`']\n"
     ]
    }
   ],
   "source": [
    "# Using list comprehension\n",
    "a = [chr(i) for i in [70,50,10,96]]\n",
    "print(a)\n",
    "\n",
    "# Using map\n",
    "'''\n",
    "In Python, the term unpacking can be defined as an operation whose primary purpose \n",
    "is to assign the iterable with all the values to a List or a Tuple, provided it’s \n",
    "done in a single assignment statement.\n",
    "\n",
    "The star * sign is used as the iterable unpacking operator. The iterable unpacking \n",
    "operator can work efficiently and excellently for both Tuples and List.\n",
    "'''\n",
    "a = [*map(chr, [70, 50, 10, 96])]\n",
    "print(a)"
   ]
  },
  {
   "cell_type": "markdown",
   "id": "0e85c84f",
   "metadata": {},
   "source": [
    "## Using map object to list\n",
    "- Sets require their items to be hashable\n",
    "- Out of types predefined by Python only the immutable ones, such as strings, numbers, and tuples, are hashable. \n",
    "- Mutable types, such as lists and dicts, are not hashable because a change of their contents would change the hash and break the lookup code."
   ]
  },
  {
   "cell_type": "code",
   "execution_count": 135,
   "id": "7c1af13b",
   "metadata": {},
   "outputs": [
    {
     "data": {
      "text/plain": [
       "{(1, 1), (1, 2), (1, 3), (2, 3)}"
      ]
     },
     "execution_count": 135,
     "metadata": {},
     "output_type": "execute_result"
    }
   ],
   "source": [
    "import itertools\n",
    "\n",
    "# TypeError: unhashable type: 'list'\n",
    "# set([sorted(t) for t in itertools.combinations([1,2,3,1], 2)])  # TypeError: unhashable type: 'list'\n",
    "\n",
    "# type({[]})\n",
    "# Traceback (most recent call last):\n",
    "#   File \"<stdin>\", line 1, in <module>\n",
    "# TypeError: unhashable type: 'list'\n",
    "\n",
    "set([tuple(sorted(t)) for t in itertools.combinations([1,2,3,1], 2)])"
   ]
  },
  {
   "cell_type": "markdown",
   "id": "6542dd2c",
   "metadata": {},
   "source": [
    "## Using map() with different kinds of functions"
   ]
  },
  {
   "cell_type": "code",
   "execution_count": 136,
   "id": "5af7f88f",
   "metadata": {},
   "outputs": [
    {
     "name": "stdout",
     "output_type": "stream",
     "text": [
      "[2, 1, 0, 1, 2]\n",
      "[-2.0, -1.0, 0.0, 1.0, 2.0]\n",
      "[7, 2, 4, 6]\n"
     ]
    }
   ],
   "source": [
    "numbers = [-2, -1, 0, 1, 2]\n",
    "abs_values = [*map(abs, numbers)]\n",
    "print(abs_values)\n",
    "\n",
    "print([*map(float, numbers)])\n",
    "\n",
    "words = [\"Welcome\", \"to\", \"Real\", \"Python\"]\n",
    "print([*map(len, words)])"
   ]
  },
  {
   "cell_type": "markdown",
   "id": "22ed36d4",
   "metadata": {},
   "source": [
    "## Using map with lambda"
   ]
  },
  {
   "cell_type": "code",
   "execution_count": 137,
   "id": "6b0239b5",
   "metadata": {},
   "outputs": [
    {
     "name": "stdout",
     "output_type": "stream",
     "text": [
      "[1, 4, 9, 16, 25]\n"
     ]
    }
   ],
   "source": [
    "numbers = [1, 2, 3, 4, 5]\n",
    "squared = [*map(lambda num: num ** 2, numbers)]\n",
    "print(squared)"
   ]
  },
  {
   "cell_type": "code",
   "execution_count": 138,
   "id": "418a559c",
   "metadata": {},
   "outputs": [
    {
     "name": "stdout",
     "output_type": "stream",
     "text": [
      "Python\n",
      "['Some', 'people', 'when', 'confronted', 'with', 'a', 'problem', 'think', 'I', 'know', \"I'll\", 'use', 'regular', 'expressions', 'Now', 'they', 'have', 'two', 'problems', 'Jamie', 'Zawinski']\n"
     ]
    }
   ],
   "source": [
    "import re\n",
    "\n",
    "def remove_punctuation(word):\n",
    "    return re.sub(r'[!?.:;,\"()-]', \"\", word)\n",
    "\n",
    "print(remove_punctuation(\"...Python!\"))\n",
    "\n",
    "text = \"\"\"Some people, when confronted with a problem, think\n",
    "\"I know, I'll use regular expressions.\"\n",
    "Now they have two problems. Jamie Zawinski\"\"\"\n",
    "\n",
    "words = text.split()\n",
    "print([*map(remove_punctuation, words)])\n"
   ]
  },
  {
   "cell_type": "markdown",
   "id": "21b5f35e",
   "metadata": {},
   "source": [
    "## TODO - Using itertools\n",
    "- https://docs.python.org/3/library/itertools.html"
   ]
  },
  {
   "cell_type": "code",
   "execution_count": 139,
   "id": "d2f73640",
   "metadata": {},
   "outputs": [
    {
     "data": {
      "text/plain": [
       "'python\\n# import itertools  \\n# help(itertools)  \\nHelp on built-in module itertools:  \\n\\nNAME\\n    itertools - Functional tools for creating and using iterators.\\n\\nDESCRIPTION  \\n    Infinite iterators:  \\n      count(start=0, step=1) --> start, start+step, start+2*step, ...  \\n      cycle(p) --> p0, p1, ... plast, p0, p1, ...  \\n      repeat(elem [,n]) --> elem, elem, elem, ... endlessly or up to n times  \\n    \\n    Iterators terminating on the shortest input sequence:\\n      accumulate(p[, func]) --> p0, p0+p1, p0+p1+p2\\n      chain(p, q, ...) --> p0, p1, ... plast, q0, q1, ...\\n      chain.from_iterable([p, q, ...]) --> p0, p1, ... plast, q0, q1, ...\\n      compress(data, selectors) --> (d[0] if s[0]), (d[1] if s[1]), ...\\n      dropwhile(pred, seq) --> seq[n], seq[n+1], starting when pred fails\\n      groupby(iterable[, keyfunc]) --> sub-iterators grouped by value of keyfunc(v)\\n      filterfalse(pred, seq) --> elements of seq where pred(elem) is False\\n      islice(seq, [start,] stop [, step]) --> elements from\\n           seq[start:stop:step]\\n      starmap(fun, seq) --> fun(*seq[0]), fun(*seq[1]), ...\\n      tee(it, n=2) --> (it1, it2 , ... itn) splits one iterator into n\\n      takewhile(pred, seq) --> seq[0], seq[1], until pred fails\\n      zip_longest(p, q, ...) --> (p[0], q[0]), (p[1], q[1]), ...\\n    \\n    Combinatoric generators:\\n      product(p, q, ... [repeat=1]) --> cartesian product\\n      permutations(p[, r])\\n      combinations(p, r)\\n      combinations_with_replacement(p, r)\\n'"
      ]
     },
     "execution_count": 139,
     "metadata": {},
     "output_type": "execute_result"
    }
   ],
   "source": [
    "'''python\n",
    "# import itertools  \n",
    "# help(itertools)  \n",
    "Help on built-in module itertools:  \n",
    "\n",
    "NAME\n",
    "    itertools - Functional tools for creating and using iterators.\n",
    "\n",
    "DESCRIPTION  \n",
    "    Infinite iterators:  \n",
    "      count(start=0, step=1) --> start, start+step, start+2*step, ...  \n",
    "      cycle(p) --> p0, p1, ... plast, p0, p1, ...  \n",
    "      repeat(elem [,n]) --> elem, elem, elem, ... endlessly or up to n times  \n",
    "    \n",
    "    Iterators terminating on the shortest input sequence:\n",
    "      accumulate(p[, func]) --> p0, p0+p1, p0+p1+p2\n",
    "      chain(p, q, ...) --> p0, p1, ... plast, q0, q1, ...\n",
    "      chain.from_iterable([p, q, ...]) --> p0, p1, ... plast, q0, q1, ...\n",
    "      compress(data, selectors) --> (d[0] if s[0]), (d[1] if s[1]), ...\n",
    "      dropwhile(pred, seq) --> seq[n], seq[n+1], starting when pred fails\n",
    "      groupby(iterable[, keyfunc]) --> sub-iterators grouped by value of keyfunc(v)\n",
    "      filterfalse(pred, seq) --> elements of seq where pred(elem) is False\n",
    "      islice(seq, [start,] stop [, step]) --> elements from\n",
    "           seq[start:stop:step]\n",
    "      starmap(fun, seq) --> fun(*seq[0]), fun(*seq[1]), ...\n",
    "      tee(it, n=2) --> (it1, it2 , ... itn) splits one iterator into n\n",
    "      takewhile(pred, seq) --> seq[0], seq[1], until pred fails\n",
    "      zip_longest(p, q, ...) --> (p[0], q[0]), (p[1], q[1]), ...\n",
    "    \n",
    "    Combinatoric generators:\n",
    "      product(p, q, ... [repeat=1]) --> cartesian product\n",
    "      permutations(p[, r])\n",
    "      combinations(p, r)\n",
    "      combinations_with_replacement(p, r)\n",
    "'''"
   ]
  },
  {
   "cell_type": "code",
   "execution_count": 140,
   "id": "476df68e",
   "metadata": {},
   "outputs": [],
   "source": [
    "# !ls -l ../cs231n_cnn/*.html\n",
    "# import numpy as np\n",
    "# help(np.random.choice)"
   ]
  },
  {
   "cell_type": "markdown",
   "id": "2dae2603",
   "metadata": {},
   "source": [
    "## Classes are callable"
   ]
  },
  {
   "cell_type": "markdown",
   "id": "19ba2d7c",
   "metadata": {},
   "source": [
    "## Asynchronous generator functions"
   ]
  },
  {
   "cell_type": "markdown",
   "id": "8dddd5f4",
   "metadata": {},
   "source": [
    "## Coroutine functions"
   ]
  },
  {
   "cell_type": "markdown",
   "id": "621c4d35",
   "metadata": {},
   "source": [
    "## Variable annotations"
   ]
  },
  {
   "cell_type": "markdown",
   "id": "01fb7d92",
   "metadata": {},
   "source": [
    "## future statement\n",
    "- A future statement is a directive to the compiler that a particular module should be compiled using syntax or semantics that will be available in a specified future release of Python where the feature becomes standard."
   ]
  },
  {
   "cell_type": "markdown",
   "id": "b1ffc811",
   "metadata": {},
   "source": [
    "## augmented assignment expression\n",
    "- an augmented assignment expression like x += 1 can be rewritten as x = x + 1 to achieve a similar, but not exactly equal effect. In the augmented version, x is only evaluated once. Also, when possible, the actual operation is performed in-place, meaning that rather than creating a new object and assigning that to the target, the old object is modified instead.\n",
    "\n",
    "- Unlike normal assignments, augmented assignments evaluate the left-hand side before evaluating the right-hand side. For example, a[i] += f(x) first looks-up a[i], then it evaluates f(x) and performs the addition, and lastly, it writes the result back to a[i]."
   ]
  },
  {
   "cell_type": "markdown",
   "id": "28688714",
   "metadata": {},
   "source": [
    "## Python classes are objects too\n",
    "- Instance of type class"
   ]
  },
  {
   "cell_type": "markdown",
   "id": "7cb7cb49",
   "metadata": {},
   "source": [
    "## Everything in Python is an object or an instance"
   ]
  },
  {
   "cell_type": "code",
   "execution_count": 141,
   "id": "e7b90599",
   "metadata": {},
   "outputs": [
    {
     "data": {
      "text/plain": [
       "int"
      ]
     },
     "execution_count": 141,
     "metadata": {},
     "output_type": "execute_result"
    },
    {
     "data": {
      "text/plain": [
       "float"
      ]
     },
     "execution_count": 141,
     "metadata": {},
     "output_type": "execute_result"
    },
    {
     "name": "stdout",
     "output_type": "stream",
     "text": [
      "<class 'int'>\n",
      "<class 'float'>\n",
      "<class 'int'>\n",
      "<class 'float'>\n"
     ]
    }
   ],
   "source": [
    "a = 10\n",
    "b = 10.2\n",
    "a.__class__\n",
    "b.__class__\n",
    "print(a.__class__)\n",
    "print(b.__class__)\n",
    "print(type(a))\n",
    "print(type(b))"
   ]
  },
  {
   "cell_type": "code",
   "execution_count": 142,
   "id": "37d60e3d",
   "metadata": {},
   "outputs": [
    {
     "name": "stdout",
     "output_type": "stream",
     "text": [
      "<class 'function'>\n",
      "<class 'function'>\n"
     ]
    }
   ],
   "source": [
    "def simple_function():\n",
    "    pass\n",
    "\n",
    "print(type(simple_function))      # Output: <class 'function'>\n",
    "print(simple_function.__class__)  # Output: <class 'function'>\n",
    "\n",
    "# simple_function is an object of the class function."
   ]
  },
  {
   "cell_type": "code",
   "execution_count": 143,
   "id": "9f1db6d0",
   "metadata": {},
   "outputs": [
    {
     "name": "stdout",
     "output_type": "stream",
     "text": [
      "<class 'type'>\n",
      "<class 'type'>\n"
     ]
    }
   ],
   "source": [
    "class TestClass:\n",
    "    pass\n",
    "\n",
    "print(type(TestClass))       # Output: <class 'type'>\n",
    "print(TestClass.__class__)   # Output: <class 'type'>\n",
    "\n",
    "# This shows that the TestClass class and every other class in Python are objects of the \n",
    "# class type. This type is a class and is different from the type function that returns the \n",
    "# type of object. The type class, from which all the classes are created, is called the \n",
    "# Metaclass in Python"
   ]
  },
  {
   "cell_type": "markdown",
   "id": "977452cd",
   "metadata": {},
   "source": [
    "## [Metaclass in Python](https://www.honeybadger.io/blog/python-instantiation-metaclass/)\n",
    "- Using type - This \"type\" is a class and is different from the type function that returns type of object.\n",
    "- Metaclass is a class from which classes are instantiated or metaclass is a class of a class.\n",
    "\n",
    "\n",
    "\n",
    "<!-- >>> type(set)\n",
    "<class 'type'>\n",
    ">>> type(set())\n",
    "<class 'set'>\n",
    " -->\n",
    " \n",
    "![MetaClass](https://www.honeybadger.io/images/blog/posts/python-instantiation-metaclass/combined.png?1648949733)  \n",
    "$\\tiny{\\text{honeybadger.io}}$   \n"
   ]
  },
  {
   "cell_type": "code",
   "execution_count": 144,
   "id": "6b64bee3",
   "metadata": {},
   "outputs": [
    {
     "name": "stdout",
     "output_type": "stream",
     "text": [
      "<class 'type'>\n"
     ]
    },
    {
     "data": {
      "text/plain": [
       "type"
      ]
     },
     "execution_count": 144,
     "metadata": {},
     "output_type": "execute_result"
    },
    {
     "data": {
      "text/plain": [
       "__main__.TestClass"
      ]
     },
     "execution_count": 144,
     "metadata": {},
     "output_type": "execute_result"
    },
    {
     "name": "stdout",
     "output_type": "stream",
     "text": [
      "<class '__main__.TestClass'>\n"
     ]
    }
   ],
   "source": [
    "print(type(int))    # Output: <class 'type'>\n",
    "type(float)  # Output: <class 'type'>\n",
    "\n",
    "# Even type of object class is - type\n",
    "type(TestClass()) # Output: <class 'type'>\n",
    "print(type(TestClass())) # Output: <class 'type'>"
   ]
  },
  {
   "cell_type": "code",
   "execution_count": null,
   "id": "b42f2d2f",
   "metadata": {},
   "outputs": [],
   "source": []
  },
  {
   "cell_type": "code",
   "execution_count": null,
   "id": "eca442c7",
   "metadata": {},
   "outputs": [],
   "source": []
  },
  {
   "cell_type": "markdown",
   "id": "ea194583",
   "metadata": {},
   "source": [
    "## [What is the difference between \\_\\_init\\_\\_ and \\_\\_new\\_\\_ method?](https://www.honeybadger.io/blog/python-instantiation-metaclass/)"
   ]
  },
  {
   "cell_type": "markdown",
   "id": "0c6755dc",
   "metadata": {},
   "source": [
    "## [callable objects](https://www.honeybadger.io/blog/python-instantiation-metaclass/)"
   ]
  },
  {
   "cell_type": "code",
   "execution_count": 145,
   "id": "862e1d07",
   "metadata": {},
   "outputs": [
    {
     "name": "stdout",
     "output_type": "stream",
     "text": [
      "Help on built-in function callable in module builtins:\n",
      "\n",
      "callable(obj, /)\n",
      "    Return whether the object is callable (i.e., some kind of function).\n",
      "    \n",
      "    Note that classes are callable, as are instances of classes with a\n",
      "    __call__() method.\n",
      "\n"
     ]
    }
   ],
   "source": [
    "help(callable)"
   ]
  },
  {
   "cell_type": "code",
   "execution_count": 146,
   "id": "23ce0451",
   "metadata": {},
   "outputs": [],
   "source": [
    "# import mutators\n",
    "# help(mutators)"
   ]
  },
  {
   "cell_type": "markdown",
   "id": "07f27e74",
   "metadata": {},
   "source": [
    "## Multiplication operator cant make independent objects"
   ]
  },
  {
   "cell_type": "code",
   "execution_count": 147,
   "id": "bcfa1ab3",
   "metadata": {},
   "outputs": [
    {
     "name": "stdout",
     "output_type": "stream",
     "text": [
      "id(a)=140230361971392\n",
      "id(a[0])=140230361902656\n",
      "id(a[1])=140230361902656\n",
      "\n",
      "id(b)=140230362144704\n",
      "id(b[0])=140230358873728\n",
      "id(b[1])=140230362140736\n",
      "\n",
      "a=[[1], [1], [1]]\n",
      "b=[[1], [], []]\n"
     ]
    }
   ],
   "source": [
    "a = [[]]*3\n",
    "b = [[] for _ in range(3)]\n",
    "\n",
    "print(f'id(a)={id(a)}')\n",
    "print(f'id(a[0])={id(a[0])}')\n",
    "print(f'id(a[1])={id(a[1])}')\n",
    "print()\n",
    "\n",
    "print(f'id(b)={id(b)}')\n",
    "print(f'id(b[0])={id(b[0])}')\n",
    "print(f'id(b[1])={id(b[1])}')\n",
    "print()\n",
    "\n",
    "a[0].append(1)\n",
    "print(f'a={a}')\n",
    "b[0].append(1)\n",
    "print(f'b={b}')"
   ]
  },
  {
   "cell_type": "code",
   "execution_count": 26,
   "id": "77a18734",
   "metadata": {},
   "outputs": [
    {
     "name": "stdout",
     "output_type": "stream",
     "text": [
      "[[], [], []]\n",
      "[[3], [3], [3]]\n"
     ]
    }
   ],
   "source": [
    "lists = [[]] * 3\n",
    "print(lists)\n",
    "\n",
    "lists[0].append(3)\n",
    "print(lists)"
   ]
  },
  {
   "cell_type": "code",
   "execution_count": 27,
   "id": "b73652a1",
   "metadata": {},
   "outputs": [
    {
     "data": {
      "text/plain": [
       "[[3], [5], [7]]"
      ]
     },
     "execution_count": 27,
     "metadata": {},
     "output_type": "execute_result"
    }
   ],
   "source": [
    "lists = [[] for i in range(3)]\n",
    "lists[0].append(3)\n",
    "lists[1].append(5)\n",
    "lists[2].append(7)\n",
    "lists"
   ]
  },
  {
   "cell_type": "markdown",
   "id": "f41ddd8c",
   "metadata": {},
   "source": [
    "## Dispatcher mechanism\n",
    "\n",
    "http://hackwrite.com/posts/learn-about-python-decorators-by-writing-a-function-dispatcher/"
   ]
  },
  {
   "cell_type": "markdown",
   "id": "f61c60fa",
   "metadata": {},
   "source": [
    "## defaultdict performance"
   ]
  },
  {
   "cell_type": "code",
   "execution_count": 38,
   "id": "cfd4370a",
   "metadata": {},
   "outputs": [
    {
     "name": "stdout",
     "output_type": "stream",
     "text": [
      "The slowest run took 6.97 times longer than the fastest. This could mean that an intermediate result is being cached.\n",
      "31.8 µs ± 30.8 µs per loop (mean ± std. dev. of 7 runs, 105 loops each)\n",
      " \n",
      "The slowest run took 65.25 times longer than the fastest. This could mean that an intermediate result is being cached.\n",
      "124 µs ± 266 µs per loop (mean ± std. dev. of 7 runs, 105 loops each)\n"
     ]
    }
   ],
   "source": [
    "from collections import defaultdict\n",
    "def a():\n",
    "    b = defaultdict(lambda :'')\n",
    "    return b['test']\n",
    "\n",
    "def b():\n",
    "    c = {}\n",
    "    return c.get('test', '')\n",
    "\n",
    "%timeit -n105 print(a(), end='')\n",
    "print(' ')\n",
    "\n",
    "%timeit -n105 print(b(), end='')\n"
   ]
  },
  {
   "cell_type": "markdown",
   "id": "05d3b189",
   "metadata": {},
   "source": [
    "## Set default value for all missing keys of dictionary"
   ]
  },
  {
   "cell_type": "code",
   "execution_count": 6,
   "id": "3f55cd01",
   "metadata": {},
   "outputs": [
    {
     "name": "stdout",
     "output_type": "stream",
     "text": [
      "-1\n",
      "defaultdict(<function <lambda> at 0x7f879f8af9d0>, {'foo': 123, 'bar': 456, 'baz': -1})\n",
      "-1\n",
      "defaultdict(<function <lambda> at 0x7f879f8af9d0>, {'foo': 123, 'bar': 456, 'baz': -1, 'tease': -1})\n",
      "342\n",
      "defaultdict(<function <lambda> at 0x7f879f8af9d0>, {'foo': 123, 'bar': 456, 'baz': 342, 'tease': -1})\n"
     ]
    }
   ],
   "source": [
    "from collections import defaultdict\n",
    "d = {'foo': 123, 'bar': 456}\n",
    "# d['baz']\n",
    "d = defaultdict(lambda: -1, d)\n",
    "print(d['baz'])\n",
    "print(d)\n",
    "print(d['tease'])\n",
    "print(d)\n",
    "d['baz']=342\n",
    "print(d['baz'])\n",
    "print(d)"
   ]
  },
  {
   "cell_type": "markdown",
   "id": "7c097139",
   "metadata": {},
   "source": [
    "## Replicate using *"
   ]
  },
  {
   "cell_type": "code",
   "execution_count": 12,
   "id": "61654745",
   "metadata": {},
   "outputs": [
    {
     "data": {
      "text/plain": [
       "[[0, 1, 2], [0, 1, 2], [0, 1, 2], [0, 1, 2], [0, 1, 2]]"
      ]
     },
     "execution_count": 12,
     "metadata": {},
     "output_type": "execute_result"
    }
   ],
   "source": [
    "[[*range(3)] for _ in range(5)]"
   ]
  },
  {
   "cell_type": "markdown",
   "id": "52879cc5",
   "metadata": {},
   "source": [
    "## partial function"
   ]
  },
  {
   "cell_type": "code",
   "execution_count": 2,
   "id": "056a5584",
   "metadata": {},
   "outputs": [
    {
     "name": "stdout",
     "output_type": "stream",
     "text": [
      "8\n",
      "8\n",
      "9\n"
     ]
    }
   ],
   "source": [
    "def exp(base, power):\n",
    "    return base**power\n",
    "\n",
    "def two_to_the(power):\n",
    "    return exp(2, power)\n",
    "\n",
    "print(two_to_the(3)) # 1st way\n",
    "\n",
    "from functools import partial\n",
    "two_to_the = partial(exp, 2)\n",
    "print(two_to_the(3)) # 2nd way \n",
    "\n",
    "square_of = partial(exp, power=2)\n",
    "print(square_of(3)) # 2nd way "
   ]
  },
  {
   "cell_type": "code",
   "execution_count": 8,
   "id": "d26afb9b",
   "metadata": {},
   "outputs": [
    {
     "name": "stdout",
     "output_type": "stream",
     "text": [
      "8\n"
     ]
    }
   ],
   "source": [
    "two_to_the_power_three = partial(exp, base=2, power=3)\n",
    "print(two_to_the_power_three()) # 3rd way "
   ]
  },
  {
   "cell_type": "markdown",
   "id": "dcc8e31a",
   "metadata": {},
   "source": [
    "## Magic/dunder/double underscore methods\n",
    "### \\_\\_init\\_\\_"
   ]
  },
  {
   "cell_type": "code",
   "execution_count": 10,
   "id": "afac13ea",
   "metadata": {},
   "outputs": [
    {
     "name": "stdout",
     "output_type": "stream",
     "text": [
      "Hello World!\n"
     ]
    }
   ],
   "source": [
    "class TestClass:\n",
    "    message = \"\"\n",
    "    def __init__(self, val): ## Class initializer\n",
    "        self.message = val\n",
    "       \n",
    "    def speak(self):\n",
    "        print(self.message)\n",
    "\n",
    "instance = TestClass(\"Hello World!\")\n",
    "instance.speak()"
   ]
  },
  {
   "cell_type": "markdown",
   "id": "7cea4c7f",
   "metadata": {},
   "source": [
    "### \\_\\_del\\_\\_"
   ]
  },
  {
   "cell_type": "code",
   "execution_count": 12,
   "id": "572836f2",
   "metadata": {},
   "outputs": [
    {
     "name": "stdout",
     "output_type": "stream",
     "text": [
      "Cleanup done!\n"
     ]
    }
   ],
   "source": [
    "import os\n",
    "\n",
    "class TestClass:\n",
    "    def __init__(self):\n",
    "        f = open(\"temp.csv\", \"w\")\n",
    "        f.write(\"test data\")\n",
    "        f.close()\n",
    "    def __del__(self):  ## class instance - deletion handler\n",
    "        os.remove('temp.csv')\n",
    "        print(\"Cleanup done!\")\n",
    "\n",
    "testObj = TestClass()\n",
    "del testObj"
   ]
  },
  {
   "cell_type": "markdown",
   "id": "9b452bd3",
   "metadata": {},
   "source": [
    "### \\_\\_getattr\\_\\_"
   ]
  },
  {
   "cell_type": "code",
   "execution_count": 15,
   "id": "84d39f6e",
   "metadata": {},
   "outputs": [
    {
     "name": "stdout",
     "output_type": "stream",
     "text": [
      "1\n",
      "Test\n"
     ]
    }
   ],
   "source": [
    "class TestClass:\n",
    "    number = 1\n",
    "    \n",
    "    def __getattr__(self, __name: str): \n",
    "        '''\n",
    "        - declares attributes that dont exist\n",
    "        - will resolve the existing variables and \n",
    "            fallback to the special method when nothing is found\n",
    "        '''\n",
    "        if __name == \"string\":\n",
    "            return \"Test\"\n",
    "        pass\n",
    "\n",
    "\n",
    "test = TestClass()\n",
    "print(test.number) # Will print `1`\n",
    "print(test.string) # Will print `\"Test\"`"
   ]
  },
  {
   "cell_type": "markdown",
   "id": "a6658a0c",
   "metadata": {},
   "source": [
    "### \\_\\_getattribute\\_\\_"
   ]
  },
  {
   "cell_type": "code",
   "execution_count": 14,
   "id": "362e0d35",
   "metadata": {},
   "outputs": [
    {
     "name": "stdout",
     "output_type": "stream",
     "text": [
      "None\n",
      "Test\n"
     ]
    }
   ],
   "source": [
    "class TestClass:\n",
    "    number = 1\n",
    "\n",
    "    def __getattribute__(self, __name: str): \n",
    "        '''\n",
    "        - runs first and doesn’t fall back to existing values in the class instance.\n",
    "        '''\n",
    "        if __name == \"string\":\n",
    "            return \"Test\"\n",
    "        pass\n",
    "\n",
    "\n",
    "test = TestClass()\n",
    "print(test.number) # `None`\n",
    "print(test.string) # `\"Test\"`"
   ]
  },
  {
   "cell_type": "markdown",
   "id": "a95e7fdf",
   "metadata": {},
   "source": [
    "### \\_\\_getattr\\_\\_ vs \\_\\_getattribute\\_\\_"
   ]
  },
  {
   "cell_type": "code",
   "execution_count": 16,
   "id": "2b4aecfe",
   "metadata": {},
   "outputs": [
    {
     "name": "stdout",
     "output_type": "stream",
     "text": [
      "1\n",
      "Test\n"
     ]
    }
   ],
   "source": [
    "class TestClass:\n",
    "    number = 1\n",
    "\n",
    "    def __getattribute__(self, __name: str):\n",
    "        \"\"\"\n",
    "        We need a \"try/except\" here, otherwise it will fail during\n",
    "        lookup of an invalid key\n",
    "        \"\"\"\n",
    "        try:\n",
    "            existingVal = super().__getattribute__(__name)\n",
    "            if existingVal:\n",
    "                return existingVal\n",
    "        except:\n",
    "            if __name == \"string\":\n",
    "                return \"Test\"\n",
    "        pass\n",
    "\n",
    "\n",
    "test = TestClass()\n",
    "print(test.number) # Will print `1`\n",
    "print(test.string) # Will print `\"Test\"`"
   ]
  },
  {
   "cell_type": "markdown",
   "id": "a41cf1da",
   "metadata": {},
   "source": [
    "- READ\n",
    "  - https://coderpad.io/blog/development/guide-to-python-magic-methods/\n",
    "  - https://docs.python.org/3/library/stdtypes.html#typeiter"
   ]
  },
  {
   "cell_type": "code",
   "execution_count": null,
   "id": "a61119a0",
   "metadata": {},
   "outputs": [],
   "source": []
  },
  {
   "cell_type": "markdown",
   "id": "129c1e79",
   "metadata": {},
   "source": [
    "## \\_\\_iter\\_\\_ vs range\n",
    "- https://docs.python.org/3/glossary.html#term-iterator"
   ]
  },
  {
   "cell_type": "code",
   "execution_count": 24,
   "id": "f119d760",
   "metadata": {},
   "outputs": [
    {
     "name": "stdout",
     "output_type": "stream",
     "text": [
      "print printed this:  0\n",
      "next printed this :  1\n",
      "print printed this:  2\n",
      "next printed this :  3\n",
      "print printed this:  4\n",
      "next printed this :  5\n",
      "print printed this:  6\n",
      "next printed this :  7\n",
      "print printed this:  8\n",
      "next printed this :  9\n"
     ]
    }
   ],
   "source": [
    "a = iter(range(10)) # range is not an iterator\n",
    "for i in a:\n",
    "    print('print printed this: ',i)\n",
    "    b=next(a)\n",
    "    print('next printed this : ',b)"
   ]
  },
  {
   "cell_type": "code",
   "execution_count": 22,
   "id": "330ff646",
   "metadata": {},
   "outputs": [
    {
     "data": {
      "text/plain": [
       "<range_iterator at 0x7fd3aed4d270>"
      ]
     },
     "execution_count": 22,
     "metadata": {},
     "output_type": "execute_result"
    }
   ],
   "source": [
    "iter(range(10))"
   ]
  },
  {
   "cell_type": "markdown",
   "id": "891cc50c",
   "metadata": {},
   "source": [
    "## Procedural vs object-oriented vs functional programming"
   ]
  },
  {
   "cell_type": "markdown",
   "id": "19329c50",
   "metadata": {},
   "source": [
    "## Private methods/property"
   ]
  },
  {
   "cell_type": "code",
   "execution_count": 18,
   "id": "d3a881ef",
   "metadata": {},
   "outputs": [
    {
     "name": "stdout",
     "output_type": "stream",
     "text": [
      "Salary: 2500\n"
     ]
    }
   ],
   "source": [
    "class Employee:\n",
    "    def __init__(self, ID, salary):\n",
    "        self.ID = ID\n",
    "        self.__salary = salary  # salary is a private property\n",
    "        # it cannot be accessed from outside the class but can \n",
    "        # be accessed from inside the class\n",
    "\n",
    "    def displaySalary(self):  # displaySalary is a public method\n",
    "        print(\"Salary:\", self.__salary)\n",
    "\n",
    "    def __displayID(self):  # displayID is a private method\n",
    "        print(\"ID:\", self.ID)\n",
    "\n",
    "\n",
    "Steve = Employee(3789, 2500)\n",
    "Steve.displaySalary()\n",
    "# Steve.__displayID()  # this will generate an error"
   ]
  },
  {
   "cell_type": "code",
   "execution_count": 19,
   "id": "b0df68f6",
   "metadata": {},
   "outputs": [
    {
     "name": "stdout",
     "output_type": "stream",
     "text": [
      "2500\n"
     ]
    }
   ],
   "source": [
    "### Accessing private property\n",
    "\n",
    "class Employee:\n",
    "    def __init__(self, ID, salary):\n",
    "        self.ID = ID\n",
    "        self.__salary = salary  # salary is a private property\n",
    "\n",
    "\n",
    "Steve = Employee(3789, 2500)\n",
    "print(Steve._Employee__salary)  # accessing a private property"
   ]
  },
  {
   "cell_type": "markdown",
   "id": "206a75cb",
   "metadata": {},
   "source": [
    "## Parsing argument"
   ]
  },
  {
   "cell_type": "code",
   "execution_count": 4,
   "id": "7691aaff",
   "metadata": {},
   "outputs": [
    {
     "ename": "SyntaxError",
     "evalue": "invalid syntax (2951053006.py, line 3)",
     "output_type": "error",
     "traceback": [
      "\u001b[0;36m  Input \u001b[0;32mIn [4]\u001b[0;36m\u001b[0m\n\u001b[0;31m    ```{code-cell}\u001b[0m\n\u001b[0m    ^\u001b[0m\n\u001b[0;31mSyntaxError\u001b[0m\u001b[0;31m:\u001b[0m invalid syntax\n"
     ]
    }
   ],
   "source": [
    "# arg_demo2.py\n",
    "\n",
    "```{code-cell}\n",
    "---\n",
    "tags: [raises-exception]\n",
    "---\n",
    "\n",
    "import argparse\n",
    "\n",
    "\n",
    "def get_args():\n",
    "    \n",
    "    parser = argparse.ArgumentParser(\n",
    "        description=\"A simple argument parser\",\n",
    "        epilog=\"This is where you might put example usage\"\n",
    "    )\n",
    "\n",
    "    # required argument\n",
    "    parser.add_argument('-x', action=\"store\", required=True,\n",
    "                        help='Help text for option X')\n",
    "    # optional arguments\n",
    "    parser.add_argument('-y', help='Help text for option Y', default=False)\n",
    "    parser.add_argument('-z', help='Help text for option Z', type=int)\n",
    "    print(parser.parse_args())\n",
    "\n",
    "if __name__ == '__main__':\n",
    "    get_args()\n",
    "\n",
    "```"
   ]
  },
  {
   "cell_type": "markdown",
   "id": "42904bfe",
   "metadata": {},
   "source": [
    "## collections - ChainMap\n",
    "- ChainMap doesn’t merge its mappings together. \n",
    "  - it keeps them in an internal list of mappings. \n",
    "  - Since the internal list holds references to the original input mapping, any changes in those mappings affect the ChainMap object as a whole.\n",
    "- Storing the input mappings in a list allows you to have duplicate keys in a given chain map. \n",
    "  - If you perform a key lookup, then ChainMap searches the list of mappings until it finds the first occurrence of the target key. If the key is missing, then you get a KeyError as usual.\n",
    "- Storing the mappings in a list truly shines when you need to manage nested scopes, where each mapping represents a specific scope or context."
   ]
  },
  {
   "cell_type": "code",
   "execution_count": 27,
   "id": "7ce07e49",
   "metadata": {},
   "outputs": [
    {
     "name": "stdout",
     "output_type": "stream",
     "text": [
      "100\n",
      "ChainMap({'cover': 100, 'hood_ornament': 150, 'seat_cover': 99}, {'A/C': 1000, 'cover': 1500, 'Turbo': 2500, 'rollbar': 300}, {'hood': 500, 'engine': 5000, 'front_door': 750})\n"
     ]
    }
   ],
   "source": [
    "from collections import ChainMap\n",
    "car_parts = {'hood': 500, 'engine': 5000, 'front_door': 750}\n",
    "car_options = {'A/C': 1000, 'cover': 1500, 'Turbo': 2500, 'rollbar': 300}\n",
    "car_accessories = {'cover': 100, 'hood_ornament': 150, 'seat_cover': 99}\n",
    "car_pricing = ChainMap(car_accessories, car_options, car_parts)\n",
    "print (car_pricing['cover'])\n",
    "print(car_pricing)"
   ]
  },
  {
   "cell_type": "code",
   "execution_count": 1,
   "id": "7f944e48",
   "metadata": {
    "scrolled": true
   },
   "outputs": [],
   "source": [
    "# help(ChainMap)\n",
    "# import os\n",
    "# os.environ\n",
    "# locals()\n",
    "# globals()\n",
    "# print(__builtin__)\n",
    "# print(__builtins__)\n",
    "# import builtins\n",
    "# dir(builtins)"
   ]
  },
  {
   "cell_type": "markdown",
   "id": "38c4d673",
   "metadata": {},
   "source": [
    "## collections - Counter\n",
    "- you can use the Counter against any iterable or mapping, so you don’t have to just use strings. \n",
    "- You can also pass it tuples, dictionaries and lists! Give it a try on your own to see how it works with those other data types."
   ]
  },
  {
   "cell_type": "code",
   "execution_count": 39,
   "id": "085d9fd9",
   "metadata": {},
   "outputs": [
    {
     "name": "stdout",
     "output_type": "stream",
     "text": [
      "Counter({'u': 3, 's': 2, 'p': 1, 'e': 1, 'r': 1, 'f': 1, 'l': 1, 'o': 1})\n",
      "3\n"
     ]
    }
   ],
   "source": [
    "from collections import Counter\n",
    "print (Counter('superfluous'))\n",
    "\n",
    "\n",
    "counter = Counter('superfluous')\n",
    "print (counter['u'])"
   ]
  },
  {
   "cell_type": "code",
   "execution_count": 40,
   "id": "3f38a6ab",
   "metadata": {},
   "outputs": [
    {
     "name": "stdout",
     "output_type": "stream",
     "text": [
      "['s', 's', 'u', 'u', 'u', 'p', 'e', 'r', 'f', 'l', 'o']\n"
     ]
    }
   ],
   "source": [
    "print (list(counter.elements()))"
   ]
  },
  {
   "cell_type": "code",
   "execution_count": 41,
   "id": "f02d54e7",
   "metadata": {},
   "outputs": [
    {
     "name": "stdout",
     "output_type": "stream",
     "text": [
      "[('u', 3), ('s', 2)]\n"
     ]
    }
   ],
   "source": [
    "print( counter.most_common(2))"
   ]
  },
  {
   "cell_type": "code",
   "execution_count": 45,
   "id": "1f9d7e46",
   "metadata": {},
   "outputs": [
    {
     "name": "stdout",
     "output_type": "stream",
     "text": [
      "Counter({'u': 3, 's': 2, 'p': 1, 'e': 1, 'r': 1, 'f': 1, 'l': 1, 'o': 1})\n",
      "Counter({'u': 2, 's': 1, 'f': 1, 'l': 1, 'o': 1, 'p': 0, 'e': 0, 'r': 0})\n"
     ]
    }
   ],
   "source": [
    "counter_one = Counter('superfluous')\n",
    "print (counter_one)\n",
    "\n",
    "counter_two = Counter('super')\n",
    "counter_one.subtract(counter_two)\n",
    "\n",
    "print (counter_one)"
   ]
  },
  {
   "cell_type": "markdown",
   "id": "67b56f34",
   "metadata": {},
   "source": [
    "## collections - defaultdict"
   ]
  },
  {
   "cell_type": "code",
   "execution_count": 48,
   "id": "8dd3cb57",
   "metadata": {},
   "outputs": [
    {
     "name": "stdout",
     "output_type": "stream",
     "text": [
      "{'The': 1, 'red': 1, 'for': 2, 'jumped': 1, 'over': 1, 'the': 2, 'fence': 1, 'and': 1, 'ran': 1, 'to': 1, 'zoo': 1, 'food': 1} \n",
      "\n",
      "defaultdict(<class 'int'>, {'The': 1, 'red': 1, 'for': 2, 'jumped': 1, 'over': 1, 'the': 2, 'fence': 1, 'and': 1, 'ran': 1, 'to': 1, 'zoo': 1, 'food': 1})\n"
     ]
    }
   ],
   "source": [
    "sentence = \"The red for jumped over the fence and ran to the zoo for food\"\n",
    "words = sentence.split(' ')\n",
    "\n",
    "# Method 1 using dictionary\n",
    "reg_dict = {}\n",
    "for word in words:\n",
    "    if word in reg_dict:\n",
    "        reg_dict[word] += 1\n",
    "    else:\n",
    "        reg_dict[word] = 1\n",
    "\n",
    "print(reg_dict, '\\n')\n",
    "\n",
    "# Method 2 using defaultdict\n",
    "from collections import defaultdict\n",
    "\n",
    "d = defaultdict(int)\n",
    "for word in words:\n",
    "    d[word] += 1\n",
    "\n",
    "print(d)"
   ]
  },
  {
   "cell_type": "code",
   "execution_count": 50,
   "id": "3e345b3e",
   "metadata": {},
   "outputs": [
    {
     "name": "stdout",
     "output_type": "stream",
     "text": [
      "{1234: [100.23, 75.0, 35.67], 345: [10.45, 222.66], 678: [300.25]} \n",
      "\n",
      "defaultdict(<class 'list'>, {1234: [100.23, 75.0, 35.67], 345: [10.45, 222.66], 678: [300.25]})\n"
     ]
    }
   ],
   "source": [
    "my_list = [(1234, 100.23), (345, 10.45), (1234, 75.00),\n",
    "           (345, 222.66), (678, 300.25), (1234, 35.67)]\n",
    "\n",
    "# Method 1 - list type as default_factory\n",
    "reg_dict = {}\n",
    "for acct_num, value in my_list:\n",
    "    if acct_num in reg_dict:\n",
    "        reg_dict[acct_num].append(value)\n",
    "    else:\n",
    "        reg_dict[acct_num] = [value]\n",
    "\n",
    "print(reg_dict, \n",
    "    '\\n')\n",
    "\n",
    "# Method 2 - list type as default_factory\n",
    "d = defaultdict(list)\n",
    "for acct_num, value in my_list:\n",
    "    d[acct_num].append(value)\n",
    "\n",
    "print(d)"
   ]
  },
  {
   "cell_type": "code",
   "execution_count": 58,
   "id": "0721d2b9",
   "metadata": {},
   "outputs": [
    {
     "name": "stdout",
     "output_type": "stream",
     "text": [
      "Monkey\n",
      "defaultdict(<function <lambda> at 0x7f879fa27820>, {'Sam': 'Tiger', 'Nick': 'Monkey'})\n",
      "Monkey\n",
      "defaultdict(<function <lambda> at 0x7f879fa27820>, {'Sam': 'Tiger', 'Nick': 'Monkey', 'Nicka': 'Monkey'})\n"
     ]
    }
   ],
   "source": [
    "# lambda as default_factory\n",
    "# animal = defaultdict(\"Monkey\")\n",
    "animal = defaultdict(lambda: \"Monkey\") # Using lambda as default_factory\n",
    "# animal = defaultdict(lambda: None) # Using lambda - None as default_factory\n",
    "# animal = defaultdict(None) # set the default_factory to None, then you will receive a KeyError\n",
    "# animal = defaultdict() # set the default_factory to None, then you will receive a KeyError\n",
    "\n",
    "\n",
    "animal['Sam'] = 'Tiger'\n",
    "print (animal['Nick'])\n",
    "\n",
    "print (animal)\n",
    "print (animal['Nicka'])\n",
    "print (animal)"
   ]
  },
  {
   "cell_type": "code",
   "execution_count": 55,
   "id": "60fcf113",
   "metadata": {},
   "outputs": [
    {
     "name": "stdout",
     "output_type": "stream",
     "text": [
      "\n",
      "defaultdict(<class 'str'>, {'Sam': 'Tiger', 'Nick': ''})\n",
      "\n",
      "defaultdict(<class 'str'>, {'Sam': 'Tiger', 'Nick': '', 'Nicka': ''})\n"
     ]
    }
   ],
   "source": [
    "animal = defaultdict(str)\n",
    "animal['Sam'] = 'Tiger'\n",
    "print (animal['Nick'])\n",
    "\n",
    "print (animal)\n",
    "print (animal['Nicka'])\n",
    "print (animal)"
   ]
  },
  {
   "cell_type": "markdown",
   "id": "149bb5c5",
   "metadata": {},
   "source": [
    "## collections - deque "
   ]
  },
  {
   "cell_type": "markdown",
   "id": "c8f0fac3",
   "metadata": {},
   "source": [
    "## collections - OrderedDict\n",
    "- this dictionary keeps track of the order of the keys as they are added. \n",
    "  - If you create a regular dict, you will note that it is an unordered data collection\n",
    "- if you add new keys, they will be added to the end of the OrderedDict instead of being automatically sorted."
   ]
  },
  {
   "cell_type": "code",
   "execution_count": 72,
   "id": "40c187ef",
   "metadata": {},
   "outputs": [
    {
     "name": "stdout",
     "output_type": "stream",
     "text": [
      "OrderedDict([('apple', 4), ('banana', 3), ('orange', 2), ('pear', 1)])\n",
      "apple 4\n",
      "banana 3\n",
      "orange 2\n",
      "pear 1\n"
     ]
    }
   ],
   "source": [
    "from collections import OrderedDict\n",
    "d = {'banana': 3, 'apple':4, 'pear': 1, 'orange': 2}\n",
    "new_d = OrderedDict(sorted(d.items()))\n",
    "print (new_d)\n",
    "\n",
    "\n",
    "for key in new_d:\n",
    "    print (key, new_d[key])"
   ]
  },
  {
   "cell_type": "markdown",
   "id": "dc600181",
   "metadata": {},
   "source": [
    "## sort vs sorted"
   ]
  },
  {
   "cell_type": "code",
   "execution_count": 1,
   "id": "7aac49a7",
   "metadata": {},
   "outputs": [
    {
     "name": "stdout",
     "output_type": "stream",
     "text": [
      "['ABC', 'aBc', 'abc']\n"
     ]
    }
   ],
   "source": [
    "l = ['abc', 'ABC', 'aBc']\n",
    "l.sort() # Orders a list in place\n",
    "print(l)"
   ]
  },
  {
   "cell_type": "code",
   "execution_count": 2,
   "id": "3cc77b37",
   "metadata": {},
   "outputs": [
    {
     "name": "stdout",
     "output_type": "stream",
     "text": [
      "['ABC', 'aBc', 'abc']\n",
      "['abc', 'ABC', 'aBc']\n"
     ]
    }
   ],
   "source": [
    "l = ['abc', 'ABC', 'aBc']\n",
    "print(sorted(l))\n",
    "print(l)"
   ]
  },
  {
   "cell_type": "markdown",
   "id": "0b04073d",
   "metadata": {},
   "source": [
    "## Generators vs Iterators\n",
    "https://stackoverflow.com/questions/2776829/difference-between-pythons-generators-and-iterators"
   ]
  },
  {
   "cell_type": "markdown",
   "id": "94d70a27",
   "metadata": {},
   "source": [
    "## Yield statement\n",
    "https://stackoverflow.com/questions/231767/what-does-the-yield-keyword-do/31042491#31042491"
   ]
  },
  {
   "cell_type": "markdown",
   "id": "4d953ebd",
   "metadata": {},
   "source": [
    "## Global Interpreter Lock\n",
    "- an entity within the Python framework that allows a single thread to execute even in the presence of more than one idle CPUs"
   ]
  },
  {
   "cell_type": "markdown",
   "id": "0d95e1ae",
   "metadata": {},
   "source": [
    "## Python interpreter - PVM"
   ]
  },
  {
   "cell_type": "markdown",
   "id": "32f713c3",
   "metadata": {},
   "source": []
  },
  {
   "cell_type": "markdown",
   "id": "31334f5e",
   "metadata": {},
   "source": [
    "## Process vs Threads\n",
    "-  Processes don't share any resources amongst themselves whereas threads of a process can share the resources allocated to that particular process, including memory address space"
   ]
  },
  {
   "cell_type": "markdown",
   "id": "264442bc",
   "metadata": {},
   "source": [
    "## Concurrency vs Parallelism\n"
   ]
  },
  {
   "cell_type": "markdown",
   "id": "23e96448",
   "metadata": {},
   "source": [
    "## Cyclic data structure"
   ]
  },
  {
   "cell_type": "code",
   "execution_count": 4,
   "id": "1f33f580",
   "metadata": {},
   "outputs": [
    {
     "name": "stdout",
     "output_type": "stream",
     "text": [
      "[1, 2, 3, [...]]\n"
     ]
    }
   ],
   "source": [
    "l = [1,2,3]\n",
    "l.append(l) # Generates cycles in object as [...]\n",
    "print(l)"
   ]
  },
  {
   "cell_type": "markdown",
   "id": "22a7e204",
   "metadata": {},
   "source": [
    "## Tuple assignment"
   ]
  },
  {
   "cell_type": "code",
   "execution_count": 7,
   "id": "26ef9deb",
   "metadata": {},
   "outputs": [
    {
     "name": "stdout",
     "output_type": "stream",
     "text": [
      "eggs spam\n"
     ]
    },
    {
     "data": {
      "text/plain": [
       "('eggs', 'spam')"
      ]
     },
     "execution_count": 7,
     "metadata": {},
     "output_type": "execute_result"
    }
   ],
   "source": [
    "X = 'spam'\n",
    "Y = 'eggs'\n",
    "X, Y = Y, X # Tuple assignment\n",
    "print(X, Y)\n",
    "X,Y"
   ]
  },
  {
   "cell_type": "markdown",
   "id": "55e7691e",
   "metadata": {},
   "source": [
    "## `__main`__ environment\n",
    "- is the top level code environment which can be checked as `__name__ == '__main__'` expression\n",
    "    - a top level is the first user-specified Python module that starts running\n",
    "    - a top level module imports all other modules that the program needs\n",
    "- there is a `__main__.py` file in python package\n",
    "- a `return` is not allowed"
   ]
  },
  {
   "cell_type": "markdown",
   "id": "0978d6c5",
   "metadata": {},
   "source": [
    "## applymap vs apply"
   ]
  },
  {
   "cell_type": "markdown",
   "id": "6efcf539",
   "metadata": {},
   "source": [
    "- applymap() function is used to apply a function to a DataFrame elementwise"
   ]
  },
  {
   "cell_type": "markdown",
   "id": "3a26a8fa",
   "metadata": {},
   "source": [
    "## Masked array"
   ]
  },
  {
   "cell_type": "code",
   "execution_count": 1,
   "id": "a5ab2756",
   "metadata": {},
   "outputs": [],
   "source": [
    "# np.ma\n",
    "# np.ma.masked_invalid"
   ]
  },
  {
   "cell_type": "markdown",
   "id": "3067618a",
   "metadata": {},
   "source": [
    "## Dictionary using zip"
   ]
  },
  {
   "cell_type": "code",
   "execution_count": 2,
   "id": "5836de46",
   "metadata": {},
   "outputs": [
    {
     "data": {
      "text/plain": [
       "{1: 'a', 2: 'b', 3: 'c'}"
      ]
     },
     "execution_count": 2,
     "metadata": {},
     "output_type": "execute_result"
    }
   ],
   "source": [
    "dict(zip([1,2,3], ['a','b','c']))"
   ]
  },
  {
   "cell_type": "code",
   "execution_count": 3,
   "id": "1847d6f1",
   "metadata": {},
   "outputs": [
    {
     "data": {
      "text/plain": [
       "['a', 'b', 'c', 'd', 'e']"
      ]
     },
     "execution_count": 3,
     "metadata": {},
     "output_type": "execute_result"
    }
   ],
   "source": [
    "list('abcde')"
   ]
  },
  {
   "cell_type": "markdown",
   "id": "6d811b58",
   "metadata": {},
   "source": [
    "## Relative imports"
   ]
  },
  {
   "cell_type": "code",
   "execution_count": 8,
   "id": "4c0e4fc1",
   "metadata": {},
   "outputs": [],
   "source": [
    "# https://realpython.com/absolute-vs-relative-python-imports/\n",
    "\n",
    "# from .some_module import some_class\n",
    "# from ..some_package import some_function\n",
    "# from . import some_class"
   ]
  },
  {
   "cell_type": "markdown",
   "id": "8e322b9a",
   "metadata": {},
   "source": [
    "## Add string to each element of a string"
   ]
  },
  {
   "cell_type": "code",
   "execution_count": 7,
   "id": "aaa9e085",
   "metadata": {},
   "outputs": [
    {
     "data": {
      "text/plain": [
       "['colA', 'colB', 'colC', 'colD']"
      ]
     },
     "execution_count": 7,
     "metadata": {},
     "output_type": "execute_result"
    }
   ],
   "source": [
    "# Without using list comprehension\n",
    "list(map(lambda o: 'col' + o, list('ABCD')))"
   ]
  },
  {
   "cell_type": "markdown",
   "id": "b1b7dc10",
   "metadata": {},
   "source": [
    "## Advanced package initialization"
   ]
  },
  {
   "cell_type": "code",
   "execution_count": null,
   "id": "13de93f6",
   "metadata": {},
   "outputs": [],
   "source": []
  },
  {
   "cell_type": "code",
   "execution_count": null,
   "id": "9a5e9e44",
   "metadata": {},
   "outputs": [],
   "source": []
  },
  {
   "cell_type": "code",
   "execution_count": null,
   "id": "9345d8e8",
   "metadata": {},
   "outputs": [],
   "source": []
  },
  {
   "cell_type": "code",
   "execution_count": null,
   "id": "7594c5c5",
   "metadata": {},
   "outputs": [],
   "source": []
  },
  {
   "cell_type": "code",
   "execution_count": null,
   "id": "793d1afb",
   "metadata": {},
   "outputs": [],
   "source": []
  },
  {
   "cell_type": "code",
   "execution_count": null,
   "id": "2525137d",
   "metadata": {},
   "outputs": [],
   "source": []
  },
  {
   "cell_type": "markdown",
   "id": "96052dc2",
   "metadata": {},
   "source": []
  },
  {
   "cell_type": "markdown",
   "id": "2608a269",
   "metadata": {},
   "source": [
    "## Links\n",
    "- https://referenceguide.dev/cheatsheet/python3.html\n",
    "- https://docs.python.org/3/faq/design.html\n",
    "- https://docs.python.org/3/c-api/memory.html\n",
    "- https://docs.python.org/3/library/stdtypes.html"
   ]
  }
 ],
 "metadata": {
  "kernelspec": {
   "display_name": "Python 3 (ipykernel)",
   "language": "python",
   "name": "python3"
  },
  "language_info": {
   "codemirror_mode": {
    "name": "ipython",
    "version": 3
   },
   "file_extension": ".py",
   "mimetype": "text/x-python",
   "name": "python",
   "nbconvert_exporter": "python",
   "pygments_lexer": "ipython3",
   "version": "3.8.8"
  },
  "toc": {
   "base_numbering": 1,
   "nav_menu": {},
   "number_sections": true,
   "sideBar": true,
   "skip_h1_title": false,
   "title_cell": "Table of Contents",
   "title_sidebar": "Contents",
   "toc_cell": false,
   "toc_position": {
    "height": "calc(100% - 180px)",
    "left": "10px",
    "top": "150px",
    "width": "195px"
   },
   "toc_section_display": true,
   "toc_window_display": true
  }
 },
 "nbformat": 4,
 "nbformat_minor": 5
}
