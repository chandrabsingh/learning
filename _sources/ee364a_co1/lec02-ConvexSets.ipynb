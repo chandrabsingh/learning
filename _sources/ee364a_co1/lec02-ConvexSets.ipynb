{
 "cells": [
  {
   "cell_type": "markdown",
   "id": "197bff81",
   "metadata": {},
   "source": [
    "# Lecture 2 - Convex Sets\n",
    "## Topics\n",
    "- affine and convex sets\n",
    "- some important examples\n",
    "- operations that preserve convexity\n",
    "  - intersection of two sets\n",
    "  - sum of two sets\n",
    "  - combine different sets to make interesting sets\n",
    "- generalized inequalities\n",
    "- separating and supporting hyperplanes\n",
    "- dual cones and generalized inequalities"
   ]
  },
  {
   "cell_type": "markdown",
   "id": "bf703b46",
   "metadata": {},
   "source": [
    "## Affine set\n",
    "- line through $x_{1}$, $x_{2}$ : all points\n",
    "  - linear combination of $x_{1}$ and $x_{2}$ that add upto 1\n",
    "$$ x = \\theta x_{1} + (1-\\theta)x_{2}\\space \\space \\space $ ($\\theta \\in \\mathbb R $$\n",
    "  - if $\\theta = 1, x = x_1$\n",
    "  - if $\\theta = 0, x = x_2$\n",
    "  - if $\\theta = 0.5,$ x lies in between $x_{1}$ and $x_{2}$\n",
    "  - if $\\theta < 0,$ x lies beyond $x_{2}$\n",
    "  - if $\\theta > 1,$ x lies beyond $x_{1}$\n",
    "  - if $0 \\le \\theta \\le 1,$ x lies between the line segment $x_{1}$ and $x_{2}$\n",
    "- solution set of linear equations {x | Ax = b} is an affine set\n",
    "- conversely, for every affine set it can be expressed as solution set of system of linear equations\n",
    "  - If $Ax_1 = b$ and $Ax_2 = b$, then line passing through $x_{1}$ and $x_{2}$ satisfies the equation:\n",
    "$$ \\begin{equation} \\\\\n",
    "\\begin{aligned} \\\\\n",
    "Ax &= A(\\theta x_{1} + (1-\\theta)x_{2}) \\\\ \n",
    "&= \\theta A x_{1} + (1-\\theta)A x_{2} \\\\ \n",
    "&= \\theta b + (1-\\theta) b \\\\ \n",
    "&= b \\\\ \n",
    "\\end{aligned} \\\\\n",
    "\\end{equation} $$\n"
   ]
  },
  {
   "cell_type": "markdown",
   "id": "eb389796",
   "metadata": {},
   "source": [
    "## Convex set\n",
    "> $x = \\theta x_{1} + (1-\\theta)x_{2}\\space \\space \\space (0 \\le \\theta \\le 1)$ and both the coefficients must add upto 1\n",
    "- That means that an affine set is, in fact, a convex set, because an affine set contains the entire line through $x_{1}$ and $x_{2}$\n",
    "- All the points between the line segment must lie within the set"
   ]
  },
  {
   "cell_type": "markdown",
   "id": "526ed9b0",
   "metadata": {},
   "source": [
    "## Convex combination and convex hull\n",
    "- convex combination \n",
    "  - any point x of the form \n",
    "> $x = \\theta_{1}x_{1} + \\theta_{2}x_{2} + ... + \\theta_{k}x_{k}$\n",
    ">> with $\\theta_{1} + ... + \\theta_{k} = 1, \\theta_{i} \\ge 0$\n",
    "- convex hull \n",
    "  - set of all convex combinations of some points in S\n",
    "  - if we vary these 3 points so that they satisfy the constraint, the set will have all the combinations inside the boundary\n",
    "\n",
    "<p align=\"center\"><img src=\"./images/02_convexhull.png\" width=400 height=400>  </p>\n",
    "\n",
    "$\\tiny{\\text{YouTube-Stanford-EE364A-Jacob Mattingley}}$   "
   ]
  },
  {
   "cell_type": "markdown",
   "id": "61c9d0cc",
   "metadata": {},
   "source": [
    "## Convex cone\n",
    "- conic (nonnegative) combination: of $x_{1}$ and $x_{2}$ of the form \n",
    "> $x = \\theta_{1}x_{1} + \\theta_{2}x_{2} $\n",
    ">> with $\\theta_{1} \\ge 0, \\theta_{2} \\ge 0 $\n",
    "\n",
    "<p align=\"center\"><img src=\"./images/02_conic_combination.png\" width=400 height=400>  </p>\n",
    "\n",
    "$\\tiny{\\text{YouTube-Stanford-EE364A-Prof Stephen Boyd}}$ \n",
    "\n",
    "- convex cone: all the conic combinations of points in the set"
   ]
  },
  {
   "cell_type": "markdown",
   "id": "7ee05758",
   "metadata": {},
   "source": [
    "## Hyperplanes and halfspaces\n",
    "- Hyperplane\n",
    "  - is the solution set of linear combination of this constraint\n",
    "  - set of form $\\{x|a^Tx=b\\}$, where $a \\ne 0$\n",
    "  - a is normal to the hyperplane\n",
    "  - if you vary b, you get different sets of plane\n",
    "  - hyperplanes are affine and convex\n",
    "  \n",
    "<p align=\"center\"><img src=\"./images/02_hyperplanes.png\" width=400 height=400>  </p>\n",
    "\n",
    "$\\tiny{\\text{YouTube-Stanford-EE364A-Prof Stephen Boyd}}$ \n",
    "  \n",
    "- Halfspace\n",
    "  - is the solution set of single linear inequality\n",
    "  - set of form $\\{x|a^Tx \\le b\\}$, where $a \\ne 0$\n",
    "  - a is an outward normal to the plane\n",
    "  - halfspaces are convex and not affine\n",
    "  \n",
    "<p align=\"center\"><img src=\"./images/02_hyperspace.png\" width=400 height=400>  </p>\n",
    "\n",
    "$\\tiny{\\text{YouTube-Stanford-EE364A-Prof Stephen Boyd}}$ "
   ]
  },
  {
   "cell_type": "markdown",
   "id": "b13eb282",
   "metadata": {},
   "source": [
    "## Euclidean balls and ellipsoids\n",
    "\n",
    "- Euclidean ball\n",
    "- ellipsoid\n",
    "\n"
   ]
  },
  {
   "cell_type": "markdown",
   "id": "5a138dee",
   "metadata": {},
   "source": []
  },
  {
   "cell_type": "markdown",
   "id": "15f171c4",
   "metadata": {},
   "source": []
  },
  {
   "cell_type": "markdown",
   "id": "07c86622",
   "metadata": {},
   "source": []
  },
  {
   "cell_type": "markdown",
   "id": "62749319",
   "metadata": {},
   "source": []
  },
  {
   "cell_type": "markdown",
   "id": "8c6f36ff",
   "metadata": {},
   "source": []
  },
  {
   "cell_type": "markdown",
   "id": "02b549a5",
   "metadata": {},
   "source": []
  },
  {
   "cell_type": "markdown",
   "id": "7c973727",
   "metadata": {},
   "source": []
  }
 ],
 "metadata": {
  "kernelspec": {
   "display_name": "Python 3 (ipykernel)",
   "language": "python",
   "name": "python3"
  },
  "language_info": {
   "codemirror_mode": {
    "name": "ipython",
    "version": 3
   },
   "file_extension": ".py",
   "mimetype": "text/x-python",
   "name": "python",
   "nbconvert_exporter": "python",
   "pygments_lexer": "ipython3",
   "version": "3.8.8"
  },
  "toc": {
   "base_numbering": 1,
   "nav_menu": {},
   "number_sections": true,
   "sideBar": true,
   "skip_h1_title": false,
   "title_cell": "Table of Contents",
   "title_sidebar": "Contents",
   "toc_cell": false,
   "toc_position": {},
   "toc_section_display": true,
   "toc_window_display": false
  }
 },
 "nbformat": 4,
 "nbformat_minor": 5
}
