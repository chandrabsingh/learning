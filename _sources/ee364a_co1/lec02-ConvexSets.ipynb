{
 "cells": [
  {
   "cell_type": "markdown",
   "id": "197bff81",
   "metadata": {},
   "source": [
    "# Lecture 2 - Convex Sets\n",
    "## Topics\n",
    "- affine and convex sets\n",
    "- some important examples\n",
    "- operations that preserve convexity\n",
    "- generalized inequalities\n",
    "- separating and supporting hyperplanes\n",
    "- dual cones and generalized inequalities"
   ]
  },
  {
   "cell_type": "markdown",
   "id": "bf703b46",
   "metadata": {},
   "source": [
    "## Affine set\n",
    "- line through $x_{1}$, $x_{2}$ : all points\n",
    "> $x = \\theta x_{1} + (1-\\theta)x_{2}\\space \\space \\space $ ($\\theta \\in \\mathbb R$)\n",
    "- solution set of linear equations {x | Ax = b}"
   ]
  },
  {
   "cell_type": "markdown",
   "id": "eb389796",
   "metadata": {},
   "source": [
    "## Convex set\n",
    "> $x = \\theta x_{1} + (1-\\theta)x_{2}\\space \\space \\space (0 \\le \\theta \\le 1)$\n",
    "- That means that an affine set is, in fact, a convex set, because an affine set contains the entire line through $x_{1}$ and $x_{2}$"
   ]
  },
  {
   "cell_type": "markdown",
   "id": "526ed9b0",
   "metadata": {},
   "source": [
    "## Convex combination and convex hull\n",
    "- convex combintion: any point x of the form \n",
    "> $x = \\theta_{1}x_{1} + \\theta_{2}x_{2} + ... + \\theta_{k}x_{k}$\n",
    ">> with $\\theta_{1} + ... + \\theta_{k} = 1, \\theta_{i} \\ge 0$\n",
    "- convex hull: if we vary these 3 points so that they satisfy the constraint, the set will have all the combinations inside the boundary\n",
    "\n",
    "<p align=\"center\"><img src=\"./images/02_convexhull.png\" width=400 height=400>  </p>\n",
    "\n",
    "$\\tiny{\\text{YouTube-Stanford-EE364A-Jacob Mattingley}}$   "
   ]
  },
  {
   "cell_type": "markdown",
   "id": "61c9d0cc",
   "metadata": {},
   "source": [
    "### Convex cone\n",
    "- conic (nonnegative) combination: of $x_{1}$ and $x_{2}$ of the form \n",
    "> $x = \\theta_{1}x_{1} + \\theta_{2}x_{2} $\n",
    ">> with $\\theta_{1} \\ge 0, \\theta_{2} \\ge 0 $\n",
    "\n"
   ]
  },
  {
   "cell_type": "markdown",
   "id": "7ee05758",
   "metadata": {},
   "source": [
    "### Hyperplanes and halfspaces"
   ]
  }
 ],
 "metadata": {
  "kernelspec": {
   "display_name": "Python 3 (ipykernel)",
   "language": "python",
   "name": "python3"
  },
  "language_info": {
   "codemirror_mode": {
    "name": "ipython",
    "version": 3
   },
   "file_extension": ".py",
   "mimetype": "text/x-python",
   "name": "python",
   "nbconvert_exporter": "python",
   "pygments_lexer": "ipython3",
   "version": "3.8.8"
  },
  "toc": {
   "base_numbering": 1,
   "nav_menu": {},
   "number_sections": true,
   "sideBar": true,
   "skip_h1_title": false,
   "title_cell": "Table of Contents",
   "title_sidebar": "Contents",
   "toc_cell": false,
   "toc_position": {},
   "toc_section_display": true,
   "toc_window_display": false
  }
 },
 "nbformat": 4,
 "nbformat_minor": 5
}
