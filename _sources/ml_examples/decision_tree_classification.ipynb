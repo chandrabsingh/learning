{
 "cells": [
  {
   "cell_type": "markdown",
   "id": "026e779d",
   "metadata": {},
   "source": [
    "# Decision Tree - classification\n",
    "The goal of this exercise is to \n",
    "- learn how the decision tree classification algorithm works\n",
    "  - how the tree splits and grows\n",
    "  - to understand the quality of split\n",
    "- how to train/test classification model\n",
    "  - how to interpret the result"
   ]
  },
  {
   "cell_type": "markdown",
   "id": "b6008edc",
   "metadata": {},
   "source": [
    "## References\n",
    "- [Source: Scikit-DecisionTree](https://scikit-learn.org/stable/auto_examples/tree/plot_unveil_tree_structure.html#sphx-glr-auto-examples-tree-plot-unveil-tree-structure-py)\n",
    "- [Iris Classification](https://github.com/terryz1/Iris_Classification/blob/master/iris_classification.ipynb)\n",
    "- https://github.com/Apress/mastering-ml-w-python-in-six-steps/blob/master/Chapter_3_Code/Code/Decision%20Trees.ipynb\n",
    "  - Book - Mastering ML with Python in 6 steps"
   ]
  },
  {
   "cell_type": "markdown",
   "id": "7b9f04b2",
   "metadata": {},
   "source": [
    "## Background\n",
    "\n",
    "```{note}\n",
    "- When a decision tree  \n",
    "  - classifies things into categories\n",
    "    - it's called Classification Tree\n",
    "  - predicts numerical values\n",
    "    - it's called Regression Tree\n",
    "    \n",
    "\n",
    "- In classification tree, features of different datatypes can be mixed together\n",
    "  - exercise < 20 minutes \n",
    "    - classifies as True/False\n",
    "  - eat doughnuts \n",
    "    - classifies as True/False\n",
    "    \n",
    "\n",
    "- numerical thresholds can be different for the same data\n",
    "  - For example\n",
    "    - 40 years or older\n",
    "      - True\n",
    "        - exercise < 20 minutes \n",
    "          - classifies further as True/False\n",
    "      - False\n",
    "        - exercise > 30 minutes \n",
    "          - classifies further as True/False\n",
    "          \n",
    "          \n",
    "- how to choose optimal k\n",
    "  - pick the columns which has the lowest impurity factor\n",
    "  - the feature with lowest impurity takes the root position and same iterative process is repeated\n",
    "    -  this is how quality is split is measured\n",
    "    - supported methods in sklearn\n",
    "      - Gini impurity and \n",
    "      - \"entropy\" for information gain.\n",
    "\n",
    "\n",
    "- Gini Impurity is the probability of incorrectly classifying a randomly chosen element in the dataset if it were randomly labeled according to the class distribution in the dataset. \n",
    "  - If there are $C$ total classes and $p(i)$ is the probability of picking a datapoint with class i, then the Gini Impurity is calculated as\n",
    " \n",
    "```\n",
    "\n",
    "$$I_G(p) = \\sum\\limits_{i=1}^{J}\\left(p_i\\sum_{k \\ne i} p_k \\right) = \\sum\\limits_{i=1}^{J}p_i\\left(1 - p_i \\right) = \\sum\\limits_{i=1}^{J}\\left(p_i - p^2_i \\right) = \\sum\\limits_{i=1}^{J}p_i - \\sum\\limits_{i=1}^{J}p^2_i = 1 - \\sum\\limits_{i=1}^{J}p^2_i$$\n"
   ]
  },
  {
   "cell_type": "markdown",
   "id": "b902be47",
   "metadata": {},
   "source": [
    "## Sklearn imports"
   ]
  },
  {
   "cell_type": "code",
   "execution_count": 15,
   "id": "e1ad5da8",
   "metadata": {},
   "outputs": [],
   "source": [
    "import numpy as np\n",
    "from matplotlib import pyplot as plt\n",
    "\n",
    "from sklearn.model_selection import train_test_split\n",
    "from sklearn.datasets import load_iris\n",
    "from sklearn.tree import DecisionTreeClassifier\n",
    "from sklearn import tree\n",
    "from sklearn import metrics"
   ]
  },
  {
   "cell_type": "markdown",
   "id": "642eefe5",
   "metadata": {},
   "source": [
    "## Load dataset\n",
    "## Split dataset\n",
    "## Train model"
   ]
  },
  {
   "cell_type": "code",
   "execution_count": 10,
   "id": "dd889518",
   "metadata": {},
   "outputs": [
    {
     "data": {
      "text/plain": [
       "DecisionTreeClassifier(criterion='entropy', random_state=0)"
      ]
     },
     "execution_count": 10,
     "metadata": {},
     "output_type": "execute_result"
    }
   ],
   "source": [
    "iris = load_iris()\n",
    "X = iris.data\n",
    "y = iris.target\n",
    "X_train, X_test, y_train, y_test = train_test_split(X, y, random_state=0)\n",
    "\n",
    "clf = DecisionTreeClassifier()\n",
    "clf.fit(X_train, y_train)\n",
    "\n",
    "clf2 = tree.DecisionTreeClassifier(criterion = 'entropy', random_state=0)\n",
    "clf2.fit(X_train, y_train)"
   ]
  },
  {
   "cell_type": "markdown",
   "id": "5e164961",
   "metadata": {},
   "source": [
    "## Sklearn - tree structure"
   ]
  },
  {
   "cell_type": "code",
   "execution_count": 3,
   "id": "99db5ed3",
   "metadata": {},
   "outputs": [
    {
     "name": "stdout",
     "output_type": "stream",
     "text": [
      "The binary tree structure has 13 nodes and has the following tree structure:\n",
      "\n",
      "node=0 is a split node: go to node 1 if X[:, 3] <= 0.800000011920929 else to node 2.\n",
      "\tnode=1 is a leaf node.\n",
      "\tnode=2 is a split node: go to node 3 if X[:, 2] <= 4.950000047683716 else to node 8.\n",
      "\t\tnode=3 is a split node: go to node 4 if X[:, 3] <= 1.6500000357627869 else to node 5.\n",
      "\t\t\tnode=4 is a leaf node.\n",
      "\t\t\tnode=5 is a split node: go to node 6 if X[:, 1] <= 3.100000023841858 else to node 7.\n",
      "\t\t\t\tnode=6 is a leaf node.\n",
      "\t\t\t\tnode=7 is a leaf node.\n",
      "\t\tnode=8 is a split node: go to node 9 if X[:, 2] <= 5.049999952316284 else to node 12.\n",
      "\t\t\tnode=9 is a split node: go to node 10 if X[:, 1] <= 2.75 else to node 11.\n",
      "\t\t\t\tnode=10 is a leaf node.\n",
      "\t\t\t\tnode=11 is a leaf node.\n",
      "\t\t\tnode=12 is a leaf node.\n"
     ]
    }
   ],
   "source": [
    "n_nodes = clf.tree_.node_count\n",
    "children_left = clf.tree_.children_left\n",
    "children_right = clf.tree_.children_right\n",
    "feature = clf.tree_.feature\n",
    "threshold = clf.tree_.threshold\n",
    "\n",
    "node_depth = np.zeros(shape=n_nodes, dtype=np.int64)\n",
    "is_leaves = np.zeros(shape=n_nodes, dtype=bool)\n",
    "stack = [(0, 0)]  # start with the root node id (0) and its depth (0)\n",
    "while len(stack) > 0:\n",
    "    # `pop` ensures each node is only visited once\n",
    "    node_id, depth = stack.pop()\n",
    "    node_depth[node_id] = depth\n",
    "\n",
    "    # If the left and right child of a node is not the same we have a split\n",
    "    # node\n",
    "    is_split_node = children_left[node_id] != children_right[node_id]\n",
    "    # If a split node, append left and right children and depth to `stack`\n",
    "    # so we can loop through them\n",
    "    if is_split_node:\n",
    "        stack.append((children_left[node_id], depth + 1))\n",
    "        stack.append((children_right[node_id], depth + 1))\n",
    "    else:\n",
    "        is_leaves[node_id] = True\n",
    "\n",
    "print(\n",
    "    \"The binary tree structure has {n} nodes and has \"\n",
    "    \"the following tree structure:\\n\".format(n=n_nodes)\n",
    ")\n",
    "for i in range(n_nodes):\n",
    "    if is_leaves[i]:\n",
    "        print(\n",
    "            \"{space}node={node} is a leaf node.\".format(\n",
    "                space=node_depth[i] * \"\\t\", node=i\n",
    "            )\n",
    "        )\n",
    "    else:\n",
    "        print(\n",
    "            \"{space}node={node} is a split node: \"\n",
    "            \"go to node {left} if X[:, {feature}] <= {threshold} \"\n",
    "            \"else to node {right}.\".format(\n",
    "                space=node_depth[i] * \"\\t\",\n",
    "                node=i,\n",
    "                left=children_left[i],\n",
    "                feature=feature[i],\n",
    "                threshold=threshold[i],\n",
    "                right=children_right[i],\n",
    "            )\n",
    "        )"
   ]
  },
  {
   "cell_type": "markdown",
   "id": "7538d5d3",
   "metadata": {},
   "source": [
    "## Plot decision tree - use Gini"
   ]
  },
  {
   "cell_type": "code",
   "execution_count": 43,
   "id": "7ecd417a",
   "metadata": {},
   "outputs": [],
   "source": [
    "plt.figure(figsize=(12,12))\n",
    "tree.plot_tree(clf, filled = True)\n",
    "# plt.savefig('./images/iris_decision_tree.png', dpi=100)\n",
    "# plt.close()\n",
    "# help(tree.plot_tree)\n",
    "plt.show()"
   ]
  },
  {
   "cell_type": "markdown",
   "id": "60b9fd15",
   "metadata": {},
   "source": [
    "## Plot decision tree - Gini vs Entropy"
   ]
  },
  {
   "cell_type": "code",
   "execution_count": 48,
   "id": "e8027690",
   "metadata": {},
   "outputs": [],
   "source": [
    "clfs = [clf, clf2]\n",
    "fig = plt.figure(figsize=(18,12)) \n",
    "\n",
    "for i in range(2):     \n",
    "    ax = fig.add_subplot(1, 2, i+1)      \n",
    "    tree.plot_tree(clfs[i], filled = True)\n",
    "    ax.set_xticks([]); ax.set_yticks([]) \n",
    "ax.set_xticks([]); ax.set_yticks([])\n",
    "fig.suptitle('Decision Tree - Gini vs Entropy')\n",
    "# plt.savefig('./images/iris_decision_tree_comparison.png', dpi=100)\n",
    "# plt.close()\n",
    "plt.show()"
   ]
  },
  {
   "cell_type": "markdown",
   "id": "3ecc5066",
   "metadata": {},
   "source": [
    "## Evaluation Metrics"
   ]
  },
  {
   "cell_type": "code",
   "execution_count": 52,
   "id": "fe8f32b4",
   "metadata": {},
   "outputs": [
    {
     "name": "stdout",
     "output_type": "stream",
     "text": [
      "Train - Accuracy :\n",
      " 1.0\n",
      "\n",
      "Train - Confusion matrix :\n",
      " [[37  0  0]\n",
      " [ 0 34  0]\n",
      " [ 0  0 41]]\n",
      "\n",
      "Train - Classification report :\n",
      "               precision    recall  f1-score   support\n",
      "\n",
      "           0       1.00      1.00      1.00        37\n",
      "           1       1.00      1.00      1.00        34\n",
      "           2       1.00      1.00      1.00        41\n",
      "\n",
      "    accuracy                           1.00       112\n",
      "   macro avg       1.00      1.00      1.00       112\n",
      "weighted avg       1.00      1.00      1.00       112\n",
      "\n",
      "\n",
      "Test - Accuracy :\n",
      " 0.9736842105263158\n",
      "\n",
      "Test - Confusion matrix :\n",
      " [[13  0  0]\n",
      " [ 0 15  1]\n",
      " [ 0  0  9]]\n",
      "\n",
      "Test - Classification report :\n",
      "               precision    recall  f1-score   support\n",
      "\n",
      "           0       1.00      1.00      1.00        13\n",
      "           1       1.00      0.94      0.97        16\n",
      "           2       0.90      1.00      0.95         9\n",
      "\n",
      "    accuracy                           0.97        38\n",
      "   macro avg       0.97      0.98      0.97        38\n",
      "weighted avg       0.98      0.97      0.97        38\n",
      "\n",
      "\n"
     ]
    }
   ],
   "source": [
    "print(f\"Train - Accuracy :\\n {metrics.accuracy_score(y_train, clf.predict(X_train))}\\n\")\n",
    "print(f\"Train - Confusion matrix :\\n {metrics.confusion_matrix(y_train, clf.predict(X_train))}\\n\")\n",
    "print(f\"Train - Classification report :\\n {metrics.classification_report(y_train, clf.predict(X_train))}\\n\")\n",
    "\n",
    "print(f\"Test - Accuracy :\\n {metrics.accuracy_score(y_test, clf.predict(X_test))}\\n\")\n",
    "print(f\"Test - Confusion matrix :\\n {metrics.confusion_matrix(y_test, clf.predict(X_test))}\\n\")\n",
    "print(f\"Test - Classification report :\\n {metrics.classification_report(y_test, clf.predict(X_test))}\\n\")\n"
   ]
  },
  {
   "cell_type": "code",
   "execution_count": 58,
   "id": "b4e0be5f",
   "metadata": {},
   "outputs": [
    {
     "name": "stdout",
     "output_type": "stream",
     "text": [
      "Rules used to predict sample 0:\n",
      "\n",
      "decision node 0 : (X_test[0, 3] = 2.4) > 0.800000011920929)\n",
      "decision node 2 : (X_test[0, 2] = 5.1) > 4.950000047683716)\n",
      "decision node 8 : (X_test[0, 2] = 5.1) > 5.049999952316284)\n"
     ]
    }
   ],
   "source": [
    "node_indicator = clf.decision_path(X_test)\n",
    "leaf_id = clf.apply(X_test)\n",
    "\n",
    "sample_id = 0\n",
    "# obtain ids of the nodes `sample_id` goes through, i.e., row `sample_id`\n",
    "node_index = node_indicator.indices[\n",
    "    node_indicator.indptr[sample_id] : node_indicator.indptr[sample_id + 1]\n",
    "]\n",
    "\n",
    "print(\"Rules used to predict sample {id}:\\n\".format(id=sample_id))\n",
    "for node_id in node_index:\n",
    "    # continue to the next node if it is a leaf node\n",
    "    if leaf_id[sample_id] == node_id:\n",
    "        continue\n",
    "\n",
    "    # check if value of the split feature for sample 0 is below threshold\n",
    "    if X_test[sample_id, feature[node_id]] <= threshold[node_id]:\n",
    "        threshold_sign = \"<=\"\n",
    "    else:\n",
    "        threshold_sign = \">\"\n",
    "\n",
    "    print(\n",
    "        \"decision node {node} : (X_test[{sample}, {feature}] = {value}) \"\n",
    "        \"{inequality} {threshold})\".format(\n",
    "            node=node_id,\n",
    "            sample=sample_id,\n",
    "            feature=feature[node_id],\n",
    "            value=X_test[sample_id, feature[node_id]],\n",
    "            inequality=threshold_sign,\n",
    "            threshold=threshold[node_id],\n",
    "        )\n",
    "    )"
   ]
  },
  {
   "cell_type": "code",
   "execution_count": 53,
   "id": "8d7a8db4",
   "metadata": {},
   "outputs": [
    {
     "data": {
      "text/plain": [
       "[Text(0.4, 0.9, 'X[3] <= 0.8\\ngini = 0.665\\nsamples = 112\\nvalue = [37, 34, 41]'),\n",
       " Text(0.3, 0.7, 'gini = 0.0\\nsamples = 37\\nvalue = [37, 0, 0]'),\n",
       " Text(0.5, 0.7, 'X[2] <= 4.95\\ngini = 0.496\\nsamples = 75\\nvalue = [0, 34, 41]'),\n",
       " Text(0.2, 0.5, 'X[3] <= 1.65\\ngini = 0.153\\nsamples = 36\\nvalue = [0, 33, 3]'),\n",
       " Text(0.1, 0.3, 'gini = 0.0\\nsamples = 32\\nvalue = [0, 32, 0]'),\n",
       " Text(0.3, 0.3, 'X[1] <= 3.1\\ngini = 0.375\\nsamples = 4\\nvalue = [0, 1, 3]'),\n",
       " Text(0.2, 0.1, 'gini = 0.0\\nsamples = 3\\nvalue = [0, 0, 3]'),\n",
       " Text(0.4, 0.1, 'gini = 0.0\\nsamples = 1\\nvalue = [0, 1, 0]'),\n",
       " Text(0.8, 0.5, 'X[2] <= 5.05\\ngini = 0.05\\nsamples = 39\\nvalue = [0, 1, 38]'),\n",
       " Text(0.7, 0.3, 'X[0] <= 6.5\\ngini = 0.375\\nsamples = 4\\nvalue = [0, 1, 3]'),\n",
       " Text(0.6, 0.1, 'gini = 0.0\\nsamples = 3\\nvalue = [0, 0, 3]'),\n",
       " Text(0.8, 0.1, 'gini = 0.0\\nsamples = 1\\nvalue = [0, 1, 0]'),\n",
       " Text(0.9, 0.3, 'gini = 0.0\\nsamples = 35\\nvalue = [0, 0, 35]')]"
      ]
     },
     "execution_count": 53,
     "metadata": {},
     "output_type": "execute_result"
    },
    {
     "data": {
      "image/png": "[encoded data removed]",
      "text/plain": [
       "<Figure size 432x288 with 1 Axes>"
      ]
     },
     "metadata": {
      "needs_background": "light"
     },
     "output_type": "display_data"
    }
   ],
   "source": [
    "tree.plot_tree(clf)"
   ]
  },
  {
   "cell_type": "markdown",
   "id": "d456a07a",
   "metadata": {},
   "source": [
    "## Confusion Matrix - display"
   ]
  },
  {
   "cell_type": "code",
   "execution_count": 2,
   "id": "dfe5b254",
   "metadata": {},
   "outputs": [
    {
     "ename": "NameError",
     "evalue": "name 'clf' is not defined",
     "output_type": "error",
     "traceback": [
      "\u001b[0;31m---------------------------------------------------------------------------\u001b[0m",
      "\u001b[0;31mNameError\u001b[0m                                 Traceback (most recent call last)",
      "Input \u001b[0;32mIn [2]\u001b[0m, in \u001b[0;36m<cell line: 3>\u001b[0;34m()\u001b[0m\n\u001b[1;32m      1\u001b[0m \u001b[38;5;28;01mfrom\u001b[39;00m \u001b[38;5;21;01msklearn\u001b[39;00m\u001b[38;5;21;01m.\u001b[39;00m\u001b[38;5;21;01mmetrics\u001b[39;00m \u001b[38;5;28;01mimport\u001b[39;00m confusion_matrix, ConfusionMatrixDisplay\n\u001b[0;32m----> 3\u001b[0m predictions \u001b[38;5;241m=\u001b[39m \u001b[43mclf\u001b[49m\u001b[38;5;241m.\u001b[39mpredict(X_test)\n\u001b[1;32m      4\u001b[0m cm \u001b[38;5;241m=\u001b[39m confusion_matrix(y_test, predictions, labels\u001b[38;5;241m=\u001b[39mclf\u001b[38;5;241m.\u001b[39mclasses_)\n\u001b[1;32m      5\u001b[0m disp \u001b[38;5;241m=\u001b[39m ConfusionMatrixDisplay(confusion_matrix\u001b[38;5;241m=\u001b[39mcm, display_labels\u001b[38;5;241m=\u001b[39mclf\u001b[38;5;241m.\u001b[39mclasses_, \n\u001b[1;32m      6\u001b[0m \u001b[38;5;66;03m#                               display_labels=cm\u001b[39;00m\n\u001b[1;32m      7\u001b[0m                              )\n",
      "\u001b[0;31mNameError\u001b[0m: name 'clf' is not defined"
     ]
    }
   ],
   "source": [
    "from sklearn.metrics import confusion_matrix, ConfusionMatrixDisplay\n",
    "\n",
    "predictions = clf.predict(X_test)\n",
    "cm = confusion_matrix(y_test, predictions, labels=clf.classes_)\n",
    "disp = ConfusionMatrixDisplay(confusion_matrix=cm, display_labels=clf.classes_, \n",
    "#                               display_labels=cm\n",
    "                             )\n",
    "disp.plot(cmap=\"Blues\")\n",
    "# plt.savefig('./images/iris_decision_tree_confusion_matrix.png', dpi=100)\n",
    "# plt.close()\n",
    "plt.show()"
   ]
  }
 ],
 "metadata": {
  "kernelspec": {
   "display_name": "Python 3 (ipykernel)",
   "language": "python",
   "name": "python3"
  },
  "language_info": {
   "codemirror_mode": {
    "name": "ipython",
    "version": 3
   },
   "file_extension": ".py",
   "mimetype": "text/x-python",
   "name": "python",
   "nbconvert_exporter": "python",
   "pygments_lexer": "ipython3",
   "version": "3.8.8"
  },
  "toc": {
   "base_numbering": 1,
   "nav_menu": {},
   "number_sections": true,
   "sideBar": true,
   "skip_h1_title": false,
   "title_cell": "Table of Contents",
   "title_sidebar": "Contents",
   "toc_cell": false,
   "toc_position": {},
   "toc_section_display": true,
   "toc_window_display": true
  }
 },
 "nbformat": 4,
 "nbformat_minor": 5
}
