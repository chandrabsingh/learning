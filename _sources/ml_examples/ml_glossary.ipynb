{
 "cells": [
  {
   "cell_type": "markdown",
   "id": "7d555dbf",
   "metadata": {},
   "source": [
    "# Machine Learning Notebook\n",
    "\n",
    "![ML Mind Map](./images/ml_mind_map.png)\n",
    "\n",
    "$\\tiny{\\text{Jason Brownlee}}$   "
   ]
  },
  {
   "cell_type": "markdown",
   "id": "0f603013",
   "metadata": {},
   "source": [
    "## Machine Learning\n",
    "\n",
    "\n",
    "### Supervised Learning\n",
    "Supervised Learning is a machine learning approach that uses labeled data to train algorithms into classifying or predicting outcomes accurately.\n",
    "> - Types of Supervised Learning algorithms\n",
    "\n",
    "### Unsupervised Learning\n",
    "Unsupervised Learning is a machine learning approach that uses unlabeled data to analyze and cluster datasets. It makes inference without knowing the label or outcomes. \n",
    "> - Types of Unsupervised Learning algorithms\n",
    ">   - Clustering\n",
    ">   - Association\n",
    "\n",
    "### Reinforcement Learning\n",
    "Reinforcement learning is a machine learning training method based on rewarding desired behaviors and punishing the undesirable ones, thereby learning about the environment by trial and error\n",
    "> - Types of Reinforcement Learning algorithms"
   ]
  }
 ],
 "metadata": {
  "kernelspec": {
   "display_name": "Python (reco)",
   "language": "python",
   "name": "reco"
  },
  "language_info": {
   "codemirror_mode": {
    "name": "ipython",
    "version": 3
   },
   "file_extension": ".py",
   "mimetype": "text/x-python",
   "name": "python",
   "nbconvert_exporter": "python",
   "pygments_lexer": "ipython3",
   "version": "3.8.8"
  },
  "toc": {
   "base_numbering": 1,
   "nav_menu": {},
   "number_sections": true,
   "sideBar": true,
   "skip_h1_title": false,
   "title_cell": "Table of Contents",
   "title_sidebar": "Contents",
   "toc_cell": false,
   "toc_position": {
    "height": "calc(100% - 180px)",
    "left": "10px",
    "top": "150px",
    "width": "390.139px"
   },
   "toc_section_display": true,
   "toc_window_display": false
  }
 },
 "nbformat": 4,
 "nbformat_minor": 5
}
