{
 "cells": [
  {
   "cell_type": "markdown",
   "metadata": {},
   "source": [
    "# Spark Collaborative Filtering (ALS) Deep Dive\n",
    "\n",
    "## Goals\n",
    "\n",
    "Spark MLlib provides a collaborative filtering algorithm that can be used for training a matrix factorization model, which predicts explicit or implicit ratings of users on items for recommendations.\n",
    "\n",
    "This notebook presents a deep dive into the Spark collaborative filtering algorithm."
   ]
  },
  {
   "cell_type": "markdown",
   "metadata": {},
   "source": [
    "## Theoretical Aspects\n",
    "\n",
    "### Matrix factorization algorithm\n",
    "\n",
    "#### Matrix factorization for collaborative filtering problem\n",
    "\n",
    "Matrix factorization is a common technique used in recommendation tasks. Basically, a matrix factorization algorithm tries to find latent factors that represent intrinsic user and item attributes in a lower dimension. That is,\n",
    "\n",
    "$$\\hat r_{u,i} = q_{i}^{T}p_{u}$$\n",
    "\n",
    "where $\\hat r_{u,i}$ is the predicted ratings for user $u$ and item $i$, and $q_{i}^{T}$ and $p_{u}$ are latent factors for item and user, respectively. The challenge to the matrix factorization problem is to find $q_{i}^{T}$ and $p_{u}$. This is achieved by methods such as matrix decomposition. A learning approach is therefore developed to converge the decomposition results close to the observed ratings as much as possible. Furthermore, to avoid overfitting issue, the learning process is regularized. For example, a basic form of such matrix factorization algorithm is represented as below.\n",
    "\n",
    "$$\\min\\sum(r_{u,i} - q_{i}^{T}p_{u})^2 + \\lambda(||q_{i}||^2 + ||p_{u}||^2)$$\n",
    "\n",
    "where $\\lambda$ is a the regularization parameter. \n",
    "\n",
    "In case explict ratings are not available, implicit ratings which are usually derived from users' historical interactions with the items (e.g., clicks, views, purchases, etc.). To account for such implicit ratings, the original matrix factorization algorithm can be formulated as \n",
    "\n",
    "$$\\min\\sum c_{u,i}(p_{u,i} - q_{i}^{T}p_{u})^2 + \\lambda(||q_{i}||^2 + ||p_{u}||^2)$$\n",
    "\n",
    "where $c_{u,i}=1+\\alpha r_{u,i}$ and $p_{u,i}=1$ if $r_{u,i}>0$ and $p_{u,i}=0$ if $r_{u,i}=0$. $r_{u,i}$ is a numerical representation of users' preferences (e.g., number of clicks, etc.). \n",
    "\n",
    "#### Alternating Least Square (ALS)\n",
    "\n",
    "Owing to the term of $q_{i}^{T}p_{u}$ the loss function is non-convex. Gradient descent method can be applied but this will incur expensive computations. An Alternating Least Square (ALS) algorithm was therefore developed to overcome this issue. \n",
    "\n",
    "The basic idea of ALS is to learn one of $q$ and $p$ at a time for optimization while keeping the other as constant. This makes the objective at each iteration convex and solvable. The alternating between $q$ and $p$ stops when there is convergence to the optimal. It is worth noting that this iterative computation can be parallelised and/or distributed, which makes the algorithm desirable for use cases where the dataset is large and thus the user-item rating matrix is super sparse (as is typical in recommendation scenarios). A comprehensive discussion of ALS and its distributed computation can be found [here](http://stanford.edu/~rezab/classes/cme323/S15/notes/lec14.pdf)."
   ]
  },
  {
   "cell_type": "markdown",
   "metadata": {},
   "source": [
    "### Spark Mllib implementation\n",
    "\n",
    "The matrix factorization algorithm is available as `ALS` module in [Spark `ml`](https://spark.apache.org/docs/latest/ml-collaborative-filtering.html) for DataFrame or [Spark `mllib`](https://spark.apache.org/docs/latest/mllib-collaborative-filtering.html) for RDD. \n",
    "\n",
    "* The uniqueness of ALS implementation is that it distributes the matrix factorization model training by using \"Alternating Least Square\" method. \n",
    "* In the training method, there are parameters that can be selected to control the model performance.\n",
    "* Both explicit and implicit ratings are supported by Spark ALS model."
   ]
  },
  {
   "cell_type": "markdown",
   "metadata": {},
   "source": [
    "### Spark ALS based MovieLens recommender\n",
    "\n",
    "In the following code, the MovieLens-100K dataset is used to illustrate the ALS algorithm in Spark."
   ]
  },
  {
   "cell_type": "markdown",
   "metadata": {},
   "source": [
    "**Note**: This notebook requires a PySpark environment to run properly. Please follow the steps in [SETUP.md](https://github.com/Microsoft/Recommenders/blob/master/SETUP.md#dependencies-setup) to install the PySpark environment."
   ]
  },
  {
   "cell_type": "code",
   "execution_count": 1,
   "metadata": {},
   "outputs": [
    {
     "name": "stdout",
     "output_type": "stream",
     "text": [
      "System version: 3.8.8 (default, Apr 13 2021, 12:59:45) \n",
      "[Clang 10.0.0 ]\n",
      "Pandas version: 1.4.1\n",
      "PySpark version: 3.2.1\n"
     ]
    }
   ],
   "source": [
    "# set the environment path to find Recommenders\n",
    "import sys\n",
    "import pandas as pd\n",
    "from matplotlib import pyplot as plt\n",
    "import numpy as np\n",
    "import seaborn as sns\n",
    "import sys\n",
    "import pandas as pd\n",
    "\n",
    "import pyspark\n",
    "from pyspark.sql import SparkSession\n",
    "from pyspark.ml.recommendation import ALS\n",
    "import pyspark.sql.functions as F\n",
    "from pyspark.sql.functions import col\n",
    "from pyspark.ml.tuning import CrossValidator\n",
    "from pyspark.sql.types import StructType, StructField\n",
    "from pyspark.sql.types import FloatType, IntegerType, LongType\n",
    "\n",
    "from recommenders.datasets import movielens\n",
    "from recommenders.utils.spark_utils import start_or_get_spark\n",
    "from recommenders.evaluation.spark_evaluation import SparkRankingEvaluation, SparkRatingEvaluation\n",
    "from recommenders.tuning.parameter_sweep import generate_param_grid\n",
    "from recommenders.datasets.spark_splitters import spark_random_split\n",
    "\n",
    "print(\"System version: {}\".format(sys.version))\n",
    "print(\"Pandas version: {}\".format(pd.__version__))\n",
    "print(\"PySpark version: {}\".format(pyspark.__version__))"
   ]
  },
  {
   "cell_type": "markdown",
   "metadata": {},
   "source": [
    "Data column names"
   ]
  },
  {
   "cell_type": "code",
   "execution_count": 2,
   "metadata": {
    "tags": [
     "parameters"
    ]
   },
   "outputs": [],
   "source": [
    "MOVIELENS_DATA_SIZE = \"100k\"\n",
    "\n",
    "COL_USER = \"UserId\"\n",
    "COL_ITEM = \"MovieId\"\n",
    "COL_RATING = \"Rating\"\n",
    "COL_PREDICTION = \"prediction\"\n",
    "COL_TIMESTAMP = \"Timestamp\""
   ]
  },
  {
   "cell_type": "code",
   "execution_count": 3,
   "metadata": {},
   "outputs": [],
   "source": [
    "schema = StructType(\n",
    "    (\n",
    "        StructField(COL_USER, IntegerType()),\n",
    "        StructField(COL_ITEM, IntegerType()),\n",
    "        StructField(COL_RATING, FloatType()),\n",
    "        StructField(COL_TIMESTAMP, LongType()),\n",
    "    )\n",
    ")"
   ]
  },
  {
   "cell_type": "markdown",
   "metadata": {},
   "source": [
    "Model hyper parameters - these parameters are selected with reference to the benchmarking results [here](http://mymedialite.net/examples/datasets.html)."
   ]
  },
  {
   "cell_type": "code",
   "execution_count": 4,
   "metadata": {},
   "outputs": [],
   "source": [
    "RANK = 10\n",
    "MAX_ITER = 15\n",
    "REG_PARAM = 0.05"
   ]
  },
  {
   "cell_type": "markdown",
   "metadata": {},
   "source": [
    "Number of recommended items"
   ]
  },
  {
   "cell_type": "code",
   "execution_count": 5,
   "metadata": {},
   "outputs": [],
   "source": [
    "K = 10"
   ]
  },
  {
   "cell_type": "markdown",
   "metadata": {},
   "source": [
    "Initialize a Spark session."
   ]
  },
  {
   "cell_type": "code",
   "execution_count": 6,
   "metadata": {},
   "outputs": [
    {
     "name": "stderr",
     "output_type": "stream",
     "text": [
      "Using Spark's default log4j profile: org/apache/spark/log4j-defaults.properties\n",
      "Setting default log level to \"WARN\".\n",
      "To adjust logging level use sc.setLogLevel(newLevel). For SparkR, use setLogLevel(newLevel).\n",
      "22/10/04 00:46:43 WARN NativeCodeLoader: Unable to load native-hadoop library for your platform... using builtin-java classes where applicable\n"
     ]
    }
   ],
   "source": [
    "spark = start_or_get_spark(\"ALS Deep Dive\", memory=\"16g\")"
   ]
  },
  {
   "cell_type": "markdown",
   "metadata": {},
   "source": [
    "#### Load and prepare data"
   ]
  },
  {
   "cell_type": "markdown",
   "metadata": {},
   "source": [
    "Data is read from csv into a Spark DataFrame."
   ]
  },
  {
   "cell_type": "code",
   "execution_count": 7,
   "metadata": {},
   "outputs": [
    {
     "name": "stderr",
     "output_type": "stream",
     "text": [
      "100%|█████████████████████████████████████| 4.81k/4.81k [00:01<00:00, 4.01kKB/s]\n",
      "                                                                                \r"
     ]
    }
   ],
   "source": [
    "dfs = movielens.load_spark_df(spark=spark, size=MOVIELENS_DATA_SIZE, schema=schema)"
   ]
  },
  {
   "cell_type": "code",
   "execution_count": 8,
   "metadata": {
    "scrolled": true
   },
   "outputs": [
    {
     "name": "stdout",
     "output_type": "stream",
     "text": [
      "+------+-------+------+---------+\n",
      "|UserId|MovieId|Rating|Timestamp|\n",
      "+------+-------+------+---------+\n",
      "|   196|    242|   3.0|881250949|\n",
      "|   186|    302|   3.0|891717742|\n",
      "|    22|    377|   1.0|878887116|\n",
      "|   244|     51|   2.0|880606923|\n",
      "|   166|    346|   1.0|886397596|\n",
      "+------+-------+------+---------+\n",
      "only showing top 5 rows\n",
      "\n"
     ]
    }
   ],
   "source": [
    "dfs.show(5)"
   ]
  },
  {
   "cell_type": "markdown",
   "metadata": {},
   "source": [
    "Data is then randomly split by 80-20 ratio for training and testing."
   ]
  },
  {
   "cell_type": "code",
   "execution_count": 9,
   "metadata": {},
   "outputs": [],
   "source": [
    "dfs_train, dfs_test = spark_random_split(dfs, ratio=0.75, seed=42)"
   ]
  },
  {
   "cell_type": "code",
   "execution_count": 10,
   "metadata": {},
   "outputs": [
    {
     "data": {
      "text/plain": [
       "pyspark.sql.dataframe.DataFrame"
      ]
     },
     "execution_count": 10,
     "metadata": {},
     "output_type": "execute_result"
    }
   ],
   "source": [
    "type(dfs_train)"
   ]
  },
  {
   "cell_type": "code",
   "execution_count": 11,
   "metadata": {},
   "outputs": [
    {
     "name": "stdout",
     "output_type": "stream",
     "text": [
      "root\n",
      " |-- UserId: integer (nullable = true)\n",
      " |-- MovieId: integer (nullable = true)\n",
      " |-- Rating: float (nullable = true)\n",
      " |-- Timestamp: long (nullable = true)\n",
      "\n"
     ]
    },
    {
     "name": "stderr",
     "output_type": "stream",
     "text": [
      "\r",
      "[Stage 4:>                                                          (0 + 1) / 1]\r",
      "\r",
      "                                                                                \r"
     ]
    },
    {
     "name": "stdout",
     "output_type": "stream",
     "text": [
      "+------+\n",
      "|Rating|\n",
      "+------+\n",
      "|   5.0|\n",
      "|   3.0|\n",
      "|   3.0|\n",
      "|   3.0|\n",
      "|   5.0|\n",
      "+------+\n",
      "only showing top 5 rows\n",
      "\n"
     ]
    },
    {
     "data": {
      "text/html": [
       "<div>\n",
       "<style scoped>\n",
       "    .dataframe tbody tr th:only-of-type {\n",
       "        vertical-align: middle;\n",
       "    }\n",
       "\n",
       "    .dataframe tbody tr th {\n",
       "        vertical-align: top;\n",
       "    }\n",
       "\n",
       "    .dataframe thead th {\n",
       "        text-align: right;\n",
       "    }\n",
       "</style>\n",
       "<table border=\"1\" class=\"dataframe\">\n",
       "  <thead>\n",
       "    <tr style=\"text-align: right;\">\n",
       "      <th></th>\n",
       "      <th>UserId</th>\n",
       "      <th>MovieId</th>\n",
       "      <th>Rating</th>\n",
       "      <th>Timestamp</th>\n",
       "    </tr>\n",
       "  </thead>\n",
       "  <tbody>\n",
       "    <tr>\n",
       "      <th>0</th>\n",
       "      <td>1</td>\n",
       "      <td>1</td>\n",
       "      <td>5.0</td>\n",
       "      <td>874965758</td>\n",
       "    </tr>\n",
       "    <tr>\n",
       "      <th>1</th>\n",
       "      <td>1</td>\n",
       "      <td>2</td>\n",
       "      <td>3.0</td>\n",
       "      <td>876893171</td>\n",
       "    </tr>\n",
       "    <tr>\n",
       "      <th>2</th>\n",
       "      <td>1</td>\n",
       "      <td>4</td>\n",
       "      <td>3.0</td>\n",
       "      <td>876893119</td>\n",
       "    </tr>\n",
       "    <tr>\n",
       "      <th>3</th>\n",
       "      <td>1</td>\n",
       "      <td>5</td>\n",
       "      <td>3.0</td>\n",
       "      <td>889751712</td>\n",
       "    </tr>\n",
       "    <tr>\n",
       "      <th>4</th>\n",
       "      <td>1</td>\n",
       "      <td>6</td>\n",
       "      <td>5.0</td>\n",
       "      <td>887431973</td>\n",
       "    </tr>\n",
       "  </tbody>\n",
       "</table>\n",
       "</div>"
      ],
      "text/plain": [
       "   UserId  MovieId  Rating  Timestamp\n",
       "0       1        1     5.0  874965758\n",
       "1       1        2     3.0  876893171\n",
       "2       1        4     3.0  876893119\n",
       "3       1        5     3.0  889751712\n",
       "4       1        6     5.0  887431973"
      ]
     },
     "execution_count": 11,
     "metadata": {},
     "output_type": "execute_result"
    }
   ],
   "source": [
    "dfs_train[COL_RATING]\n",
    "dfs_train.printSchema()\n",
    "dfs_train.select(COL_RATING).show(5)\n",
    "dfs_train.toPandas().head(5)"
   ]
  },
  {
   "cell_type": "markdown",
   "metadata": {},
   "source": [
    "#### Train a movielens model "
   ]
  },
  {
   "cell_type": "markdown",
   "metadata": {},
   "source": [
    "It is worth noting that Spark ALS model allows dropping cold users to favor a robust evaluation with the testing data. In case there are cold users, Spark ALS implementation allows users to drop cold users in order to make sure evaluations on the prediction results are sound."
   ]
  },
  {
   "cell_type": "code",
   "execution_count": 12,
   "metadata": {},
   "outputs": [
    {
     "name": "stderr",
     "output_type": "stream",
     "text": [
      "22/10/04 00:47:10 WARN InstanceBuilder$NativeBLAS: Failed to load implementation from:dev.ludovic.netlib.blas.JNIBLAS\n",
      "22/10/04 00:47:10 WARN InstanceBuilder$NativeBLAS: Failed to load implementation from:dev.ludovic.netlib.blas.ForeignLinkerBLAS\n",
      "22/10/04 00:47:11 WARN InstanceBuilder$NativeLAPACK: Failed to load implementation from:dev.ludovic.netlib.lapack.JNILAPACK\n"
     ]
    }
   ],
   "source": [
    "als = ALS(\n",
    "    maxIter=MAX_ITER, \n",
    "    rank=RANK,\n",
    "    regParam=REG_PARAM, \n",
    "    userCol=COL_USER, \n",
    "    itemCol=COL_ITEM, \n",
    "    ratingCol=COL_RATING, \n",
    "    coldStartStrategy=\"drop\"\n",
    ")\n",
    "\n",
    "model = als.fit(dfs_train)"
   ]
  },
  {
   "cell_type": "markdown",
   "metadata": {},
   "source": [
    "#### Prediction with the model\n",
    "\n",
    "The trained model can be used to predict ratings with a given test data."
   ]
  },
  {
   "cell_type": "code",
   "execution_count": 13,
   "metadata": {},
   "outputs": [],
   "source": [
    "dfs_pred = model.transform(dfs_test).drop(COL_RATING)"
   ]
  },
  {
   "cell_type": "markdown",
   "metadata": {},
   "source": [
    "With the prediction results, the model performance can be evaluated."
   ]
  },
  {
   "cell_type": "code",
   "execution_count": 14,
   "metadata": {},
   "outputs": [
    {
     "name": "stderr",
     "output_type": "stream",
     "text": [
      "/Users/chandrasingh/opt/anaconda3/envs/reco/lib/python3.8/site-packages/pyspark/sql/context.py:125: FutureWarning: Deprecated in 3.0.0. Use SparkSession.builder.getOrCreate() instead.\n",
      "  warnings.warn(\n",
      "                                                                                \r"
     ]
    },
    {
     "name": "stdout",
     "output_type": "stream",
     "text": [
      "RMSE score = 0.9683063606464523\n",
      "MAE score = 0.7535616298667033\n",
      "R2 score = 0.2590825012455288\n",
      "Explained variance score = 0.26461688837894515\n"
     ]
    }
   ],
   "source": [
    "evaluations = SparkRatingEvaluation(\n",
    "    dfs_test, \n",
    "    dfs_pred,\n",
    "    col_user=COL_USER,\n",
    "    col_item=COL_ITEM,\n",
    "    col_rating=COL_RATING,\n",
    "    col_prediction=COL_PREDICTION\n",
    ")\n",
    "\n",
    "print(\n",
    "    \"RMSE score = {}\".format(evaluations.rmse()),\n",
    "    \"MAE score = {}\".format(evaluations.mae()),\n",
    "    \"R2 score = {}\".format(evaluations.rsquared()),\n",
    "    \"Explained variance score = {}\".format(evaluations.exp_var()),\n",
    "    sep=\"\\n\"\n",
    ")"
   ]
  },
  {
   "cell_type": "markdown",
   "metadata": {},
   "source": [
    "Oftentimes ranking metrics are also of interest to data scientists. Note usually ranking metrics apply to the scenario of recommending a list of items. In our case, the recommended items should be different from those that have been rated by the users. "
   ]
  },
  {
   "cell_type": "code",
   "execution_count": 15,
   "metadata": {},
   "outputs": [],
   "source": [
    "# Get the cross join of all user-item pairs and score them.\n",
    "users = dfs_train.select(COL_USER).distinct()\n",
    "items = dfs_train.select(COL_ITEM).distinct()\n",
    "user_item = users.crossJoin(items)\n",
    "dfs_pred = model.transform(user_item)"
   ]
  },
  {
   "cell_type": "code",
   "execution_count": 16,
   "metadata": {},
   "outputs": [],
   "source": [
    "# Fix the ambiguous col exception\n",
    "dfs1 = dfs_pred.alias(\"pred\")\n",
    "dfs2 = dfs_train.alias(\"train\")"
   ]
  },
  {
   "cell_type": "code",
   "execution_count": 17,
   "metadata": {},
   "outputs": [
    {
     "name": "stderr",
     "output_type": "stream",
     "text": [
      "[Stage 543:>                                                        (0 + 1) / 1]\r"
     ]
    },
    {
     "name": "stdout",
     "output_type": "stream",
     "text": [
      "+------+-------+----------+\n",
      "|UserId|MovieId|prediction|\n",
      "+------+-------+----------+\n",
      "|     1|     46|  3.589898|\n",
      "|     1|    255| 2.7095366|\n",
      "|     1|    284|  3.043392|\n",
      "|     1|    285|  4.632741|\n",
      "|     1|    318|  4.467332|\n",
      "|     1|    329| 3.7131171|\n",
      "|     1|    335| 3.3609362|\n",
      "|     1|    353|  2.497454|\n",
      "|     1|    371| 2.7252212|\n",
      "|     1|    372|  4.158202|\n",
      "|     1|    381|  3.781853|\n",
      "|     1|    391| 2.1080215|\n",
      "|     1|    409| 2.6763377|\n",
      "|     1|    413|  3.251512|\n",
      "|     1|    417| 2.5076287|\n",
      "|     1|    440|0.72083133|\n",
      "|     1|    449| 3.2115946|\n",
      "|     1|    463|  4.025364|\n",
      "|     1|    480|  4.459408|\n",
      "|     1|    488| 3.5710163|\n",
      "+------+-------+----------+\n",
      "only showing top 20 rows\n",
      "\n"
     ]
    },
    {
     "name": "stderr",
     "output_type": "stream",
     "text": [
      "\r",
      "                                                                                \r"
     ]
    }
   ],
   "source": [
    "# Remove seen items.\n",
    "# dfs_pred_exclude_train = dfs_pred.alias(\"pred\").join(\n",
    "#     dfs_train.alias(\"train\"),\n",
    "#     (dfs_pred[COL_USER] == dfs_train[COL_USER]) & (dfs_pred[COL_ITEM] == dfs_train[COL_ITEM]),\n",
    "#     how='outer'\n",
    "# )\n",
    "dfs_pred_exclude_train = dfs1.join(dfs2,\n",
    "    (dfs1[COL_USER] == dfs2[COL_USER]) & (dfs1[COL_ITEM] == dfs2[COL_ITEM]),\n",
    "    how='outer'\n",
    ")\n",
    "\n",
    "dfs_pred_final = dfs_pred_exclude_train.filter(dfs_pred_exclude_train[\"train.Rating\"].isNull()) \\\n",
    "    .select('pred.' + COL_USER, 'pred.' + COL_ITEM, 'pred.' + \"prediction\")\n",
    "\n",
    "dfs_pred_final.show()"
   ]
  },
  {
   "cell_type": "code",
   "execution_count": 18,
   "metadata": {},
   "outputs": [
    {
     "name": "stderr",
     "output_type": "stream",
     "text": [
      "                                                                                \r"
     ]
    },
    {
     "name": "stdout",
     "output_type": "stream",
     "text": [
      "Precision@k = 0.042629904559915166\n",
      "Recall@k = 0.013265474380586673\n",
      "NDCG@k = 0.03691206373345781\n",
      "Mean average precision = 0.003345435993411571\n"
     ]
    },
    {
     "name": "stderr",
     "output_type": "stream",
     "text": [
      "\r",
      "[Stage 654:============================>                           (6 + 6) / 12]\r",
      "\r",
      "                                                                                \r"
     ]
    }
   ],
   "source": [
    "evaluations = SparkRankingEvaluation(\n",
    "    dfs_test, \n",
    "    dfs_pred_final,\n",
    "    col_user=COL_USER,\n",
    "    col_item=COL_ITEM,\n",
    "    col_rating=COL_RATING,\n",
    "    col_prediction=COL_PREDICTION,\n",
    "    k=K\n",
    ")\n",
    "\n",
    "print(\n",
    "    \"Precision@k = {}\".format(evaluations.precision_at_k()),\n",
    "    \"Recall@k = {}\".format(evaluations.recall_at_k()),\n",
    "    \"NDCG@k = {}\".format(evaluations.ndcg_at_k()),\n",
    "    \"Mean average precision = {}\".format(evaluations.map_at_k()),\n",
    "    sep=\"\\n\"\n",
    ")"
   ]
  },
  {
   "cell_type": "markdown",
   "metadata": {},
   "source": [
    "#### Fine tune the model\n",
    "\n",
    "Prediction performance of a Spark ALS model is often affected by the parameters\n",
    "\n",
    "|Parameter|Description|Default value|Notes|\n",
    "|-------------|-----------------|------------------|-----------------|\n",
    "|`rank`|Number of latent factors|10|The larger the more intrinsic factors considered in the factorization modeling.|\n",
    "|`regParam`|Regularization parameter|1.0|The value needs to be selected empirically to avoid overfitting.|\n",
    "|`maxIters`|Maximum number of iterations|10|The more iterations the better the model converges to the optimal point.|\n",
    "\n",
    "It is always a good practice to start model building with default parameter values and then sweep the parameter in a range to find the optimal combination of parameters. The following parameter set is used for training ALS models for comparison study purposes."
   ]
  },
  {
   "cell_type": "code",
   "execution_count": 19,
   "metadata": {},
   "outputs": [],
   "source": [
    "param_dict = {\n",
    "    \"rank\": [10, 15, 20],\n",
    "    \"regParam\": [0.001, 0.1, 1.0]\n",
    "}"
   ]
  },
  {
   "cell_type": "markdown",
   "metadata": {},
   "source": [
    "Generate a dictionary for each parameter combination which can then be fed into model training."
   ]
  },
  {
   "cell_type": "code",
   "execution_count": 20,
   "metadata": {},
   "outputs": [],
   "source": [
    "param_grid = generate_param_grid(param_dict)"
   ]
  },
  {
   "cell_type": "markdown",
   "metadata": {},
   "source": [
    "Train models with parameters specified in the parameter grid. Evaluate the model with, for example, the RMSE metric, and then record the metrics for visualization."
   ]
  },
  {
   "cell_type": "code",
   "execution_count": 21,
   "metadata": {},
   "outputs": [
    {
     "name": "stderr",
     "output_type": "stream",
     "text": [
      "                                                                                \r"
     ]
    }
   ],
   "source": [
    "rmse_score = []\n",
    "\n",
    "for g in param_grid:\n",
    "    als = ALS(        \n",
    "        userCol=COL_USER, \n",
    "        itemCol=COL_ITEM, \n",
    "        ratingCol=COL_RATING, \n",
    "        coldStartStrategy=\"drop\",\n",
    "        **g\n",
    "    )\n",
    "    \n",
    "    model = als.fit(dfs_train)\n",
    "    \n",
    "    dfs_pred = model.transform(dfs_test).drop(COL_RATING)\n",
    "    \n",
    "    evaluations = SparkRatingEvaluation(\n",
    "        dfs_test, \n",
    "        dfs_pred,\n",
    "        col_user=COL_USER,\n",
    "        col_item=COL_ITEM,\n",
    "        col_rating=COL_RATING,\n",
    "        col_prediction=COL_PREDICTION\n",
    "    )\n",
    "\n",
    "    rmse_score.append(evaluations.rmse())\n",
    "    \n",
    "rmse_score = [float('%.4f' % x) for x in rmse_score]\n",
    "rmse_score_array = np.reshape(rmse_score, (len(param_dict[\"rank\"]), len(param_dict[\"regParam\"]))) "
   ]
  },
  {
   "cell_type": "code",
   "execution_count": 22,
   "metadata": {},
   "outputs": [
    {
     "data": {
      "text/html": [
       "<div>\n",
       "<style scoped>\n",
       "    .dataframe tbody tr th:only-of-type {\n",
       "        vertical-align: middle;\n",
       "    }\n",
       "\n",
       "    .dataframe tbody tr th {\n",
       "        vertical-align: top;\n",
       "    }\n",
       "\n",
       "    .dataframe thead th {\n",
       "        text-align: right;\n",
       "    }\n",
       "</style>\n",
       "<table border=\"1\" class=\"dataframe\">\n",
       "  <thead>\n",
       "    <tr style=\"text-align: right;\">\n",
       "      <th>reg. parameter</th>\n",
       "      <th>0.001</th>\n",
       "      <th>0.100</th>\n",
       "      <th>1.000</th>\n",
       "    </tr>\n",
       "    <tr>\n",
       "      <th>rank</th>\n",
       "      <th></th>\n",
       "      <th></th>\n",
       "      <th></th>\n",
       "    </tr>\n",
       "  </thead>\n",
       "  <tbody>\n",
       "    <tr>\n",
       "      <th>10</th>\n",
       "      <td>1.3260</td>\n",
       "      <td>0.9275</td>\n",
       "      <td>1.3693</td>\n",
       "    </tr>\n",
       "    <tr>\n",
       "      <th>15</th>\n",
       "      <td>1.4796</td>\n",
       "      <td>0.9277</td>\n",
       "      <td>1.3693</td>\n",
       "    </tr>\n",
       "    <tr>\n",
       "      <th>20</th>\n",
       "      <td>1.5679</td>\n",
       "      <td>0.9277</td>\n",
       "      <td>1.3693</td>\n",
       "    </tr>\n",
       "  </tbody>\n",
       "</table>\n",
       "</div>"
      ],
      "text/plain": [
       "reg. parameter   0.001   0.100   1.000\n",
       "rank                                  \n",
       "10              1.3260  0.9275  1.3693\n",
       "15              1.4796  0.9277  1.3693\n",
       "20              1.5679  0.9277  1.3693"
      ]
     },
     "execution_count": 22,
     "metadata": {},
     "output_type": "execute_result"
    }
   ],
   "source": [
    "rmse_df = pd.DataFrame(data=rmse_score_array, index=pd.Index(param_dict[\"rank\"], name=\"rank\"), \n",
    "                       columns=pd.Index(param_dict[\"regParam\"], name=\"reg. parameter\"))\n",
    "rmse_df"
   ]
  },
  {
   "cell_type": "code",
   "execution_count": 23,
   "metadata": {},
   "outputs": [
    {
     "data": {
      "text/plain": [
       "<AxesSubplot:xlabel='reg. parameter', ylabel='rank'>"
      ]
     },
     "execution_count": 23,
     "metadata": {},
     "output_type": "execute_result"
    },
    {
     "data": {
      "image/png": "[encoded data removed]",
      "text/plain": [
       "<Figure size 432x288 with 1 Axes>"
      ]
     },
     "metadata": {
      "needs_background": "light"
     },
     "output_type": "display_data"
    }
   ],
   "source": [
    "fig, ax = plt.subplots()\n",
    "sns.heatmap(rmse_df, cbar=False, annot=True, fmt=\".4g\")"
   ]
  },
  {
   "cell_type": "markdown",
   "metadata": {},
   "source": [
    "The calculated RMSE scores can be visualized to comparatively study how model performance is affected by different parameters."
   ]
  },
  {
   "cell_type": "markdown",
   "metadata": {},
   "source": [
    "It can be seen from this visualization that RMSE first decreases and then increases as rank increases, due to overfitting. When the rank equals 20 and the regularization parameter equals 0.1, the model achieves the lowest RMSE score."
   ]
  },
  {
   "cell_type": "markdown",
   "metadata": {},
   "source": [
    "#### Top K recommendation"
   ]
  },
  {
   "cell_type": "markdown",
   "metadata": {},
   "source": [
    "##### Top k for all users (items)"
   ]
  },
  {
   "cell_type": "code",
   "execution_count": 24,
   "metadata": {},
   "outputs": [
    {
     "name": "stderr",
     "output_type": "stream",
     "text": [
      "/Users/chandrasingh/opt/anaconda3/envs/reco/lib/python3.8/site-packages/pyspark/sql/context.py:125: FutureWarning: Deprecated in 3.0.0. Use SparkSession.builder.getOrCreate() instead.\n",
      "  warnings.warn(\n"
     ]
    }
   ],
   "source": [
    "dfs_rec = model.recommendForAllUsers(10)"
   ]
  },
  {
   "cell_type": "code",
   "execution_count": 25,
   "metadata": {},
   "outputs": [
    {
     "name": "stderr",
     "output_type": "stream",
     "text": [
      "[Stage 2235:====================================================>(99 + 1) / 100]\r"
     ]
    },
    {
     "name": "stdout",
     "output_type": "stream",
     "text": [
      "+------+--------------------+\n",
      "|UserId|     recommendations|\n",
      "+------+--------------------+\n",
      "|     1|[{1536, 3.8911994...|\n",
      "|     3|[{1536, 3.106384}...|\n",
      "|     6|[{1536, 3.7354307...|\n",
      "|    12|[{1536, 4.4471893...|\n",
      "|    13|[{1536, 3.399742}...|\n",
      "|    16|[{1536, 4.565807}...|\n",
      "|    20|[{1536, 3.3140035...|\n",
      "|    22|[{1536, 3.7392454...|\n",
      "|    26|[{1536, 3.1729918...|\n",
      "|    27|[{1536, 3.4825766...|\n",
      "+------+--------------------+\n",
      "only showing top 10 rows\n",
      "\n"
     ]
    },
    {
     "name": "stderr",
     "output_type": "stream",
     "text": [
      "\r",
      "[Stage 2260:>                                                       (0 + 1) / 1]\r",
      "\r",
      "                                                                                \r"
     ]
    }
   ],
   "source": [
    "dfs_rec.show(10)"
   ]
  },
  {
   "cell_type": "markdown",
   "metadata": {},
   "source": [
    "##### Top k for a selected set of users (items)"
   ]
  },
  {
   "cell_type": "code",
   "execution_count": 26,
   "metadata": {},
   "outputs": [],
   "source": [
    "users = dfs_train.select(als.getUserCol()).distinct().limit(3)\n",
    "\n",
    "dfs_rec_subset = model.recommendForUserSubset(users, 10)"
   ]
  },
  {
   "cell_type": "code",
   "execution_count": 27,
   "metadata": {},
   "outputs": [
    {
     "name": "stderr",
     "output_type": "stream",
     "text": [
      "\r",
      "[Stage 2290:========================================>           (78 + 12) / 100]\r"
     ]
    },
    {
     "name": "stdout",
     "output_type": "stream",
     "text": [
      "+------+--------------------+\n",
      "|UserId|     recommendations|\n",
      "+------+--------------------+\n",
      "|   471|[{1536, 3.3287528...|\n",
      "|   463|[{1536, 3.1125834...|\n",
      "|   148|[{1536, 3.9075737...|\n",
      "+------+--------------------+\n",
      "\n"
     ]
    },
    {
     "name": "stderr",
     "output_type": "stream",
     "text": [
      "\r",
      "[Stage 2290:==============================================>     (89 + 11) / 100]\r",
      "\r",
      "                                                                                \r"
     ]
    }
   ],
   "source": [
    "dfs_rec_subset.show(10)"
   ]
  },
  {
   "cell_type": "markdown",
   "metadata": {},
   "source": [
    "##### Run-time considerations for top-k recommendations\n",
    "\n",
    "It is worth noting that usually computing the top-k recommendations for all users is the bottleneck of the whole pipeline (model training and scoring) of an ALS based recommendation system. This is because\n",
    "* Getting the top k from all user-item pairs requires a cross join which is usually very computationally expensive. \n",
    "* Inner products of user-item pairs are calculated individually instead of leveraging matrix block multiplication features which are available in certain contemporary computing acceleration libraries (e.g., BLAS).\n",
    "\n",
    "More details about possible optimizations of the top k recommendations in Spark can be found [here](https://engineeringblog.yelp.com/2018/05/scaling-collaborative-filtering-with-pyspark.html)."
   ]
  },
  {
   "cell_type": "code",
   "execution_count": 28,
   "metadata": {},
   "outputs": [],
   "source": [
    "# cleanup spark instance\n",
    "spark.stop()"
   ]
  },
  {
   "cell_type": "markdown",
   "metadata": {},
   "source": [
    "### References"
   ]
  },
  {
   "cell_type": "markdown",
   "metadata": {},
   "source": [
    "1. Yehuda Koren, Robert Bell, and Chris Volinsky, \"Matrix Factorization Techniques for Recommender Systems\n",
    "\", ACM Computer, Vol. 42, Issue 8, pp 30-37, Aug., 2009.\n",
    "2. Yifan Hu, Yehuda Koren, and Chris Volinsky, \"Collaborative Filtering for Implicit Feedback Datasets\n",
    "\", Proc. IEEE ICDM, 2008, Dec, Pisa, Italy.\n",
    "3. Apache Spark. url: https://spark.apache.org/docs/latest/ml-collaborative-filtering.html\n",
    "4. Seaborn. url: https://seaborn.pydata.org/\n",
    "5. Scaling collaborative filtering with PySpark. url: https://engineeringblog.yelp.com/2018/05/scaling-collaborative-filtering-with-pyspark.html\n",
    "6. Matrix Completion via Alternating Least Square (ALS). url: http://stanford.edu/~rezab/classes/cme323/S15/notes/lec14.pdf"
   ]
  },
  {
   "cell_type": "markdown",
   "metadata": {},
   "source": [
    "## Practical Aspects"
   ]
  },
  {
   "cell_type": "markdown",
   "metadata": {},
   "source": [
    "### Setup Environment\n",
    "- Before starting to learn, working environment needs to be setup on local mac laptop \n",
    "  1. Create virtual environment for setting up kernel for interactive computing using Anaconda Jupyter and not pollute existing environment\n",
    "  1. Setup ability to choose from multiple Java version\n",
    "  1. Setup PySpark  \n",
    "  1. Register environment variables with virtual environment and its associated ipykernel\n",
    "  1. Setup git recommenders locally and build using the local git copy"
   ]
  },
  {
   "cell_type": "markdown",
   "metadata": {},
   "source": [
    "\n",
    "- <div class=\"alert alert-warning\"> Check the active sh - bash or zsh, accordingly update ~/.bash_profile or ~/.zshrc</div>  \n",
    "\n",
    "> `$SHELL --version`  \n",
    "\n",
    "zsh 5.8 (x86_64-apple-darwin21.0)  \n",
    "- Renamed config.json to be able to switch to different venv without authentication hassle\n",
    "> `cd ~/.jupyter/`  \n",
    "> `mv jupyter_notebook_config.json jupyter_notebook_config.json.bkp`  \n",
    "- Create new venv\n",
    "> `python --version`\n",
    "3.8.8  \n",
    "> `conda create --name reco python=3.8.8`   \n",
    "> `conda activate reco`  \n",
    "- As a pre-requisite to installing the dependencies, if using Conda, make sure that Anaconda and the package manager Conda are both up to date\n",
    "> `conda update conda -n root`  \n",
    "> `conda install anaconda` since it is a new venv, otherwise `conda update anaconda`  \n",
    "> `pip install pyspark`  \n",
    "\n",
    "Successfully installed py4j-0.10.9.3 pyspark-3.2.1  \n",
    "- [How to install java on mac](https://stackoverflow.com/questions/24342886/how-to-install-java-8-on-mac)  \n",
    "> `brew tap adoptopenjdk/openjdk`  \n",
    "> `brew install --cask adoptopenjdk8`  \n",
    "- NOTE Spark requires Java version 8 or 11. We support Spark versions 3.0 and 3.1, but versions 2.4+ with Java version 8 may also work.\n",
    "> `brew install --cask adoptopenjdk11`  \n",
    "- If you want to install/manage multiple version then you can use 'jenv':  \n",
    "> `echo 'export PATH=\"$HOME/.jenv/bin:$PATH\"' >> ~/.bash_profile`  \n",
    "> `echo 'eval \"$(jenv init -)\"' >> ~/.bash_profile`  \n",
    "> `source ~/.bash_profile`  \n",
    "\n",
    "- This will change the venv to base. Switch/Activate the environment  \n",
    "> `jenv doctor`  \n",
    "No JAVA_HOME set  \n",
    "- Add the installed java to jenv  \n",
    "> `jenv add /Library/Java/JavaVirtualMachines/adoptopenjdk-8.jdk/Contents/Home`  \n",
    "> `jenv add /Library/Java/JavaVirtualMachines/adoptopenjdk-11.jdk/Contents/Home`  \n",
    "> `jenv versions`\n",
    "- Configure the java version which you want to use:  \n",
    "> `jenv global 11`  \n",
    "> `jenv versions`  \n",
    "- For v11\n",
    "> `echo 'export JAVA_HOME=$(/usr/libexec/java_home -v11)' >> ~/.bash_profile` \n",
    "- or for v1.8\n",
    "> `echo 'export JAVA_HOME=$(/usr/libexec/java_home -v1.8)' >> ~/.bash_profile` \n",
    "- If `jenv doctor` not set, use  \n",
    "> `echo 'eval \"$(jenv init -)\"' >> ~/.zshrc`   \n",
    "- Test `java --version` or `which java`\n",
    "- Setup PySpark\n",
    "> `RECO_ENV=$(conda env list | grep reco | awk '{print $NF}')`  \n",
    "> `mkdir -p $RECO_ENV/etc/conda/activate.d`  \n",
    "> `mkdir -p $RECO_ENV/etc/conda/deactivate.d`   \n",
    "- Then, create the file `\\$RECO_ENV/etc/conda/activate.d/env_vars.sh` and add:\n",
    "> `#!/bin/sh`  \n",
    "> `RECO_ENV=$(conda env list | grep reco | awk '{print $NF}')`  \n",
    "> `export PYSPARK_PYTHON=$RECO_ENV/bin/python`  \n",
    "> `export PYSPARK_DRIVER_PYTHON=$RECO_ENV/bin/python`  \n",
    "> `unset SPARK_HOME`  \n",
    "- This will export the variables every time we do `conda activate reco`. To unset these variables when we deactivate the environment, create the file `$RECO_ENV/etc/conda/deactivate.d/env_vars.sh` and add:\n",
    "> `#!/bin/sh`  \n",
    "> `unset PYSPARK_PYTHON`  \n",
    "> `unset PYSPARK_DRIVER_PYTHON`  \n",
    "- Register environment as kernel in Jupyter\n",
    "> `python -m ipykernel install --name reco --display-name \"Python (reco)\"`\n",
    "- Clone recommenders repo\n",
    "> `git clone https://github.com/microsoft/recommenders`\n",
    "- Change root directory of recommenders git folder where `setup.py` sits\n",
    "- Install recommenders and additional package setups\n",
    "> `pip install -e .`\n",
    "- To roll back to older java version\n",
    "> `jenv local 1.8`\n",
    "- Reinstate JAVA_HOME environment and relaunch kernel\n"
   ]
  },
  {
   "cell_type": "markdown",
   "metadata": {},
   "source": [
    "### Collaborative Filtering\n",
    "\n",
    "- CF looks for similar users to recommend items \n",
    "- CBF looks for similar contents to recommend items\n",
    "\n",
    "- CF aggregates past behaviour of all users and recommends items to user as per other users likes or dislikes\n",
    "\n",
    "#### Goals of Recommender Systems\n",
    "- Two primary type of models\n",
    "  - Prediction type of problem\n",
    "    - missing (or unobserved) values are predicted using this trained model\n",
    "    - this is also referred as matrix completion problem\n",
    "  - Ranking type of problem\n",
    "    - recommend the top-k items for a particular user\n",
    "    - determine the top-k users to target for a particular item\n",
    "    - this is also referred as top-k recommendation problem\n",
    "  \n",
    "\n",
    "#### Types of collaborative filtering\n",
    "- There are two types of methods that are commonly used\n",
    "  - memory-based methods (neighborhood-based CF algorithms)\n",
    "    - ratings of user-item combinations are predicted on the basis of their neighborhoods\n",
    "      - User-based CF or User-User CF\n",
    "        - determine users who are similar to target user\n",
    "        - recommend ratings for the unobserved ratings of target user\n",
    "        - compute weighted averages of the ratings of this peer group\n",
    "      - Item-based CF or Item-Item CF\n",
    "        - determine set of items most similar to target item\n",
    "        - predict rating for target item based on selected similar items\n",
    "        - weighted average of ratings is computed to predict rating of the item\n",
    "        - Item based similarity measures are the Cosine and the Pearson\n",
    "  - model-based methods (latent factor model)\n",
    "    - assumption is significant portions of the rows and columns of data matrices are highly correlated\n",
    "    - can be well approximated using a low-rank matrix\n",
    "    - other alternative is using expectation-maximization (EM) technique with dimensionality reduction\n",
    "\n",
    "<img src=\"https://miro.medium.com/max/1400/1*EIBIiW2YiakP1ftxwPF8LA.png\">\n"
   ]
  },
  {
   "cell_type": "markdown",
   "metadata": {},
   "source": [
    "### ALS algorithm\n",
    "\n",
    "#### Low-rank approximation\n",
    "- low rank approximation is used for data compression in images \n",
    "- As image is an array of pixels, we can write it as a matrix\n",
    "- find $B \\approx AX$\n",
    "\n",
    "<p align=\"center\"><img src=\"../maths/images/low_rank_appr11.png\" width=400 height=200></p> \n",
    "\n",
    "$\\tiny{\\text{YouTube - Advanced LAFF - ulaff.net}}$   \n",
    "\n",
    "\n",
    "- column $b_{j}$ can be represented as a linear combination of columns that we picked for A\n",
    "- column $b_{j}$ is approximately sum of some constant $\\chi_{0}a_{0}$, $\\chi_{1}a_{1}$, ..., \n",
    "- we want to pick the best set of $\\chi_{j}$ for this\n",
    "- minimize that over all possible choices of x, which is known as linear least squares problem\n",
    "\n",
    "<p align=\"center\"><img src=\"../maths/images/low_rank_appr2.png\" width=400 height=400></p>  \n",
    "\n",
    "$\\tiny{\\text{YouTube - Advanced LAFF - ulaff.net}}$   \n",
    "\n",
    "\n",
    "- if A has linearly independent columns, then the best such solution is given by $x_{j} = A^{-1}b_{j}$\n",
    "- but because A has more rows than columns, we can't do that\n",
    "- instead we can use **pseudo-inverse**, which is $x_{j} = (A^{T}A)^{-1}A^{T}b_{j}$\n",
    "- this gives us $b_{j} \\approx Ax_{j} = A(A^{T}A)^{-1}A^{T}b_{j} $\n",
    "\n",
    "<p align=\"center\"><img src=\"../maths/images/low_rank_appr3.png\" width=200 height=200> </p>\n",
    "\n",
    "$\\tiny{\\text{YouTube - Advanced LAFF - ulaff.net}}$   \n",
    "\n",
    "\n",
    "\n",
    "- To apply low-rank approximation in recommender system, assuming all entries in ratings matrix M are observed\n",
    "- the matrix R is $(m x n)$ of rank $k \\ll \\min{\\{m,n\\}} $  \n",
    "> $M = LR^{T}$  \n",
    "  - where L is $m x k$ matrix and R is $n x k$ matrix, i.e., both L and R are rank-k factors\n",
    "- using one of below factorization methods we can approximately express the product of rank-k factors as \n",
    "> $\\hat{M} \\approx L_{k}R_{k}^{T}$\n",
    "- The error of this approximation represents the noise in the underlying ratings matrix that cannot be modeled\n",
    "> $\\| (M-LR^{T})\\|^{2}$\n",
    "\n",
    "<p align=\"center\"><img src=\"https://dustinstansbury.github.io/theclevermachine/assets/images/svd-data-compression/low-rank-approximation.png\" width=300 height=300></p>  \n",
    "\n",
    "$\\tiny{\\text{Low rank matrix decomposition - https://dustinstansbury.github.io/}}$   "
   ]
  },
  {
   "cell_type": "markdown",
   "metadata": {},
   "source": [
    "#### Unconstrained Matrix Factorization\n",
    "- How can one determine factors U and V, so that the specified matrix R matches closely with $UV^{T}$  \n",
    "$$  R = UV^{T}  $$  \n",
    "- This can be formulated as an optimization problem wrt matrices U and V  \n",
    "> Minimize $J = \\frac{1}{2}\\| R - UV^{T}\\|^{2}$  \n",
    "  - subject to no constraints on U and V. \n",
    "- The smaller the objective function is, better will be the quality of factorization\n",
    "- This is a quadratic loss function\n",
    "- This can be achieved by any of gradient descent methods\n",
    "- However, in this matrix there are missing entries, so the objective function is not well defined \n",
    "- Let the set of user-item pair (i,j) which are observed in R, be denoted by S\n",
    "$$  S = \\{(i,j) : r_{ij}\\text{ is observed}\\}  $$\n",
    "- The predicted matrix R is \n",
    "$$  \\hat{r}_{ij} = \\sum\\limits_{s=1}^{k}u_{is}v_{js}  $$\n",
    "- The difference between observed and predicted entries will be\n",
    "$$  e_{ij} = (r_{ij} - \\hat{r}_{ij}) = (r_{ij} - \\sum_{s=1}^{k}u_{is}v_{js})  $$\n",
    "- The modified objective function that works over observed entries in S only is\n",
    "> Minimize $J = \\frac{1}{2}\\sum\\limits_{(i,j \\in S)}e_{ij}^{2} = \\frac{1}{2}\\sum\\limits_{(i,j \\in S)}(r_{ij} - \\sum\\limits_{s=1}^{k}u_{is}v_{js})^{2} $\n",
    "- This can be achieved simply with gradient descent methods\n",
    "\n",
    "#### Regularization\n",
    "- Regularization reduces the tendency of model to overfit at the expense of introducing a bias in the model\n",
    "- It discourages large values of the coefficients in U and V in order to encourage stability. \n",
    "- So, a regularization term $\\frac{\\lambda}{2}(\\|U\\|^{2} + \\|U\\|^{2})$ is added to the objective function, where λ > 0 is the regularization parameter\n",
    "> Minimize $\\begin{equation}\\\\\n",
    "\\begin{aligned}\\\\\n",
    "J &= \\frac{1}{2}\\sum\\limits_{(i,j \\in S )}e_{ij}^{2} + \\frac{\\lambda}{2}\\sum\\limits_{i=1}^{m} \\sum\\limits_{s=1}^{k} u_{is}^{2} + \\frac{\\lambda}{2}\\sum\\limits_{j=1}^{n} \\sum\\limits_{s=1}^{k} v_{js}^{2} \\\\  \n",
    " &= \\frac{1}{2}\\sum\\limits_{(i,j \\in S)} \\left(r_{ij} - \\sum\\limits_{s=1}^{k}u_{is}v_{js} \\right)^{2} + \\frac{\\lambda}{2}\\sum\\limits_{i=1}^{m} \\sum\\limits_{s=1}^{k} u_{is}^{2} + \\frac{\\lambda}{2}\\sum\\limits_{j=1}^{n} \\sum\\limits_{s=1}^{k} v_{js}^{2} \\\\\n",
    " \\end{aligned}\\\\\n",
    " \\end{equation} $\n",
    " \n"
   ]
  },
  {
   "cell_type": "markdown",
   "metadata": {},
   "source": [
    "#### Implicit Feedback\n",
    "- Implicit feedback data sets such as web click-streams can help in recommendations about future activity\n",
    "- In explicit feedback matrices, ratings correspond to (highly discriminated) preferences, whereas in implicit feedback matrices, ratings correspond to (less discriminated) confidences\n",
    "- Implicit feedbacks are one that are inferred rather than direct as in explicit feedback matrices\n",
    "- Such feedbacks are easier to obtain\n"
   ]
  },
  {
   "cell_type": "markdown",
   "metadata": {},
   "source": [
    "### Other factorization algorithms\n",
    "The surprise library provides good collection of recommender system matrix factorization algorithms like SVD, SVD++, Non-negative Matrix Factorization(NMF), Probabilistic Matrix Factorization(PMF)\n",
    "\n",
    "#### SVD\n",
    "The method usually referred to as \"SVD\" used in the context of recommendations is not strictly the mathematical Singular Value Decomposition of a matrix but rather an approximate way to compute the [low-rank approximation](#Low-rank-approximation) of the matrix by minimizing the squared error loss. A more accurate, albeit more generic, way to call this would be Matrix Factorization.  The initial version of this approach in the context of the Netflix Prize was presented by Simon Funk in his famous [Try This at Home](https://sifter.org/~simon/journal/20061211.html) blogpost\n",
    "\n",
    "#### SVD++\n",
    "\n",
    "#### NMF\n",
    "\n",
    "#### PMF\n",
    "\n",
    "### Sparsity \n",
    "\n",
    "### Distributed ALS\n",
    "\n"
   ]
  },
  {
   "cell_type": "markdown",
   "metadata": {},
   "source": [
    "### Spark \n",
    "\n",
    "#### Spark internals \n",
    "\n",
    "#### Spark Application\n",
    "- At the core of every Spark application is the SparkDriver program\n",
    "    - this creates SparkSession object\n",
    "      - this provides functionality to interact with Spark API\n",
    "    - the SparkDriver converts your Spark application into one or more Spark jobs. \n",
    "      - It transforms each job into a DAG. This is Spark’s execution plan where each node within a DAG could be a single or multiple Spark stages\n",
    "    - A Spark user program consists of driver program and executors on cluster\n",
    "- Job\n",
    "  - A parallel computation gets spawned for Spark action (save(), collect())\n",
    "- Stage\n",
    "  - Each job gets divided into smaller sets of tasks called stages that depend on each other\n",
    "- Task\n",
    "  - it is a single unit of work or execution sent to Spark executor\n",
    "\n",
    "#### Transformation, Actions and Lazy Evaluation\n",
    "  - Transformations transform a Spark DataFrame into a new DataFrame without altering the original data(immutable datastores)\n",
    "  - Operation such as select() or filter() will not change the original DataFrame; instead, will return the transformed results of the operation as a new DataFrame\n",
    "  - All transformations are evaluated lazily, they are recorded and remembered as a lineage \n",
    "  - A recorded lineage allows Spark, at a later time in its execution plan, to rearrange certain transformations, coalesce them, or optimize transformations into stages for more efficient execution. Lazy evaluation is Spark’s strategy for delaying execution until an action is invoked or data is touched\n",
    "  - Nothing in a query plan is executed until an action is invoked \n",
    "\n",
    "\n",
    "#### Narrow transformation\n",
    "  - filter() and contains() represent narrow transformations because they can operate on a single partition and produce the resulting output partition without any exchange of data.\n",
    "  \n",
    "#### Wide transformation\n",
    "  - data from other partitions are read in, combined, and written to disk. groupBy() will shuffle data across executor's partitions across cluster and then orderBy() will require output from other partitions to compute the final aggregation\n",
    "  \n",
    "  \n",
    "#### Spark UI\n",
    "  - GUI for monitoring the various jobs, stages and tasks, information on its execution detail\n",
    "  \n",
    "\n",
    "#### Resilient Distributed Dataset(RDD)\n",
    "  - The main abstraction Spark provides is RDD, it is a collection of elements partitioned across the nodes of the cluster that can be operated on in parallel\n",
    "  - Spark can persist an RDD in memory allowing it to be reused efficiently across parallel operations\n",
    "  - RDDs automatically recover from node failures\n",
    "  - two ways to create RDDs: \n",
    "    - parallelizing an existing collection in the driver program \n",
    "    - referencing a dataset in an external storage system, such as a shared filesystem, HDFS, HBase, or any data source offering a Hadoop InputFormat\n",
    "  - Another abstraction Spark provides is it has shared variables that can be used in parallel operations\n",
    "    - two types of shared variables: \n",
    "      - broadcast variables, which can be used to cache a value in memory on all nodes\n",
    "      - accumulators, which are variables that are only “added” to, such as counters and sums\n",
    "\n",
    "\n",
    "#### Project Tungsten\n",
    "  - focuses on substantially improving the efficiency of memory and CPU for Spark applications, to push performance closer to the limits of modern hardware\n",
    "  - eliminates overhead of JVM object model and garbage collection\n",
    "\n",
    "\n",
    "#### How to launch Spark\n",
    "- four way of using Spark interpreters: \n",
    "  - pyspark api\n",
    "  - spark-shell\n",
    "  - spark-sql\n",
    "  - sparkR"
   ]
  },
  {
   "cell_type": "markdown",
   "metadata": {},
   "source": [
    "\n",
    "### PySpark \n",
    "- Apache Spark is written in Scala and is integrated with Python using PySpark. It provides interface with RDD using Py4j library\n",
    "\n",
    "#### PySparkSQL\n",
    "- PySparkSQL is a PySpark library to apply SQL-like analysis on a huge amount of structured or semi-structured data\n",
    "  - this can also connect to Apache Hive \n",
    "\n",
    "#### MLLib\n",
    "- MLlib is a wrapper over the PySpark and it is Spark’s machine learning (ML) library. This library uses the data parallelism technique to store and work with data. MLlib supports many machine-learning algorithms for classification, regression, clustering, collaborative filtering, dimensionality reduction, and underlying optimization primitives.\n",
    "\n",
    "### Spark Joins\n",
    "\n",
    "ToRead: https://towardsdatascience.com/strategies-of-spark-join-c0e7b4572bcf\n",
    "\n",
    "#### Broadcast Hash Join\n",
    "<p align=\"center\"><img src=\"https://miro.medium.com/max/282/1*pd-YlCGD9v3W4Lk1tfN72Q.jpeg\"></p>\n",
    "\n",
    "$\\tiny{\\text{towardsdatascience.com - Jyoti Dhiman - Hash Join}}$   \n",
    "\n",
    "<p align=\"center\"><img src=\"https://miro.medium.com/max/1400/1*pO_40cT0UhaiSP0fdT-sWw.jpeg\"></p>\n",
    "\n",
    "$\\tiny{\\text{towardsdatascience.com - Jyoti Dhiman - Broadcast Hash Join}}$  \n",
    "\n",
    "#### Shuffle hash join\n",
    "<p align=\"center\"><img src=\"https://miro.medium.com/max/1400/1*Yjw7V8mh7FipB09ngnBn6A.jpeg\"></p>\n",
    "\n",
    "#### Shuffle sort-merge join\n",
    "<p align=\"center\"><img src=\"https://miro.medium.com/max/1282/1*03nmwDCmVaSDWVHMZTcFjA.jpeg\"></p>\n",
    "\n",
    "$\\tiny{\\text{towardsdatascience.com - Jyoti Dhiman - Sort Merge Join}}$  \n",
    "\n",
    "<p align=\"center\"><img src=\"https://miro.medium.com/max/1400/1*6RA2wnol2zhH4Ps2UNJoxQ.jpeg\"></p>\n",
    "\n",
    "$\\tiny{\\text{towardsdatascience.com - Jyoti Dhiman - Shuffle sort-merge join}}$  \n"
   ]
  },
  {
   "cell_type": "code",
   "execution_count": 29,
   "metadata": {},
   "outputs": [
    {
     "name": "stdout",
     "output_type": "stream",
     "text": [
      "System version: 3.8.8 (default, Apr 13 2021, 12:59:45) \n",
      "[Clang 10.0.0 ]\n",
      "Pandas version: 1.4.1\n",
      "PySpark version: 3.2.1\n"
     ]
    }
   ],
   "source": [
    "print(\"System version: {}\".format(sys.version))\n",
    "print(\"Pandas version: {}\".format(pd.__version__))\n",
    "print(\"PySpark version: {}\".format(pyspark.__version__))"
   ]
  },
  {
   "cell_type": "code",
   "execution_count": 30,
   "metadata": {
    "scrolled": false
   },
   "outputs": [],
   "source": [
    "# help(pyspark)"
   ]
  },
  {
   "cell_type": "markdown",
   "metadata": {},
   "source": [
    "### Spark MLlib"
   ]
  },
  {
   "cell_type": "markdown",
   "metadata": {},
   "source": [
    "### Hyperparameters"
   ]
  },
  {
   "cell_type": "code",
   "execution_count": 31,
   "metadata": {},
   "outputs": [],
   "source": [
    "param_dict = {\n",
    "    \"rank\": [5, 10, 15, 20, 25, 30, 35, 40, 45, 50],\n",
    "    \"regParam\": [0.001, 0.05, 0.1, 0.2, 0.3, 0.4, 0.5, 0.6, 0.7, 0.8, 0.9, 1.0]\n",
    "}\n",
    "def testModelPerformance(param_dict):\n",
    "    param_grid = generate_param_grid(param_dict)\n",
    "\n",
    "    rmse_score = []\n",
    "\n",
    "    for g in param_grid:\n",
    "        als = ALS(        \n",
    "            userCol=COL_USER, \n",
    "            itemCol=COL_ITEM, \n",
    "            ratingCol=COL_RATING, \n",
    "            coldStartStrategy=\"drop\",\n",
    "            **g\n",
    "        )\n",
    "\n",
    "        model = als.fit(dfs_train)\n",
    "\n",
    "        dfs_pred = model.transform(dfs_test).drop(COL_RATING)\n",
    "\n",
    "        evaluations = SparkRatingEvaluation(\n",
    "            dfs_test, \n",
    "            dfs_pred,\n",
    "            col_user=COL_USER,\n",
    "            col_item=COL_ITEM,\n",
    "            col_rating=COL_RATING,\n",
    "            col_prediction=COL_PREDICTION\n",
    "        )\n",
    "\n",
    "        rmse_score.append(evaluations.rmse())\n",
    "\n",
    "    rmse_score = [float('%.4f' % x) for x in rmse_score]\n",
    "    mae_score.append(evaluations.mae())\n",
    "    rsquared_score.append(evaluations.rsquared())\n",
    "    exp_var_score.append(evaluations.exp_var())\n",
    "    \n",
    "    rmse_score_array = np.reshape(rmse_score, (len(param_dict[\"rank\"]), len(param_dict[\"regParam\"]))) \n",
    "    mae_score_array = np.reshape(mae_score, (len(param_dict[\"rank\"]), len(param_dict[\"regParam\"]))) \n",
    "    rsquared_score_array = np.reshape(rsquared_score, (len(param_dict[\"rank\"]), len(param_dict[\"regParam\"]))) \n",
    "    exp_var_score_array = np.reshape(exp_var_score, (len(param_dict[\"rank\"]), len(param_dict[\"regParam\"]))) \n",
    "\n",
    "    rmse_df = pd.DataFrame(data=rmse_score_array, index=pd.Index(param_dict[\"rank\"], name=\"rank\"), \n",
    "                           columns=pd.Index(param_dict[\"regParam\"], name=\"reg. parameter\"))\n",
    "    return rmse_df"
   ]
  },
  {
   "cell_type": "code",
   "execution_count": 32,
   "metadata": {},
   "outputs": [
    {
     "data": {
      "text/plain": [
       "<AxesSubplot:xlabel='reg. parameter', ylabel='rank'>"
      ]
     },
     "execution_count": 32,
     "metadata": {},
     "output_type": "execute_result"
    },
    {
     "data": {
      "image/png": "[encoded data removed]",
      "text/plain": [
       "<Figure size 432x288 with 2 Axes>"
      ]
     },
     "metadata": {
      "needs_background": "light"
     },
     "output_type": "display_data"
    }
   ],
   "source": [
    "fig, ax = plt.subplots()\n",
    "sns.heatmap(rmse_df, fmt=\".4g\")"
   ]
  },
  {
   "cell_type": "code",
   "execution_count": 33,
   "metadata": {
    "scrolled": false
   },
   "outputs": [],
   "source": [
    "# print(dir(pyspark))\n",
    "# help(SparkSession)\n",
    "# help(CrossValidator)\n",
    "# help(StructType)\n",
    "# help(IntegerType)\n",
    "# help(movielens)\n",
    "# help(start_or_get_spark)\n",
    "# help(SparkRankingEvaluation)\n",
    "# help(SparkRatingEvaluation)\n",
    "# help(ALS)\n",
    "\n",
    "# help(model.transform)\n",
    "# dir(pyspark.ml.recommendation)"
   ]
  },
  {
   "cell_type": "markdown",
   "metadata": {},
   "source": [
    "### References\n",
    "1. Recommender Systems by Charu C. Aggarwal\n",
    "1. Learning Spark 2.0 by Jules S. Damji, Brooke Wenig, Tathagata Das & Denny Lee\n",
    "1. Collaborative Filtering for Implicit Feedback Datasets, by Yifan Hu, Yehuda Koren, Chris Volinsky\n",
    "1. [Factorization Meets the Neighborhood: a Multifaceted Collaborative Filtering Model by Yehuda Koren](https://github.com/gpfvic/IRR/blob/master/Factorization%20meets%20the%20neighborhood-%20a%20multifaceted%20collaborative%20filtering%20model.pdf)\n",
    "1. [Spark Programming Guide @ spark.apache.org](https://spark.apache.org/docs/latest/rdd-programming-guide.html)\n",
    "1. [Spark Join Strategies @ towardsdatascience.com](https://towardsdatascience.com/strategies-of-spark-join-c0e7b4572bcf)\n",
    "1. [Collaborative Filtering @ towardsdatascience.com](https://towardsdatascience.com/build-recommendation-system-with-pyspark-using-alternating-least-squares-als-matrix-factorisation-ebe1ad2e7679)"
   ]
  }
 ],
 "metadata": {
  "interpreter": {
   "hash": "7ec2189bea0434770dca7423a25e631e1cca9c4e2b4ff137a82f4dff32ac9607"
  },
  "kernelspec": {
   "display_name": "Python (reco)",
   "language": "python",
   "name": "reco"
  },
  "language_info": {
   "codemirror_mode": {
    "name": "ipython",
    "version": 3
   },
   "file_extension": ".py",
   "mimetype": "text/x-python",
   "name": "python",
   "nbconvert_exporter": "python",
   "pygments_lexer": "ipython3",
   "version": "3.8.8"
  },
  "toc": {
   "base_numbering": 1,
   "nav_menu": {},
   "number_sections": true,
   "sideBar": true,
   "skip_h1_title": false,
   "title_cell": "Table of Contents",
   "title_sidebar": "Contents",
   "toc_cell": false,
   "toc_position": {
    "height": "calc(100% - 180px)",
    "left": "10px",
    "top": "150px",
    "width": "308.390625px"
   },
   "toc_section_display": true,
   "toc_window_display": true
  }
 },
 "nbformat": 4,
 "nbformat_minor": 2
}
