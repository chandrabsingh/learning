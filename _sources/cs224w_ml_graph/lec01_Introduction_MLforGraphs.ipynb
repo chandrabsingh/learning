{
 "cells": [
  {
   "cell_type": "markdown",
   "id": "6df21359",
   "metadata": {},
   "source": [
    "# Introduction ML for Graphs\n",
    "\n",
    "## Links\n",
    "- [Stanford CS224W: Lectures Notes](http://snap.stanford.edu/class/cs224w-2020/)\n",
    "- [Stanford YouTube Online playlist]()\n",
    "- Reference books\n",
    "  - [Graph Representation Learning - by William L. Hamilton](https://www.cs.mcgill.ca/~wlh/grl_book/files/GRL_Book.pdf)\n",
    "  - [Networks, Crowds, and Markets: Reasoning About a Highly Connected World - by David Easley and Jon Kleinberg](https://www.cs.cornell.edu/home/kleinber/networks-book/)\n",
    "  - [Network Science - by Albert-László Barabási](http://networksciencebook.com/)\n",
    "- Graph ML tools\n",
    "  - [PyTorch Geometric](https://github.com/pyg-team/pytorch_geometric)\n",
    "  - [DeepSNAP]()\n",
    "  - [GraphGym]()\n",
    "  - [SNAP.PY]()\n",
    "  - [NetworkX]()"
   ]
  },
  {
   "cell_type": "markdown",
   "id": "682d9155",
   "metadata": {},
   "source": [
    "## Introduction\n",
    "- Graphs are a general language for describing and analyzing entities with relations/interactions\n",
    "- we can think of graphs as network of relations between entities\n",
    "  - the entities are related to each other \n",
    "  - we need to model the underlying data which has a relationship among themselves\n",
    "- many types of data can be represented as graphs\n",
    "- types of graphs\n",
    "  - event graphs\n",
    "  - computer networks\n",
    "  - disease pathways\n",
    "  - food webs\n",
    "  - particle networks\n",
    "  - undergroud networks\n",
    "  - social networks\n",
    "  - economic networks\n",
    "  - communication networks\n",
    "  - citation networks\n",
    "  - internet\n",
    "  - network of neurons\n",
    "  - knowledge of graphs\n",
    "  - regulatory networks\n",
    "  - scene graphs\n",
    "  - code graphs\n",
    "  - molecules\n",
    "  - 3d-shapes\n",
    "- graph relational data"
   ]
  },
  {
   "cell_type": "markdown",
   "id": "0830ec36",
   "metadata": {},
   "source": [
    "### Types of Networks and Graphs\n",
    "- Networks or Natural graphs\n",
    "  - *social networks* - society of 7+billion people\n",
    "  - *communication and transactions* - in the form of phone calls or financial transactions\n",
    "  - *biomedicine* - the interactions between genes/proteins \n",
    "  - *brain connections* - in the form of neurons\n",
    "- Graphs\n",
    "  - *information and knowledge* can be organized and linked together\n",
    "  - *software* can be represented as graph\n",
    "  - *similarity networks* connect similar data points\n",
    "  - *relational structures* of molecules types or physics simulation\n",
    "- distinction between networks and graphs is blurred\n",
    "  - how to take advantage of relational structure for better predictions\n",
    "  - complex domains have rich relational structure which can be represented as *relational graph*\n",
    "    - this leads to achieve better performance"
   ]
  },
  {
   "cell_type": "markdown",
   "id": "d1a5f420",
   "metadata": {},
   "source": [
    "### Graphs and Relational Data\n",
    "\n",
    "- complex domains have rich relational structure - relational graph\n",
    "- deep learning toolbox\n",
    "  - graphs are frontier of deep learning\n",
    "- graph has complex topology than images or text\n",
    "  - in text there is left and right words/characters\n",
    "  - in images there is top/bottom/right/left pixels, so they have reference points\n",
    "  - in graphs \n",
    "    - no notion of spatial locality like grids\n",
    "    - graphs are dynamic and multimodal nodes\n",
    "\n",
    "<p align=\"center\"><img src=\"./images/01_dl_in_graphs.png\" width=500 height=300></p>\n",
    "\n",
    "- in this course, we will learn to build neural network \n",
    "  - as input, will have a graph\n",
    "  - as output, will have a prediction\n",
    "    - prediction can be at the \n",
    "      - level of nodes\n",
    "      - or pairs of nodes/links\n",
    "      - or a complex new graph\n",
    "  - the question is how to build this neural structure that will allow us to make this predictions\n",
    "    - how to design neural network so that no human feature engineering ( feature engineering) is needed\n",
    "      - instead of feature engineering - **representation learning** is used\n",
    "        - feature engineering is the way of how to capture the data, so that machine learning models can take advantage of it\n",
    "        - representation learning\n",
    "          - automatically learn the features\n",
    "          - and predict the downstream tasks\n",
    "            - map nodes to d-dimensional embeddings/vectors, such that similar nodes in the network are embedded close together in the embedding space\n",
    "\n",
    "<p align=\"center\"><img src=\"./images/01_representation_learning.png\" width=500 height=300></p>\n",
    "\n",
    "- the course will be to learn how to represent this embedding space\n",
    "\n",
    "<p align=\"center\"><img src=\"./images/01_map_embedding.png\" width=500 height=300></p>\n"
   ]
  },
  {
   "cell_type": "markdown",
   "id": "21065c5f",
   "metadata": {},
   "source": [
    "### Course outline\n",
    "- Traditional methods: Graphlets, Graph Kernels\n",
    "- Methods for node embeddings: DeepWalk, Node2Vec\n",
    "- Graph Neural Networks: GCN, GraphSAGE, GAT, Theory of GNNs\n",
    "- Heterogenous/Knowledge graphs and reasoning: TransE, BetaE\n",
    "- Deep generative models for graphs\n",
    "- Applications to Biomedicine, Science, Industry"
   ]
  },
  {
   "cell_type": "markdown",
   "id": "8cbc0b38",
   "metadata": {},
   "source": [
    "### Syllabus\n",
    "- Introduction; Machine Learning for Graphs \n",
    "- Traditional Methods for ML on Graphs \n",
    "- Node Embeddings \n",
    "- Link Analysis: PageRank \n",
    "- Label Propagation for Node Classification \n",
    "- Graph Neural Networks 1: GNN Model \n",
    "- Graph Neural Networks 2: Design Space \n",
    "- Applications of Graph Neural Networks \n",
    "- Theory of Graph Neural Networks \n",
    "- Knowledge Graph Embeddings \n",
    "- Reasoning over Knowledge Graphs\n",
    "- Frequent Subgraph Mining with GNNs\n",
    "- Community Structure in Networks\n",
    "- Traditional Generative Models for Graphs\n",
    "- Deep Generative Models for Graphs\n",
    "- Scaling Up GNNs\n",
    "- Learning on Dynamic Graphs\n",
    "- GNNs for Computational Biology\n",
    "- GNNs for Science\n",
    "- Industrial Applications of GNNs\n"
   ]
  },
  {
   "cell_type": "markdown",
   "id": "0a38c81c",
   "metadata": {},
   "source": [
    "## Applications of Graph ML\n",
    "\n",
    "### Different types of task\n",
    "- formulate tasks at different levels\n",
    "  - Node level\n",
    "  - Community (or subgraph) level\n",
    "  - Edge level\n",
    "  - Graph level prediction or Graph generation\n",
    "\n",
    "### Classic Graph ML tasks\n",
    "- Node classification\n",
    "  - predict property of node\n",
    "    - categorize online users/items\n",
    "- Link prediction\n",
    "  - knowledge graph completion\n",
    "- Graph classification\n",
    "  - represent molecules and predict properttiies of molecules\n",
    "- Clustering\n",
    "  - community detection or sociial circle detection\n",
    "- Other\n",
    "  - Graph generation\n",
    "    - drug discovery\n",
    "  - Graph evolution\n",
    "    - acurate simulations in physics "
   ]
  },
  {
   "cell_type": "markdown",
   "id": "783785ab",
   "metadata": {},
   "source": [
    "#### Nodel level ML problem\n",
    "- Protein folding\n",
    "  - Medicine/drugs bind to proteins and then change behaviour/biological processes\n",
    "  - Proteins are made up of amino acids\n",
    "    - given a sequence of amino acids, can you predict the 3D structure of underlying protein\n",
    "    - Problem:\n",
    "      - how to computationally predict a protein's 3D structure based solely on its amino acid sequence\n",
    "      - folding of protein is complex based on amino acid sequence\n",
    "    - DeepMind's AlphaMind is close to solve\n",
    "      - **Nodes:** underlying amino acids were designed in the form of nodes of __spatial graph__ \n",
    "      - **Edges:** proximity between amino acids"
   ]
  },
  {
   "cell_type": "markdown",
   "id": "ee3ac840",
   "metadata": {},
   "source": [
    "#### Edge level ML tasks\n",
    "- Link prediction\n",
    "  - relationship between different nodes\n",
    "- Recommender systems\n",
    "  - Watch movie\n",
    "  - listen to music\n",
    "    - make predictions using\n",
    "      - Graph representation learning\n",
    "      - GNN\n",
    "    - used in \n",
    "      - Pinterest, LinkedIn, Facebook\n",
    "    - learn about nodes that are related are closer than ones that are not related\n",
    "    - Predict\n",
    "      - use feature information/images and transform it across underlying graph to come up with robust embedding\n",
    "      - images + graph leads to much better recommendation than graphs itself\n",
    "      - understand relationship between pairs of nodes/images saying nodes that are related should be embedded closer together\n",
    "$$  d(z_{cake1}, z_{cake2}) \\lt d(z_{cake1}, z_{sweater})  $$\n",
    "      \n",
    "- Drug side effects\n",
    "  - many patients simulataneously take 5 or more drugs\n",
    "  - these drugs interact with each other\n",
    "  - this leads to adverse side effect\n",
    "    - cannot test experimentally all combination of drugs to see what kind of side effects they lead to\n",
    "    - make a prediction engine that takes arbitrary pair of drugs and predict how these drugs are going to interact and cause adverse side effect\n",
    "  - design 2 level of heterogenous network \n",
    "    - triangle - represent drugs\n",
    "    - circle - represent protein\n",
    "    - we have protein-protein interaction network\n",
    "    - there are lot of missing connection as how would medicine interact\n",
    "    - can we predict missing connections\n",
    "    - link predictions problem, given two drugs what can be the side effect"
   ]
  },
  {
   "cell_type": "markdown",
   "id": "3c7e167f",
   "metadata": {},
   "source": [
    "#### Subgraph-level ML tasks\n",
    "- Traffic prediction\n",
    "  - Google Maps tell us about the estimated time of arrival from point A to point B\n",
    "  - road represent node segment\n",
    "  - edges represent connectivity between road segments\n",
    "  - prediction using GNN (Graph Neural Network)\n",
    "    - based on the conditions and traffic patterns on each of the road, prediction is made regarding travel time"
   ]
  },
  {
   "cell_type": "markdown",
   "id": "a6c00166",
   "metadata": {},
   "source": [
    "#### Graph-level ML tasks\n",
    "- Drug discovery\n",
    "  - Molecules can be represented as graphs\n",
    "    - Atoms as nodes\n",
    "    - Chemical bonds as edges\n",
    "  - graph NN was used to classify different molecules\n",
    "  - which molecule can have theuraputic effect\n",
    "  - team at MIT used graph based DL for antibiotic discovery to classify different molecules and predict promising molecules from a pool of candidates\n",
    "- Novel/New Molecule generation\n",
    "  - generate molecules that are non-toxic\n",
    "  - generate molecules that have high solubility\n",
    "  - generate molecules that have high drug likeness\n",
    "  - optimize existing molecules to have targetable/desirable properties\n",
    "- Physics based simulation\n",
    "  - for different materials i.e., set of particles, how do the particles interact\n",
    "  - task for ML is to predict how the graph will evolve in future\n",
    "  - how will this material deform/reshape in future\n",
    "    - generate proximity graph\n",
    "    - how will the particles evolve to their new positions\n",
    "    - iterate over how the particles will move and based on this predict their future"
   ]
  },
  {
   "cell_type": "markdown",
   "id": "e074633c",
   "metadata": {},
   "source": [
    "## Choice of Graph Representation\n",
    "\n",
    "### Components of network\n",
    "- Objects - nodes, vertices - N\n",
    "- Interactions - links, edges - E\n",
    "- System - network, graph - G(N,E)\n",
    "- Underlying infrastructure might be same\n",
    "- choosing proper representation\n"
   ]
  },
  {
   "cell_type": "markdown",
   "id": "70a17737",
   "metadata": {},
   "source": [
    "### How to build/define a graph\n",
    "- what are nodes\n",
    "- what are edges\n"
   ]
  },
  {
   "cell_type": "markdown",
   "id": "d03e6a8a",
   "metadata": {},
   "source": [
    "#### Choice of proper network representation\n",
    "- connect individuals to form _professional network_ based on their work relationship\n",
    "- connect same individuals to form _sexual network_ based on their sexual relationship\n",
    "- connect same individuals to form _citation network_ based on their scientific paper cites"
   ]
  },
  {
   "cell_type": "markdown",
   "id": "fb836a84",
   "metadata": {},
   "source": [
    "#### Directed vs Undirected graphs\n",
    "  - Undirected graphs\n",
    "    - useful for modeling symmetrical or reciprocal relationship\n",
    "    - For example - collaboration, friendship, interaction between protein\n",
    "  - Directed graphs\n",
    "    - every link has a direction/source and destination and is denoted by an arrow\n",
    "    - there is a source and destination\n",
    "    - For example - phone calls, financial transactions, following on Twitter"
   ]
  },
  {
   "cell_type": "markdown",
   "id": "97ad54cf",
   "metadata": {},
   "source": [
    "#### Node degrees\n",
    "  - Undirected\n",
    "    - number of edges adjacent to a given node\n",
    "    - each edge gets counted twice\n",
    "    - having a self-edge/self-loop adds a degree of 2 to the node\n",
    "  - Directed\n",
    "    - in-degree - number of edges pointing towards the node\n",
    "    - out-degree - number of edges pointing outwards from the node\n"
   ]
  },
  {
   "cell_type": "markdown",
   "id": "207bf03f",
   "metadata": {},
   "source": [
    "#### Bipartite graph\n",
    "  - type of graph whose nodes can be divided into 2 disjoint sets/partitions \n",
    "  - edges go only from left to right\n",
    "  - not inside the same partition\n",
    "  - the sets are independent\n",
    "  - examples\n",
    "    - Authors to papers (they authored)\n",
    "    - Authors to movies (they appeared in)\n",
    "    - Users to movies (they rated)\n",
    "    - Folded networks\n",
    "      - author collaboration networks\n",
    "      - Movie co-rating networks  \n",
    "      \n",
    "<p align=\"center\"><img src = 'images/01_bipartite.png' width=200 height=200></p>\n",
    "\n",
    "$\\tiny{\\text{YouTube-Stanford-CS224W-Jure Leskovec}}$"
   ]
  },
  {
   "cell_type": "markdown",
   "id": "102339c7",
   "metadata": {},
   "source": [
    "#### Folded/Projected Bipartite graphs\n",
    "- If we have a bipartite graph, we can project this bipartite graph to either left or right side\n",
    "- use nodes from one side in my projection graph\n",
    "- the way we connect the nodes\n",
    "  - create a connection between pair of nodes\n",
    "  - if they have one neighbor in common\n",
    "  - 1,2,3 co-authored a paper\n",
    "  - 3 and 4 did not co-author a paper\n",
    "  - 2 and 5 co-authored a paper\n",
    "- create a projection on the right side  \n",
    "\n",
    "<img src = 'images/01_bipartite_projection.png' width=400 height=400>\n",
    "\n",
    "$\\tiny{\\text{YouTube-Stanford-CS224W-Jure Leskovec}}$"
   ]
  },
  {
   "cell_type": "markdown",
   "id": "c59c2492",
   "metadata": {},
   "source": [
    "#### Representing Graphs - Adjacency Matrix\n",
    "- matrix will take entries of 0 and 1 (binary)\n",
    "- value of matrix element $A_{ij}$ will be set to 1, if nodes i and j are connected\n",
    "- undirected graph\n",
    "  - the matrix are symmetric\n",
    "- directed graph\n",
    "  - the matrix are not symmetric\n",
    "- node degrees are different for directed and undirected graph\n",
    "- adjacency matrices are sparse\n",
    "  - extremely sparse  \n",
    "  \n",
    "<p align=\"center\"><img src = 'images/01_adjacencyMatrix.png' width=400 height=400> </p>\n",
    "\n",
    "$\\tiny{\\text{YouTube-Stanford-CS224W-Jure Leskovec}}$"
   ]
  },
  {
   "cell_type": "markdown",
   "id": "451bec2e",
   "metadata": {},
   "source": [
    "#### Adjacency list\n",
    "- Adjacency list\n",
    "  - most real world networks are very sparse\n",
    "  - very easier to work with sparse matrix\n",
    "  - simply store the neighbors\n",
    "  - for undirected - simply store the neighbors\n",
    "  - for directed - store both in-going and out-going neighbors\n",
    "  - Example (store neighbors node information)\n",
    "    - 1:\n",
    "    - 2: 3,4\n",
    "    - 3: 2,4\n",
    "    - 4: 5\n",
    "    \n",
    "#### Edge list and Adjacency list\n",
    "- Edge list\n",
    "  - quite popular\n",
    "  - very hard to graph manuplation\n",
    "  - represent as two-dimensional matrix\n",
    "  - Example\n",
    "    - (2,3)\n",
    "    - (2,4)\n",
    "    - (3,2)"
   ]
  },
  {
   "cell_type": "markdown",
   "id": "51e2945f",
   "metadata": {},
   "source": [
    "#### Node and Edge attributes\n",
    "  - how to attach attributes and properties\n",
    "  - edge can have a weight, how strong is the friendship\n",
    "  - edge can have a rank, or type of friend"
   ]
  },
  {
   "cell_type": "markdown",
   "id": "c3b72ecd",
   "metadata": {},
   "source": [
    "#### More types of graphs\n",
    "- unweighted - undirected\n",
    "- weighted - undirected (how strong is the relationship)\n",
    "- self-edges (self-loops) - undirected (entries in diagonal)\n",
    "- multigraph - undirected  (entries might have different properties)\n",
    "\n",
    "<p align=\"center\"><img src = 'images/01_weightedMatrix.png' width=400 height=400></p>\n",
    "\n",
    "<p align=\"center\"><img src = 'images/01_selfedgeGraph.png' width=400 height=400></p>\n",
    "\n",
    "$\\tiny{\\text{YouTube-Stanford-CS224W-Jure Leskovec}}$"
   ]
  },
  {
   "cell_type": "markdown",
   "id": "58478637",
   "metadata": {},
   "source": [
    "#### Connectivity of undirected graph\n",
    "  - can be joined by path\n",
    "  - block matrices \n",
    "    - tell us if the graph is inter-connected or not\n",
    "    - isolated node\n",
    "    - block diagonal structure  \n",
    "    \n",
    "<img src = 'images/01_connectivityUnDirected.png' width=400 height=400>  \n",
    "$\\tiny{\\text{YouTube-Stanford-CS224W-Jure Leskovec}}$"
   ]
  },
  {
   "cell_type": "markdown",
   "id": "5b2634c2",
   "metadata": {},
   "source": [
    "#### Connectivity of directed graph\n",
    "  - strongly or weakly connectivity\n",
    "  - strong\n",
    "    - has a directed path for every node \n",
    "  - weakly\n",
    "    - disregard/ignore the edge directions"
   ]
  },
  {
   "cell_type": "markdown",
   "id": "1827297f",
   "metadata": {},
   "source": [
    "## Summary\n",
    "\n",
    "- ML with graphs\n",
    "  - Applications and use cases\n",
    "- Different types of tasks\n",
    "  - Node level\n",
    "  - Edge level\n",
    "  - Graph level\n",
    "- Choice of graph representation\n",
    "  - Directed\n",
    "  - Undirected\n",
    "  - bipartite\n",
    "  - weighted\n",
    "  - adjacency matrix"
   ]
  }
 ],
 "metadata": {
  "kernelspec": {
   "display_name": "Python 3 (ipykernel)",
   "language": "python",
   "name": "python3"
  },
  "language_info": {
   "codemirror_mode": {
    "name": "ipython",
    "version": 3
   },
   "file_extension": ".py",
   "mimetype": "text/x-python",
   "name": "python",
   "nbconvert_exporter": "python",
   "pygments_lexer": "ipython3",
   "version": "3.8.8"
  },
  "toc": {
   "base_numbering": 1,
   "nav_menu": {},
   "number_sections": true,
   "sideBar": true,
   "skip_h1_title": false,
   "title_cell": "Table of Contents",
   "title_sidebar": "Contents",
   "toc_cell": false,
   "toc_position": {
    "height": "calc(100% - 180px)",
    "left": "10px",
    "top": "150px",
    "width": "336px"
   },
   "toc_section_display": true,
   "toc_window_display": true
  }
 },
 "nbformat": 4,
 "nbformat_minor": 5
}
