{
 "cells": [
  {
   "cell_type": "markdown",
   "id": "88d1c46d",
   "metadata": {},
   "source": [
    "# AWS cloud components\n",
    "\n",
    "## DynamoDB: Serverless Database\n",
    "\n",
    "### core features\n",
    "- serverless architecture\n",
    "- NoSQL database\n",
    "- service management\n",
    "- low latency\n",
    "- high reliability\n",
    "- high scalability\n",
    "\n",
    "\n",
    "- serverless, key-value document based NoSQL db\n",
    "- adopts a partitioned B-tree datastructure in the cloud\n",
    "- similar to Redis but unlike Redis is immediately consistent\n",
    "  - can read immediately\n",
    "  - never gets lost\n",
    "- schemaless\n",
    "- manage structured or semistructured data, including JSON documents\n",
    "- aggregating, filter or sort needs to be done post receiving requested data\n",
    "  - this is unlike relational db \n",
    "- data query and processing is done within application, as a single value or contiguous range of values\n",
    "  - this is unlike relational db\n",
    "  - in relational db, query is run close to data\n",
    "- application: web application, social networks\n",
    "  - in relational db - OLAP\n",
    "- expensive compared to S3\n",
    "\n",
    "\n",
    "### on-demand cost\n",
    "- writes per million is expensive than reads per million\n",
    "- based on estimated read/write per day, estimated price of DynamoDB can be calculated\n",
    " \n",
    "\n",
    "### indexes\n",
    "- local indexes\n",
    "  - immediately consistent\n",
    "  - downside: \n",
    "    - the table cannot grow indefinitely\n",
    "    - the partition key need to fit within 10GB\n",
    "    - once exhausted, writet operation will fail\n",
    "- global indexes\n",
    "  - no size constraint\n",
    "  - eventually consistent\n",
    "  - downside: \n",
    "    - internal queue like system between main table and global index\n",
    "    - if provisioned throughput insufficient and queue gets full\n",
    "      - write operation will fail\n",
    "    - internal state of queue cannot be monitored\n",
    "      - to prevent - monitor throttle request count on global indexes\n",
    "        \n",
    "        \n",
    "### new feature: Amazon DynamoDB Accelerator (DAX)\n",
    "- cache service\n",
    "- suitable for read-intensive workloads\n",
    "- if cache miss occurs, it will extract from db\n",
    "- saves money, by reducing read requests on DynamoDB\n",
    "- used by Tinder, Expedia, Genesys\n",
    "\n",
    "\n",
    "### compare to other NoSQL\n",
    "- supports data models like key-value pairs and document data structures like JSON, XML\n",
    "- lacks support of columnar data sets like Cassandra and HBase\n",
    "  \n",
    " \n",
    "### integration with other AWS services\n",
    "- Cloud Watch \n",
    "  - monitors performance, resource utilization and operational health of DynamoDB\n",
    "  - keeps eye on various metrics and triggers alarm on threshold breach\n",
    "    "
   ]
  },
  {
   "cell_type": "markdown",
   "id": "101feac1",
   "metadata": {},
   "source": [
    "## Storage: S3\n",
    "- Simple Storage Service"
   ]
  },
  {
   "cell_type": "markdown",
   "id": "d1006423",
   "metadata": {},
   "source": [
    "## Compute: EC2"
   ]
  },
  {
   "cell_type": "markdown",
   "id": "884cf951",
   "metadata": {},
   "source": [
    "## Compute: EC2 Auto Scaling\n",
    "## Compute: Lambda\n",
    "## Networking & Content Delivery: ELB\n",
    "## Networking & Content Delivery: Route 53\n",
    "## Management & Governance: CloudFormation\n",
    "## Application Integration: SQS\n",
    "## Media Service: Kinesis"
   ]
  },
  {
   "cell_type": "markdown",
   "id": "e8d64e5a",
   "metadata": {},
   "source": [
    "## Monitoring services: CloudWatch\n",
    "## Access Management: IAM"
   ]
  }
 ],
 "metadata": {
  "kernelspec": {
   "display_name": "Python 3 (ipykernel)",
   "language": "python",
   "name": "python3"
  },
  "language_info": {
   "codemirror_mode": {
    "name": "ipython",
    "version": 3
   },
   "file_extension": ".py",
   "mimetype": "text/x-python",
   "name": "python",
   "nbconvert_exporter": "python",
   "pygments_lexer": "ipython3",
   "version": "3.8.8"
  },
  "toc": {
   "base_numbering": 1,
   "nav_menu": {},
   "number_sections": true,
   "sideBar": true,
   "skip_h1_title": false,
   "title_cell": "Table of Contents",
   "title_sidebar": "Contents",
   "toc_cell": false,
   "toc_position": {},
   "toc_section_display": true,
   "toc_window_display": true
  }
 },
 "nbformat": 4,
 "nbformat_minor": 5
}
