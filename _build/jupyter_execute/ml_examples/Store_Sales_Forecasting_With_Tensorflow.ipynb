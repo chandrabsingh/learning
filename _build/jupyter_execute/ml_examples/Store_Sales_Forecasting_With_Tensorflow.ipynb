{
 "cells": [
  {
   "cell_type": "markdown",
   "id": "13237c6e",
   "metadata": {},
   "source": [
    "# Store Sales Forecasting with TensorFlow"
   ]
  },
  {
   "cell_type": "markdown",
   "id": "ea0b5821",
   "metadata": {},
   "source": [
    "Goal -  The project involves making sales predictions for various stores of a large retail corporation, based on past sales of these stores, using TensorFlow\n",
    "\n",
    "The dataset comes in three CSV files: weekly_sales.csv, features.csv, and stores.csv\n"
   ]
  },
  {
   "cell_type": "markdown",
   "id": "6f58ce8f",
   "metadata": {},
   "source": [
    "## Preliminary Data Analysis\n",
    "### The Dataset"
   ]
  },
  {
   "cell_type": "code",
   "execution_count": 1,
   "id": "da19dbdb",
   "metadata": {},
   "outputs": [
    {
     "name": "stdout",
     "output_type": "stream",
     "text": [
      "        Store  Dept        Date  Weekly_Sales  IsHoliday\n",
      "0           1     1  2010-02-05      24924.50      False\n",
      "1           1     1  2010-02-12      46039.49       True\n",
      "2           1     1  2010-02-19      41595.55      False\n",
      "3           1     1  2010-02-26      19403.54      False\n",
      "4           1     1  2010-03-05      21827.90      False\n",
      "...       ...   ...         ...           ...        ...\n",
      "421565     45    98  2012-09-28        508.37      False\n",
      "421566     45    98  2012-10-05        628.10      False\n",
      "421567     45    98  2012-10-12       1061.02      False\n",
      "421568     45    98  2012-10-19        760.01      False\n",
      "421569     45    98  2012-10-26       1076.80      False\n",
      "\n",
      "[421570 rows x 5 columns]\n"
     ]
    }
   ],
   "source": [
    "import pandas as pd\n",
    "train_df = pd.read_csv('./storeSalesForecasting/train.csv')\n",
    "print(train_df)"
   ]
  },
  {
   "cell_type": "code",
   "execution_count": 2,
   "id": "efa4abb0",
   "metadata": {},
   "outputs": [],
   "source": [
    "def read_dataframes():\n",
    "    train_df = pd.read_csv('./storeSalesForecasting/train.csv')\n",
    "    features_df = pd.read_csv('./storeSalesForecasting/features.csv')\n",
    "    stores_df = pd.read_csv('./storeSalesForecasting/stores.csv')\n",
    "    return (train_df, features_df, stores_df)\n",
    "\n",
    "(train_df, features_df, stores_df) = read_dataframes()"
   ]
  },
  {
   "cell_type": "code",
   "execution_count": 3,
   "id": "0d28d49e",
   "metadata": {},
   "outputs": [
    {
     "name": "stdout",
     "output_type": "stream",
     "text": [
      "Index(['Store', 'Date', 'Temperature', 'Fuel_Price', 'MarkDown1', 'MarkDown2',\n",
      "       'MarkDown3', 'MarkDown4', 'MarkDown5', 'CPI', 'Unemployment',\n",
      "       'IsHoliday'],\n",
      "      dtype='object')\n",
      "General Features: ['Store', 'Date', 'Temperature', 'Fuel_Price', 'MarkDown1', 'MarkDown2', 'MarkDown3', 'MarkDown4', 'MarkDown5', 'CPI', 'Unemployment', 'IsHoliday']\n",
      "\n",
      "Store Features: ['Store', 'Type', 'Size']\n"
     ]
    }
   ],
   "source": [
    "general_features = features_df.columns\n",
    "\n",
    "print(general_features)\n",
    "print('General Features: {}\\n'.format(general_features.tolist()))\n",
    "\n",
    "store_features = stores_df.columns\n",
    "print('Store Features: {}'.format(store_features.tolist()))"
   ]
  },
  {
   "cell_type": "code",
   "execution_count": 4,
   "id": "c54a7e82",
   "metadata": {},
   "outputs": [
    {
     "name": "stdout",
     "output_type": "stream",
     "text": [
      "      Store        Date  Temperature  Fuel_Price  MarkDown1  MarkDown2  \\\n",
      "0         1  2010-02-05        42.31       2.572        NaN        NaN   \n",
      "1         1  2010-02-12        38.51       2.548        NaN        NaN   \n",
      "2         1  2010-02-19        39.93       2.514        NaN        NaN   \n",
      "3         1  2010-02-26        46.63       2.561        NaN        NaN   \n",
      "4         1  2010-03-05        46.50       2.625        NaN        NaN   \n",
      "...     ...         ...          ...         ...        ...        ...   \n",
      "8185     45  2013-06-28        76.05       3.639    4842.29     975.03   \n",
      "8186     45  2013-07-05        77.50       3.614    9090.48    2268.58   \n",
      "8187     45  2013-07-12        79.37       3.614    3789.94    1827.31   \n",
      "8188     45  2013-07-19        82.84       3.737    2961.49    1047.07   \n",
      "8189     45  2013-07-26        76.06       3.804     212.02     851.73   \n",
      "\n",
      "      MarkDown3  MarkDown4  MarkDown5         CPI  Unemployment  IsHoliday  \\\n",
      "0           NaN        NaN        NaN  211.096358         8.106      False   \n",
      "1           NaN        NaN        NaN  211.242170         8.106       True   \n",
      "2           NaN        NaN        NaN  211.289143         8.106      False   \n",
      "3           NaN        NaN        NaN  211.319643         8.106      False   \n",
      "4           NaN        NaN        NaN  211.350143         8.106      False   \n",
      "...         ...        ...        ...         ...           ...        ...   \n",
      "8185       3.00    2449.97    3169.69         NaN           NaN      False   \n",
      "8186     582.74    5797.47    1514.93         NaN           NaN      False   \n",
      "8187      85.72     744.84    2150.36         NaN           NaN      False   \n",
      "8188     204.19     363.00    1059.46         NaN           NaN      False   \n",
      "8189       2.06      10.88    1864.57         NaN           NaN      False   \n",
      "\n",
      "     Type    Size  \n",
      "0       A  151315  \n",
      "1       A  151315  \n",
      "2       A  151315  \n",
      "3       A  151315  \n",
      "4       A  151315  \n",
      "...   ...     ...  \n",
      "8185    B  118221  \n",
      "8186    B  118221  \n",
      "8187    B  118221  \n",
      "8188    B  118221  \n",
      "8189    B  118221  \n",
      "\n",
      "[8190 rows x 14 columns]\n"
     ]
    }
   ],
   "source": [
    "merged_features = features_df.merge(stores_df, on='Store')\n",
    "\n",
    "print(merged_features)"
   ]
  },
  {
   "cell_type": "markdown",
   "id": "643af3b0",
   "metadata": {},
   "source": [
    "### Missing Features"
   ]
  },
  {
   "cell_type": "code",
   "execution_count": 5,
   "id": "31bf938b",
   "metadata": {},
   "outputs": [
    {
     "name": "stdout",
     "output_type": "stream",
     "text": [
      "Store           False\n",
      "Date            False\n",
      "Temperature     False\n",
      "Fuel_Price      False\n",
      "MarkDown1        True\n",
      "MarkDown2        True\n",
      "MarkDown3        True\n",
      "MarkDown4        True\n",
      "MarkDown5        True\n",
      "CPI              True\n",
      "Unemployment     True\n",
      "IsHoliday       False\n",
      "Type            False\n",
      "Size            False\n",
      "dtype: bool\n"
     ]
    }
   ],
   "source": [
    "na_values = pd.isna(merged_features) # Boolean DataFrame\n",
    "na_features = na_values.any() # Boolean Series\n",
    "print(na_features)"
   ]
  },
  {
   "cell_type": "markdown",
   "id": "aeba99a3",
   "metadata": {},
   "source": [
    "### Dropping Features"
   ]
  },
  {
   "cell_type": "code",
   "execution_count": 6,
   "id": "e357a60a",
   "metadata": {},
   "outputs": [
    {
     "name": "stdout",
     "output_type": "stream",
     "text": [
      "Total = 8190\n",
      "MarkDown1 = 4158\n",
      "MarkDown2 = 5269\n",
      "MarkDown3 = 4577\n",
      "MarkDown4 = 4726\n",
      "MarkDown5 = 4140\n",
      "CPI = 585\n",
      "Unemployment = 585\n"
     ]
    }
   ],
   "source": [
    "print(f\"Total = {len(na_values)}\")\n",
    "print(f\"MarkDown1 = {sum(na_values['MarkDown1'])}\")\n",
    "print(f\"MarkDown2 = {sum(na_values['MarkDown2'])}\")\n",
    "print(f\"MarkDown3 = {sum(na_values['MarkDown3'])}\")\n",
    "print(f\"MarkDown4 = {sum(na_values['MarkDown4'])}\")\n",
    "print(f\"MarkDown5 = {sum(na_values['MarkDown5'])}\")\n",
    "print(f\"CPI = {sum(na_values['CPI'])}\")\n",
    "print(f\"Unemployment = {sum(na_values['Unemployment'])}\")"
   ]
  },
  {
   "cell_type": "code",
   "execution_count": 7,
   "id": "35db4f4a",
   "metadata": {},
   "outputs": [
    {
     "data": {
      "text/plain": [
       "['Store',\n",
       " 'Date',\n",
       " 'Temperature',\n",
       " 'Fuel_Price',\n",
       " 'CPI',\n",
       " 'Unemployment',\n",
       " 'IsHoliday',\n",
       " 'Type',\n",
       " 'Size']"
      ]
     },
     "execution_count": 7,
     "metadata": {},
     "output_type": "execute_result"
    }
   ],
   "source": [
    "# Drop MarkDown columns, while drop missing CPI and Unemployment missing values\n",
    "markdowns = ['MarkDown1', 'MarkDown2', 'MarkDown3', 'MarkDown4', 'MarkDown5', ]\n",
    "merged_features = merged_features.drop(columns=markdowns)\n",
    "merged_features.columns.tolist()"
   ]
  },
  {
   "cell_type": "markdown",
   "id": "651e4902",
   "metadata": {},
   "source": [
    "### Filling in Data\n",
    "- find missing CPI and Unemployment values\n",
    "- fill it with previous row values"
   ]
  },
  {
   "cell_type": "code",
   "execution_count": 8,
   "id": "2f913c90",
   "metadata": {},
   "outputs": [
    {
     "name": "stdout",
     "output_type": "stream",
     "text": [
      "<class 'pandas.core.frame.DataFrame'>\n",
      "Int64Index: 8190 entries, 0 to 8189\n",
      "Data columns (total 9 columns):\n",
      " #   Column        Non-Null Count  Dtype  \n",
      "---  ------        --------------  -----  \n",
      " 0   Store         8190 non-null   int64  \n",
      " 1   Date          8190 non-null   object \n",
      " 2   Temperature   8190 non-null   float64\n",
      " 3   Fuel_Price    8190 non-null   float64\n",
      " 4   CPI           7605 non-null   float64\n",
      " 5   Unemployment  7605 non-null   float64\n",
      " 6   IsHoliday     8190 non-null   bool   \n",
      " 7   Type          8190 non-null   object \n",
      " 8   Size          8190 non-null   int64  \n",
      "dtypes: bool(1), float64(4), int64(2), object(2)\n",
      "memory usage: 583.9+ KB\n"
     ]
    }
   ],
   "source": [
    "merged_features.info()"
   ]
  },
  {
   "cell_type": "code",
   "execution_count": 9,
   "id": "762e44d8",
   "metadata": {},
   "outputs": [
    {
     "name": "stdout",
     "output_type": "stream",
     "text": [
      "True\n"
     ]
    }
   ],
   "source": [
    "# merged_features[['CPI', 'Unemployment']]\n",
    "import numpy as np\n",
    "\n",
    "na_cpi_int = na_values['CPI'].astype(int)\n",
    "na_indexes_cpi = na_cpi_int.to_numpy().nonzero()[0]\n",
    "na_une_int = na_values['Unemployment'].astype(int)\n",
    "na_indexes_une = na_une_int.to_numpy().nonzero()[0]\n",
    "\n",
    "print(np.array_equal(na_indexes_cpi, na_indexes_une)) # Same index for both fields"
   ]
  },
  {
   "cell_type": "code",
   "execution_count": 10,
   "id": "eb5a3f97",
   "metadata": {},
   "outputs": [
    {
     "name": "stdout",
     "output_type": "stream",
     "text": [
      "['2013-05-03' '2013-05-10' '2013-05-17' '2013-05-24' '2013-05-31'\n",
      " '2013-06-07' '2013-06-14' '2013-06-21' '2013-06-28' '2013-07-05'\n",
      " '2013-07-12' '2013-07-19' '2013-07-26']\n",
      "['2013-05-03' '2013-05-10' '2013-05-17' '2013-05-24' '2013-05-31'\n",
      " '2013-06-07' '2013-06-14' '2013-06-21' '2013-06-28' '2013-07-05'\n",
      " '2013-07-12' '2013-07-19' '2013-07-26']\n",
      "[13]\n"
     ]
    }
   ],
   "source": [
    "na_indexes = na_indexes_cpi\n",
    "na_rows = merged_features.iloc[na_indexes]\n",
    "print(na_rows['Date'].unique()) # missing value weeks\n",
    "print(merged_features['Date'].unique()[-13:]) # last 13 weeks\n",
    "print(na_rows.groupby('Store').count()['Date'].unique())"
   ]
  },
  {
   "cell_type": "code",
   "execution_count": 11,
   "id": "38fa9348",
   "metadata": {},
   "outputs": [
    {
     "name": "stdout",
     "output_type": "stream",
     "text": [
      "169\n",
      "\n",
      "Date            2013-05-03\n",
      "CPI                    NaN\n",
      "Unemployment           NaN\n",
      "Name: 169, dtype: object\n",
      "\n",
      "Date            2013-04-26\n",
      "CPI              225.17016\n",
      "Unemployment         6.314\n",
      "Name: 168, dtype: object\n",
      "\n",
      "Date            2013-05-03\n",
      "CPI              225.17016\n",
      "Unemployment         6.314\n",
      "Name: 169, dtype: object\n",
      "\n"
     ]
    }
   ],
   "source": [
    "# na_rows\n",
    "# merged_features\n",
    "# na_rows.groupby('Store').count()['Date'].unique() # 13\n",
    "# merged_features.groupby('Store').count()['Date'].unique() # 182\n",
    "# merged_features['Date'].unique()\n",
    "\n",
    "# Fill in the values\n",
    "# merged_features\n",
    "print(na_indexes[0])  # first missing value row index\n",
    "# print(na_indexes)\n",
    "print()\n",
    "\n",
    "first_missing_row = merged_features.iloc[169]\n",
    "print(first_missing_row[['Date','CPI','Unemployment']])\n",
    "print()\n",
    "\n",
    "final_val_row = merged_features.iloc[168]\n",
    "print(final_val_row[['Date','CPI','Unemployment']])\n",
    "print()\n",
    "\n",
    "cpi_final_val = merged_features.at[168, 'CPI']\n",
    "une_final_val = merged_features.at[168, 'Unemployment']\n",
    "merged_features.at[169, 'CPI'] = cpi_final_val\n",
    "merged_features.at[169, 'Unemployment'] = une_final_val\n",
    "\n",
    "new_row = merged_features.iloc[169]\n",
    "print(new_row[['Date','CPI','Unemployment']])\n",
    "print()"
   ]
  },
  {
   "cell_type": "code",
   "execution_count": 12,
   "id": "97696e96",
   "metadata": {},
   "outputs": [
    {
     "name": "stdout",
     "output_type": "stream",
     "text": [
      "Store           False\n",
      "Date            False\n",
      "Temperature     False\n",
      "Fuel_Price      False\n",
      "CPI             False\n",
      "Unemployment    False\n",
      "IsHoliday       False\n",
      "Type            False\n",
      "Size            False\n",
      "dtype: bool\n"
     ]
    }
   ],
   "source": [
    "def impute_data(merged_features, na_indexes_cpi, na_indexes_une):\n",
    "    for i in na_indexes_cpi:\n",
    "        merged_features.at[i, 'CPI'] = merged_features.at[i-1, 'CPI']\n",
    "    for i in na_indexes_une:\n",
    "        merged_features.at[i, 'Unemployment'] = merged_features.at[i-1, 'Unemployment']\n",
    "        \n",
    "impute_data(merged_features, na_indexes_cpi, na_indexes_une)\n",
    "na_values2 = pd.isna(merged_features) # Boolean DataFrame\n",
    "na_features2 = na_values2.any() # Boolean Series\n",
    "print(na_features2)"
   ]
  },
  {
   "cell_type": "markdown",
   "id": "9ec4166f",
   "metadata": {},
   "source": [
    "### Merging Data"
   ]
  },
  {
   "cell_type": "code",
   "execution_count": 13,
   "id": "9e3712cd",
   "metadata": {},
   "outputs": [
    {
     "name": "stdout",
     "output_type": "stream",
     "text": [
      "['Store', 'Dept', 'Date', 'Weekly_Sales', 'IsHoliday']\n",
      "['Store', 'Date', 'Temperature', 'Fuel_Price', 'CPI', 'Unemployment', 'IsHoliday', 'Type', 'Size']\n"
     ]
    }
   ],
   "source": [
    "print(train_df.columns.tolist())\n",
    "print(merged_features.columns.tolist())"
   ]
  },
  {
   "cell_type": "code",
   "execution_count": 14,
   "id": "dbf8ac8f",
   "metadata": {},
   "outputs": [
    {
     "data": {
      "text/html": [
       "<div>\n",
       "<style scoped>\n",
       "    .dataframe tbody tr th:only-of-type {\n",
       "        vertical-align: middle;\n",
       "    }\n",
       "\n",
       "    .dataframe tbody tr th {\n",
       "        vertical-align: top;\n",
       "    }\n",
       "\n",
       "    .dataframe thead th {\n",
       "        text-align: right;\n",
       "    }\n",
       "</style>\n",
       "<table border=\"1\" class=\"dataframe\">\n",
       "  <thead>\n",
       "    <tr style=\"text-align: right;\">\n",
       "      <th></th>\n",
       "      <th>Store</th>\n",
       "      <th>Dept</th>\n",
       "      <th>Date</th>\n",
       "      <th>Weekly_Sales</th>\n",
       "      <th>IsHoliday</th>\n",
       "      <th>Temperature</th>\n",
       "      <th>Fuel_Price</th>\n",
       "      <th>CPI</th>\n",
       "      <th>Unemployment</th>\n",
       "      <th>Type</th>\n",
       "      <th>Size</th>\n",
       "    </tr>\n",
       "  </thead>\n",
       "  <tbody>\n",
       "    <tr>\n",
       "      <th>0</th>\n",
       "      <td>1</td>\n",
       "      <td>1</td>\n",
       "      <td>2010-02-05</td>\n",
       "      <td>24924.50</td>\n",
       "      <td>False</td>\n",
       "      <td>42.31</td>\n",
       "      <td>2.572</td>\n",
       "      <td>211.096358</td>\n",
       "      <td>8.106</td>\n",
       "      <td>A</td>\n",
       "      <td>151315</td>\n",
       "    </tr>\n",
       "    <tr>\n",
       "      <th>1</th>\n",
       "      <td>1</td>\n",
       "      <td>2</td>\n",
       "      <td>2010-02-05</td>\n",
       "      <td>50605.27</td>\n",
       "      <td>False</td>\n",
       "      <td>42.31</td>\n",
       "      <td>2.572</td>\n",
       "      <td>211.096358</td>\n",
       "      <td>8.106</td>\n",
       "      <td>A</td>\n",
       "      <td>151315</td>\n",
       "    </tr>\n",
       "    <tr>\n",
       "      <th>2</th>\n",
       "      <td>1</td>\n",
       "      <td>3</td>\n",
       "      <td>2010-02-05</td>\n",
       "      <td>13740.12</td>\n",
       "      <td>False</td>\n",
       "      <td>42.31</td>\n",
       "      <td>2.572</td>\n",
       "      <td>211.096358</td>\n",
       "      <td>8.106</td>\n",
       "      <td>A</td>\n",
       "      <td>151315</td>\n",
       "    </tr>\n",
       "    <tr>\n",
       "      <th>3</th>\n",
       "      <td>1</td>\n",
       "      <td>4</td>\n",
       "      <td>2010-02-05</td>\n",
       "      <td>39954.04</td>\n",
       "      <td>False</td>\n",
       "      <td>42.31</td>\n",
       "      <td>2.572</td>\n",
       "      <td>211.096358</td>\n",
       "      <td>8.106</td>\n",
       "      <td>A</td>\n",
       "      <td>151315</td>\n",
       "    </tr>\n",
       "    <tr>\n",
       "      <th>4</th>\n",
       "      <td>1</td>\n",
       "      <td>5</td>\n",
       "      <td>2010-02-05</td>\n",
       "      <td>32229.38</td>\n",
       "      <td>False</td>\n",
       "      <td>42.31</td>\n",
       "      <td>2.572</td>\n",
       "      <td>211.096358</td>\n",
       "      <td>8.106</td>\n",
       "      <td>A</td>\n",
       "      <td>151315</td>\n",
       "    </tr>\n",
       "    <tr>\n",
       "      <th>...</th>\n",
       "      <td>...</td>\n",
       "      <td>...</td>\n",
       "      <td>...</td>\n",
       "      <td>...</td>\n",
       "      <td>...</td>\n",
       "      <td>...</td>\n",
       "      <td>...</td>\n",
       "      <td>...</td>\n",
       "      <td>...</td>\n",
       "      <td>...</td>\n",
       "      <td>...</td>\n",
       "    </tr>\n",
       "    <tr>\n",
       "      <th>421565</th>\n",
       "      <td>45</td>\n",
       "      <td>93</td>\n",
       "      <td>2012-10-26</td>\n",
       "      <td>2487.80</td>\n",
       "      <td>False</td>\n",
       "      <td>58.85</td>\n",
       "      <td>3.882</td>\n",
       "      <td>192.308899</td>\n",
       "      <td>8.667</td>\n",
       "      <td>B</td>\n",
       "      <td>118221</td>\n",
       "    </tr>\n",
       "    <tr>\n",
       "      <th>421566</th>\n",
       "      <td>45</td>\n",
       "      <td>94</td>\n",
       "      <td>2012-10-26</td>\n",
       "      <td>5203.31</td>\n",
       "      <td>False</td>\n",
       "      <td>58.85</td>\n",
       "      <td>3.882</td>\n",
       "      <td>192.308899</td>\n",
       "      <td>8.667</td>\n",
       "      <td>B</td>\n",
       "      <td>118221</td>\n",
       "    </tr>\n",
       "    <tr>\n",
       "      <th>421567</th>\n",
       "      <td>45</td>\n",
       "      <td>95</td>\n",
       "      <td>2012-10-26</td>\n",
       "      <td>56017.47</td>\n",
       "      <td>False</td>\n",
       "      <td>58.85</td>\n",
       "      <td>3.882</td>\n",
       "      <td>192.308899</td>\n",
       "      <td>8.667</td>\n",
       "      <td>B</td>\n",
       "      <td>118221</td>\n",
       "    </tr>\n",
       "    <tr>\n",
       "      <th>421568</th>\n",
       "      <td>45</td>\n",
       "      <td>97</td>\n",
       "      <td>2012-10-26</td>\n",
       "      <td>6817.48</td>\n",
       "      <td>False</td>\n",
       "      <td>58.85</td>\n",
       "      <td>3.882</td>\n",
       "      <td>192.308899</td>\n",
       "      <td>8.667</td>\n",
       "      <td>B</td>\n",
       "      <td>118221</td>\n",
       "    </tr>\n",
       "    <tr>\n",
       "      <th>421569</th>\n",
       "      <td>45</td>\n",
       "      <td>98</td>\n",
       "      <td>2012-10-26</td>\n",
       "      <td>1076.80</td>\n",
       "      <td>False</td>\n",
       "      <td>58.85</td>\n",
       "      <td>3.882</td>\n",
       "      <td>192.308899</td>\n",
       "      <td>8.667</td>\n",
       "      <td>B</td>\n",
       "      <td>118221</td>\n",
       "    </tr>\n",
       "  </tbody>\n",
       "</table>\n",
       "<p>421570 rows × 11 columns</p>\n",
       "</div>"
      ],
      "text/plain": [
       "        Store  Dept        Date  Weekly_Sales  IsHoliday  Temperature  \\\n",
       "0           1     1  2010-02-05      24924.50      False        42.31   \n",
       "1           1     2  2010-02-05      50605.27      False        42.31   \n",
       "2           1     3  2010-02-05      13740.12      False        42.31   \n",
       "3           1     4  2010-02-05      39954.04      False        42.31   \n",
       "4           1     5  2010-02-05      32229.38      False        42.31   \n",
       "...       ...   ...         ...           ...        ...          ...   \n",
       "421565     45    93  2012-10-26       2487.80      False        58.85   \n",
       "421566     45    94  2012-10-26       5203.31      False        58.85   \n",
       "421567     45    95  2012-10-26      56017.47      False        58.85   \n",
       "421568     45    97  2012-10-26       6817.48      False        58.85   \n",
       "421569     45    98  2012-10-26       1076.80      False        58.85   \n",
       "\n",
       "        Fuel_Price         CPI  Unemployment Type    Size  \n",
       "0            2.572  211.096358         8.106    A  151315  \n",
       "1            2.572  211.096358         8.106    A  151315  \n",
       "2            2.572  211.096358         8.106    A  151315  \n",
       "3            2.572  211.096358         8.106    A  151315  \n",
       "4            2.572  211.096358         8.106    A  151315  \n",
       "...            ...         ...           ...  ...     ...  \n",
       "421565       3.882  192.308899         8.667    B  118221  \n",
       "421566       3.882  192.308899         8.667    B  118221  \n",
       "421567       3.882  192.308899         8.667    B  118221  \n",
       "421568       3.882  192.308899         8.667    B  118221  \n",
       "421569       3.882  192.308899         8.667    B  118221  \n",
       "\n",
       "[421570 rows x 11 columns]"
      ]
     },
     "execution_count": 14,
     "metadata": {},
     "output_type": "execute_result"
    }
   ],
   "source": [
    "# Common columns - ['Store', 'Date', 'IsHoliday']\n",
    "features = ['Store', 'Date', 'IsHoliday']\n",
    "final_dataset = train_df.merge(merged_features, on=features)\n",
    "final_dataset\n",
    "# print(train_df['Store'].unique())\n",
    "# print(train_df['Date'].unique())# Less dates\n",
    "# print(train_df['IsHoliday'].unique())\n",
    "\n",
    "# print(merged_features['Store'].unique())\n",
    "# print(merged_features['Date'].unique()) # More dates\n",
    "# print(merged_features['IsHoliday'].unique())"
   ]
  },
  {
   "cell_type": "code",
   "execution_count": 15,
   "id": "18d0bd7c",
   "metadata": {},
   "outputs": [],
   "source": [
    "# 'Date' is not used in ML model, so drop it\n",
    "final_dataset = final_dataset.drop(columns=['Date'])"
   ]
  },
  {
   "cell_type": "markdown",
   "id": "ca52da34",
   "metadata": {},
   "source": [
    "### Categorical Data"
   ]
  },
  {
   "cell_type": "code",
   "execution_count": 16,
   "id": "faf920f0",
   "metadata": {},
   "outputs": [
    {
     "data": {
      "text/html": [
       "<div>\n",
       "<style scoped>\n",
       "    .dataframe tbody tr th:only-of-type {\n",
       "        vertical-align: middle;\n",
       "    }\n",
       "\n",
       "    .dataframe tbody tr th {\n",
       "        vertical-align: top;\n",
       "    }\n",
       "\n",
       "    .dataframe thead th {\n",
       "        text-align: right;\n",
       "    }\n",
       "</style>\n",
       "<table border=\"1\" class=\"dataframe\">\n",
       "  <thead>\n",
       "    <tr style=\"text-align: right;\">\n",
       "      <th></th>\n",
       "      <th>Store</th>\n",
       "      <th>Dept</th>\n",
       "      <th>Weekly_Sales</th>\n",
       "      <th>IsHoliday</th>\n",
       "      <th>Temperature</th>\n",
       "      <th>Fuel_Price</th>\n",
       "      <th>CPI</th>\n",
       "      <th>Unemployment</th>\n",
       "      <th>Type</th>\n",
       "      <th>Size</th>\n",
       "    </tr>\n",
       "  </thead>\n",
       "  <tbody>\n",
       "    <tr>\n",
       "      <th>count</th>\n",
       "      <td>421570.000000</td>\n",
       "      <td>421570.000000</td>\n",
       "      <td>421570.000000</td>\n",
       "      <td>421570</td>\n",
       "      <td>421570.000000</td>\n",
       "      <td>421570.000000</td>\n",
       "      <td>421570.000000</td>\n",
       "      <td>421570.000000</td>\n",
       "      <td>421570</td>\n",
       "      <td>421570.000000</td>\n",
       "    </tr>\n",
       "    <tr>\n",
       "      <th>unique</th>\n",
       "      <td>NaN</td>\n",
       "      <td>NaN</td>\n",
       "      <td>NaN</td>\n",
       "      <td>2</td>\n",
       "      <td>NaN</td>\n",
       "      <td>NaN</td>\n",
       "      <td>NaN</td>\n",
       "      <td>NaN</td>\n",
       "      <td>3</td>\n",
       "      <td>NaN</td>\n",
       "    </tr>\n",
       "    <tr>\n",
       "      <th>top</th>\n",
       "      <td>NaN</td>\n",
       "      <td>NaN</td>\n",
       "      <td>NaN</td>\n",
       "      <td>False</td>\n",
       "      <td>NaN</td>\n",
       "      <td>NaN</td>\n",
       "      <td>NaN</td>\n",
       "      <td>NaN</td>\n",
       "      <td>A</td>\n",
       "      <td>NaN</td>\n",
       "    </tr>\n",
       "    <tr>\n",
       "      <th>freq</th>\n",
       "      <td>NaN</td>\n",
       "      <td>NaN</td>\n",
       "      <td>NaN</td>\n",
       "      <td>391909</td>\n",
       "      <td>NaN</td>\n",
       "      <td>NaN</td>\n",
       "      <td>NaN</td>\n",
       "      <td>NaN</td>\n",
       "      <td>215478</td>\n",
       "      <td>NaN</td>\n",
       "    </tr>\n",
       "    <tr>\n",
       "      <th>mean</th>\n",
       "      <td>22.200546</td>\n",
       "      <td>44.260317</td>\n",
       "      <td>15981.258123</td>\n",
       "      <td>NaN</td>\n",
       "      <td>60.090059</td>\n",
       "      <td>3.361027</td>\n",
       "      <td>171.201947</td>\n",
       "      <td>7.960289</td>\n",
       "      <td>NaN</td>\n",
       "      <td>136727.915739</td>\n",
       "    </tr>\n",
       "    <tr>\n",
       "      <th>std</th>\n",
       "      <td>12.785297</td>\n",
       "      <td>30.492054</td>\n",
       "      <td>22711.183519</td>\n",
       "      <td>NaN</td>\n",
       "      <td>18.447931</td>\n",
       "      <td>0.458515</td>\n",
       "      <td>39.159276</td>\n",
       "      <td>1.863296</td>\n",
       "      <td>NaN</td>\n",
       "      <td>60980.583328</td>\n",
       "    </tr>\n",
       "    <tr>\n",
       "      <th>min</th>\n",
       "      <td>1.000000</td>\n",
       "      <td>1.000000</td>\n",
       "      <td>-4988.940000</td>\n",
       "      <td>NaN</td>\n",
       "      <td>-2.060000</td>\n",
       "      <td>2.472000</td>\n",
       "      <td>126.064000</td>\n",
       "      <td>3.879000</td>\n",
       "      <td>NaN</td>\n",
       "      <td>34875.000000</td>\n",
       "    </tr>\n",
       "    <tr>\n",
       "      <th>25%</th>\n",
       "      <td>11.000000</td>\n",
       "      <td>18.000000</td>\n",
       "      <td>2079.650000</td>\n",
       "      <td>NaN</td>\n",
       "      <td>46.680000</td>\n",
       "      <td>2.933000</td>\n",
       "      <td>132.022667</td>\n",
       "      <td>6.891000</td>\n",
       "      <td>NaN</td>\n",
       "      <td>93638.000000</td>\n",
       "    </tr>\n",
       "    <tr>\n",
       "      <th>50%</th>\n",
       "      <td>22.000000</td>\n",
       "      <td>37.000000</td>\n",
       "      <td>7612.030000</td>\n",
       "      <td>NaN</td>\n",
       "      <td>62.090000</td>\n",
       "      <td>3.452000</td>\n",
       "      <td>182.318780</td>\n",
       "      <td>7.866000</td>\n",
       "      <td>NaN</td>\n",
       "      <td>140167.000000</td>\n",
       "    </tr>\n",
       "    <tr>\n",
       "      <th>75%</th>\n",
       "      <td>33.000000</td>\n",
       "      <td>74.000000</td>\n",
       "      <td>20205.852500</td>\n",
       "      <td>NaN</td>\n",
       "      <td>74.280000</td>\n",
       "      <td>3.738000</td>\n",
       "      <td>212.416993</td>\n",
       "      <td>8.572000</td>\n",
       "      <td>NaN</td>\n",
       "      <td>202505.000000</td>\n",
       "    </tr>\n",
       "    <tr>\n",
       "      <th>max</th>\n",
       "      <td>45.000000</td>\n",
       "      <td>99.000000</td>\n",
       "      <td>693099.360000</td>\n",
       "      <td>NaN</td>\n",
       "      <td>100.140000</td>\n",
       "      <td>4.468000</td>\n",
       "      <td>227.232807</td>\n",
       "      <td>14.313000</td>\n",
       "      <td>NaN</td>\n",
       "      <td>219622.000000</td>\n",
       "    </tr>\n",
       "  </tbody>\n",
       "</table>\n",
       "</div>"
      ],
      "text/plain": [
       "                Store           Dept   Weekly_Sales IsHoliday    Temperature  \\\n",
       "count   421570.000000  421570.000000  421570.000000    421570  421570.000000   \n",
       "unique            NaN            NaN            NaN         2            NaN   \n",
       "top               NaN            NaN            NaN     False            NaN   \n",
       "freq              NaN            NaN            NaN    391909            NaN   \n",
       "mean        22.200546      44.260317   15981.258123       NaN      60.090059   \n",
       "std         12.785297      30.492054   22711.183519       NaN      18.447931   \n",
       "min          1.000000       1.000000   -4988.940000       NaN      -2.060000   \n",
       "25%         11.000000      18.000000    2079.650000       NaN      46.680000   \n",
       "50%         22.000000      37.000000    7612.030000       NaN      62.090000   \n",
       "75%         33.000000      74.000000   20205.852500       NaN      74.280000   \n",
       "max         45.000000      99.000000  693099.360000       NaN     100.140000   \n",
       "\n",
       "           Fuel_Price            CPI   Unemployment    Type           Size  \n",
       "count   421570.000000  421570.000000  421570.000000  421570  421570.000000  \n",
       "unique            NaN            NaN            NaN       3            NaN  \n",
       "top               NaN            NaN            NaN       A            NaN  \n",
       "freq              NaN            NaN            NaN  215478            NaN  \n",
       "mean         3.361027     171.201947       7.960289     NaN  136727.915739  \n",
       "std          0.458515      39.159276       1.863296     NaN   60980.583328  \n",
       "min          2.472000     126.064000       3.879000     NaN   34875.000000  \n",
       "25%          2.933000     132.022667       6.891000     NaN   93638.000000  \n",
       "50%          3.452000     182.318780       7.866000     NaN  140167.000000  \n",
       "75%          3.738000     212.416993       8.572000     NaN  202505.000000  \n",
       "max          4.468000     227.232807      14.313000     NaN  219622.000000  "
      ]
     },
     "execution_count": 16,
     "metadata": {},
     "output_type": "execute_result"
    }
   ],
   "source": [
    "final_dataset.describe(include='all')"
   ]
  },
  {
   "cell_type": "code",
   "execution_count": 17,
   "id": "4d1aebaf",
   "metadata": {},
   "outputs": [
    {
     "name": "stdout",
     "output_type": "stream",
     "text": [
      "['A' 'B' 'C']\n",
      "[ 1  2  3  4  5  6  7  8  9 10 11 12 13 14 16 17 18 19 20 21 22 23 24 25\n",
      " 26 27 28 29 30 31 32 33 34 35 36 37 38 40 41 42 44 45 46 47 48 49 51 52\n",
      " 54 55 56 58 59 60 67 71 72 74 79 80 81 82 83 85 87 90 91 92 93 94 95 97\n",
      " 98 78 96 99 77 39 50 43 65]\n"
     ]
    }
   ],
   "source": [
    "print(final_dataset['Type'].unique())\n",
    "print(final_dataset['Dept'].unique())"
   ]
  },
  {
   "cell_type": "code",
   "execution_count": 18,
   "id": "ee0eb644",
   "metadata": {},
   "outputs": [
    {
     "name": "stdout",
     "output_type": "stream",
     "text": [
      "<class 'pandas.core.frame.DataFrame'>\n",
      "Int64Index: 421570 entries, 0 to 421569\n",
      "Data columns (total 10 columns):\n",
      " #   Column        Non-Null Count   Dtype  \n",
      "---  ------        --------------   -----  \n",
      " 0   Store         421570 non-null  int64  \n",
      " 1   Dept          421570 non-null  int64  \n",
      " 2   Weekly_Sales  421570 non-null  float64\n",
      " 3   IsHoliday     421570 non-null  int64  \n",
      " 4   Temperature   421570 non-null  float64\n",
      " 5   Fuel_Price    421570 non-null  float64\n",
      " 6   CPI           421570 non-null  float64\n",
      " 7   Unemployment  421570 non-null  float64\n",
      " 8   Type          421570 non-null  object \n",
      " 9   Size          421570 non-null  int64  \n",
      "dtypes: float64(5), int64(4), object(1)\n",
      "memory usage: 35.4+ MB\n"
     ]
    }
   ],
   "source": [
    "# Cast IsHoliday to type int - features must be integer, float, or string\n",
    "final_dataset = final_dataset.astype({\"IsHoliday\": int})\n",
    "final_dataset.info()"
   ]
  },
  {
   "cell_type": "markdown",
   "id": "cd5b373d",
   "metadata": {},
   "source": [
    "### 1. Plot data"
   ]
  },
  {
   "cell_type": "code",
   "execution_count": 19,
   "id": "8fb7337e",
   "metadata": {},
   "outputs": [
    {
     "data": {
      "image/png": "[encoded data removed]",
      "text/plain": [
       "<Figure size 432x288 with 1 Axes>"
      ]
     },
     "metadata": {
      "filenames": {
       "image/png": "/Users/chandrasingh/anaconda3/workingDir/learning/_build/jupyter_execute/ml_examples/Store_Sales_Forecasting_With_Tensorflow_27_0.png"
      },
      "needs_background": "light"
     },
     "output_type": "display_data"
    }
   ],
   "source": [
    "import matplotlib.pyplot as plt\n",
    "\n",
    "plot_df = final_dataset[['Weekly_Sales', 'Temperature']]\n",
    "rounded_temp = plot_df['Temperature'].round()\n",
    "plot_df = plot_df.groupby(rounded_temp).mean()\n",
    "plot_df.plot.scatter(x='Temperature', y='Weekly_Sales')\n",
    "plt.title('Temperature vs. Weekly Sales')\n",
    "plt.xlabel('Temperature (Fahrenheit)')\n",
    "plt.ylabel('Avg Weekly Sales (Dollars)')\n",
    "plt.show()"
   ]
  },
  {
   "cell_type": "code",
   "execution_count": 20,
   "id": "1d1cd638",
   "metadata": {},
   "outputs": [
    {
     "data": {
      "image/png": "[encoded data removed]",
      "text/plain": [
       "<Figure size 432x288 with 1 Axes>"
      ]
     },
     "metadata": {
      "filenames": {
       "image/png": "/Users/chandrasingh/anaconda3/workingDir/learning/_build/jupyter_execute/ml_examples/Store_Sales_Forecasting_With_Tensorflow_28_0.png"
      },
      "needs_background": "light"
     },
     "output_type": "display_data"
    }
   ],
   "source": [
    "plot_df = final_dataset[['Weekly_Sales', 'Fuel_Price']]\n",
    "rounded_temp = plot_df['Fuel_Price'].round(2)\n",
    "plot_df = plot_df.groupby(rounded_temp).mean()\n",
    "plot_df.plot.scatter(x='Fuel_Price', y='Weekly_Sales')\n",
    "plt.title('Fuel Price vs. Weekly Sales')\n",
    "plt.xlabel('Fuel Price ($/gallon, Nearest Hundredth)')\n",
    "plt.ylabel('Avg Weekly Sales (Dollars)')\n",
    "plt.show()\n",
    "# plot_df['Fuel_Price'].round(1).unique()"
   ]
  },
  {
   "cell_type": "code",
   "execution_count": 21,
   "id": "006a2cc7",
   "metadata": {},
   "outputs": [
    {
     "name": "stdout",
     "output_type": "stream",
     "text": [
      "      Weekly_Sales\n",
      "Type              \n",
      "A     20099.568043\n",
      "B     12237.075977\n",
      "C      9519.532538\n"
     ]
    },
    {
     "data": {
      "image/png": "[encoded data removed]",
      "text/plain": [
       "<Figure size 432x288 with 1 Axes>"
      ]
     },
     "metadata": {
      "filenames": {
       "image/png": "/Users/chandrasingh/anaconda3/workingDir/learning/_build/jupyter_execute/ml_examples/Store_Sales_Forecasting_With_Tensorflow_29_1.png"
      },
      "needs_background": "light"
     },
     "output_type": "display_data"
    }
   ],
   "source": [
    "plot_df = final_dataset[['Weekly_Sales', 'Type']]\n",
    "plot_df = plot_df.groupby('Type').mean()\n",
    "print(plot_df)\n",
    "plot_df.plot.bar()\n",
    "plt.title('Store Type vs. Weekly Sales')\n",
    "plt.xlabel('Type')\n",
    "plt.ylabel('Avg Weekly Sales (Dollars)')\n",
    "plt.show()"
   ]
  },
  {
   "cell_type": "markdown",
   "id": "024ab69a",
   "metadata": {},
   "source": [
    "## 1. Data Processing\n",
    "- create efficient input pipeline\n",
    "\n",
    "\n",
    "### 1. Splitting Datasets\n",
    "- training and evaluation\n",
    "- set proportions\n",
    "- removing systematic trends\n"
   ]
  },
  {
   "cell_type": "code",
   "execution_count": 22,
   "id": "91711c20",
   "metadata": {},
   "outputs": [],
   "source": [
    "# from random import randrange\n",
    "# print(randrange(10))\n",
    "\n",
    "\n",
    "# X1 = np.random.randint(low=0, high=10, size=(15,))\n",
    "# print(X1)\n",
    "\n",
    "import random\n",
    "# random.sample(range(100), 10)"
   ]
  },
  {
   "cell_type": "code",
   "execution_count": 23,
   "id": "3e9f7ef4",
   "metadata": {},
   "outputs": [],
   "source": [
    "def split_train_eval(final_dataset):\n",
    "    len_dataset = len(final_dataset)\n",
    "    len_train_dataset = round(0.9*len_dataset)\n",
    "    len_evaluate_dataset = len_dataset - len_train_dataset\n",
    "    rnd_train_samples = random.sample(range(len_dataset), len_train_dataset)\n",
    "    rnd_evaluate_samples = list(set(range(len_dataset)) - set(rnd_train_samples))\n",
    "    train_dataset = final_dataset.iloc[rnd_train_samples]\n",
    "    evaluate_dataset = final_dataset.iloc[rnd_evaluate_samples]\n",
    "    return (train_dataset, evaluate_dataset)\n",
    "\n",
    "train_set, eval_set = split_train_eval(final_dataset)"
   ]
  },
  {
   "cell_type": "code",
   "execution_count": 24,
   "id": "80911d83",
   "metadata": {},
   "outputs": [
    {
     "data": {
      "text/html": [
       "<div>\n",
       "<style scoped>\n",
       "    .dataframe tbody tr th:only-of-type {\n",
       "        vertical-align: middle;\n",
       "    }\n",
       "\n",
       "    .dataframe tbody tr th {\n",
       "        vertical-align: top;\n",
       "    }\n",
       "\n",
       "    .dataframe thead th {\n",
       "        text-align: right;\n",
       "    }\n",
       "</style>\n",
       "<table border=\"1\" class=\"dataframe\">\n",
       "  <thead>\n",
       "    <tr style=\"text-align: right;\">\n",
       "      <th></th>\n",
       "      <th>Store</th>\n",
       "      <th>Dept</th>\n",
       "      <th>Weekly_Sales</th>\n",
       "      <th>IsHoliday</th>\n",
       "      <th>Temperature</th>\n",
       "      <th>Fuel_Price</th>\n",
       "      <th>CPI</th>\n",
       "      <th>Unemployment</th>\n",
       "      <th>Type</th>\n",
       "      <th>Size</th>\n",
       "    </tr>\n",
       "  </thead>\n",
       "  <tbody>\n",
       "    <tr>\n",
       "      <th>370819</th>\n",
       "      <td>39</td>\n",
       "      <td>2</td>\n",
       "      <td>71893.26</td>\n",
       "      <td>0</td>\n",
       "      <td>71.45</td>\n",
       "      <td>3.594</td>\n",
       "      <td>222.095172</td>\n",
       "      <td>6.228</td>\n",
       "      <td>A</td>\n",
       "      <td>184109</td>\n",
       "    </tr>\n",
       "    <tr>\n",
       "      <th>419</th>\n",
       "      <td>1</td>\n",
       "      <td>72</td>\n",
       "      <td>45046.81</td>\n",
       "      <td>0</td>\n",
       "      <td>57.79</td>\n",
       "      <td>2.667</td>\n",
       "      <td>211.380643</td>\n",
       "      <td>8.106</td>\n",
       "      <td>A</td>\n",
       "      <td>151315</td>\n",
       "    </tr>\n",
       "    <tr>\n",
       "      <th>33012</th>\n",
       "      <td>4</td>\n",
       "      <td>45</td>\n",
       "      <td>31.41</td>\n",
       "      <td>0</td>\n",
       "      <td>39.34</td>\n",
       "      <td>2.980</td>\n",
       "      <td>127.191774</td>\n",
       "      <td>6.510</td>\n",
       "      <td>A</td>\n",
       "      <td>205863</td>\n",
       "    </tr>\n",
       "    <tr>\n",
       "      <th>356070</th>\n",
       "      <td>38</td>\n",
       "      <td>21</td>\n",
       "      <td>807.17</td>\n",
       "      <td>1</td>\n",
       "      <td>45.64</td>\n",
       "      <td>3.148</td>\n",
       "      <td>127.087677</td>\n",
       "      <td>14.313</td>\n",
       "      <td>C</td>\n",
       "      <td>39690</td>\n",
       "    </tr>\n",
       "    <tr>\n",
       "      <th>59372</th>\n",
       "      <td>7</td>\n",
       "      <td>19</td>\n",
       "      <td>1347.80</td>\n",
       "      <td>0</td>\n",
       "      <td>27.25</td>\n",
       "      <td>2.684</td>\n",
       "      <td>189.737208</td>\n",
       "      <td>9.014</td>\n",
       "      <td>B</td>\n",
       "      <td>70713</td>\n",
       "    </tr>\n",
       "    <tr>\n",
       "      <th>...</th>\n",
       "      <td>...</td>\n",
       "      <td>...</td>\n",
       "      <td>...</td>\n",
       "      <td>...</td>\n",
       "      <td>...</td>\n",
       "      <td>...</td>\n",
       "      <td>...</td>\n",
       "      <td>...</td>\n",
       "      <td>...</td>\n",
       "      <td>...</td>\n",
       "    </tr>\n",
       "    <tr>\n",
       "      <th>187821</th>\n",
       "      <td>20</td>\n",
       "      <td>71</td>\n",
       "      <td>9850.48</td>\n",
       "      <td>0</td>\n",
       "      <td>47.32</td>\n",
       "      <td>2.844</td>\n",
       "      <td>204.378226</td>\n",
       "      <td>8.187</td>\n",
       "      <td>A</td>\n",
       "      <td>203742</td>\n",
       "    </tr>\n",
       "    <tr>\n",
       "      <th>361757</th>\n",
       "      <td>39</td>\n",
       "      <td>85</td>\n",
       "      <td>874.67</td>\n",
       "      <td>0</td>\n",
       "      <td>68.15</td>\n",
       "      <td>2.770</td>\n",
       "      <td>209.400638</td>\n",
       "      <td>8.464</td>\n",
       "      <td>A</td>\n",
       "      <td>184109</td>\n",
       "    </tr>\n",
       "    <tr>\n",
       "      <th>256103</th>\n",
       "      <td>26</td>\n",
       "      <td>46</td>\n",
       "      <td>10224.67</td>\n",
       "      <td>0</td>\n",
       "      <td>62.08</td>\n",
       "      <td>3.874</td>\n",
       "      <td>138.281452</td>\n",
       "      <td>7.405</td>\n",
       "      <td>A</td>\n",
       "      <td>152513</td>\n",
       "    </tr>\n",
       "    <tr>\n",
       "      <th>171667</th>\n",
       "      <td>18</td>\n",
       "      <td>26</td>\n",
       "      <td>11958.65</td>\n",
       "      <td>0</td>\n",
       "      <td>45.99</td>\n",
       "      <td>3.919</td>\n",
       "      <td>134.357100</td>\n",
       "      <td>8.975</td>\n",
       "      <td>B</td>\n",
       "      <td>120653</td>\n",
       "    </tr>\n",
       "    <tr>\n",
       "      <th>243894</th>\n",
       "      <td>25</td>\n",
       "      <td>16</td>\n",
       "      <td>3050.12</td>\n",
       "      <td>1</td>\n",
       "      <td>32.42</td>\n",
       "      <td>3.389</td>\n",
       "      <td>212.403576</td>\n",
       "      <td>7.082</td>\n",
       "      <td>B</td>\n",
       "      <td>128107</td>\n",
       "    </tr>\n",
       "  </tbody>\n",
       "</table>\n",
       "<p>379413 rows × 10 columns</p>\n",
       "</div>"
      ],
      "text/plain": [
       "        Store  Dept  Weekly_Sales  IsHoliday  Temperature  Fuel_Price  \\\n",
       "370819     39     2      71893.26          0        71.45       3.594   \n",
       "419         1    72      45046.81          0        57.79       2.667   \n",
       "33012       4    45         31.41          0        39.34       2.980   \n",
       "356070     38    21        807.17          1        45.64       3.148   \n",
       "59372       7    19       1347.80          0        27.25       2.684   \n",
       "...       ...   ...           ...        ...          ...         ...   \n",
       "187821     20    71       9850.48          0        47.32       2.844   \n",
       "361757     39    85        874.67          0        68.15       2.770   \n",
       "256103     26    46      10224.67          0        62.08       3.874   \n",
       "171667     18    26      11958.65          0        45.99       3.919   \n",
       "243894     25    16       3050.12          1        32.42       3.389   \n",
       "\n",
       "               CPI  Unemployment Type    Size  \n",
       "370819  222.095172         6.228    A  184109  \n",
       "419     211.380643         8.106    A  151315  \n",
       "33012   127.191774         6.510    A  205863  \n",
       "356070  127.087677        14.313    C   39690  \n",
       "59372   189.737208         9.014    B   70713  \n",
       "...            ...           ...  ...     ...  \n",
       "187821  204.378226         8.187    A  203742  \n",
       "361757  209.400638         8.464    A  184109  \n",
       "256103  138.281452         7.405    A  152513  \n",
       "171667  134.357100         8.975    B  120653  \n",
       "243894  212.403576         7.082    B  128107  \n",
       "\n",
       "[379413 rows x 10 columns]"
      ]
     },
     "execution_count": 24,
     "metadata": {},
     "output_type": "execute_result"
    }
   ],
   "source": [
    "train_set"
   ]
  },
  {
   "cell_type": "code",
   "execution_count": 25,
   "id": "f56920a6",
   "metadata": {},
   "outputs": [
    {
     "data": {
      "text/html": [
       "<div>\n",
       "<style scoped>\n",
       "    .dataframe tbody tr th:only-of-type {\n",
       "        vertical-align: middle;\n",
       "    }\n",
       "\n",
       "    .dataframe tbody tr th {\n",
       "        vertical-align: top;\n",
       "    }\n",
       "\n",
       "    .dataframe thead th {\n",
       "        text-align: right;\n",
       "    }\n",
       "</style>\n",
       "<table border=\"1\" class=\"dataframe\">\n",
       "  <thead>\n",
       "    <tr style=\"text-align: right;\">\n",
       "      <th></th>\n",
       "      <th>Store</th>\n",
       "      <th>Dept</th>\n",
       "      <th>Weekly_Sales</th>\n",
       "      <th>IsHoliday</th>\n",
       "      <th>Temperature</th>\n",
       "      <th>Fuel_Price</th>\n",
       "      <th>CPI</th>\n",
       "      <th>Unemployment</th>\n",
       "      <th>Type</th>\n",
       "      <th>Size</th>\n",
       "    </tr>\n",
       "  </thead>\n",
       "  <tbody>\n",
       "    <tr>\n",
       "      <th>393216</th>\n",
       "      <td>42</td>\n",
       "      <td>14</td>\n",
       "      <td>3381.26</td>\n",
       "      <td>0</td>\n",
       "      <td>57.06</td>\n",
       "      <td>3.236</td>\n",
       "      <td>126.983581</td>\n",
       "      <td>9.003</td>\n",
       "      <td>C</td>\n",
       "      <td>39690</td>\n",
       "    </tr>\n",
       "    <tr>\n",
       "      <th>131073</th>\n",
       "      <td>14</td>\n",
       "      <td>41</td>\n",
       "      <td>6833.63</td>\n",
       "      <td>1</td>\n",
       "      <td>46.15</td>\n",
       "      <td>3.039</td>\n",
       "      <td>182.783277</td>\n",
       "      <td>8.724</td>\n",
       "      <td>A</td>\n",
       "      <td>200898</td>\n",
       "    </tr>\n",
       "    <tr>\n",
       "      <th>4</th>\n",
       "      <td>1</td>\n",
       "      <td>5</td>\n",
       "      <td>32229.38</td>\n",
       "      <td>0</td>\n",
       "      <td>42.31</td>\n",
       "      <td>2.572</td>\n",
       "      <td>211.096358</td>\n",
       "      <td>8.106</td>\n",
       "      <td>A</td>\n",
       "      <td>151315</td>\n",
       "    </tr>\n",
       "    <tr>\n",
       "      <th>262150</th>\n",
       "      <td>27</td>\n",
       "      <td>51</td>\n",
       "      <td>1.50</td>\n",
       "      <td>0</td>\n",
       "      <td>77.83</td>\n",
       "      <td>3.915</td>\n",
       "      <td>139.700633</td>\n",
       "      <td>7.850</td>\n",
       "      <td>A</td>\n",
       "      <td>204184</td>\n",
       "    </tr>\n",
       "    <tr>\n",
       "      <th>393222</th>\n",
       "      <td>42</td>\n",
       "      <td>28</td>\n",
       "      <td>64.00</td>\n",
       "      <td>0</td>\n",
       "      <td>57.06</td>\n",
       "      <td>3.236</td>\n",
       "      <td>126.983581</td>\n",
       "      <td>9.003</td>\n",
       "      <td>C</td>\n",
       "      <td>39690</td>\n",
       "    </tr>\n",
       "    <tr>\n",
       "      <th>...</th>\n",
       "      <td>...</td>\n",
       "      <td>...</td>\n",
       "      <td>...</td>\n",
       "      <td>...</td>\n",
       "      <td>...</td>\n",
       "      <td>...</td>\n",
       "      <td>...</td>\n",
       "      <td>...</td>\n",
       "      <td>...</td>\n",
       "      <td>...</td>\n",
       "    </tr>\n",
       "    <tr>\n",
       "      <th>131062</th>\n",
       "      <td>14</td>\n",
       "      <td>28</td>\n",
       "      <td>1691.43</td>\n",
       "      <td>1</td>\n",
       "      <td>46.15</td>\n",
       "      <td>3.039</td>\n",
       "      <td>182.783277</td>\n",
       "      <td>8.724</td>\n",
       "      <td>A</td>\n",
       "      <td>200898</td>\n",
       "    </tr>\n",
       "    <tr>\n",
       "      <th>262134</th>\n",
       "      <td>27</td>\n",
       "      <td>30</td>\n",
       "      <td>5819.56</td>\n",
       "      <td>0</td>\n",
       "      <td>77.83</td>\n",
       "      <td>3.915</td>\n",
       "      <td>139.700633</td>\n",
       "      <td>7.850</td>\n",
       "      <td>A</td>\n",
       "      <td>204184</td>\n",
       "    </tr>\n",
       "    <tr>\n",
       "      <th>131065</th>\n",
       "      <td>14</td>\n",
       "      <td>31</td>\n",
       "      <td>4112.25</td>\n",
       "      <td>1</td>\n",
       "      <td>46.15</td>\n",
       "      <td>3.039</td>\n",
       "      <td>182.783277</td>\n",
       "      <td>8.724</td>\n",
       "      <td>A</td>\n",
       "      <td>200898</td>\n",
       "    </tr>\n",
       "    <tr>\n",
       "      <th>393210</th>\n",
       "      <td>42</td>\n",
       "      <td>8</td>\n",
       "      <td>18944.96</td>\n",
       "      <td>0</td>\n",
       "      <td>57.06</td>\n",
       "      <td>3.236</td>\n",
       "      <td>126.983581</td>\n",
       "      <td>9.003</td>\n",
       "      <td>C</td>\n",
       "      <td>39690</td>\n",
       "    </tr>\n",
       "    <tr>\n",
       "      <th>131071</th>\n",
       "      <td>14</td>\n",
       "      <td>38</td>\n",
       "      <td>97541.63</td>\n",
       "      <td>1</td>\n",
       "      <td>46.15</td>\n",
       "      <td>3.039</td>\n",
       "      <td>182.783277</td>\n",
       "      <td>8.724</td>\n",
       "      <td>A</td>\n",
       "      <td>200898</td>\n",
       "    </tr>\n",
       "  </tbody>\n",
       "</table>\n",
       "<p>42157 rows × 10 columns</p>\n",
       "</div>"
      ],
      "text/plain": [
       "        Store  Dept  Weekly_Sales  IsHoliday  Temperature  Fuel_Price  \\\n",
       "393216     42    14       3381.26          0        57.06       3.236   \n",
       "131073     14    41       6833.63          1        46.15       3.039   \n",
       "4           1     5      32229.38          0        42.31       2.572   \n",
       "262150     27    51          1.50          0        77.83       3.915   \n",
       "393222     42    28         64.00          0        57.06       3.236   \n",
       "...       ...   ...           ...        ...          ...         ...   \n",
       "131062     14    28       1691.43          1        46.15       3.039   \n",
       "262134     27    30       5819.56          0        77.83       3.915   \n",
       "131065     14    31       4112.25          1        46.15       3.039   \n",
       "393210     42     8      18944.96          0        57.06       3.236   \n",
       "131071     14    38      97541.63          1        46.15       3.039   \n",
       "\n",
       "               CPI  Unemployment Type    Size  \n",
       "393216  126.983581         9.003    C   39690  \n",
       "131073  182.783277         8.724    A  200898  \n",
       "4       211.096358         8.106    A  151315  \n",
       "262150  139.700633         7.850    A  204184  \n",
       "393222  126.983581         9.003    C   39690  \n",
       "...            ...           ...  ...     ...  \n",
       "131062  182.783277         8.724    A  200898  \n",
       "262134  139.700633         7.850    A  204184  \n",
       "131065  182.783277         8.724    A  200898  \n",
       "393210  126.983581         9.003    C   39690  \n",
       "131071  182.783277         8.724    A  200898  \n",
       "\n",
       "[42157 rows x 10 columns]"
      ]
     },
     "execution_count": 25,
     "metadata": {},
     "output_type": "execute_result"
    }
   ],
   "source": [
    "eval_set"
   ]
  },
  {
   "cell_type": "markdown",
   "id": "55d604ad",
   "metadata": {},
   "source": [
    "### Integer Features"
   ]
  },
  {
   "cell_type": "code",
   "execution_count": 26,
   "id": "0576083d",
   "metadata": {},
   "outputs": [
    {
     "ename": "ModuleNotFoundError",
     "evalue": "No module named 'tensorflow'",
     "output_type": "error",
     "traceback": [
      "\u001b[0;31m---------------------------------------------------------------------------\u001b[0m",
      "\u001b[0;31mModuleNotFoundError\u001b[0m                       Traceback (most recent call last)",
      "Input \u001b[0;32mIn [26]\u001b[0m, in \u001b[0;36m<cell line: 3>\u001b[0;34m()\u001b[0m\n\u001b[1;32m      1\u001b[0m \u001b[38;5;66;03m# Add the integer features of a DataFrame’s row to a feature dictionary\u001b[39;00m\n\u001b[0;32m----> 3\u001b[0m \u001b[38;5;28;01mimport\u001b[39;00m \u001b[38;5;21;01mtensorflow\u001b[39;00m \u001b[38;5;28;01mas\u001b[39;00m \u001b[38;5;21;01mtf\u001b[39;00m\n\u001b[1;32m      5\u001b[0m \u001b[38;5;28;01mdef\u001b[39;00m \u001b[38;5;21madd_int_features\u001b[39m(dataset_row, feature_dict):\n\u001b[1;32m      6\u001b[0m     int_vals \u001b[38;5;241m=\u001b[39m [\u001b[38;5;124m'\u001b[39m\u001b[38;5;124mStore\u001b[39m\u001b[38;5;124m'\u001b[39m, \u001b[38;5;124m'\u001b[39m\u001b[38;5;124mDept\u001b[39m\u001b[38;5;124m'\u001b[39m, \u001b[38;5;124m'\u001b[39m\u001b[38;5;124mIsHoliday\u001b[39m\u001b[38;5;124m'\u001b[39m, \u001b[38;5;124m'\u001b[39m\u001b[38;5;124mSize\u001b[39m\u001b[38;5;124m'\u001b[39m]\n",
      "\u001b[0;31mModuleNotFoundError\u001b[0m: No module named 'tensorflow'"
     ]
    }
   ],
   "source": [
    "# Add the integer features of a DataFrame’s row to a feature dictionary\n",
    "\n",
    "import tensorflow as tf\n",
    "\n",
    "def add_int_features(dataset_row, feature_dict):\n",
    "    int_vals = ['Store', 'Dept', 'IsHoliday', 'Size']\n",
    "    for feature_name in int_vals:\n",
    "        list_val = tf.train.Int64List(value=[dataset_row[feature_name]])\n",
    "        feature_dict[feature_name] = tf.train.Feature(int64_list = list_val)"
   ]
  },
  {
   "cell_type": "markdown",
   "id": "87b16c4a",
   "metadata": {},
   "source": [
    "### Float Features"
   ]
  },
  {
   "cell_type": "code",
   "execution_count": 27,
   "id": "e182d29f",
   "metadata": {},
   "outputs": [],
   "source": [
    "# Add the float Feature objects to the feature dictionary\n",
    "def add_float_features(dataset_row, feature_dict, has_labels):\n",
    "    # We only use the 'Weekly_Sales' feature if has_labels is True. \n",
    "    # This is because the 'Weekly_Sales' feature represents the label used \n",
    "    # in training/evaluating the machine learning model, which is not present when making predictions.\n",
    "\n",
    "    float_vals = ['Temperature', 'Fuel_Price', 'CPI', 'Unemployment', ]\n",
    "    if has_labels:\n",
    "        float_vals.append('Weekly_Sales')\n",
    "    for feature_name in float_vals:\n",
    "        list_val = tf.train.FloatList(value = [dataset_row[feature_name]])\n",
    "        feature_dict[feature_name] = tf.train.Feature(float_list = list_val)"
   ]
  },
  {
   "cell_type": "markdown",
   "id": "ce424e86",
   "metadata": {},
   "source": [
    "### String Features"
   ]
  },
  {
   "cell_type": "code",
   "execution_count": 28,
   "id": "4e5c1077",
   "metadata": {},
   "outputs": [
    {
     "name": "stdout",
     "output_type": "stream",
     "text": [
      "bytes_list {\n",
      "  value: \"hello world\"\n",
      "}\n",
      "\n"
     ]
    }
   ],
   "source": [
    "s = 'hello world'\n",
    "byte_s = s.encode()  # byte string\n",
    "bytes_list = tf.train.BytesList(value=[byte_s])\n",
    "feature = tf.train.Feature(bytes_list=bytes_list)\n",
    "print(feature)"
   ]
  },
  {
   "cell_type": "code",
   "execution_count": 29,
   "id": "e00954b9",
   "metadata": {},
   "outputs": [],
   "source": [
    "# Create an Example object from a pandas DataFrame row\n",
    "def create_example(dataset_row, has_labels):\n",
    "    feature_dict = {}\n",
    "    add_int_features(dataset_row, feature_dict)\n",
    "    add_float_features(dataset_row, feature_dict, has_labels)\n",
    "    # CODE HERE\n",
    "    byte_type = dataset_row['Type']\n",
    "    list_val = tf.train.BytesList(value = [byte_type.encode()])\n",
    "    feature_dict['Type'] = tf.train.Feature(bytes_list = list_val)\n",
    "    features_obj = tf.train.Features(feature = feature_dict)\n",
    "    return tf.train.Example(features = features_obj)"
   ]
  },
  {
   "cell_type": "markdown",
   "id": "c6e37672",
   "metadata": {},
   "source": [
    "### Writing TFRecords"
   ]
  },
  {
   "cell_type": "code",
   "execution_count": 30,
   "id": "e87cb547",
   "metadata": {},
   "outputs": [],
   "source": [
    "# Write serialized Example objects(the training and evaluation set data) to a TFRecords file\n",
    "\n",
    "def write_tfrecords(dataset, tfrecords_file, has_labels = True):\n",
    "    writer = tf.io.TFRecordWriter(tfrecords_file)\n",
    "    for i in range(len(dataset)):\n",
    "        example = create_example(dataset.iloc[i], has_labels)\n",
    "        writer.write(example.SerializeToString())\n",
    "    writer.close()"
   ]
  },
  {
   "cell_type": "code",
   "execution_count": 31,
   "id": "e5980fb0",
   "metadata": {
    "metadata": {
     "execution": {
      "timeout": 30
     }
    }
   },
   "outputs": [],
   "source": [
    "# train_set is the training DataFrame\n",
    "write_tfrecords(train_set, 'train.tfrecords')\n",
    "\n",
    "# eval_set is the evaluation DataFrame\n",
    "write_tfrecords(eval_set, 'eval.tfrecords')"
   ]
  },
  {
   "cell_type": "markdown",
   "id": "05d55f26",
   "metadata": {},
   "source": [
    "### Example Spec\n",
    "- the data is stored as serialized Example objects in TFRecords file\n",
    "- create an Example spec which parses the serialized examples in the input pipeline \n",
    "- the example spec gives specifications on each of the dataset’s features, specifically the shape and type of the feature’s values."
   ]
  },
  {
   "cell_type": "code",
   "execution_count": 32,
   "id": "c97e2347",
   "metadata": {},
   "outputs": [],
   "source": [
    "example_spec = {}\n",
    "example_spec['Store'] = tf.io.FixedLenFeature((), tf.int64)\n",
    "example_spec['CPI'] = tf.io.FixedLenFeature((), tf.float32)\n",
    "example_spec['Type'] = tf.io.FixedLenFeature((), tf.string)"
   ]
  },
  {
   "cell_type": "code",
   "execution_count": 33,
   "id": "0d064293",
   "metadata": {},
   "outputs": [],
   "source": [
    "# Create the spec used when parsing the Example object\n",
    "def create_example_spec(has_labels):\n",
    "    example_spec = {}\n",
    "    int_vals = ['Store', 'Dept', 'IsHoliday', 'Size']\n",
    "    float_vals = ['Temperature', 'Fuel_Price', 'CPI', 'Unemployment']\n",
    "    if has_labels:\n",
    "        float_vals.append('Weekly_Sales')\n",
    "    \n",
    "    for feature_name in int_vals:\n",
    "        example_spec[feature_name] = tf.io.FixedLenFeature((), tf.int64)\n",
    "    for feature_name in float_vals:\n",
    "        example_spec[feature_name] = tf.io.FixedLenFeature((), tf.float32)\n",
    "    example_spec['Type'] = tf.io.FixedLenFeature((), tf.string)\n",
    "    return example_spec"
   ]
  },
  {
   "cell_type": "markdown",
   "id": "5acaed62",
   "metadata": {},
   "source": [
    "### Parsing Example\n",
    "- parse feature data from serialized Example objects"
   ]
  },
  {
   "cell_type": "code",
   "execution_count": 34,
   "id": "22a73251",
   "metadata": {},
   "outputs": [],
   "source": [
    "example_spec = create_example_spec(True)\n",
    "\n",
    "# Parsing feature data from a serialized Example (ser_ex) using its corresponding Example spec (example_spec).\n",
    "# parsed_example = tf.io.parse_single_example(ser_ex, example_spec)\n",
    "# print(parsed_example)"
   ]
  },
  {
   "cell_type": "code",
   "execution_count": 35,
   "id": "56e84a7f",
   "metadata": {},
   "outputs": [],
   "source": [
    "# Helper function to convert serialized Example objects into features\n",
    "def parse_features(ser_ex, example_spec, has_labels):\n",
    "    # CODE HERE\n",
    "    parsed_features = tf.io.parse_single_example(ser_ex, example_spec)\n",
    "    # The 'Weekly_Sales' feature is not actually used as an input for the machine learning model. \n",
    "    # Instead, it is used as a label during training and evaluation.\n",
    "    features = {k: parsed_features[k] for k in parsed_features if k!='Weekly_Sales'}\n",
    "    if not has_labels:\n",
    "        return features\n",
    "    label = parsed_features['Weekly_Sales']\n",
    "    return (features, label)\n",
    "    "
   ]
  },
  {
   "cell_type": "markdown",
   "id": "ecc1dd5a",
   "metadata": {},
   "source": [
    "### TFRecords Dataset"
   ]
  },
  {
   "cell_type": "code",
   "execution_count": 36,
   "id": "42d6a444",
   "metadata": {},
   "outputs": [
    {
     "name": "stderr",
     "output_type": "stream",
     "text": [
      "2022-08-19 10:10:05.534015: I tensorflow/core/platform/cpu_feature_guard.cc:151] This TensorFlow binary is optimized with oneAPI Deep Neural Network Library (oneDNN) to use the following CPU instructions in performance-critical operations:  AVX2 FMA\n",
      "To enable them in other operations, rebuild TensorFlow with the appropriate compiler flags.\n"
     ]
    }
   ],
   "source": [
    "# Create a TFRecords dataset for the input pipeline\n",
    "# Parsing feature data from a serialized Example (ser_ex) using its corresponding Example spec (example_spec)\n",
    "\n",
    "train_file = 'train.tfrecords'\n",
    "eval_file = 'eval.tfrecords'\n",
    "train_dataset = tf.data.TFRecordDataset(train_file)\n",
    "eval_dataset = tf.data.TFRecordDataset(eval_file)"
   ]
  },
  {
   "cell_type": "code",
   "execution_count": 37,
   "id": "0e2aa3a6",
   "metadata": {},
   "outputs": [],
   "source": [
    "# Using the functions from above to modify the TFRecords datasets.\n",
    "\n",
    "example_spec = create_example_spec(True)\n",
    "parse_fn = lambda ser_ex: parse_features(ser_ex, example_spec, True)\n",
    "train_dataset = train_dataset.map(parse_fn)\n",
    "eval_dataset = eval_dataset.map(parse_fn)"
   ]
  },
  {
   "cell_type": "code",
   "execution_count": 38,
   "id": "39a0d433",
   "metadata": {},
   "outputs": [
    {
     "name": "stdout",
     "output_type": "stream",
     "text": [
      "<MapDataset element_spec=({'CPI': TensorSpec(shape=(), dtype=tf.float32, name=None), 'Dept': TensorSpec(shape=(), dtype=tf.int64, name=None), 'Fuel_Price': TensorSpec(shape=(), dtype=tf.float32, name=None), 'IsHoliday': TensorSpec(shape=(), dtype=tf.int64, name=None), 'Size': TensorSpec(shape=(), dtype=tf.int64, name=None), 'Store': TensorSpec(shape=(), dtype=tf.int64, name=None), 'Temperature': TensorSpec(shape=(), dtype=tf.float32, name=None), 'Type': TensorSpec(shape=(), dtype=tf.string, name=None), 'Unemployment': TensorSpec(shape=(), dtype=tf.float32, name=None)}, TensorSpec(shape=(), dtype=tf.float32, name=None))>\n"
     ]
    }
   ],
   "source": [
    "print(eval_dataset)"
   ]
  },
  {
   "cell_type": "code",
   "execution_count": 39,
   "id": "e92e510b",
   "metadata": {},
   "outputs": [
    {
     "data": {
      "text/plain": [
       "{'Store': FixedLenFeature(shape=(), dtype=tf.int64, default_value=None),\n",
       " 'Dept': FixedLenFeature(shape=(), dtype=tf.int64, default_value=None),\n",
       " 'IsHoliday': FixedLenFeature(shape=(), dtype=tf.int64, default_value=None),\n",
       " 'Size': FixedLenFeature(shape=(), dtype=tf.int64, default_value=None),\n",
       " 'Temperature': FixedLenFeature(shape=(), dtype=tf.float32, default_value=None),\n",
       " 'Fuel_Price': FixedLenFeature(shape=(), dtype=tf.float32, default_value=None),\n",
       " 'CPI': FixedLenFeature(shape=(), dtype=tf.float32, default_value=None),\n",
       " 'Unemployment': FixedLenFeature(shape=(), dtype=tf.float32, default_value=None),\n",
       " 'Weekly_Sales': FixedLenFeature(shape=(), dtype=tf.float32, default_value=None),\n",
       " 'Type': FixedLenFeature(shape=(), dtype=tf.string, default_value=None)}"
      ]
     },
     "execution_count": 39,
     "metadata": {},
     "output_type": "execute_result"
    }
   ],
   "source": [
    "example_spec"
   ]
  },
  {
   "cell_type": "code",
   "execution_count": 40,
   "id": "029343cf",
   "metadata": {},
   "outputs": [],
   "source": [
    "# Configure the dataset - Shuffling datasets is always a good idea for training and evaluation, \n",
    "# since it randomizes the order in which the data is passed into the machine learning model. \n",
    "\n",
    "train_dataset = train_dataset.shuffle(421570)\n",
    "eval_dataset = eval_dataset.shuffle(421570)"
   ]
  },
  {
   "cell_type": "code",
   "execution_count": 41,
   "id": "e00b26e9",
   "metadata": {},
   "outputs": [
    {
     "data": {
      "text/plain": [
       "tensorflow.python.data.ops.dataset_ops.ShuffleDataset"
      ]
     },
     "execution_count": 41,
     "metadata": {},
     "output_type": "execute_result"
    }
   ],
   "source": [
    "type(train_dataset)"
   ]
  },
  {
   "cell_type": "code",
   "execution_count": 42,
   "id": "3f82d3d4",
   "metadata": {},
   "outputs": [
    {
     "name": "stdout",
     "output_type": "stream",
     "text": [
      "<RepeatDataset element_spec=({'CPI': TensorSpec(shape=(), dtype=tf.float32, name=None), 'Dept': TensorSpec(shape=(), dtype=tf.int64, name=None), 'Fuel_Price': TensorSpec(shape=(), dtype=tf.float32, name=None), 'IsHoliday': TensorSpec(shape=(), dtype=tf.int64, name=None), 'Size': TensorSpec(shape=(), dtype=tf.int64, name=None), 'Store': TensorSpec(shape=(), dtype=tf.int64, name=None), 'Temperature': TensorSpec(shape=(), dtype=tf.float32, name=None), 'Type': TensorSpec(shape=(), dtype=tf.string, name=None), 'Unemployment': TensorSpec(shape=(), dtype=tf.float32, name=None)}, TensorSpec(shape=(), dtype=tf.float32, name=None))>\n"
     ]
    }
   ],
   "source": [
    "# Repeating the datasets indefinitely. The training will run until we manually kill the process.\n",
    "\n",
    "# We also want to run training indefinitely, until we decide to kill the model \n",
    "# running process manually (i.e. with CTRL+C or CMD+C). Evaluation is done with a \n",
    "# single run-through of the dataset.\n",
    "\n",
    "train_dataset = train_dataset.repeat()\n",
    "print(train_dataset)"
   ]
  },
  {
   "cell_type": "code",
   "execution_count": 43,
   "id": "401f7f0b",
   "metadata": {},
   "outputs": [],
   "source": [
    "# set the dataset batch sizes, so that each training/evaluation step contains multiple data observations\n",
    "\n",
    "train_dataset = train_dataset.batch(100)\n",
    "eval_dataset = eval_dataset.batch(20)"
   ]
  },
  {
   "cell_type": "markdown",
   "id": "995be508",
   "metadata": {},
   "source": [
    "### Numeric columns"
   ]
  },
  {
   "cell_type": "code",
   "execution_count": 44,
   "id": "8f3599c6",
   "metadata": {},
   "outputs": [
    {
     "name": "stdout",
     "output_type": "stream",
     "text": [
      "[NumericColumn(key='Size', shape=(), default_value=None, dtype=tf.float32, normalizer_fn=None), NumericColumn(key='Temperature', shape=(), default_value=None, dtype=tf.float32, normalizer_fn=None), NumericColumn(key='Fuel_Price', shape=(), default_value=None, dtype=tf.float32, normalizer_fn=None), NumericColumn(key='CPI', shape=(), default_value=None, dtype=tf.float32, normalizer_fn=None), NumericColumn(key='Unemployment', shape=(), default_value=None, dtype=tf.float32, normalizer_fn=None)]\n"
     ]
    }
   ],
   "source": [
    "def add_numeric_columns(feature_columns):\n",
    "    numeric_features = ['Size', 'Temperature', 'Fuel_Price', 'CPI', 'Unemployment']\n",
    "    for feature_name in numeric_features:\n",
    "        feature_col = tf.feature_column.numeric_column(feature_name, shape=())\n",
    "        feature_columns.append(feature_col)\n",
    "\n",
    "# Add the numeric feature columns to the list of dataset feature columns\n",
    "dataset_feature_columns = []\n",
    "add_numeric_columns(dataset_feature_columns)\n",
    "print(dataset_feature_columns)"
   ]
  },
  {
   "cell_type": "code",
   "execution_count": 45,
   "id": "43a3e989",
   "metadata": {},
   "outputs": [
    {
     "name": "stdout",
     "output_type": "stream",
     "text": [
      "[NumericColumn(key='Size', shape=(), default_value=None, dtype=tf.float32, normalizer_fn=None),\n",
      " NumericColumn(key='Temperature', shape=(), default_value=None, dtype=tf.float32, normalizer_fn=None),\n",
      " NumericColumn(key='Fuel_Price', shape=(), default_value=None, dtype=tf.float32, normalizer_fn=None),\n",
      " NumericColumn(key='CPI', shape=(), default_value=None, dtype=tf.float32, normalizer_fn=None),\n",
      " NumericColumn(key='Unemployment', shape=(), default_value=None, dtype=tf.float32, normalizer_fn=None)]\n"
     ]
    }
   ],
   "source": [
    "from pprint import pprint\n",
    "pprint(dataset_feature_columns)\n",
    "# help(tf.feature_column.numeric_column)"
   ]
  },
  {
   "cell_type": "markdown",
   "id": "e4e9341d",
   "metadata": {},
   "source": [
    "### Indicator Columns\n",
    "- Process the indicator feature columns used for the machine learning model’s input layer\n",
    "  - One-hot indicators\n",
    "    - 'IsHoliday' (0 and 1) \n",
    "    - 'Type' (A, B, C)\n",
    "  - Categorical column base\n"
   ]
  },
  {
   "cell_type": "code",
   "execution_count": 46,
   "id": "646939d2",
   "metadata": {},
   "outputs": [],
   "source": [
    "# Categorical columns for the 'IsHoliday' and 'Type' features.\n",
    "\n",
    "type_col = tf.feature_column.categorical_column_with_vocabulary_list(\n",
    "    'Type', ['A', 'B', 'C'], dtype=tf.string)\n",
    "holiday_col = tf.feature_column.categorical_column_with_vocabulary_list(\n",
    "    'IsHoliday', [0, 1], dtype=tf.int64)"
   ]
  },
  {
   "cell_type": "code",
   "execution_count": 47,
   "id": "3a4834e0",
   "metadata": {},
   "outputs": [],
   "source": [
    "# Converting categorical columns to indicator feature columns.\n",
    "\n",
    "type_feature_col = tf.feature_column.indicator_column(type_col)\n",
    "holiday_feature_col = tf.feature_column.indicator_column(holiday_col)"
   ]
  },
  {
   "cell_type": "code",
   "execution_count": 48,
   "id": "18cd2211",
   "metadata": {},
   "outputs": [],
   "source": [
    "# Add the indicator feature columns to the list of feature columns\n",
    "def add_indicator_columns(final_dataset, feature_columns):\n",
    "    indicator_features = ['IsHoliday', 'Type']\n",
    "    for feature_name in indicator_features:\n",
    "        # CODE HERE\n",
    "        dtype = tf.int64 if feature_name == 'IsHoliday' else tf.string\n",
    "        vocab_list = list(final_dataset[feature_name].unique())\n",
    "        vocab_col = tf.feature_column.categorical_column_with_vocabulary_list(feature_name, vocab_list, dtype = dtype)\n",
    "        feature_col = tf.feature_column.indicator_column(vocab_col)\n",
    "        feature_columns.append(feature_col)"
   ]
  },
  {
   "cell_type": "code",
   "execution_count": 49,
   "id": "4f7c0e08",
   "metadata": {},
   "outputs": [],
   "source": [
    "# help(tf.feature_column.indicator_column)"
   ]
  },
  {
   "cell_type": "markdown",
   "id": "2edad048",
   "metadata": {},
   "source": [
    "### Embedding Columns"
   ]
  },
  {
   "cell_type": "code",
   "execution_count": 50,
   "id": "9fcab14a",
   "metadata": {},
   "outputs": [],
   "source": [
    "stores = list(range(1, 46)) # There are 45 stores in the dataset, labeled from 1-45\n",
    "stores_col = tf.feature_column.categorical_column_with_vocabulary_list('StoreID', stores, dtype=tf.int64)\n",
    "embedding_dim = int(45**0.25)  # 4th root - \n",
    "# set the vector dimension to anything, but a good rule of thumb is to set it equal to the \n",
    "# 4th root of the size of the vocabulary list.\n",
    "\n",
    "feature_col = tf.feature_column.embedding_column(stores_col, embedding_dim)\n"
   ]
  },
  {
   "cell_type": "code",
   "execution_count": 51,
   "id": "28bf4464",
   "metadata": {},
   "outputs": [],
   "source": [
    "# Add the embedding feature columns to the list of feature columns\n",
    "def add_embedding_columns(final_dataset, feature_columns):\n",
    "    embedding_features = ['Store', 'Dept']\n",
    "    for feature_name in embedding_features:\n",
    "        vocab_list = list(final_dataset[feature_name].unique())\n",
    "        vocab_col = tf.feature_column.categorical_column_with_vocabulary_list(\n",
    "            feature_name, vocab_list, dtype=tf.int64)\n",
    "        embedding_dim = int(len(vocab_list) ** 0.25)\n",
    "        \n",
    "        feature_col = tf.feature_column.embedding_column(vocab_col, embedding_dim)\n",
    "        feature_columns.append(feature_col)"
   ]
  },
  {
   "cell_type": "markdown",
   "id": "a1342ba5",
   "metadata": {
    "run_control": {
     "marked": false
    }
   },
   "source": [
    "### Model Input Layer\n",
    "- Aggregate the feature columns for the machine learning model’s input layer"
   ]
  },
  {
   "cell_type": "code",
   "execution_count": 52,
   "id": "ef1c9665",
   "metadata": {},
   "outputs": [
    {
     "name": "stdout",
     "output_type": "stream",
     "text": [
      "[NumericColumn(key='Size', shape=(), default_value=None, dtype=tf.float32, normalizer_fn=None),\n",
      " NumericColumn(key='Temperature', shape=(), default_value=None, dtype=tf.float32, normalizer_fn=None),\n",
      " NumericColumn(key='Fuel_Price', shape=(), default_value=None, dtype=tf.float32, normalizer_fn=None),\n",
      " NumericColumn(key='CPI', shape=(), default_value=None, dtype=tf.float32, normalizer_fn=None),\n",
      " NumericColumn(key='Unemployment', shape=(), default_value=None, dtype=tf.float32, normalizer_fn=None),\n",
      " IndicatorColumn(categorical_column=VocabularyListCategoricalColumn(key='IsHoliday', vocabulary_list=(0, 1), dtype=tf.int64, default_value=-1, num_oov_buckets=0)),\n",
      " IndicatorColumn(categorical_column=VocabularyListCategoricalColumn(key='Type', vocabulary_list=('A', 'B', 'C'), dtype=tf.string, default_value=-1, num_oov_buckets=0)),\n",
      " EmbeddingColumn(categorical_column=VocabularyListCategoricalColumn(key='Store', vocabulary_list=(1, 2, 3, 4, 5, 6, 7, 8, 9, 10, 11, 12, 13, 14, 15, 16, 17, 18, 19, 20, 21, 22, 23, 24, 25, 26, 27, 28, 29, 30, 31, 32, 33, 34, 35, 36, 37, 38, 39, 40, 41, 42, 43, 44, 45), dtype=tf.int64, default_value=-1, num_oov_buckets=0), dimension=2, combiner='mean', initializer=<tensorflow.python.ops.init_ops.TruncatedNormal object at 0x7faad9d80040>, ckpt_to_load_from=None, tensor_name_in_ckpt=None, max_norm=None, trainable=True, use_safe_embedding_lookup=True),\n",
      " EmbeddingColumn(categorical_column=VocabularyListCategoricalColumn(key='Dept', vocabulary_list=(1, 2, 3, 4, 5, 6, 7, 8, 9, 10, 11, 12, 13, 14, 16, 17, 18, 19, 20, 21, 22, 23, 24, 25, 26, 27, 28, 29, 30, 31, 32, 33, 34, 35, 36, 37, 38, 40, 41, 42, 44, 45, 46, 47, 48, 49, 51, 52, 54, 55, 56, 58, 59, 60, 67, 71, 72, 74, 79, 80, 81, 82, 83, 85, 87, 90, 91, 92, 93, 94, 95, 97, 98, 78, 96, 99, 77, 39, 50, 43, 65), dtype=tf.int64, default_value=-1, num_oov_buckets=0), dimension=3, combiner='mean', initializer=<tensorflow.python.ops.init_ops.TruncatedNormal object at 0x7faad9d80700>, ckpt_to_load_from=None, tensor_name_in_ckpt=None, max_norm=None, trainable=True, use_safe_embedding_lookup=True)]\n"
     ]
    }
   ],
   "source": [
    "def create_feature_columns(final_dataset):\n",
    "    feature_columns = []\n",
    "    add_numeric_columns(feature_columns)\n",
    "    add_indicator_columns(final_dataset, feature_columns)\n",
    "    add_embedding_columns(final_dataset, feature_columns)\n",
    "    return feature_columns\n",
    "\n",
    "feature_columns = create_feature_columns(final_dataset)\n",
    "pprint(feature_columns)"
   ]
  },
  {
   "cell_type": "markdown",
   "id": "ed896638",
   "metadata": {},
   "source": [
    "## Model Predictions\n",
    "- predicting weekly sales for various retail stores\n",
    "\n",
    "### Model Layers"
   ]
  },
  {
   "cell_type": "code",
   "execution_count": 53,
   "id": "ae5f6bb5",
   "metadata": {},
   "outputs": [],
   "source": [
    "class SalesModel(object):\n",
    "    def __init__(self, hidden_layers):\n",
    "        self.hidden_layers = hidden_layers\n",
    "\n",
    "    def model_layers(self, inputs):\n",
    "        layer = inputs\n",
    "        for num_nodes in self.hidden_layers:\n",
    "            layer = tf.keras.layers.Dense(num_nodes, activation=tf.nn.relu)(layer)\n",
    "        batch_predictions = tf.keras.layers.Dense(1)(layer)\n",
    "        return batch_predictions"
   ]
  },
  {
   "cell_type": "markdown",
   "id": "4004872d",
   "metadata": {},
   "source": [
    "### Regression Function"
   ]
  },
  {
   "cell_type": "code",
   "execution_count": 54,
   "id": "7d740029",
   "metadata": {},
   "outputs": [],
   "source": [
    "# inputs = input_layer(features, cols)"
   ]
  },
  {
   "cell_type": "code",
   "execution_count": 55,
   "id": "fa33fc41",
   "metadata": {},
   "outputs": [],
   "source": [
    "class SalesModel(object):\n",
    "    def __init__(self, hidden_layers):\n",
    "        self.hidden_layers = hidden_layers\n",
    "\n",
    "    def model_layers(self, inputs):\n",
    "        layer = inputs\n",
    "        for num_nodes in self.hidden_layers:\n",
    "            layer = tf.keras.layers.Dense(num_nodes, activation=tf.nn.relu)(layer)\n",
    "        batch_predictions = tf.keras.layers.Dense(1)(layer)\n",
    "        return batch_predictions\n",
    "\n",
    "    def regression_fn(self, features, labels, mode, params):\n",
    "        feature_columns = create_feature_columns()\n",
    "        inputs = tf.compat.v1.feature_column.input_layer(features, feature_columns)\n",
    "        batch_predictions= self.model_layers(inputts)\n",
    "        predictions = tf.squeeze(batch_predictions)\n",
    "        if labels is not None:\n",
    "            loss = tf.compat.v1.losses.absolute_difference(labels, predictions)\n",
    "        \n",
    "# help(tf.compat.v1.feature_column.input_layer)"
   ]
  },
  {
   "cell_type": "markdown",
   "id": "863d3267",
   "metadata": {},
   "source": [
    "### Training mode"
   ]
  },
  {
   "cell_type": "code",
   "execution_count": 56,
   "id": "082c993d",
   "metadata": {},
   "outputs": [],
   "source": [
    "class SalesModel(object):\n",
    "    def __init__(self, hidden_layers):\n",
    "        self.hidden_layers = hidden_layers\n",
    "\n",
    "    def model_layers(self, inputs):\n",
    "        layer = inputs\n",
    "        for num_nodes in self.hidden_layers:\n",
    "            layer = tf.keras.layers.Dense(num_nodes, activation=tf.nn.relu)(layer)\n",
    "        batch_predictions = tf.keras.layers.Dense(1)(layer)\n",
    "        return batch_predictions\n",
    "\n",
    "    def regression_fn(self, features, labels, mode, params):\n",
    "        feature_columns = create_feature_columns()\n",
    "        inputs = tf.compat.v1.feature_column.input_layer(features, feature_columns)\n",
    "        batch_predictions= self.model_layers(inputts)\n",
    "        predictions = tf.squeeze(batch_predictions)\n",
    "        if labels is not None:\n",
    "            loss = tf.compat.v1.losses.absolute_difference(labels, predictions)\n",
    "        # regression function’s training code\n",
    "        if mode == tf.estimator.ModeKeys.TRAIN:\n",
    "            # to keep track of total number of training steps during different training runs\n",
    "            global_step = tf.compat.v1.train.get_or_create_global_step()\n",
    "            # minimize model's loss during training using ADAM optimization method\n",
    "            adam = tf.compat.v1.train.AdamOptimizer()\n",
    "            train_op = adam.minimize(loss, global_step=global_step)\n",
    "            return tf.estimator.EstimatorSpec(mode, loss=loss, train_op=train_op)\n"
   ]
  },
  {
   "cell_type": "markdown",
   "id": "47132d45",
   "metadata": {},
   "source": [
    "### Evaluation Mode"
   ]
  },
  {
   "cell_type": "code",
   "execution_count": 57,
   "id": "562fa6f2",
   "metadata": {},
   "outputs": [],
   "source": [
    "class SalesModel(object):\n",
    "    def __init__(self, hidden_layers):\n",
    "        self.hidden_layers = hidden_layers\n",
    "\n",
    "    def model_layers(self, inputs):\n",
    "        layer = inputs\n",
    "        for num_nodes in self.hidden_layers:\n",
    "            layer = tf.keras.layers.Dense(num_nodes, activation=tf.nn.relu)(layer)\n",
    "        batch_predictions = tf.keras.layers.Dense(1)(layer)\n",
    "        return batch_predictions\n",
    "\n",
    "    def regression_fn(self, features, labels, mode, params):\n",
    "        feature_columns = create_feature_columns()\n",
    "        inputs = tf.compat.v1.feature_column.input_layer(features, feature_columns)\n",
    "        batch_predictions= self.model_layers(inputts)\n",
    "        predictions = tf.squeeze(batch_predictions)\n",
    "        if labels is not None:\n",
    "            loss = tf.compat.v1.losses.absolute_difference(labels, predictions)\n",
    "        # regression function’s training code\n",
    "        if mode == tf.estimator.ModeKeys.TRAIN:\n",
    "            # to keep track of total number of training steps during different training runs\n",
    "            global_step = tf.compat.v1.train.get_or_create_global_step()\n",
    "            # minimize model's loss during training using ADAM optimization method\n",
    "            adam = tf.compat.v1.train.AdamOptimizer()\n",
    "            train_op = adam.minimize(loss, global_step=global_step)\n",
    "            return tf.estimator.EstimatorSpec(mode, loss=loss, train_op=train_op)\n",
    "        # regression function’s evaluation code\n",
    "        if mode == tf.estimator.ModeKeys.EVAL:\n",
    "            return tf.estimator.EstimatorSpec(mode, loss=loss)"
   ]
  },
  {
   "cell_type": "markdown",
   "id": "26357705",
   "metadata": {},
   "source": [
    "### Prediction Mode"
   ]
  },
  {
   "cell_type": "code",
   "execution_count": 58,
   "id": "80862911",
   "metadata": {},
   "outputs": [],
   "source": [
    "class SalesModel(object):\n",
    "    def __init__(self, hidden_layers):\n",
    "        self.hidden_layers = hidden_layers\n",
    "\n",
    "    def model_layers(self, inputs):\n",
    "        layer = inputs\n",
    "        for num_nodes in self.hidden_layers:\n",
    "            layer = tf.keras.layers.Dense(num_nodes, activation=tf.nn.relu)(layer)\n",
    "        batch_predictions = tf.keras.layers.Dense(1)(layer)\n",
    "        return batch_predictions\n",
    "\n",
    "    def regression_fn(self, features, labels, mode, params):\n",
    "        feature_columns = create_feature_columns()\n",
    "        inputs = tf.compat.v1.feature_column.input_layer(features, feature_columns)\n",
    "        batch_predictions= self.model_layers(inputts)\n",
    "        predictions = tf.squeeze(batch_predictions)\n",
    "        if labels is not None:\n",
    "            loss = tf.compat.v1.losses.absolute_difference(labels, predictions)\n",
    "        # regression function’s training code\n",
    "        if mode == tf.estimator.ModeKeys.TRAIN:\n",
    "            # to keep track of total number of training steps during different training runs\n",
    "            global_step = tf.compat.v1.train.get_or_create_global_step()\n",
    "            # minimize model's loss during training using ADAM optimization method\n",
    "            adam = tf.compat.v1.train.AdamOptimizer()\n",
    "            train_op = adam.minimize(loss, global_step=global_step)\n",
    "            return tf.estimator.EstimatorSpec(mode, loss=loss, train_op=train_op)\n",
    "        # regression function’s evaluation code\n",
    "        if mode == tf.estimator.ModeKeys.EVAL:\n",
    "            return tf.estimator.EstimatorSpec(mode, loss=loss)\n",
    "        # regression function’s prediction code\n",
    "        if mode == tf.estimator.ModeKeys.PREDICT:\n",
    "            prediction_info = {'predictions': batch_predictions}\n",
    "            return tf.estimator.EstimatorSpec(mode, predictions=prediction_info)"
   ]
  },
  {
   "cell_type": "markdown",
   "id": "be3c2d74",
   "metadata": {},
   "source": [
    "### Regression Model\n",
    "- create an Estimator object for the regression model"
   ]
  },
  {
   "cell_type": "code",
   "execution_count": 59,
   "id": "ba545f48",
   "metadata": {},
   "outputs": [],
   "source": [
    "class SalesModel(object):\n",
    "    def __init__(self, hidden_layers):\n",
    "        self.hidden_layers = hidden_layers\n",
    "\n",
    "    def model_layers(self, inputs):\n",
    "        layer = inputs\n",
    "        for num_nodes in self.hidden_layers:\n",
    "            layer = tf.keras.layers.Dense(num_nodes, activation=tf.nn.relu)(layer)\n",
    "        batch_predictions = tf.keras.layers.Dense(1)(layer)\n",
    "        return batch_predictions\n",
    "\n",
    "    def regression_fn(self, features, labels, mode, params):\n",
    "        feature_columns = create_feature_columns()\n",
    "        inputs = tf.compat.v1.feature_column.input_layer(features, feature_columns)\n",
    "        batch_predictions= self.model_layers(inputts)\n",
    "        predictions = tf.squeeze(batch_predictions)\n",
    "        if labels is not None:\n",
    "            loss = tf.compat.v1.losses.absolute_difference(labels, predictions)\n",
    "        # regression function’s training code\n",
    "        if mode == tf.estimator.ModeKeys.TRAIN:\n",
    "            # to keep track of total number of training steps during different training runs\n",
    "            global_step = tf.compat.v1.train.get_or_create_global_step()\n",
    "            # minimize model's loss during training using ADAM optimization method\n",
    "            adam = tf.compat.v1.train.AdamOptimizer()\n",
    "            train_op = adam.minimize(loss, global_step=global_step)\n",
    "            return tf.estimator.EstimatorSpec(mode, loss=loss, train_op=train_op)\n",
    "        # regression function’s evaluation code\n",
    "        if mode == tf.estimator.ModeKeys.EVAL:\n",
    "            return tf.estimator.EstimatorSpec(mode, loss=loss)\n",
    "        # regression function’s prediction code\n",
    "        if mode == tf.estimator.ModeKeys.PREDICT:\n",
    "            prediction_info = {'predictions': batch_predictions}\n",
    "            return tf.estimator.EstimatorSpec(mode, predictions=prediction_info)\n",
    "        \n",
    "    def create_regression_model(self, ckpt_dir):\n",
    "        # configuration for training logs the loss and global step values every 5000 training steps\n",
    "        config = tf.estimator.RunConfig(log_step_count_steps=5000)\n",
    "        regression_model = tf.estimator.Estimator(self.regression_fn, config=config, model_dir=ckpt_dir)\n",
    "        return regression_model"
   ]
  },
  {
   "cell_type": "markdown",
   "id": "6ca18dc8",
   "metadata": {},
   "source": [
    "### Model Training\n",
    "- Train the regression model using train.tfrecords file"
   ]
  },
  {
   "cell_type": "code",
   "execution_count": 60,
   "id": "90700b33",
   "metadata": {},
   "outputs": [],
   "source": [
    "class SalesModel(object):\n",
    "    def __init__(self, hidden_layers):\n",
    "        self.hidden_layers = hidden_layers\n",
    "\n",
    "    def model_layers(self, inputs):\n",
    "        layer = inputs\n",
    "        for num_nodes in self.hidden_layers:\n",
    "            layer = tf.keras.layers.Dense(num_nodes, activation=tf.nn.relu)(layer)\n",
    "        batch_predictions = tf.keras.layers.Dense(1)(layer)\n",
    "        return batch_predictions\n",
    "\n",
    "    def regression_fn(self, features, labels, mode, params):\n",
    "        feature_columns = create_feature_columns()\n",
    "        inputs = tf.compat.v1.feature_column.input_layer(features, feature_columns)\n",
    "        batch_predictions= self.model_layers(inputts)\n",
    "        predictions = tf.squeeze(batch_predictions)\n",
    "        if labels is not None:\n",
    "            loss = tf.compat.v1.losses.absolute_difference(labels, predictions)\n",
    "        # regression function’s training code\n",
    "        if mode == tf.estimator.ModeKeys.TRAIN:\n",
    "            # to keep track of total number of training steps during different training runs\n",
    "            global_step = tf.compat.v1.train.get_or_create_global_step()\n",
    "            # minimize model's loss during training using ADAM optimization method\n",
    "            adam = tf.compat.v1.train.AdamOptimizer()\n",
    "            train_op = adam.minimize(loss, global_step=global_step)\n",
    "            return tf.estimator.EstimatorSpec(mode, loss=loss, train_op=train_op)\n",
    "        # regression function’s evaluation code\n",
    "        if mode == tf.estimator.ModeKeys.EVAL:\n",
    "            return tf.estimator.EstimatorSpec(mode, loss=loss)\n",
    "        # regression function’s prediction code\n",
    "        if mode == tf.estimator.ModeKeys.PREDICT:\n",
    "            prediction_info = {'predictions': batch_predictions}\n",
    "            return tf.estimator.EstimatorSpec(mode, predictions=prediction_info)\n",
    "        \n",
    "    def create_regression_model(self, ckpt_dir):\n",
    "        # configuration for training logs the loss and global step values every 5000 training steps\n",
    "        config = tf.estimator.RunConfig(log_step_count_steps=5000)\n",
    "        regression_model = tf.estimator.Estimator(self.regression_fn, config=config, model_dir=ckpt_dir)\n",
    "        return regression_model\n",
    "    \n",
    "    def run_regression_training(self, ckpt_dir, batch_size, num_training_steps=None):\n",
    "        # Setting steps to None will run training until is manually terminated\n",
    "        regression_model = self.create_regression_model(ckpt_dir)\n",
    "        input_fn = lambda:create_tensorflow_dataset('train.tfrecords', batch_size)\n",
    "        regression_model.train(input_fn, steps=num_training_steps)"
   ]
  },
  {
   "cell_type": "markdown",
   "id": "11210a50",
   "metadata": {},
   "source": [
    "### Model Evaluation"
   ]
  },
  {
   "cell_type": "code",
   "execution_count": 61,
   "id": "f6d14b88",
   "metadata": {},
   "outputs": [],
   "source": [
    "class SalesModel(object):\n",
    "    def __init__(self, hidden_layers):\n",
    "        self.hidden_layers = hidden_layers\n",
    "\n",
    "    def model_layers(self, inputs):\n",
    "        layer = inputs\n",
    "        for num_nodes in self.hidden_layers:\n",
    "            layer = tf.keras.layers.Dense(num_nodes, activation=tf.nn.relu)(layer)\n",
    "        batch_predictions = tf.keras.layers.Dense(1)(layer)\n",
    "        return batch_predictions\n",
    "\n",
    "    def regression_fn(self, features, labels, mode, params):\n",
    "        feature_columns = create_feature_columns()\n",
    "        inputs = tf.compat.v1.feature_column.input_layer(features, feature_columns)\n",
    "        batch_predictions= self.model_layers(inputts)\n",
    "        predictions = tf.squeeze(batch_predictions)\n",
    "        if labels is not None:\n",
    "            loss = tf.compat.v1.losses.absolute_difference(labels, predictions)\n",
    "        # regression function’s training code\n",
    "        if mode == tf.estimator.ModeKeys.TRAIN:\n",
    "            # to keep track of total number of training steps during different training runs\n",
    "            global_step = tf.compat.v1.train.get_or_create_global_step()\n",
    "            # minimize model's loss during training using ADAM optimization method\n",
    "            adam = tf.compat.v1.train.AdamOptimizer()\n",
    "            train_op = adam.minimize(loss, global_step=global_step)\n",
    "            return tf.estimator.EstimatorSpec(mode, loss=loss, train_op=train_op)\n",
    "        # regression function’s evaluation code\n",
    "        if mode == tf.estimator.ModeKeys.EVAL:\n",
    "            return tf.estimator.EstimatorSpec(mode, loss=loss)\n",
    "        # regression function’s prediction code\n",
    "        if mode == tf.estimator.ModeKeys.PREDICT:\n",
    "            prediction_info = {'predictions': batch_predictions}\n",
    "            return tf.estimator.EstimatorSpec(mode, predictions=prediction_info)\n",
    "        \n",
    "    def create_regression_model(self, ckpt_dir):\n",
    "        # configuration for training logs the loss and global step values every 5000 training steps\n",
    "        config = tf.estimator.RunConfig(log_step_count_steps=5000)\n",
    "        regression_model = tf.estimator.Estimator(self.regression_fn, config=config, model_dir=ckpt_dir)\n",
    "        return regression_model\n",
    "    \n",
    "    def run_regression_training(self, ckpt_dir, batch_size, num_training_steps=None):\n",
    "        # Setting steps to None will run training until is manually terminated\n",
    "        regression_model = self.create_regression_model(ckpt_dir)\n",
    "        input_fn = lambda:create_tensorflow_dataset('train.tfrecords', batch_size)\n",
    "        regression_model.train(input_fn, steps=num_training_steps)\n",
    "        \n",
    "    def run_regression_eval(self, ckpt_dir):\n",
    "        regression_model = self.create_regression_model(ckpt_dir)\n",
    "        input_fn = lambda:create_tensorflow_dataset('eval.tfrecords', 50, training=False)\n",
    "        return regression_model.evaluate(input_fn)"
   ]
  },
  {
   "cell_type": "markdown",
   "id": "a9b5eea9",
   "metadata": {},
   "source": [
    "### Making Predictions\n",
    "- using regression model to make predictions on unlabeled test dataset"
   ]
  },
  {
   "cell_type": "code",
   "execution_count": 62,
   "id": "2e00fa29",
   "metadata": {},
   "outputs": [],
   "source": [
    "class SalesModel(object):\n",
    "    def __init__(self, hidden_layers):\n",
    "        self.hidden_layers = hidden_layers\n",
    "\n",
    "    def model_layers(self, inputs):\n",
    "        layer = inputs\n",
    "        for num_nodes in self.hidden_layers:\n",
    "            layer = tf.keras.layers.Dense(num_nodes, activation=tf.nn.relu)(layer)\n",
    "        batch_predictions = tf.keras.layers.Dense(1)(layer)\n",
    "        return batch_predictions\n",
    "\n",
    "    def regression_fn(self, features, labels, mode, params):\n",
    "        feature_columns = create_feature_columns()\n",
    "        inputs = tf.compat.v1.feature_column.input_layer(features, feature_columns)\n",
    "        batch_predictions= self.model_layers(inputs)\n",
    "        predictions = tf.squeeze(batch_predictions)\n",
    "        if labels is not None:\n",
    "            loss = tf.compat.v1.losses.absolute_difference(labels, predictions)\n",
    "        # regression function’s training code\n",
    "        if mode == tf.estimator.ModeKeys.TRAIN:\n",
    "            # to keep track of total number of training steps during different training runs\n",
    "            global_step = tf.compat.v1.train.get_or_create_global_step()\n",
    "            # minimize model's loss during training using ADAM optimization method\n",
    "            adam = tf.compat.v1.train.AdamOptimizer()\n",
    "            train_op = adam.minimize(loss, global_step=global_step)\n",
    "            return tf.estimator.EstimatorSpec(mode, loss=loss, train_op=train_op)\n",
    "        # regression function’s evaluation code\n",
    "        if mode == tf.estimator.ModeKeys.EVAL:\n",
    "            return tf.estimator.EstimatorSpec(mode, loss=loss)\n",
    "        # regression function’s prediction code\n",
    "        if mode == tf.estimator.ModeKeys.PREDICT:\n",
    "            prediction_info = {'predictions': batch_predictions}\n",
    "            return tf.estimator.EstimatorSpec(mode, predictions=prediction_info)\n",
    "        \n",
    "    def create_regression_model(self, ckpt_dir):\n",
    "        # configuration for training logs the loss and global step values every 5000 training steps\n",
    "        config = tf.estimator.RunConfig(log_step_count_steps=5000)\n",
    "        regression_model = tf.estimator.Estimator(self.regression_fn, config=config, model_dir=ckpt_dir)\n",
    "        return regression_model\n",
    "    \n",
    "    def run_regression_training(self, ckpt_dir, batch_size, num_training_steps=None):\n",
    "        # Setting steps to None will run training until is manually terminated\n",
    "        regression_model = self.create_regression_model(ckpt_dir)\n",
    "        input_fn = lambda:create_tensorflow_dataset('train.tfrecords', batch_size)\n",
    "        regression_model.train(input_fn, steps=num_training_steps)\n",
    "        \n",
    "    def run_regression_eval(self, ckpt_dir):\n",
    "        regression_model = self.create_regression_model(ckpt_dir)\n",
    "        input_fn = lambda:create_tensorflow_dataset('eval.tfrecords', 50, training=False)\n",
    "        return regression_model.evaluate(input_fn)\n",
    "    \n",
    "    def run_regression_predict(self, ckpt_dir, data_file):\n",
    "        regression_model = self.create_regression_model(ckpt_dir)\n",
    "        input_fn = lambda:create_tensorflow_dataset(data_file, 1, training=False, has_labels=False)\n",
    "        predictions = regression_model.predict(input_fn)\n",
    "        pred_list = []\n",
    "        for pred_dict in predictions:\n",
    "            pred_list.append(pred_dict['predictions'][0])\n",
    "        return pred_list\n",
    "    "
   ]
  },
  {
   "cell_type": "markdown",
   "id": "a82c6f45",
   "metadata": {},
   "source": [
    "## ⛏ Result Summary"
   ]
  },
  {
   "cell_type": "code",
   "execution_count": 64,
   "id": "dc634034",
   "metadata": {},
   "outputs": [],
   "source": [
    "# TODO: Execute it!!\n",
    "\n",
    "# run_regression_predict('test.tfrecords')\n",
    "# # Making Predictions\n",
    "# input_fn = lambda:create_tensorflow_dataset('test.tfrecords', 1, training=False, has_labels=False)\n",
    "# predictions = regression_model.predict(input_fn)\n",
    "\n",
    "ckpt_dir = './storeSalesForecasting/'\n",
    "batch_size = 50\n",
    "data_file = 'eval.tfrecords'\n",
    "\n",
    "nn = SalesModel(2)\n",
    "# nn.run_regression_training(ckpt_dir, batch_size, num_training_steps=None)\n",
    "# eval_list = nn.run_regression_eval(ckpt_dir)\n",
    "# pred_list = nn.run_regression_predict(ckpt_dir, data_file)\n"
   ]
  },
  {
   "cell_type": "code",
   "execution_count": null,
   "id": "e32166b0",
   "metadata": {},
   "outputs": [],
   "source": []
  },
  {
   "cell_type": "code",
   "execution_count": null,
   "id": "304be1cc",
   "metadata": {},
   "outputs": [],
   "source": []
  },
  {
   "cell_type": "code",
   "execution_count": null,
   "id": "88178c82",
   "metadata": {},
   "outputs": [],
   "source": [
    "# (fast) ml_examples >> tensorboard --logdir=~/anaconda3/workingDir/learnings/ml_examples/\n",
    "\n",
    "# NOTE: Using experimental fast data loading logic. To disable, pass\n",
    "#     \"--load_fast=false\" and report issues on GitHub. More details:\n",
    "#     https://github.com/tensorflow/tensorboard/issues/4784\n",
    "\n",
    "# Serving TensorBoard on localhost; to expose to the network, use a proxy or pass --bind_all\n",
    "# TensorBoard 2.8.0 at http://localhost:6006/ (Press CTRL+C to quit)"
   ]
  },
  {
   "cell_type": "code",
   "execution_count": null,
   "id": "c7494abe",
   "metadata": {},
   "outputs": [],
   "source": []
  },
  {
   "cell_type": "markdown",
   "id": "35c66daa",
   "metadata": {},
   "source": [
    "- https://medium.com/nerd-for-tech/walmart-sales-time-series-forecasting-using-deep-learning-e7a5d47c448b\n",
    "- https://github.com/abhinav-bhardwaj/Walmart-Sales-Time-Series-Forecasting-Using-Machine-Learning/blob/master/Walmart_Time_Series_Forecast.ipynb\n"
   ]
  },
  {
   "cell_type": "code",
   "execution_count": null,
   "id": "97aca782",
   "metadata": {},
   "outputs": [],
   "source": []
  }
 ],
 "metadata": {
  "kernelspec": {
   "display_name": "Python 3 (ipykernel)",
   "language": "python",
   "name": "python3"
  },
  "language_info": {
   "codemirror_mode": {
    "name": "ipython",
    "version": 3
   },
   "file_extension": ".py",
   "mimetype": "text/x-python",
   "name": "python",
   "nbconvert_exporter": "python",
   "pygments_lexer": "ipython3",
   "version": "3.8.8"
  },
  "toc": {
   "base_numbering": 1,
   "nav_menu": {},
   "number_sections": true,
   "sideBar": true,
   "skip_h1_title": false,
   "title_cell": "Table of Contents",
   "title_sidebar": "Contents",
   "toc_cell": false,
   "toc_position": {},
   "toc_section_display": true,
   "toc_window_display": true
  }
 },
 "nbformat": 4,
 "nbformat_minor": 5
}