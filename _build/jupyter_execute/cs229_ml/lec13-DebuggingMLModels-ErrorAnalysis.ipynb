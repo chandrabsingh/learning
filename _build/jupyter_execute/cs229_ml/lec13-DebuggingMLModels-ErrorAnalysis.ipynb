{
 "cells": [
  {
   "cell_type": "markdown",
   "id": "f0eb0fd0",
   "metadata": {},
   "source": [
    "# Lec 13-Debugging ML Models-Error Analysis"
   ]
  },
  {
   "cell_type": "markdown",
   "id": "e058f186",
   "metadata": {},
   "source": []
  },
  {
   "cell_type": "markdown",
   "id": "ea7101fb",
   "metadata": {},
   "source": []
  },
  {
   "cell_type": "markdown",
   "id": "41d16ce3",
   "metadata": {},
   "source": []
  },
  {
   "cell_type": "markdown",
   "id": "6d80d64b",
   "metadata": {},
   "source": []
  },
  {
   "cell_type": "markdown",
   "id": "7b5abbe2",
   "metadata": {},
   "source": []
  },
  {
   "cell_type": "markdown",
   "id": "6d8daa55",
   "metadata": {},
   "source": []
  },
  {
   "cell_type": "markdown",
   "id": "221bb3fd",
   "metadata": {},
   "source": []
  },
  {
   "cell_type": "markdown",
   "id": "825758ec",
   "metadata": {},
   "source": []
  },
  {
   "cell_type": "markdown",
   "id": "4458a700",
   "metadata": {},
   "source": []
  },
  {
   "cell_type": "markdown",
   "id": "98aebae9",
   "metadata": {},
   "source": []
  },
  {
   "cell_type": "markdown",
   "id": "af993b02",
   "metadata": {},
   "source": []
  },
  {
   "cell_type": "markdown",
   "id": "8db355de",
   "metadata": {},
   "source": []
  },
  {
   "cell_type": "markdown",
   "id": "a8be92f5",
   "metadata": {},
   "source": []
  }
 ],
 "metadata": {
  "kernelspec": {
   "display_name": "Python 3 (ipykernel)",
   "language": "python",
   "name": "python3"
  },
  "language_info": {
   "codemirror_mode": {
    "name": "ipython",
    "version": 3
   },
   "file_extension": ".py",
   "mimetype": "text/x-python",
   "name": "python",
   "nbconvert_exporter": "python",
   "pygments_lexer": "ipython3",
   "version": "3.8.8"
  },
  "toc": {
   "base_numbering": 1,
   "nav_menu": {},
   "number_sections": true,
   "sideBar": true,
   "skip_h1_title": false,
   "title_cell": "Table of Contents",
   "title_sidebar": "Contents",
   "toc_cell": false,
   "toc_position": {},
   "toc_section_display": true,
   "toc_window_display": false
  }
 },
 "nbformat": 4,
 "nbformat_minor": 5
}